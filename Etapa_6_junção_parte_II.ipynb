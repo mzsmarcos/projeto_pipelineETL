{
  "cells": [
    {
      "cell_type": "markdown",
      "metadata": {
        "id": "view-in-github",
        "colab_type": "text"
      },
      "source": [
        "<a href=\"https://colab.research.google.com/github/mzsmarcos/projeto_pipelineETL/blob/main/Etapa_6_jun%C3%A7%C3%A3o_parte_II.ipynb\" target=\"_parent\"><img src=\"https://colab.research.google.com/assets/colab-badge.svg\" alt=\"Open In Colab\"/></a>"
      ]
    },
    {
      "cell_type": "markdown",
      "source": [
        "# **Junção parte II**\n",
        "\n",
        "Nesse notebook estão os códigos da segunda parte da junção dos arquivos\n",
        "\n",
        "-Enriquecimento dos dados\n",
        "\n",
        "Dataframe final : df_empresas_brasil\n",
        "\n",
        "1 - df_empresas_brasil + df_natureza\n",
        "\n",
        "2 - df_empresas_brasil + df_municipio\n",
        "\n",
        "3 - df_empresas_brasil + df_motivos\n",
        "\n",
        "4 - df_empresas_brasil + df_pais\n",
        "\n",
        "5 - df_empresas_brasil + df_cnae\n",
        "\n",
        "-Geração do dataframe final"
      ],
      "metadata": {
        "id": "Z3MjO1fyh4-m"
      }
    },
    {
      "cell_type": "markdown",
      "metadata": {
        "id": "nigaxeaJkMCh"
      },
      "source": [
        "Configuração do PySpark -  instalar o PySpark no Colab"
      ]
    },
    {
      "cell_type": "code",
      "execution_count": null,
      "metadata": {
        "colab": {
          "base_uri": "https://localhost:8080/"
        },
        "id": "WB8LpMTWkLSp",
        "outputId": "d5b62d1d-237a-404f-cce8-49ae7cd506bf"
      },
      "outputs": [
        {
          "output_type": "stream",
          "name": "stdout",
          "text": [
            "Requirement already satisfied: pyspark in /usr/local/lib/python3.11/dist-packages (3.5.0)\n",
            "Requirement already satisfied: py4j==0.10.9.7 in /usr/local/lib/python3.11/dist-packages (from pyspark) (0.10.9.7)\n"
          ]
        }
      ],
      "source": [
        "# Instalar o PySpark\n",
        "!pip install pyspark\n"
      ]
    },
    {
      "cell_type": "markdown",
      "metadata": {
        "id": "3h6QW5hCk3Oe"
      },
      "source": [
        "Executar a instalação do PySpark e configurar o ambiente Spark.\n",
        "\n",
        "Isso é feito definindo algumas variáveis de ambiente para garantir que o Spark funcione corretamente no Colab."
      ]
    },
    {
      "cell_type": "code",
      "execution_count": null,
      "metadata": {
        "colab": {
          "base_uri": "https://localhost:8080/"
        },
        "collapsed": true,
        "id": "p9L1Vi5qkrn1",
        "outputId": "d0877864-efbb-4107-c045-34fc5f69a4c2"
      },
      "outputs": [
        {
          "output_type": "stream",
          "name": "stdout",
          "text": [
            "Reading package lists... Done\n",
            "Building dependency tree... Done\n",
            "Reading state information... Done\n",
            "openjdk-8-jdk is already the newest version (8u442-b06~us1-0ubuntu1~22.04).\n",
            "0 upgraded, 0 newly installed, 0 to remove and 29 not upgraded.\n"
          ]
        }
      ],
      "source": [
        "# Instalar Java 8\n",
        "!apt-get install openjdk-8-jdk -y\n",
        "\n",
        "# Baixar o Apache Spark\n",
        "!wget -q https://archive.apache.org/dist/spark/spark-3.5.0/spark-3.5.0-bin-hadoop3.tgz\n",
        "\n",
        "# Extrair o Apache Spark\n",
        "!tar xf spark-3.5.0-bin-hadoop3.tgz\n",
        "\n",
        "# Definir variáveis de ambiente\n",
        "import os # Módulo para interagir com o sistema operacional, como manipulação de arquivos e diretórios\n",
        "os.environ[\"JAVA_HOME\"] = \"/usr/lib/jvm/java-8-openjdk-amd64\"\n",
        "os.environ[\"SPARK_HOME\"] = \"/content/spark-3.5.0-bin-hadoop3\"\n",
        "\n",
        "# Instalar as bibliotecas PySpark e Findspark\n",
        "!pip install -q pyspark==3.5.0 findspark\n",
        "\n"
      ]
    },
    {
      "cell_type": "code",
      "execution_count": null,
      "metadata": {
        "colab": {
          "base_uri": "https://localhost:8080/"
        },
        "id": "y6I03-onnFfZ",
        "outputId": "cb1ef757-8e95-4333-b7ec-e6f0d502d1aa"
      },
      "outputs": [
        {
          "output_type": "stream",
          "name": "stdout",
          "text": [
            "total 764M\n",
            "drwx------  6 root root 4.0K Mar 17 23:17 drive\n",
            "drwxr-xr-x  1 root root 4.0K Mar 14 13:32 sample_data\n",
            "drwxr-xr-x 13 1000 1000 4.0K Sep  9  2023 spark-3.5.0-bin-hadoop3\n",
            "-rw-r--r--  1 root root 382M Sep  9  2023 spark-3.5.0-bin-hadoop3.tgz\n",
            "-rw-r--r--  1 root root 382M Sep  9  2023 spark-3.5.0-bin-hadoop3.tgz.1\n"
          ]
        }
      ],
      "source": [
        "# Verificar se o arquivo foi baixado\n",
        "!ls -lh\n"
      ]
    },
    {
      "cell_type": "markdown",
      "metadata": {
        "id": "DwyHmqlJ7y7o"
      },
      "source": [
        "Criar a Sessão Spark"
      ]
    },
    {
      "cell_type": "code",
      "execution_count": null,
      "metadata": {
        "colab": {
          "base_uri": "https://localhost:8080/"
        },
        "id": "6wKpgQX9-uVY",
        "outputId": "221ee89f-15a3-4985-984e-8cb36a87f314"
      },
      "outputs": [
        {
          "output_type": "stream",
          "name": "stdout",
          "text": [
            "Versão do Spark: 3.5.0\n"
          ]
        }
      ],
      "source": [
        "# Importar as bibliotecas\n",
        "import findspark # Permite localizar e configurar o Spark no ambiente, garantindo que o PySpark possa ser usado\n",
        "findspark.init(\"/content/spark-3.5.0-bin-hadoop3\")\n",
        "\n",
        "from pyspark.sql import SparkSession  # Importa a classe SparkSession para criar uma sessão do Spark e interagir com DataFrames\n",
        "\n",
        "# Criar a sessão Spark\n",
        "spark = SparkSession.builder \\\n",
        "    .appName(\"PySparkExample\") \\\n",
        "    .config(\"spark.driver.memory\", \"4g\") \\\n",
        "    .getOrCreate()\n",
        "\n",
        "# Verificar se a sessão foi criada corretamente\n",
        "print(\"Versão do Spark:\", spark.version)\n"
      ]
    },
    {
      "cell_type": "code",
      "execution_count": null,
      "metadata": {
        "id": "xmt3_Tn6OnG7"
      },
      "outputs": [],
      "source": [
        "# Os\n",
        "import os"
      ]
    },
    {
      "cell_type": "code",
      "execution_count": null,
      "metadata": {
        "colab": {
          "base_uri": "https://localhost:8080/"
        },
        "id": "9trpJPzwPO-4",
        "outputId": "c4923b7e-64c4-41a5-bb89-09b9b9b5e8da"
      },
      "outputs": [
        {
          "output_type": "stream",
          "name": "stdout",
          "text": [
            "Drive already mounted at /content/drive; to attempt to forcibly remount, call drive.mount(\"/content/drive\", force_remount=True).\n"
          ]
        }
      ],
      "source": [
        "# Montando o Google Drive no Colab\n",
        "from google.colab import drive\n",
        "drive.mount('/content/drive')"
      ]
    },
    {
      "cell_type": "code",
      "source": [
        "from pyspark.sql import SparkSession\n",
        "from pyspark.sql.functions import concat_ws, col, when, broadcast\n",
        "from pyspark.sql.types import ArrayType, StringType\n",
        "\n",
        "# Configurações de memória do Spark\n",
        "spark = SparkSession.builder \\\n",
        "    .appName(\"Projeto ETL\") \\\n",
        "    .config(\"spark.sql.shuffle.partitions\", \"200\") \\\n",
        "    .config(\"spark.driver.memory\", \"8g\") \\\n",
        "    .config(\"spark.executor.memory\", \"4g\") \\\n",
        "    .getOrCreate()\n",
        "\n",
        "# Carrega os DataFrames necessários\n",
        "df_empresas_brasil_1 = spark.read.parquet(\"/content/drive/MyDrive/Projeto_ETL_Trust_Works/Dados_abertos/parquet/df_empresas_brasil_1\")\n",
        "df_motivos = spark.read.parquet(\"/content/drive/MyDrive/Projeto_ETL_Trust_Works/Dados_abertos/parquet/motivos.parquet\")\n",
        "df_paises = spark.read.parquet(\"/content/drive/MyDrive/Projeto_ETL_Trust_Works/Dados_abertos/parquet/paises.parquet\")\n",
        "df_cnae = spark.read.parquet(\"/content/drive/MyDrive/Projeto_ETL_Trust_Works/Dados_abertos/parquet/cnae.parquet\")\n",
        "df_municipios = spark.read.parquet(\"/content/drive/MyDrive/Projeto_ETL_Trust_Works/Dados_abertos/parquet/municipios.parquet\")\n",
        "df_natureza = spark.read.parquet(\"/content/drive/MyDrive/Projeto_ETL_Trust_Works/Dados_abertos/parquet/natureza.parquet\")\n",
        "df_qualificacao = spark.read.parquet(\"/content/drive/MyDrive/Projeto_ETL_Trust_Works/Dados_abertos/parquet/qualificacao.parquet\")\n",
        "\n",
        "# 1. Concatenar as colunas referentes ao CNPJ\n",
        "df_empresas_brasil = df_empresas_brasil_1.withColumn(\"cnpj\", concat_ws(\"\", col(\"cnpj_basico\"), col(\"cnpj_ordem\"), col(\"cnpj_dv\")))\n",
        "\n",
        "# 2. Identificar a situação cadastral\n",
        "df_empresas_brasil = df_empresas_brasil.withColumn(\"sit_cadastral\",\n",
        "    when(col(\"cod_sit_cadastral\") == \"01\", \"NULA\")\n",
        "    .when(col(\"cod_sit_cadastral\") == \"02\", \"ATIVA\")\n",
        "    .when(col(\"cod_sit_cadastral\") == \"03\", \"SUSPENSA\")\n",
        "    .when(col(\"cod_sit_cadastral\") == \"04\", \"INAPTA\")\n",
        "    .when(col(\"cod_sit_cadastral\") == \"08\", \"BAIXADA\")\n",
        "    .otherwise(\"DESCONHECIDA\")\n",
        ")\n",
        "\n",
        "# 3. Identificar o motivo da situação cadastral (com tratamento de nulos)\n",
        "df_empresas_brasil = (\n",
        "    df_empresas_brasil\n",
        "    .join(broadcast(df_motivos), df_empresas_brasil[\"cod_mot_sit_cadastral\"] == df_motivos[\"cod_motivo\"], \"left\")\n",
        "    .drop(\"cod_mot_sit_cadastral\")\n",
        "    .withColumnRenamed(\"descricao_motivo\", \"motivo_sit_cadastral\")\n",
        "    .na.fill({\"motivo_sit_cadastral\": \"SEM MOTIVO\"})\n",
        ")\n",
        "\n",
        "# 4. Identificar o país (com tratamento de nulos e broadcast join)\n",
        "df_empresas_brasil = (\n",
        "    df_empresas_brasil\n",
        "    .join(broadcast(df_paises), df_empresas_brasil[\"cod_pais\"] == df_paises[\"cod_pais\"], \"left\")\n",
        "    .drop(\"cod_pais\")\n",
        "    .withColumnRenamed(\"nome_pais\", \"pais\")\n",
        "    .na.fill({\"pais\": \"NÃO APLICADO\"})\n",
        ")\n",
        "\n",
        "# 5. Identificar a CNAE principal (com tratamento de nulos e broadcast join)\n",
        "df_empresas_brasil = (\n",
        "    df_empresas_brasil\n",
        "    .join(broadcast(df_cnae), df_empresas_brasil[\"cnae_fiscal_principal\"] == df_cnae[\"cod_cnae\"], \"left\")\n",
        "    .drop(\"cnae_fiscal_principal\")\n",
        "    .withColumnRenamed(\"descricao\", \"cnae_principal\")\n",
        "    .na.fill({\"cnae_principal\": \"CNAE PRINCIPAL DESCONHECIDO\"})\n",
        ")\n",
        "\n",
        "# 6. Identificar o município (com tratamento de nulos e broadcast join)\n",
        "df_empresas_brasil = (\n",
        "    df_empresas_brasil\n",
        "    .join(broadcast(df_municipios), df_empresas_brasil[\"municipio\"] == df_municipios[\"cod_municipio\"], \"left\")\n",
        "    .drop(\"municipio\")\n",
        "    .withColumnRenamed(\"nome_municipio\", \"municipio\")\n",
        "    .na.fill({\"municipio\": \"MUNICÍPIO DESCONHECIDO\"})\n",
        ")\n",
        "\n",
        "# 7. Identificar a natureza jurídica (com tratamento de nulos e broadcast join)\n",
        "df_empresas_brasil = (\n",
        "    df_empresas_brasil\n",
        "    .join(broadcast(df_natureza), df_empresas_brasil[\"cod_nat_juridica\"] == df_natureza[\"cod_nat_juridica\"], \"left\")\n",
        "    .drop(\"cod_nat_juridica\")\n",
        "    .withColumnRenamed(\"nome_nat_juridica\", \"nat_juridica\")\n",
        "    .na.fill({\"nat_juridica\": \"NAT JURÍDICA DESC\"})\n",
        ")\n",
        "\n",
        "# 8. Identificar a qualificação do responsável (com tratamento de nulos e broadcast join)\n",
        "df_empresas_brasil = (\n",
        "    df_empresas_brasil\n",
        "    .join(broadcast(df_qualificacao), df_empresas_brasil[\"cod_qualificacao_responsavel\"] == df_qualificacao[\"cod_quali_socio\"], \"left\")\n",
        "    .drop(\"cod_qualificacao_responsavel\")\n",
        "    .withColumnRenamed(\"nome_quali_socio\", \"qualificacao_responsavel\")\n",
        "    .na.fill({\"qualificacao_responsavel\": \"DESCONHECIDA\"})\n",
        ")\n",
        "\n",
        "# Salvamento do DataFrame final\n",
        "output_path = \"/content/drive/MyDrive/Projeto_ETL_Trust_Works/Dados_abertos/parquet/df_empresas_brasil\"\n",
        "\n",
        "# Reparticionamento e salvamento\n",
        "df_empresas_brasil.repartition(200) \\\n",
        "    .write \\\n",
        "    .mode(\"overwrite\") \\\n",
        "    .option(\"compression\", \"snappy\") \\\n",
        "    .parquet(output_path)\n",
        "\n",
        "print(f\"DataFrame final salvo com sucesso em: {output_path}\")"
      ],
      "metadata": {
        "colab": {
          "base_uri": "https://localhost:8080/"
        },
        "id": "2qAyXnMRbdo4",
        "outputId": "39f4c60e-8c95-4909-b8ce-04edd27d8379"
      },
      "execution_count": null,
      "outputs": [
        {
          "output_type": "stream",
          "name": "stdout",
          "text": [
            "DataFrame final salvo com sucesso em: /content/drive/MyDrive/Projeto_ETL_Trust_Works/Dados_abertos/parquet/df_empresas_brasil\n"
          ]
        }
      ]
    },
    {
      "cell_type": "code",
      "source": [
        "df_empresas_brasil.show(n=20, truncate=False)"
      ],
      "metadata": {
        "colab": {
          "base_uri": "https://localhost:8080/"
        },
        "id": "rhe_kPiq2yhC",
        "outputId": "7df4a107-3743-4bad-debc-e8793d522e3f"
      },
      "execution_count": null,
      "outputs": [
        {
          "output_type": "stream",
          "name": "stdout",
          "text": [
            "+-----------+----------+-------+----------------+--------------------------------------------+-----------------+------------------+---------------+---------------------+-----------------------------------------------+--------------+----------------------------------------+------+------------------------------------------------------------------------------+----------------------------+--------+---+------------+------------+------------+------------+------------+------------+-----------------------------------------+-----------------+----------------------+------------------+--------------------------------------------------------------------------------------+--------------------------+---------------------+----------------------------+--------------------+-----------------------------+------------------------+-----------------------------+----------------------+------------------------------------------+---------------------------------------------+--------------+-----------------+--------------------+-------------+------------------+-----------------+------------+--------------+-------------+--------------+-------------+----------+-----------------------------------------------+------------+--------+----------------------------------------------------------------------------------------------------------+-------------+-------------------+-----------------------------+---------------+------------------------+\n",
            "|cnpj_basico|cnpj_ordem|cnpj_dv|id_matriz_filial|nome_fantasia                               |cod_sit_cadastral|data_sit_cadastral|nome_cidade_ext|data_inicio_atividade|cnae_fiscal_secundaria                         |tipo_de_lograd|logradouro                              |numero|complemento                                                                   |bairro                      |cep     |uf |ddd_1       |tel_1       |ddd_2       |tel_2       |ddd_fax     |num_fax     |correio_eletronico                       |situacao_especial|data_situacao_especial|array_cod_id_socio|array_nome_socio_pf_pj                                                                |array_cpf_cnpj_socio      |array_cod_quali_socio|array_data_entrada_sociedade|array_cod_pais_socio|array_cpf_representante_legal|array_nome_representante|array_cod_quali_representante|array_cod_faixa_etaria|array_nome_quali_socio                    |razao_social                                 |capital_social|cod_porte_empresa|ente_federativo_resp|opcao_simples|data_opcao_simples|data_excl_simples|opcao_mei   |data_opcao_mei|data_excl_mei|cnpj          |sit_cadastral|cod_motivo|motivo_sit_cadastral                           |pais        |cod_cnae|cnae_principal                                                                                            |cod_municipio|municipio          |nat_juridica                 |cod_quali_socio|qualificacao_responsavel|\n",
            "+-----------+----------+-------+----------------+--------------------------------------------+-----------------+------------------+---------------+---------------------+-----------------------------------------------+--------------+----------------------------------------+------+------------------------------------------------------------------------------+----------------------------+--------+---+------------+------------+------------+------------+------------+------------+-----------------------------------------+-----------------+----------------------+------------------+--------------------------------------------------------------------------------------+--------------------------+---------------------+----------------------------+--------------------+-----------------------------+------------------------+-----------------------------+----------------------+------------------------------------------+---------------------------------------------+--------------+-----------------+--------------------+-------------+------------------+-----------------+------------+--------------+-------------+--------------+-------------+----------+-----------------------------------------------+------------+--------+----------------------------------------------------------------------------------------------------------+-------------+-------------------+-----------------------------+---------------+------------------------+\n",
            "|42214211   |0001      |77     |1               |Não aplicado                                |02               |20210606          |Não aplicado   |20210606             |Não aplicado                                   |RUA           |DJANIRA MARIA DO NASCIMENTO             |98    |APT 11                                                                        |LOTEAMENTO VILA ROMANA      |12318004|SP |12          |39584609    |Não aplicado|Não aplicado|Não aplicado|Não aplicado|SAHARA-PAES@HOTMAIL.COM                  |Não aplicado     |Não aplicado          |NULL              |NULL                                                                                  |NULL                      |NULL                 |NULL                        |NULL                |NULL                         |NULL                    |NULL                         |NULL                  |NULL                                      |SAHARA PAES FRANCA CAMPOS 46273126879        |1000,00       |01               |Não aplicado        |S            |20210606          |00000000         |S           |20210606      |00000000     |42214211000177|ATIVA        |00        |SEM MOTIVO                                     |NÃO APLICADO|9602502 |Atividades de estética e outros serviços de cuidados com a beleza                                         |6589         |JACAREI            |Empresário (Individual)      |50             |Empresário              |\n",
            "|49636613   |0001      |09     |1               |Não aplicado                                |02               |20230216          |Não aplicado   |20230216             |Não aplicado                                   |AVENIDA       |GENERAL AFONSECA - ATE 1089 - LADO IMPAR|1559  |Não aplicado                                                                  |MANEJO                      |27520172|RJ |24          |98259180    |Não aplicado|Não aplicado|Não aplicado|Não aplicado|ELISANGELA.RIBEIRO1194@GMAIL.COM         |Não aplicado     |Não aplicado          |NULL              |NULL                                                                                  |NULL                      |NULL                 |NULL                        |NULL                |NULL                         |NULL                    |NULL                         |NULL                  |NULL                                      |49.636.613 ELISANGELA PAULO RIBEIRO          |3000,00       |01               |Não aplicado        |S            |20230216          |00000000         |S           |20230216      |00000000     |49636613000109|ATIVA        |00        |SEM MOTIVO                                     |NÃO APLICADO|4755502 |Comercio varejista de artigos de armarinho                                                                |5883         |RESENDE            |Empresário (Individual)      |50             |Empresário              |\n",
            "|11130325   |0001      |05     |1               |MEU REFUGIO                                 |08               |20081231          |Não aplicado   |19751009             |Não aplicado                                   |PRACA         |SAO PEDRO                               |52    |SALA                                                                          |SAO JOSE                    |50020210|PE |Não aplicado|Não aplicado|Não aplicado|Não aplicado|Não aplicado|Não aplicado|Não aplicado                             |Não aplicado     |Não aplicado          |NULL              |NULL                                                                                  |NULL                      |NULL                 |NULL                        |NULL                |NULL                         |NULL                    |NULL                         |NULL                  |NULL                                      |JOSEFA M DA SILVA                            |0,00          |05               |Não aplicado        |Não aplicado |Não aplicado      |Não aplicado     |Não aplicado|Não aplicado  |Não aplicado |11130325000105|BAIXADA      |71        |INAPTIDAO (LEI 11.941/2009 ART.54)             |NÃO APLICADO|8888888 |Atividade Econônica não informada                                                                         |2531         |RECIFE             |Empresário (Individual)      |50             |Empresário              |\n",
            "|53576431   |0001      |67     |1               |DR MARIANA BRILHANTE                        |02               |20240119          |Não aplicado   |20240119             |8630501,8630502,8630599                        |RUA           |DOS PRODUTORES                          |73    |SALA  A                                                                       |DO INCRA                    |76920000|RO |69          |99816303    |0000        |00000000    |Não aplicado|Não aplicado|MARIANABRILHANTE_@HOTMAIL.COM            |Não aplicado     |Não aplicado          |[2]               |[MARIANA BRILHANTE DE SOUZA]                                                          |[***012082**]             |[49]                 |[20240119]                  |[]                  |[***000000**]                |[]                      |[00]                         |[4]                   |[Sócio-Administrador]                     |M B DE SOUZA ATIVIDADES MEDICAS LTDA         |80000,00      |01               |Não aplicado        |S            |20240119          |00000000         |N           |00000000      |00000000     |53576431000167|ATIVA        |00        |SEM MOTIVO                                     |BRASIL      |8630503 |Atividade médica ambulatorial restrita a consultas                                                        |0017         |OURO PRETO DO OESTE|Sociedade Empresária Limitada|49             |Sócio-Administrador     |\n",
            "|52619192   |0001      |12     |1               |Não aplicado                                |08               |20241016          |Não aplicado   |20231022             |Não aplicado                                   |RUA           |JIPOUBA                                 |85    |Não aplicado                                                                  |JARDIM BRASILIA (ZONA LESTE)|03585110|SP |11          |25064485    |Não aplicado|Não aplicado|Não aplicado|Não aplicado|ROSINETE2013@GMAIL.COM                   |Não aplicado     |Não aplicado          |NULL              |NULL                                                                                  |NULL                      |NULL                 |NULL                        |NULL                |NULL                         |NULL                    |NULL                         |NULL                  |NULL                                      |52.619.192 ROSINETE SANTOS VIEIRA            |100,00        |01               |Não aplicado        |N            |20231022          |20241016         |N           |20231022      |20241016     |52619192000112|BAIXADA      |01        |EXTINCAO POR ENCERRAMENTO LIQUIDACAO VOLUNTARIA|NÃO APLICADO|8219999 |Preparação de documentos e serviços especializados de apoio administrativo não especificados anteriormente|7107         |SAO PAULO          |Empresário (Individual)      |50             |Empresário              |\n",
            "|92127851   |0001      |18     |1               |Não aplicado                                |04               |20181129          |Não aplicado   |19880512             |4759899                                        |RUA           |PRESIDENTE LUCENA                       |584   |SALA A                                                                        |VISTA ALEGRE                |93900000|RS |Não aplicado|Não aplicado|Não aplicado|Não aplicado|Não aplicado|Não aplicado|Não aplicado                             |Não aplicado     |Não aplicado          |NULL              |NULL                                                                                  |NULL                      |NULL                 |NULL                        |NULL                |NULL                         |NULL                    |NULL                         |NULL                  |NULL                                      |BELMIRO BORGES DA SILVA                      |0,00          |01               |Não aplicado        |Não aplicado |Não aplicado      |Não aplicado     |Não aplicado|Não aplicado  |Não aplicado |92127851000118|INAPTA       |63        |OMISSAO DE DECLARACOES                         |NÃO APLICADO|4753900 |Comércio varejista especializado de eletrodomésticos e equipamentos de áudio e vídeo                      |8717         |IVOTI              |Empresário (Individual)      |50             |Empresário              |\n",
            "|12036174   |0001      |93     |1               |Não aplicado                                |08               |20081231          |Não aplicado   |19870825             |Não aplicado                                   |RUA           |FERNANDO CESAR                          |275   |GALPAO                                                                        |ENCRUZILHADA                |52041170|PE |Não aplicado|Não aplicado|Não aplicado|Não aplicado|Não aplicado|Não aplicado|Não aplicado                             |Não aplicado     |Não aplicado          |NULL              |NULL                                                                                  |NULL                      |NULL                 |NULL                        |NULL                |NULL                         |NULL                    |NULL                         |NULL                  |NULL                                      |FERRO FORTE DO NORDESTE LTDA                 |0,00          |05               |Não aplicado        |Não aplicado |Não aplicado      |Não aplicado     |Não aplicado|Não aplicado  |Não aplicado |12036174000193|BAIXADA      |71        |INAPTIDAO (LEI 11.941/2009 ART.54)             |NÃO APLICADO|4649401 |Comércio atacadista de equipamentos elétricos de uso pessoal e doméstico                                  |2531         |RECIFE             |Sociedade Empresária Limitada|49             |Sócio-Administrador     |\n",
            "|27485140   |0001      |53     |1               |MARTA MARIA DA SILVA                        |08               |20170824          |Não aplicado   |20170406             |5620104                                        |RUA           |ARARAQUARA                              |290   |CASA                                                                          |ASTECA (SAO BENEDITO)       |33120210|MG |31          |36346348    |Não aplicado|Não aplicado|Não aplicado|Não aplicado|eu.thayna@hotmail.com                    |Não aplicado     |Não aplicado          |NULL              |NULL                                                                                  |NULL                      |NULL                 |NULL                        |NULL                |NULL                         |NULL                    |NULL                         |NULL                  |NULL                                      |MARTA MARIA DA SILVA 02603708600             |1,00          |01               |Não aplicado        |N            |20170406          |20170824         |N           |20170406      |20170824     |27485140000153|BAIXADA      |01        |EXTINCAO POR ENCERRAMENTO LIQUIDACAO VOLUNTARIA|NÃO APLICADO|5611203 |Lanchonetes, casas de chá, de sucos e similares                                                           |5155         |SANTA LUZIA        |Empresário (Individual)      |50             |Empresário              |\n",
            "|32406081   |0001      |10     |1               |Não aplicado                                |04               |20221125          |Não aplicado   |20190110             |Não aplicado                                   |RUA           |Rua evaristo Soares                     |241   |Não aplicado                                                                  |Boiadeira                   |46860000|BA |75          |81692506    |Não aplicado|Não aplicado|Não aplicado|Não aplicado|elenilson1958@gmail.com                  |Não aplicado     |Não aplicado          |NULL              |NULL                                                                                  |NULL                      |NULL                 |NULL                        |NULL                |NULL                         |NULL                    |NULL                         |NULL                  |NULL                                      |BEATRIZ SOUZA DE CARVALHO 07701693505        |3800,00       |01               |Não aplicado        |S            |20190110          |00000000         |S           |20190110      |00000000     |32406081000110|INAPTA       |63        |OMISSAO DE DECLARACOES                         |NÃO APLICADO|4724500 |Comércio varejista de hortifrutigranjeiros                                                                |3537         |IACU               |Empresário (Individual)      |50             |Empresário              |\n",
            "|12249847   |0001      |93     |1               |BEM VOCE                                    |08               |20181130          |Não aplicado   |20100720             |9602501,4772500                                |AVENIDA       |PLINIO ARLINDO DE NES                   |1181  |SALA  04                                                                      |CENTRO                      |89825000|SC |49          |33536652    |Não aplicado|Não aplicado|49          |33531361    |AMESCRITORIO@DESBRAVA.COM.BR             |Não aplicado     |Não aplicado          |[2, 2]            |[CALINE DE FATIMA LUSA, DANIELA BEGNINI CAETANO]                                      |[***235369**, ***779489**]|[49, 49]             |[20150826, 20160419]        |[]                  |[***000000**, ***000000**]   |[]                      |[00, 00]                     |[4, 4]                |[Sócio-Administrador, Sócio-Administrador]|TISSIANI & CIA LTDA                          |70000,00      |01               |Não aplicado        |N            |20100720          |20181130         |N           |00000000      |00000000     |12249847000193|BAIXADA      |01        |EXTINCAO POR ENCERRAMENTO LIQUIDACAO VOLUNTARIA|NÃO APLICADO|4781400 |Comércio varejista de artigos do vestuário e acessórios                                                   |8387         |XAXIM              |Sociedade Empresária Limitada|49             |Sócio-Administrador     |\n",
            "|39281902   |0002      |60     |2               |BEACH FASHION                               |08               |20081231          |Não aplicado   |19931208             |1412603                                        |RUA           |HENRIQUE COUTINHO                       |45    |LOJA 02                                                                       |CENTRO                      |29200190|ES |Não aplicado|Não aplicado|Não aplicado|Não aplicado|Não aplicado|Não aplicado|Não aplicado                             |Não aplicado     |Não aplicado          |NULL              |NULL                                                                                  |NULL                      |NULL                 |NULL                        |NULL                |NULL                         |NULL                    |NULL                         |NULL                  |NULL                                      |EVANDRO RABELO SOUZA                         |0,00          |05               |Não aplicado        |Não aplicado |Não aplicado      |Não aplicado     |Não aplicado|Não aplicado  |Não aplicado |39281902000260|BAIXADA      |71        |INAPTIDAO (LEI 11.941/2009 ART.54)             |NÃO APLICADO|1412601 |Confecção de peças de vestuário, exceto roupas íntimas e as confeccionadas sob medida                     |5647         |GUARAPARI          |Empresário (Individual)      |50             |Empresário              |\n",
            "|33344361   |0001      |04     |1               |Não aplicado                                |02               |20220629          |Não aplicado   |20190412             |1412602                                        |RODOVIA       |SC 487                                  |SN    |Não aplicado                                                                  |MORRO BONITO                |88715000|SC |48          |96625062    |Não aplicado|Não aplicado|Não aplicado|Não aplicado|andreia.pereira.avila@gmail.com          |Não aplicado     |Não aplicado          |NULL              |NULL                                                                                  |NULL                      |NULL                 |NULL                        |NULL                |NULL                         |NULL                    |NULL                         |NULL                  |NULL                                      |ANDREIA PEREIRA AVILA 04599346942            |1000,00       |01               |Não aplicado        |S            |20190412          |00000000         |S           |20190412      |00000000     |33344361000104|ATIVA        |00        |SEM MOTIVO                                     |NÃO APLICADO|4781400 |Comércio varejista de artigos do vestuário e acessórios                                                   |8173         |JAGUARUNA          |Empresário (Individual)      |50             |Empresário              |\n",
            "|19346143   |0001      |88     |1               |ESCOLA BATISTA EDUCATIVA                    |02               |20131202          |Não aplicado   |20131202             |8511200,8550302,8591100,8593700,8599699,9329899|RUA           |JUDITE                                  |1209  |Não aplicado                                                                  |CANAA                       |35164182|MG |31          |38267863    |Não aplicado|Não aplicado|Não aplicado|Não aplicado|MACROCONTABILIDADE@GMAIL.COM             |Não aplicado     |Não aplicado          |[2, 2]            |[MAYCON SILVERIO RODRIGUES ANDRADE, PAULA KEROLY PIMENTEL SANTOS SILVA]               |[***692076**, ***490566**]|[49, 22]             |[20210820, 20210820]        |[]                  |[***000000**, ***000000**]   |[]                      |[00, 00]                     |[4, 3]                |[Sócio-Administrador, Sócio]              |ESCOLA BATISTA EDUCATIVA LTDA                |5000,00       |01               |Não aplicado        |N            |20131202          |20241231         |N           |00000000      |00000000     |19346143000188|ATIVA        |00        |SEM MOTIVO                                     |NÃO APLICADO|8512100 |Educação infantil - pré-escola                                                                            |4625         |IPATINGA           |Sociedade Empresária Limitada|49             |Sócio-Administrador     |\n",
            "|36734742   |0001      |98     |1               |AC FLOR REPRESENTACOES LTDA                 |08               |20210419          |Não aplicado   |20200320             |Não aplicado                                   |AVENIDA       |PINHO                                   |850   |BLOCO 5;APT 102                                                               |CHACARAS TUBALINA E QUARTEL |38413308|MG |34          |32195947    |Não aplicado|Não aplicado|Não aplicado|Não aplicado|ANACELIAHAND@YAHOO.COM.BR                |Não aplicado     |Não aplicado          |NULL              |NULL                                                                                  |NULL                      |NULL                 |NULL                        |NULL                |NULL                         |NULL                    |NULL                         |NULL                  |NULL                                      |ANA CELIA FLORIANO DA SILVA 06480142667      |2000,00       |01               |Não aplicado        |N            |20200320          |20210419         |N           |20200320      |20210419     |36734742000198|BAIXADA      |01        |EXTINCAO POR ENCERRAMENTO LIQUIDACAO VOLUNTARIA|NÃO APLICADO|7319002 |Promoção de vendas                                                                                        |5403         |UBERLANDIA         |Empresário (Individual)      |50             |Empresário              |\n",
            "|15398529   |0001      |82     |1               |Não aplicado                                |02               |20120420          |Não aplicado   |20120420             |Não aplicado                                   |RUA           |PROFESSOR ANTONIO RUETE                 |561   |Não aplicado                                                                  |NOVA JABOTICABAL            |14887032|SP |16          |32028810    |Não aplicado|Não aplicado|Não aplicado|Não aplicado|Não aplicado                             |Não aplicado     |Não aplicado          |NULL              |NULL                                                                                  |NULL                      |NULL                 |NULL                        |NULL                |NULL                         |NULL                    |NULL                         |NULL                  |NULL                                      |LUCIANA CRISTINA CARONE VERARDINO 13876555825|1,00          |01               |Não aplicado        |S            |20120420          |00000000         |S           |20120420      |00000000     |15398529000182|ATIVA        |00        |SEM MOTIVO                                     |NÃO APLICADO|8599699 |Outras atividades de ensino não especificadas anteriormente                                               |6587         |JABOTICABAL        |Empresário (Individual)      |50             |Empresário              |\n",
            "|28720384   |0001      |36     |1               |GERONTO                                     |02               |20170925          |Não aplicado   |20170925             |8711505                                        |RUA           |SENADOR MENDONCA                        |54    |Não aplicado                                                                  |CENTRO                      |96015200|RS |53          |30276294    |Não aplicado|Não aplicado|Não aplicado|Não aplicado|MAG51@BOL.COM.BR                         |Não aplicado     |Não aplicado          |NULL              |NULL                                                                                  |NULL                      |NULL                 |NULL                        |NULL                |NULL                         |NULL                    |NULL                         |NULL                  |NULL                                      |MARIA DE FATIMA COUTINHO PORCIUNCULA         |15000,00      |01               |Não aplicado        |N            |20240101          |20241231         |N           |00000000      |00000000     |28720384000136|ATIVA        |00        |SEM MOTIVO                                     |NÃO APLICADO|8711502 |Instituições de longa permanência para idosos                                                             |8791         |PELOTAS            |Empresário (Individual)      |50             |Empresário              |\n",
            "|48719918   |0001      |11     |1               |MELLO COMERCIO E REPRESENTACAO DE AUTO PECAS|08               |19880629          |Não aplicado   |19820129             |Não aplicado                                   |RUA           |DO FICO                                 |349   |Não aplicado                                                                  |SAO JOAQUIM                 |16058703|SP |Não aplicado|Não aplicado|Não aplicado|Não aplicado|Não aplicado|Não aplicado|Não aplicado                             |Não aplicado     |Não aplicado          |NULL              |NULL                                                                                  |NULL                      |NULL                 |NULL                        |NULL                |NULL                         |NULL                    |NULL                         |NULL                  |NULL                                      |DIVA NUNES RAMOS DE MELLO ARACATUBA          |0,00          |05               |Não aplicado        |Não aplicado |Não aplicado      |Não aplicado     |Não aplicado|Não aplicado  |Não aplicado |48719918000111|BAIXADA      |01        |EXTINCAO POR ENCERRAMENTO LIQUIDACAO VOLUNTARIA|NÃO APLICADO|4530701 |Comércio por atacado de peças e acessórios novos para veículos automotores                                |6155         |ARACATUBA          |Empresário (Individual)      |50             |Empresário              |\n",
            "|31991098   |0001      |10     |1               |Não aplicado                                |04               |20220112          |Não aplicado   |20181110             |Não aplicado                                   |AVENIDA       |MARECHAL RONDON                         |300   |CONJ Bloco 2 apt 302                                                          |SAO FRANCISCO XAVIER        |20950004|RJ |21          |73072294    |Não aplicado|Não aplicado|Não aplicado|Não aplicado|vascaino_riodejaneiro@hotmail.com        |Não aplicado     |Não aplicado          |NULL              |NULL                                                                                  |NULL                      |NULL                 |NULL                        |NULL                |NULL                         |NULL                    |NULL                         |NULL                  |NULL                                      |FERNANDO ALMEIDA LOPES 03535292573           |500,00        |01               |Não aplicado        |S            |20181110          |00000000         |S           |20181110      |00000000     |31991098000110|INAPTA       |63        |OMISSAO DE DECLARACOES                         |NÃO APLICADO|4930201 |Transporte rodoviário de carga, exceto produtos perigosos e mudanças, municipal.                          |6001         |RIO DE JANEIRO     |Empresário (Individual)      |50             |Empresário              |\n",
            "|11619324   |0001      |29     |1               |Não aplicado                                |02               |20220708          |Não aplicado   |20100212             |Não aplicado                                   |ESTRADA       |SAO ROQUE                               |S/N   |      SITIO BOA UNIAO           ANEXO 1                   AS MARGENS DA BA 503|DISTRITO DE JAIBA           |44115000|BA |75          |91397157    |Não aplicado|Não aplicado|75          |32252093    |CONTATO@PRIMEESTRUTURASPREMOLDADAS.COM.BR|Não aplicado     |Não aplicado          |[2]               |[FREDSON MACEDO DE JESUS]                                                             |[***950115**]             |[49]                 |[20231019]                  |[]                  |[***000000**]                |[]                      |[00]                         |[4]                   |[Sócio-Administrador]                     |PRIME ESTRUTURAS E MONTAGENS LTDA            |20000,00      |01               |Não aplicado        |S            |20230101          |00000000         |N           |00000000      |00000000     |11619324000129|ATIVA        |00        |SEM MOTIVO                                     |NÃO APLICADO|4292802 |Obras de montagem industrial                                                                              |3515         |FEIRA DE SANTANA   |Sociedade Empresária Limitada|49             |Sócio-Administrador     |\n",
            "|74276197   |0001      |22     |1               |Não aplicado                                |04               |20181228          |Não aplicado   |19940114             |Não aplicado                                   |RUA           |JORGE AMADO                             |18    |QUADRA 25                                                                     |VILA BELA                   |12522540|SP |Não aplicado|Não aplicado|Não aplicado|Não aplicado|Não aplicado|Não aplicado|Não aplicado                             |Não aplicado     |Não aplicado          |[2, 2]            |[LEOPOLDO GONCALVES PINTO DE AQUINO ALMEIDA, RENATA GONCALVES PINTO DE AQUINO ALMEIDA]|[***530667**, ***414477**]|[49, 22]             |[19940114, 19940114]        |[]                  |[***000000**, ***000000**]   |[]                      |[00, 00]                     |[6, 5]                |[Sócio-Administrador, Sócio]              |MED TEC VALE COMERCIAL LTDA                  |0,00          |01               |Não aplicado        |Não aplicado |Não aplicado      |Não aplicado     |Não aplicado|Não aplicado  |Não aplicado |74276197000122|INAPTA       |63        |OMISSAO DE DECLARACOES                         |NÃO APLICADO|4773300 |Comércio varejista de artigos médicos e ortopédicos                                                       |6469         |GUARATINGUETA      |Sociedade Empresária Limitada|49             |Sócio-Administrador     |\n",
            "+-----------+----------+-------+----------------+--------------------------------------------+-----------------+------------------+---------------+---------------------+-----------------------------------------------+--------------+----------------------------------------+------+------------------------------------------------------------------------------+----------------------------+--------+---+------------+------------+------------+------------+------------+------------+-----------------------------------------+-----------------+----------------------+------------------+--------------------------------------------------------------------------------------+--------------------------+---------------------+----------------------------+--------------------+-----------------------------+------------------------+-----------------------------+----------------------+------------------------------------------+---------------------------------------------+--------------+-----------------+--------------------+-------------+------------------+-----------------+------------+--------------+-------------+--------------+-------------+----------+-----------------------------------------------+------------+--------+----------------------------------------------------------------------------------------------------------+-------------+-------------------+-----------------------------+---------------+------------------------+\n",
            "only showing top 20 rows\n",
            "\n"
          ]
        }
      ]
    },
    {
      "cell_type": "code",
      "source": [
        "# Obtém o número de linhas\n",
        "df_empresas_brasil.take(1) # Força a excecução antes do count\n",
        "num_linhas = df_empresas_brasil.count()\n",
        "\n",
        "# Obtém o número de colunas\n",
        "num_colunas = len(df_empresas_brasil.columns)\n",
        "\n",
        "print(f\"Número de linhas: {num_linhas}\")\n",
        "print(f\"Número de colunas: {num_colunas}\")"
      ],
      "metadata": {
        "colab": {
          "base_uri": "https://localhost:8080/"
        },
        "id": "8I_372CAmx_c",
        "outputId": "9dbe06e8-59a0-4581-e3e5-f6c98e75ae3b"
      },
      "execution_count": null,
      "outputs": [
        {
          "output_type": "stream",
          "name": "stdout",
          "text": [
            "Número de linhas: 64017370\n",
            "Número de colunas: 59\n"
          ]
        }
      ]
    },
    {
      "cell_type": "code",
      "source": [],
      "metadata": {
        "id": "lM02MbkTmx7s"
      },
      "execution_count": null,
      "outputs": []
    },
    {
      "cell_type": "code",
      "source": [],
      "metadata": {
        "id": "ePJSRj1TmxyI"
      },
      "execution_count": null,
      "outputs": []
    },
    {
      "cell_type": "code",
      "source": [],
      "metadata": {
        "id": "lHm1WBvjdgev"
      },
      "execution_count": null,
      "outputs": []
    }
  ],
  "metadata": {
    "colab": {
      "provenance": [],
      "authorship_tag": "ABX9TyN8oBWE4N3m2OdiqUZF03HT",
      "include_colab_link": true
    },
    "kernelspec": {
      "display_name": "Python 3",
      "name": "python3"
    },
    "language_info": {
      "name": "python"
    }
  },
  "nbformat": 4,
  "nbformat_minor": 0
}