{
  "nbformat": 4,
  "nbformat_minor": 0,
  "metadata": {
    "colab": {
      "provenance": [],
      "include_colab_link": true
    },
    "kernelspec": {
      "name": "python3",
      "display_name": "Python 3"
    },
    "language_info": {
      "name": "python"
    }
  },
  "cells": [
    {
      "cell_type": "markdown",
      "metadata": {
        "id": "view-in-github",
        "colab_type": "text"
      },
      "source": [
        "<a href=\"https://colab.research.google.com/github/mzsmarcos/projeto_pipelineETL/blob/main/Etapa_2_descompactacao.ipynb\" target=\"_parent\"><img src=\"https://colab.research.google.com/assets/colab-badge.svg\" alt=\"Open In Colab\"/></a>"
      ]
    },
    {
      "cell_type": "markdown",
      "source": [
        "# **Etapa de descompactação dos arquivos**"
      ],
      "metadata": {
        "id": "mvWYRZWkmAmg"
      }
    },
    {
      "cell_type": "markdown",
      "source": [
        "Configuração do PySpark -  instalar o PySpark no Colab"
      ],
      "metadata": {
        "id": "nigaxeaJkMCh"
      }
    },
    {
      "cell_type": "code",
      "source": [
        "from google.colab import drive\n",
        "drive.mount('/content/drive')"
      ],
      "metadata": {
        "id": "-25BPugbPRdq"
      },
      "execution_count": null,
      "outputs": []
    },
    {
      "cell_type": "code",
      "execution_count": null,
      "metadata": {
        "colab": {
          "base_uri": "https://localhost:8080/"
        },
        "id": "WB8LpMTWkLSp",
        "outputId": "5d52d808-de31-4da5-8ab6-a015c2d819fa"
      },
      "outputs": [
        {
          "output_type": "stream",
          "name": "stdout",
          "text": [
            "Requirement already satisfied: pyspark in /usr/local/lib/python3.11/dist-packages (3.5.4)\n",
            "Requirement already satisfied: py4j==0.10.9.7 in /usr/local/lib/python3.11/dist-packages (from pyspark) (0.10.9.7)\n"
          ]
        }
      ],
      "source": [
        "# Instalar o PySpark\n",
        "!pip install pyspark\n"
      ]
    },
    {
      "cell_type": "markdown",
      "source": [
        "Executar a instalação do PySpark e configurar o ambiente Spark.\n",
        "\n",
        "Isso é feito definindo algumas variáveis de ambiente para garantir que o Spark funcione corretamente no Colab."
      ],
      "metadata": {
        "id": "3h6QW5hCk3Oe"
      }
    },
    {
      "cell_type": "code",
      "source": [
        "# Instalar Java 8\n",
        "!apt-get install openjdk-8-jdk -y\n",
        "\n",
        "# Baixar o Apache Spark\n",
        "!wget -q https://archive.apache.org/dist/spark/spark-3.2.1/spark-3.2.1-bin-hadoop3.2.tgz\n",
        "\n",
        "# Extrair o Apache Spark\n",
        "!tar xf spark-3.2.1-bin-hadoop3.2.tgz\n",
        "\n",
        "# Definir variáveis de ambiente\n",
        "import os\n",
        "os.environ[\"JAVA_HOME\"] = \"/usr/lib/jvm/java-8-openjdk-amd64\"\n",
        "os.environ[\"SPARK_HOME\"] = \"/content/spark-3.2.1-bin-hadoop3.2\"\n",
        "\n",
        "# Instalar as bibliotecas PySpark e Findspark\n",
        "!pip install -q pyspark==3.2.1 findspark\n",
        "\n"
      ],
      "metadata": {
        "id": "p9L1Vi5qkrn1",
        "colab": {
          "base_uri": "https://localhost:8080/"
        },
        "outputId": "9fe8945f-8227-419c-92d9-05e409edce8b"
      },
      "execution_count": null,
      "outputs": [
        {
          "output_type": "stream",
          "name": "stdout",
          "text": [
            "Reading package lists... Done\n",
            "Building dependency tree... Done\n",
            "Reading state information... Done\n",
            "The following additional packages will be installed:\n",
            "  fonts-dejavu-core fonts-dejavu-extra libatk-wrapper-java libatk-wrapper-java-jni libfontenc1\n",
            "  libgail-common libgail18 libgtk2.0-0 libgtk2.0-bin libgtk2.0-common libice-dev librsvg2-common\n",
            "  libsm-dev libxkbfile1 libxt-dev libxtst6 libxxf86dga1 openjdk-8-jdk-headless openjdk-8-jre\n",
            "  openjdk-8-jre-headless x11-utils\n",
            "Suggested packages:\n",
            "  gvfs libice-doc libsm-doc libxt-doc openjdk-8-demo openjdk-8-source visualvm libnss-mdns\n",
            "  fonts-nanum fonts-ipafont-gothic fonts-ipafont-mincho fonts-wqy-microhei fonts-wqy-zenhei\n",
            "  fonts-indic mesa-utils\n",
            "The following NEW packages will be installed:\n",
            "  fonts-dejavu-core fonts-dejavu-extra libatk-wrapper-java libatk-wrapper-java-jni libfontenc1\n",
            "  libgail-common libgail18 libgtk2.0-0 libgtk2.0-bin libgtk2.0-common libice-dev librsvg2-common\n",
            "  libsm-dev libxkbfile1 libxt-dev libxtst6 libxxf86dga1 openjdk-8-jdk openjdk-8-jdk-headless\n",
            "  openjdk-8-jre openjdk-8-jre-headless x11-utils\n",
            "0 upgraded, 22 newly installed, 0 to remove and 20 not upgraded.\n",
            "Need to get 50.1 MB of archives.\n",
            "After this operation, 169 MB of additional disk space will be used.\n",
            "Get:1 http://archive.ubuntu.com/ubuntu jammy/main amd64 fonts-dejavu-core all 2.37-2build1 [1,041 kB]\n",
            "Get:2 http://archive.ubuntu.com/ubuntu jammy/main amd64 fonts-dejavu-extra all 2.37-2build1 [2,041 kB]\n",
            "Get:3 http://archive.ubuntu.com/ubuntu jammy/main amd64 libfontenc1 amd64 1:1.1.4-1build3 [14.7 kB]\n",
            "Get:4 http://archive.ubuntu.com/ubuntu jammy/main amd64 libxkbfile1 amd64 1:1.1.0-1build3 [71.8 kB]\n",
            "Get:5 http://archive.ubuntu.com/ubuntu jammy/main amd64 libxtst6 amd64 2:1.2.3-1build4 [13.4 kB]\n",
            "Get:6 http://archive.ubuntu.com/ubuntu jammy/main amd64 libxxf86dga1 amd64 2:1.1.5-0ubuntu3 [12.6 kB]\n",
            "Get:7 http://archive.ubuntu.com/ubuntu jammy/main amd64 x11-utils amd64 7.7+5build2 [206 kB]\n",
            "Get:8 http://archive.ubuntu.com/ubuntu jammy/main amd64 libatk-wrapper-java all 0.38.0-5build1 [53.1 kB]\n",
            "Get:9 http://archive.ubuntu.com/ubuntu jammy/main amd64 libatk-wrapper-java-jni amd64 0.38.0-5build1 [49.0 kB]\n",
            "Get:10 http://archive.ubuntu.com/ubuntu jammy-updates/main amd64 libgtk2.0-common all 2.24.33-2ubuntu2.1 [125 kB]\n",
            "Get:11 http://archive.ubuntu.com/ubuntu jammy-updates/main amd64 libgtk2.0-0 amd64 2.24.33-2ubuntu2.1 [2,038 kB]\n",
            "Get:12 http://archive.ubuntu.com/ubuntu jammy-updates/main amd64 libgail18 amd64 2.24.33-2ubuntu2.1 [15.9 kB]\n",
            "Get:13 http://archive.ubuntu.com/ubuntu jammy-updates/main amd64 libgail-common amd64 2.24.33-2ubuntu2.1 [132 kB]\n",
            "Get:14 http://archive.ubuntu.com/ubuntu jammy-updates/main amd64 libgtk2.0-bin amd64 2.24.33-2ubuntu2.1 [7,936 B]\n",
            "Get:15 http://archive.ubuntu.com/ubuntu jammy/main amd64 libice-dev amd64 2:1.0.10-1build2 [51.4 kB]\n",
            "Get:16 http://archive.ubuntu.com/ubuntu jammy-updates/main amd64 librsvg2-common amd64 2.52.5+dfsg-3ubuntu0.2 [17.7 kB]\n",
            "Get:17 http://archive.ubuntu.com/ubuntu jammy/main amd64 libsm-dev amd64 2:1.2.3-1build2 [18.1 kB]\n",
            "Get:18 http://archive.ubuntu.com/ubuntu jammy/main amd64 libxt-dev amd64 1:1.2.1-1 [396 kB]\n",
            "Get:19 http://archive.ubuntu.com/ubuntu jammy-updates/universe amd64 openjdk-8-jre-headless amd64 8u442-b06~us1-0ubuntu1~22.04 [30.8 MB]\n",
            "Get:20 http://archive.ubuntu.com/ubuntu jammy-updates/universe amd64 openjdk-8-jre amd64 8u442-b06~us1-0ubuntu1~22.04 [75.3 kB]\n",
            "Get:21 http://archive.ubuntu.com/ubuntu jammy-updates/universe amd64 openjdk-8-jdk-headless amd64 8u442-b06~us1-0ubuntu1~22.04 [8,864 kB]\n",
            "Get:22 http://archive.ubuntu.com/ubuntu jammy-updates/universe amd64 openjdk-8-jdk amd64 8u442-b06~us1-0ubuntu1~22.04 [4,077 kB]\n",
            "Fetched 50.1 MB in 2s (21.7 MB/s)\n",
            "Selecting previously unselected package fonts-dejavu-core.\n",
            "(Reading database ... 124926 files and directories currently installed.)\n",
            "Preparing to unpack .../00-fonts-dejavu-core_2.37-2build1_all.deb ...\n",
            "Unpacking fonts-dejavu-core (2.37-2build1) ...\n",
            "Selecting previously unselected package fonts-dejavu-extra.\n",
            "Preparing to unpack .../01-fonts-dejavu-extra_2.37-2build1_all.deb ...\n",
            "Unpacking fonts-dejavu-extra (2.37-2build1) ...\n",
            "Selecting previously unselected package libfontenc1:amd64.\n",
            "Preparing to unpack .../02-libfontenc1_1%3a1.1.4-1build3_amd64.deb ...\n",
            "Unpacking libfontenc1:amd64 (1:1.1.4-1build3) ...\n",
            "Selecting previously unselected package libxkbfile1:amd64.\n",
            "Preparing to unpack .../03-libxkbfile1_1%3a1.1.0-1build3_amd64.deb ...\n",
            "Unpacking libxkbfile1:amd64 (1:1.1.0-1build3) ...\n",
            "Selecting previously unselected package libxtst6:amd64.\n",
            "Preparing to unpack .../04-libxtst6_2%3a1.2.3-1build4_amd64.deb ...\n",
            "Unpacking libxtst6:amd64 (2:1.2.3-1build4) ...\n",
            "Selecting previously unselected package libxxf86dga1:amd64.\n",
            "Preparing to unpack .../05-libxxf86dga1_2%3a1.1.5-0ubuntu3_amd64.deb ...\n",
            "Unpacking libxxf86dga1:amd64 (2:1.1.5-0ubuntu3) ...\n",
            "Selecting previously unselected package x11-utils.\n",
            "Preparing to unpack .../06-x11-utils_7.7+5build2_amd64.deb ...\n",
            "Unpacking x11-utils (7.7+5build2) ...\n",
            "Selecting previously unselected package libatk-wrapper-java.\n",
            "Preparing to unpack .../07-libatk-wrapper-java_0.38.0-5build1_all.deb ...\n",
            "Unpacking libatk-wrapper-java (0.38.0-5build1) ...\n",
            "Selecting previously unselected package libatk-wrapper-java-jni:amd64.\n",
            "Preparing to unpack .../08-libatk-wrapper-java-jni_0.38.0-5build1_amd64.deb ...\n",
            "Unpacking libatk-wrapper-java-jni:amd64 (0.38.0-5build1) ...\n",
            "Selecting previously unselected package libgtk2.0-common.\n",
            "Preparing to unpack .../09-libgtk2.0-common_2.24.33-2ubuntu2.1_all.deb ...\n",
            "Unpacking libgtk2.0-common (2.24.33-2ubuntu2.1) ...\n",
            "Selecting previously unselected package libgtk2.0-0:amd64.\n",
            "Preparing to unpack .../10-libgtk2.0-0_2.24.33-2ubuntu2.1_amd64.deb ...\n",
            "Unpacking libgtk2.0-0:amd64 (2.24.33-2ubuntu2.1) ...\n",
            "Selecting previously unselected package libgail18:amd64.\n",
            "Preparing to unpack .../11-libgail18_2.24.33-2ubuntu2.1_amd64.deb ...\n",
            "Unpacking libgail18:amd64 (2.24.33-2ubuntu2.1) ...\n",
            "Selecting previously unselected package libgail-common:amd64.\n",
            "Preparing to unpack .../12-libgail-common_2.24.33-2ubuntu2.1_amd64.deb ...\n",
            "Unpacking libgail-common:amd64 (2.24.33-2ubuntu2.1) ...\n",
            "Selecting previously unselected package libgtk2.0-bin.\n",
            "Preparing to unpack .../13-libgtk2.0-bin_2.24.33-2ubuntu2.1_amd64.deb ...\n",
            "Unpacking libgtk2.0-bin (2.24.33-2ubuntu2.1) ...\n",
            "Selecting previously unselected package libice-dev:amd64.\n",
            "Preparing to unpack .../14-libice-dev_2%3a1.0.10-1build2_amd64.deb ...\n",
            "Unpacking libice-dev:amd64 (2:1.0.10-1build2) ...\n",
            "Selecting previously unselected package librsvg2-common:amd64.\n",
            "Preparing to unpack .../15-librsvg2-common_2.52.5+dfsg-3ubuntu0.2_amd64.deb ...\n",
            "Unpacking librsvg2-common:amd64 (2.52.5+dfsg-3ubuntu0.2) ...\n",
            "Selecting previously unselected package libsm-dev:amd64.\n",
            "Preparing to unpack .../16-libsm-dev_2%3a1.2.3-1build2_amd64.deb ...\n",
            "Unpacking libsm-dev:amd64 (2:1.2.3-1build2) ...\n",
            "Selecting previously unselected package libxt-dev:amd64.\n",
            "Preparing to unpack .../17-libxt-dev_1%3a1.2.1-1_amd64.deb ...\n",
            "Unpacking libxt-dev:amd64 (1:1.2.1-1) ...\n",
            "Selecting previously unselected package openjdk-8-jre-headless:amd64.\n",
            "Preparing to unpack .../18-openjdk-8-jre-headless_8u442-b06~us1-0ubuntu1~22.04_amd64.deb ...\n",
            "Unpacking openjdk-8-jre-headless:amd64 (8u442-b06~us1-0ubuntu1~22.04) ...\n",
            "Selecting previously unselected package openjdk-8-jre:amd64.\n",
            "Preparing to unpack .../19-openjdk-8-jre_8u442-b06~us1-0ubuntu1~22.04_amd64.deb ...\n",
            "Unpacking openjdk-8-jre:amd64 (8u442-b06~us1-0ubuntu1~22.04) ...\n",
            "Selecting previously unselected package openjdk-8-jdk-headless:amd64.\n",
            "Preparing to unpack .../20-openjdk-8-jdk-headless_8u442-b06~us1-0ubuntu1~22.04_amd64.deb ...\n",
            "Unpacking openjdk-8-jdk-headless:amd64 (8u442-b06~us1-0ubuntu1~22.04) ...\n",
            "Selecting previously unselected package openjdk-8-jdk:amd64.\n",
            "Preparing to unpack .../21-openjdk-8-jdk_8u442-b06~us1-0ubuntu1~22.04_amd64.deb ...\n",
            "Unpacking openjdk-8-jdk:amd64 (8u442-b06~us1-0ubuntu1~22.04) ...\n",
            "Setting up libice-dev:amd64 (2:1.0.10-1build2) ...\n",
            "Setting up libsm-dev:amd64 (2:1.2.3-1build2) ...\n",
            "Setting up libxtst6:amd64 (2:1.2.3-1build4) ...\n",
            "Setting up libxxf86dga1:amd64 (2:1.1.5-0ubuntu3) ...\n",
            "Setting up libfontenc1:amd64 (1:1.1.4-1build3) ...\n",
            "Setting up libxt-dev:amd64 (1:1.2.1-1) ...\n",
            "Setting up openjdk-8-jre-headless:amd64 (8u442-b06~us1-0ubuntu1~22.04) ...\n",
            "update-alternatives: using /usr/lib/jvm/java-8-openjdk-amd64/jre/bin/orbd to provide /usr/bin/orbd (orbd) in auto mode\n",
            "update-alternatives: using /usr/lib/jvm/java-8-openjdk-amd64/jre/bin/servertool to provide /usr/bin/servertool (servertool) in auto mode\n",
            "update-alternatives: using /usr/lib/jvm/java-8-openjdk-amd64/jre/bin/tnameserv to provide /usr/bin/tnameserv (tnameserv) in auto mode\n",
            "Setting up fonts-dejavu-core (2.37-2build1) ...\n",
            "Setting up librsvg2-common:amd64 (2.52.5+dfsg-3ubuntu0.2) ...\n",
            "Setting up fonts-dejavu-extra (2.37-2build1) ...\n",
            "Setting up libgtk2.0-common (2.24.33-2ubuntu2.1) ...\n",
            "Setting up libxkbfile1:amd64 (1:1.1.0-1build3) ...\n",
            "Setting up libgtk2.0-0:amd64 (2.24.33-2ubuntu2.1) ...\n",
            "Setting up openjdk-8-jdk-headless:amd64 (8u442-b06~us1-0ubuntu1~22.04) ...\n",
            "update-alternatives: using /usr/lib/jvm/java-8-openjdk-amd64/bin/clhsdb to provide /usr/bin/clhsdb (clhsdb) in auto mode\n",
            "update-alternatives: using /usr/lib/jvm/java-8-openjdk-amd64/bin/extcheck to provide /usr/bin/extcheck (extcheck) in auto mode\n",
            "update-alternatives: using /usr/lib/jvm/java-8-openjdk-amd64/bin/hsdb to provide /usr/bin/hsdb (hsdb) in auto mode\n",
            "update-alternatives: using /usr/lib/jvm/java-8-openjdk-amd64/bin/idlj to provide /usr/bin/idlj (idlj) in auto mode\n",
            "update-alternatives: using /usr/lib/jvm/java-8-openjdk-amd64/bin/javah to provide /usr/bin/javah (javah) in auto mode\n",
            "update-alternatives: using /usr/lib/jvm/java-8-openjdk-amd64/bin/jhat to provide /usr/bin/jhat (jhat) in auto mode\n",
            "update-alternatives: using /usr/lib/jvm/java-8-openjdk-amd64/bin/jsadebugd to provide /usr/bin/jsadebugd (jsadebugd) in auto mode\n",
            "update-alternatives: using /usr/lib/jvm/java-8-openjdk-amd64/bin/native2ascii to provide /usr/bin/native2ascii (native2ascii) in auto mode\n",
            "update-alternatives: using /usr/lib/jvm/java-8-openjdk-amd64/bin/schemagen to provide /usr/bin/schemagen (schemagen) in auto mode\n",
            "update-alternatives: using /usr/lib/jvm/java-8-openjdk-amd64/bin/wsgen to provide /usr/bin/wsgen (wsgen) in auto mode\n",
            "update-alternatives: using /usr/lib/jvm/java-8-openjdk-amd64/bin/wsimport to provide /usr/bin/wsimport (wsimport) in auto mode\n",
            "update-alternatives: using /usr/lib/jvm/java-8-openjdk-amd64/bin/xjc to provide /usr/bin/xjc (xjc) in auto mode\n",
            "Setting up libgail18:amd64 (2.24.33-2ubuntu2.1) ...\n",
            "Setting up libgtk2.0-bin (2.24.33-2ubuntu2.1) ...\n",
            "Setting up x11-utils (7.7+5build2) ...\n",
            "Setting up libatk-wrapper-java (0.38.0-5build1) ...\n",
            "Setting up libgail-common:amd64 (2.24.33-2ubuntu2.1) ...\n",
            "Setting up libatk-wrapper-java-jni:amd64 (0.38.0-5build1) ...\n",
            "Setting up openjdk-8-jre:amd64 (8u442-b06~us1-0ubuntu1~22.04) ...\n",
            "update-alternatives: using /usr/lib/jvm/java-8-openjdk-amd64/jre/bin/policytool to provide /usr/bin/policytool (policytool) in auto mode\n",
            "Setting up openjdk-8-jdk:amd64 (8u442-b06~us1-0ubuntu1~22.04) ...\n",
            "update-alternatives: using /usr/lib/jvm/java-8-openjdk-amd64/bin/appletviewer to provide /usr/bin/appletviewer (appletviewer) in auto mode\n",
            "update-alternatives: using /usr/lib/jvm/java-8-openjdk-amd64/bin/jconsole to provide /usr/bin/jconsole (jconsole) in auto mode\n",
            "Processing triggers for fontconfig (2.13.1-4.2ubuntu5) ...\n",
            "Processing triggers for hicolor-icon-theme (0.17-2) ...\n",
            "Processing triggers for libc-bin (2.35-0ubuntu3.8) ...\n",
            "/sbin/ldconfig.real: /usr/local/lib/libtbbmalloc.so.2 is not a symbolic link\n",
            "\n",
            "/sbin/ldconfig.real: /usr/local/lib/libtbbbind.so.3 is not a symbolic link\n",
            "\n",
            "/sbin/ldconfig.real: /usr/local/lib/libhwloc.so.15 is not a symbolic link\n",
            "\n",
            "/sbin/ldconfig.real: /usr/local/lib/libtcm_debug.so.1 is not a symbolic link\n",
            "\n",
            "/sbin/ldconfig.real: /usr/local/lib/libur_adapter_opencl.so.0 is not a symbolic link\n",
            "\n",
            "/sbin/ldconfig.real: /usr/local/lib/libtbbmalloc_proxy.so.2 is not a symbolic link\n",
            "\n",
            "/sbin/ldconfig.real: /usr/local/lib/libur_loader.so.0 is not a symbolic link\n",
            "\n",
            "/sbin/ldconfig.real: /usr/local/lib/libtbbbind_2_5.so.3 is not a symbolic link\n",
            "\n",
            "/sbin/ldconfig.real: /usr/local/lib/libtcm.so.1 is not a symbolic link\n",
            "\n",
            "/sbin/ldconfig.real: /usr/local/lib/libur_adapter_level_zero.so.0 is not a symbolic link\n",
            "\n",
            "/sbin/ldconfig.real: /usr/local/lib/libumf.so.0 is not a symbolic link\n",
            "\n",
            "/sbin/ldconfig.real: /usr/local/lib/libtbbbind_2_0.so.3 is not a symbolic link\n",
            "\n",
            "/sbin/ldconfig.real: /usr/local/lib/libtbb.so.12 is not a symbolic link\n",
            "\n",
            "Processing triggers for man-db (2.10.2-1) ...\n",
            "Processing triggers for libgdk-pixbuf-2.0-0:amd64 (2.42.8+dfsg-1ubuntu0.3) ...\n",
            "Processing triggers for mailcap (3.70+nmu1ubuntu1) ...\n",
            "\u001b[2K     \u001b[90m━━━━━━━━━━━━━━━━━━━━━━━━━━━━━━━━━━━━━━━━\u001b[0m \u001b[32m281.4/281.4 MB\u001b[0m \u001b[31m3.8 MB/s\u001b[0m eta \u001b[36m0:00:00\u001b[0m\n",
            "\u001b[?25h  Preparing metadata (setup.py) ... \u001b[?25l\u001b[?25hdone\n",
            "\u001b[2K   \u001b[90m━━━━━━━━━━━━━━━━━━━━━━━━━━━━━━━━━━━━━━━━\u001b[0m \u001b[32m199.0/199.0 kB\u001b[0m \u001b[31m14.6 MB/s\u001b[0m eta \u001b[36m0:00:00\u001b[0m\n",
            "\u001b[?25h  Building wheel for pyspark (setup.py) ... \u001b[?25l\u001b[?25hdone\n",
            "\u001b[31mERROR: pip's dependency resolver does not currently take into account all the packages that are installed. This behaviour is the source of the following dependency conflicts.\n",
            "google-spark-connect 0.5.1 requires pyspark>=3.5, but you have pyspark 3.2.1 which is incompatible.\u001b[0m\u001b[31m\n",
            "\u001b[0m"
          ]
        }
      ]
    },
    {
      "cell_type": "code",
      "source": [
        "# Verificar se o arquivo foi baixado\n",
        "!ls -lh\n"
      ],
      "metadata": {
        "colab": {
          "base_uri": "https://localhost:8080/"
        },
        "id": "y6I03-onnFfZ",
        "outputId": "a7fb8335-af4a-412c-a335-bd0c448325c8"
      },
      "execution_count": null,
      "outputs": [
        {
          "output_type": "stream",
          "name": "stdout",
          "text": [
            "total 288M\n",
            "drwxr-xr-x  1 root root 4.0K Feb 11 14:27 sample_data\n",
            "drwxr-xr-x 13  501 1000 4.0K Jan 20  2022 spark-3.2.1-bin-hadoop3.2\n",
            "-rw-r--r--  1 root root 288M Jan 20  2022 spark-3.2.1-bin-hadoop3.2.tgz\n"
          ]
        }
      ]
    },
    {
      "cell_type": "markdown",
      "source": [
        "Criar a Sessão Spark"
      ],
      "metadata": {
        "id": "DwyHmqlJ7y7o"
      }
    },
    {
      "cell_type": "code",
      "source": [
        "# Importar as bibliotecas\n",
        "import findspark\n",
        "findspark.init(\"/content/spark-3.2.1-bin-hadoop3.2\")\n",
        "\n",
        "from pyspark.sql import SparkSession\n",
        "\n",
        "# Criar a sessão Spark\n",
        "spark = SparkSession.builder \\\n",
        "    .appName(\"PySparkExample\") \\\n",
        "    .config(\"spark.executor.memory\", \"2g\") \\\n",
        "    .config(\"spark.driver.memory\", \"2g\") \\\n",
        "    .getOrCreate()\n",
        "\n",
        "# Verificar se a sessão foi criada corretamente\n",
        "print(\"Versão do Spark:\", spark.version)\n"
      ],
      "metadata": {
        "id": "6wKpgQX9-uVY",
        "colab": {
          "base_uri": "https://localhost:8080/"
        },
        "outputId": "2ea1b18b-555a-4108-c850-001105eb22b4"
      },
      "execution_count": null,
      "outputs": [
        {
          "output_type": "stream",
          "name": "stdout",
          "text": [
            "Versão do Spark: 3.2.1\n"
          ]
        }
      ]
    },
    {
      "cell_type": "markdown",
      "source": [
        "Descompactando os arquivos e fazedo a leitura prévia sem qualquer tratamento."
      ],
      "metadata": {
        "id": "wVbHL1NULk-x"
      }
    },
    {
      "cell_type": "code",
      "source": [
        "# Importe das Bibliotecas\n",
        "from pyspark.sql import SparkSession\n",
        "import zipfile\n",
        "import os"
      ],
      "metadata": {
        "id": "xmt3_Tn6OnG7"
      },
      "execution_count": null,
      "outputs": []
    },
    {
      "cell_type": "code",
      "source": [
        "# Montando o Google Drive no Colab\n",
        "from google.colab import drive\n",
        "drive.mount('/content/drive')"
      ],
      "metadata": {
        "colab": {
          "base_uri": "https://localhost:8080/"
        },
        "id": "9trpJPzwPO-4",
        "outputId": "e8061746-e689-4715-9b11-fb2c53540ca4"
      },
      "execution_count": null,
      "outputs": [
        {
          "output_type": "stream",
          "name": "stdout",
          "text": [
            "Mounted at /content/drive\n"
          ]
        }
      ]
    },
    {
      "cell_type": "markdown",
      "source": [
        "# ***O código a seguir, verifica a integridade os arquivos ZIP  que foram baixados para identificar se algum deles está corrompido. ***"
      ],
      "metadata": {
        "id": "-qRqIwQYB4US"
      }
    },
    {
      "cell_type": "code",
      "source": [
        "import zipfile\n",
        "import os\n",
        "\n",
        "# Diretório onde os arquivos ZIP estão localizados\n",
        "zip_dir = '/content/drive/MyDrive/Projeto_ETL_Trust_Works/Dados_abertos/'\n",
        "\n",
        "# Listar todos os arquivos ZIP no diretório\n",
        "zip_files = [f for f in os.listdir(zip_dir) if f.endswith('.zip')]\n",
        "\n",
        "# Lista para armazenar os ZIPs corrompidos\n",
        "zip_corrompidos = []\n",
        "\n",
        "# Iterar sobre os arquivos ZIP e testar integridade\n",
        "for zip_file in zip_files:\n",
        "    zip_path = os.path.join(zip_dir, zip_file)\n",
        "\n",
        "    with zipfile.ZipFile(zip_path, 'r') as z:\n",
        "        erro = z.testzip()  # Testa a integridade do ZIP\n",
        "        if erro:\n",
        "            print(f\"⚠️ O arquivo {zip_file} está corrompido! (Erro no arquivo interno: {erro})\")\n",
        "            zip_corrompidos.append(zip_file)\n",
        "        else:\n",
        "            print(f\"✅ {zip_file} está íntegro.\")\n",
        "\n",
        "# Resultado final\n",
        "if zip_corrompidos:\n",
        "    print(\"\\n🚨 Arquivos ZIP corrompidos detectados:\")\n",
        "    for zc in zip_corrompidos:\n",
        "        print(f\"  - {zc}\")\n",
        "    print(\"Sugestão: Baixar novamente esses arquivos.\")\n",
        "else:\n",
        "    print(\"\\n🎉 Todos os arquivos ZIP estão íntegros!\")\n"
      ],
      "metadata": {
        "colab": {
          "base_uri": "https://localhost:8080/"
        },
        "id": "qYErnrXQ2Jgr",
        "outputId": "cbe9684b-e611-4d71-9a22-85ac9e74bfeb"
      },
      "execution_count": null,
      "outputs": [
        {
          "output_type": "stream",
          "name": "stdout",
          "text": [
            "✅ Cnaes.zip está íntegro.\n",
            "✅ Empresas0.zip está íntegro.\n",
            "✅ Empresas1.zip está íntegro.\n",
            "✅ Empresas2.zip está íntegro.\n",
            "✅ Empresas3.zip está íntegro.\n",
            "✅ Empresas4.zip está íntegro.\n",
            "✅ Empresas5.zip está íntegro.\n",
            "✅ Empresas6.zip está íntegro.\n",
            "✅ Empresas7.zip está íntegro.\n",
            "✅ Empresas8.zip está íntegro.\n",
            "✅ Empresas9.zip está íntegro.\n",
            "✅ Estabelecimentos0.zip está íntegro.\n",
            "✅ Estabelecimentos1.zip está íntegro.\n",
            "✅ Estabelecimentos2.zip está íntegro.\n",
            "✅ Estabelecimentos3.zip está íntegro.\n",
            "✅ Estabelecimentos4.zip está íntegro.\n",
            "✅ Estabelecimentos5.zip está íntegro.\n",
            "✅ Estabelecimentos6.zip está íntegro.\n",
            "✅ Estabelecimentos7.zip está íntegro.\n",
            "✅ Estabelecimentos8.zip está íntegro.\n",
            "✅ Estabelecimentos9.zip está íntegro.\n",
            "✅ Motivos.zip está íntegro.\n",
            "✅ Municipios.zip está íntegro.\n",
            "✅ Naturezas.zip está íntegro.\n",
            "✅ Paises.zip está íntegro.\n",
            "✅ Qualificacoes.zip está íntegro.\n",
            "✅ Simples.zip está íntegro.\n",
            "✅ Socios0.zip está íntegro.\n",
            "✅ Socios1.zip está íntegro.\n",
            "✅ Socios2.zip está íntegro.\n",
            "✅ Socios3.zip está íntegro.\n",
            "✅ Socios4.zip está íntegro.\n",
            "✅ Socios5.zip está íntegro.\n",
            "✅ Socios6.zip está íntegro.\n",
            "✅ Socios7.zip está íntegro.\n",
            "✅ Socios8.zip está íntegro.\n",
            "✅ Socios9.zip está íntegro.\n",
            "\n",
            "🎉 Todos os arquivos ZIP estão íntegros!\n"
          ]
        }
      ]
    },
    {
      "cell_type": "markdown",
      "source": [
        "# **O código a serguir, faz a descompactação dos arquivos csv zipados, e salva na pasta de arquivos descompactados do Google Drive.**"
      ],
      "metadata": {
        "id": "sdchQsNWCO1B"
      }
    },
    {
      "cell_type": "code",
      "source": [
        "import zipfile\n",
        "import os\n",
        "import shutil\n",
        "\n",
        "# Diretórios\n",
        "zip_dir = '/content/drive/MyDrive/Projeto_ETL_Trust_Works/Dados_abertos/'\n",
        "output_dir = '/content/drive/MyDrive/Projeto_ETL_Trust_Works/Dados_abertos/descompactados/'\n",
        "\n",
        "# Passo 1: Remover todos os arquivos da pasta de saída\n",
        "if os.path.exists(output_dir):\n",
        "    shutil.rmtree(output_dir)  # Remove toda a pasta\n",
        "os.makedirs(output_dir, exist_ok=True)  # Recria a pasta vazia\n",
        "print(\"🗑️ Pasta de descompactação foi limpa.\")\n",
        "\n",
        "# Passo 2: Reextrair todos os arquivos ZIP\n",
        "zip_files = [f for f in os.listdir(zip_dir) if f.endswith('.zip')]\n",
        "\n",
        "for zip_file in zip_files:\n",
        "    zip_path = os.path.join(zip_dir, zip_file)\n",
        "\n",
        "    with zipfile.ZipFile(zip_path, 'r') as z:\n",
        "        z.extractall(output_dir)\n",
        "        print(f\"📂 Arquivos extraídos de {zip_file}\")\n",
        "\n",
        "print(\"\\n✅ Todos os arquivos foram reextraídos com sucesso!\")\n"
      ],
      "metadata": {
        "colab": {
          "base_uri": "https://localhost:8080/"
        },
        "id": "sX4reNWc36mm",
        "outputId": "d87d8368-8043-426c-f8cb-a407989fa067"
      },
      "execution_count": null,
      "outputs": [
        {
          "output_type": "stream",
          "name": "stdout",
          "text": [
            "🗑️ Pasta de descompactação foi limpa.\n",
            "📂 Arquivos extraídos de Cnaes.zip\n",
            "📂 Arquivos extraídos de Empresas0.zip\n",
            "📂 Arquivos extraídos de Empresas1.zip\n",
            "📂 Arquivos extraídos de Empresas2.zip\n",
            "📂 Arquivos extraídos de Empresas3.zip\n",
            "📂 Arquivos extraídos de Empresas4.zip\n",
            "📂 Arquivos extraídos de Empresas5.zip\n",
            "📂 Arquivos extraídos de Empresas6.zip\n",
            "📂 Arquivos extraídos de Empresas7.zip\n",
            "📂 Arquivos extraídos de Empresas8.zip\n",
            "📂 Arquivos extraídos de Empresas9.zip\n",
            "📂 Arquivos extraídos de Estabelecimentos0.zip\n",
            "📂 Arquivos extraídos de Estabelecimentos1.zip\n",
            "📂 Arquivos extraídos de Estabelecimentos2.zip\n",
            "📂 Arquivos extraídos de Estabelecimentos3.zip\n",
            "📂 Arquivos extraídos de Estabelecimentos4.zip\n",
            "📂 Arquivos extraídos de Estabelecimentos5.zip\n",
            "📂 Arquivos extraídos de Estabelecimentos6.zip\n",
            "📂 Arquivos extraídos de Estabelecimentos7.zip\n",
            "📂 Arquivos extraídos de Estabelecimentos8.zip\n",
            "📂 Arquivos extraídos de Estabelecimentos9.zip\n",
            "📂 Arquivos extraídos de Motivos.zip\n",
            "📂 Arquivos extraídos de Municipios.zip\n",
            "📂 Arquivos extraídos de Naturezas.zip\n",
            "📂 Arquivos extraídos de Paises.zip\n",
            "📂 Arquivos extraídos de Qualificacoes.zip\n",
            "📂 Arquivos extraídos de Simples.zip\n",
            "📂 Arquivos extraídos de Socios0.zip\n",
            "📂 Arquivos extraídos de Socios1.zip\n",
            "📂 Arquivos extraídos de Socios2.zip\n",
            "📂 Arquivos extraídos de Socios3.zip\n",
            "📂 Arquivos extraídos de Socios4.zip\n",
            "📂 Arquivos extraídos de Socios5.zip\n",
            "📂 Arquivos extraídos de Socios6.zip\n",
            "📂 Arquivos extraídos de Socios7.zip\n",
            "📂 Arquivos extraídos de Socios8.zip\n",
            "📂 Arquivos extraídos de Socios9.zip\n",
            "\n",
            "✅ Todos os arquivos foram reextraídos com sucesso!\n"
          ]
        }
      ]
    },
    {
      "cell_type": "markdown",
      "source": [
        "# **O código a seguir, testa os arquivos CSV já descompactado e verifica se existe algum foi corrompido durante o processo de descompactação. Essa etapa é importante para que não tenha problema no futuro durante a manipulação e transformação dos dados.**"
      ],
      "metadata": {
        "id": "TgUPEA1YCqGg"
      }
    },
    {
      "cell_type": "code",
      "source": [
        "# Testando arquivos csv (se há arquivo corrompido)\n",
        "\n",
        "def testar_leitura_csvs_pyspark(output_dir):\n",
        "    \"\"\"Testa a leitura dos arquivos CSV extraídos usando PySpark.\"\"\"\n",
        "    spark = SparkSession.builder.appName(\"VerificacaoCSV\").getOrCreate()\n",
        "\n",
        "    csv_files = [f for f in os.listdir(output_dir) if f.endswith('.csv')]\n",
        "    arquivos_com_erro = []\n",
        "\n",
        "    for csv_file in csv_files:\n",
        "        file_path = os.path.join(output_dir, csv_file)\n",
        "        try:\n",
        "            df = spark.read.option(\"header\", \"true\").option(\"sep\", \";\").csv(file_path)\n",
        "            df.limit(5).show()  # Exibe as primeiras 5 linhas para verificar\n",
        "            print(f\"✅ {csv_file} lido com sucesso com PySpark.\")\n",
        "        except Exception as e:\n",
        "            print(f\"❌ Erro ao ler {csv_file} com PySpark: {e}\")\n",
        "            arquivos_com_erro.append(csv_file)\n",
        "\n",
        "    if arquivos_com_erro:\n",
        "        print(\"\\n🚨 Arquivos CSV com erro:\")\n",
        "        for arq in arquivos_com_erro:\n",
        "            print(f\"  - {arq}\")\n",
        "        print(\"🔴 Sugestão: Reextrair esses arquivos ou verificar o encoding.\")\n",
        "    else:\n",
        "        print(\"\\n🎉 Todos os arquivos CSV foram lidos com sucesso usando PySpark!\")\n",
        "\n",
        "# Substituir a chamada:\n",
        "print(\"\\n📊 Etapa 4: Testando leitura dos arquivos CSV extraídos com PySpark...\")\n",
        "testar_leitura_csvs_pyspark(output_dir)\n"
      ],
      "metadata": {
        "colab": {
          "base_uri": "https://localhost:8080/"
        },
        "id": "4jtaXZtT6bkJ",
        "outputId": "904e281a-1214-46c5-99b8-dacd6ae9327d"
      },
      "execution_count": null,
      "outputs": [
        {
          "output_type": "stream",
          "name": "stdout",
          "text": [
            "\n",
            "📊 Etapa 4: Testando leitura dos arquivos CSV extraídos com PySpark...\n",
            "\n",
            "🎉 Todos os arquivos CSV foram lidos com sucesso usando PySpark!\n"
          ]
        }
      ]
    },
    {
      "cell_type": "code",
      "source": [
        "# Verifica se os arquivos realmente não estão no Drive\n",
        "\n",
        "output_dir = '/content/drive/MyDrive/Projeto_ETL_Trust_Works/Dados_abertos/descompactados/'\n",
        "arquivos_no_drive = os.listdir(output_dir)\n",
        "\n",
        "# Mostrar todos os arquivos extraídos\n",
        "print(f\"Total de arquivos descompactados: {len(arquivos_no_drive)}\")\n",
        "print(\"Arquivos extraídos:\")\n",
        "print(arquivos_no_drive)\n"
      ],
      "metadata": {
        "id": "QJtYwyMxmKpT",
        "outputId": "6fbdb530-cd48-482e-f011-16c312c5b122",
        "colab": {
          "base_uri": "https://localhost:8080/"
        }
      },
      "execution_count": null,
      "outputs": [
        {
          "output_type": "stream",
          "name": "stdout",
          "text": [
            "Total de arquivos descompactados: 37\n",
            "Arquivos extraídos:\n",
            "['F.K03200$Z.D50111.CNAECSV', 'K3241.K03200Y0.D50111.EMPRECSV', 'K3241.K03200Y1.D50111.EMPRECSV', 'K3241.K03200Y2.D50111.EMPRECSV', 'K3241.K03200Y3.D50111.EMPRECSV', 'K3241.K03200Y4.D50111.EMPRECSV', 'K3241.K03200Y5.D50111.EMPRECSV', 'K3241.K03200Y6.D50111.EMPRECSV', 'K3241.K03200Y7.D50111.EMPRECSV', 'K3241.K03200Y8.D50111.EMPRECSV', 'K3241.K03200Y9.D50111.EMPRECSV', 'K3241.K03200Y0.D50111.ESTABELE', 'K3241.K03200Y1.D50111.ESTABELE', 'K3241.K03200Y2.D50111.ESTABELE', 'K3241.K03200Y3.D50111.ESTABELE', 'K3241.K03200Y4.D50111.ESTABELE', 'K3241.K03200Y5.D50111.ESTABELE', 'K3241.K03200Y6.D50111.ESTABELE', 'K3241.K03200Y7.D50111.ESTABELE', 'K3241.K03200Y8.D50111.ESTABELE', 'K3241.K03200Y9.D50111.ESTABELE', 'F.K03200$Z.D50111.MOTICSV', 'F.K03200$Z.D50111.MUNICCSV', 'F.K03200$Z.D50111.NATJUCSV', 'F.K03200$Z.D50111.PAISCSV', 'F.K03200$Z.D50111.QUALSCSV', 'F.K03200$W.SIMPLES.CSV.D50111', 'K3241.K03200Y0.D50111.SOCIOCSV', 'K3241.K03200Y1.D50111.SOCIOCSV', 'K3241.K03200Y2.D50111.SOCIOCSV', 'K3241.K03200Y3.D50111.SOCIOCSV', 'K3241.K03200Y4.D50111.SOCIOCSV', 'K3241.K03200Y5.D50111.SOCIOCSV', 'K3241.K03200Y6.D50111.SOCIOCSV', 'K3241.K03200Y7.D50111.SOCIOCSV', 'K3241.K03200Y8.D50111.SOCIOCSV', 'K3241.K03200Y9.D50111.SOCIOCSV']\n"
          ]
        }
      ]
    },
    {
      "cell_type": "markdown",
      "source": [
        "# ***Leitura inicial dos dados com Spark apenas para verificar se os arquivos estão sendo lidos. ***"
      ],
      "metadata": {
        "id": "3bhsNxh-uye_"
      }
    },
    {
      "cell_type": "code",
      "source": [
        "# Definir o caminho do arquivo CSV dentro da pasta descompactada\n",
        "csv_path = \"/content/drive/MyDrive/Projeto_ETL_Trust_Works/Dados_abertos/descompactados/K3241.K03200Y0.D50111.EMPRECSV\"\n",
        "\n",
        "# Carregar o arquivo CSV no PySpark DataFrame\n",
        "df = spark.read.csv(csv_path, header=True, inferSchema=True, sep=\";\", encoding=\"latin1\")\n"
      ],
      "metadata": {
        "id": "1oF6aIacmKsS"
      },
      "execution_count": null,
      "outputs": []
    },
    {
      "cell_type": "code",
      "source": [
        "df.printSchema()  # Similar ao info()\n",
        "df.describe().show()  # Estatísticas básicas (média, min, max)\n"
      ],
      "metadata": {
        "id": "-A6BKjQSmKu6",
        "colab": {
          "base_uri": "https://localhost:8080/"
        },
        "outputId": "85af0c21-9b78-4fbc-ec2e-2fba2a363eb6"
      },
      "execution_count": null,
      "outputs": [
        {
          "output_type": "stream",
          "name": "stdout",
          "text": [
            "root\n",
            " |-- 41273592: integer (nullable = true)\n",
            " |-- 41.273.592 HELIO DE JESUS PEREIRA: string (nullable = true)\n",
            " |-- 2135: integer (nullable = true)\n",
            " |-- 50: integer (nullable = true)\n",
            " |-- 30000,00: string (nullable = true)\n",
            " |-- 01: integer (nullable = true)\n",
            " |-- _c6: string (nullable = true)\n",
            "\n",
            "+-------+-------------------+---------------------------------+------------------+-----------------+---------------+------------------+--------------------+\n",
            "|summary|           41273592|41.273.592 HELIO DE JESUS PEREIRA|              2135|               50|       30000,00|                01|                 _c6|\n",
            "+-------+-------------------+---------------------------------+------------------+-----------------+---------------+------------------+--------------------+\n",
            "|  count|           20506191|                         20506191|          20506191|         20506191|       20506191|          20491485|               13040|\n",
            "|   mean|5.454589790020087E7|              7.143568981818181E7|2212.3531658804895|48.52707048325065|           null|1.9119573325212886|                null|\n",
            "| stddev|1.210087136891729E7|             1.7737145693898413E8|412.18630313890026|6.747816734995975|           null|1.6432826373897211|                null|\n",
            "|    min|           41273593|                              ...|              1015|                0|           0,00|                 1|ABADIA DE GOIAS - GO|\n",
            "|    max|           99017782|             | EXCLAMACAO INDU...|              8885|               65|999999999999,00|                 5|         ZORTEA - SC|\n",
            "+-------+-------------------+---------------------------------+------------------+-----------------+---------------+------------------+--------------------+\n",
            "\n"
          ]
        }
      ]
    },
    {
      "cell_type": "code",
      "source": [
        "df.show(5)  # Similar ao head(), exibe as 5 primeiras linhas\n",
        "\n"
      ],
      "metadata": {
        "colab": {
          "base_uri": "https://localhost:8080/"
        },
        "id": "tXVlGjtpxEeK",
        "outputId": "9c7b38e5-3d49-47d7-b0cc-192865520f89"
      },
      "execution_count": null,
      "outputs": [
        {
          "output_type": "stream",
          "name": "stdout",
          "text": [
            "+--------+---------------------------------+----+---+--------+---+----+\n",
            "|41273592|41.273.592 HELIO DE JESUS PEREIRA|2135| 50|30000,00| 01| _c6|\n",
            "+--------+---------------------------------+----+---+--------+---+----+\n",
            "|41273593|             JULIO CESAR NUNES...|2135| 50| 3000,00|  1|null|\n",
            "|41273594|             OZINETE DELFINO C...|2135| 50| 5000,00|  1|null|\n",
            "|41273595|             GILVAN PEREIRA XA...|2135| 50| 3000,00|  1|null|\n",
            "|41273596|             RODRIGO JOSE FERR...|2135| 50|10000,00|  1|null|\n",
            "|41273597|             PACHARRUS QUEIROZ...|2135| 50| 5000,00|  1|null|\n",
            "+--------+---------------------------------+----+---+--------+---+----+\n",
            "only showing top 5 rows\n",
            "\n"
          ]
        }
      ]
    },
    {
      "cell_type": "code",
      "source": [
        "df.take(5)  # Retorna as 5 primeiras linhas como lista de objetos"
      ],
      "metadata": {
        "colab": {
          "base_uri": "https://localhost:8080/"
        },
        "id": "biAtRRAhxHex",
        "outputId": "8eb65075-3da4-441e-87bf-0b1f3ede2a2f"
      },
      "execution_count": null,
      "outputs": [
        {
          "output_type": "execute_result",
          "data": {
            "text/plain": [
              "[Row(41273592=41273593, 41.273.592 HELIO DE JESUS PEREIRA='JULIO CESAR NUNES 39611300867', 2135=2135, 50=50, 30000,00='3000,00', 01=1, _c6=None),\n",
              " Row(41273592=41273594, 41.273.592 HELIO DE JESUS PEREIRA='OZINETE DELFINO CALDAS 41608224287', 2135=2135, 50=50, 30000,00='5000,00', 01=1, _c6=None),\n",
              " Row(41273592=41273595, 41.273.592 HELIO DE JESUS PEREIRA='GILVAN PEREIRA XAVIER 01363090380', 2135=2135, 50=50, 30000,00='3000,00', 01=1, _c6=None),\n",
              " Row(41273592=41273596, 41.273.592 HELIO DE JESUS PEREIRA='RODRIGO JOSE FERREIRA LOPES 05010247941', 2135=2135, 50=50, 30000,00='10000,00', 01=1, _c6=None),\n",
              " Row(41273592=41273597, 41.273.592 HELIO DE JESUS PEREIRA='PACHARRUS QUEIROZ DA COSTA E SILVA 03618384335', 2135=2135, 50=50, 30000,00='5000,00', 01=1, _c6=None)]"
            ]
          },
          "metadata": {},
          "execution_count": 15
        }
      ]
    }
  ]
}