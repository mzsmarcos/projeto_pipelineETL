{
  "nbformat": 4,
  "nbformat_minor": 0,
  "metadata": {
    "colab": {
      "provenance": [],
      "authorship_tag": "ABX9TyPXPylY2V70NDhKNRCHV5T2",
      "include_colab_link": true
    },
    "kernelspec": {
      "name": "python3",
      "display_name": "Python 3"
    },
    "language_info": {
      "name": "python"
    }
  },
  "cells": [
    {
      "cell_type": "markdown",
      "metadata": {
        "id": "view-in-github",
        "colab_type": "text"
      },
      "source": [
        "<a href=\"https://colab.research.google.com/github/mzsmarcos/projeto_pipelineETL/blob/main/Etapa_3_An%C3%A1lise_Nulos_Ausentes_Teste_Jun%C3%A7%C3%A3o.ipynb\" target=\"_parent\"><img src=\"https://colab.research.google.com/assets/colab-badge.svg\" alt=\"Open In Colab\"/></a>"
      ]
    },
    {
      "cell_type": "markdown",
      "source": [
        "Configuração do PySpark -  instalar o PySpark no Colab"
      ],
      "metadata": {
        "id": "nigaxeaJkMCh"
      }
    },
    {
      "cell_type": "code",
      "execution_count": null,
      "metadata": {
        "colab": {
          "base_uri": "https://localhost:8080/"
        },
        "id": "WB8LpMTWkLSp",
        "outputId": "22d77755-06a7-4b9c-e88e-384f83708891"
      },
      "outputs": [
        {
          "output_type": "stream",
          "name": "stdout",
          "text": [
            "Requirement already satisfied: pyspark in /usr/local/lib/python3.11/dist-packages (3.5.5)\n",
            "Requirement already satisfied: py4j==0.10.9.7 in /usr/local/lib/python3.11/dist-packages (from pyspark) (0.10.9.7)\n"
          ]
        }
      ],
      "source": [
        "# Instalar o PySpark\n",
        "!pip install pyspark\n"
      ]
    },
    {
      "cell_type": "markdown",
      "source": [
        "Executar a instalação do PySpark e configurar o ambiente Spark.\n",
        "\n",
        "Isso é feito definindo algumas variáveis de ambiente para garantir que o Spark funcione corretamente no Colab."
      ],
      "metadata": {
        "id": "3h6QW5hCk3Oe"
      }
    },
    {
      "cell_type": "code",
      "source": [
        "# Instalar Java 8\n",
        "!apt-get install openjdk-8-jdk -y\n",
        "\n",
        "# Baixar o Apache Spark\n",
        "!wget -q https://archive.apache.org/dist/spark/spark-3.5.0/spark-3.5.0-bin-hadoop3.tgz\n",
        "\n",
        "# Extrair o Apache Spark\n",
        "!tar xf spark-3.5.0-bin-hadoop3.tgz\n",
        "\n",
        "# Definir variáveis de ambiente\n",
        "import os # Módulo para interagir com o sistema operacional, como manipulação de arquivos e diretórios\n",
        "os.environ[\"JAVA_HOME\"] = \"/usr/lib/jvm/java-8-openjdk-amd64\"\n",
        "os.environ[\"SPARK_HOME\"] = \"/content/spark-3.5.0-bin-hadoop3\"\n",
        "\n",
        "# Instalar as bibliotecas PySpark e Findspark\n",
        "!pip install -q pyspark==3.5.0 findspark\n",
        "\n"
      ],
      "metadata": {
        "id": "p9L1Vi5qkrn1",
        "colab": {
          "base_uri": "https://localhost:8080/"
        },
        "outputId": "c1aaeb54-6d37-4098-a10d-72389f471fe2",
        "collapsed": true
      },
      "execution_count": null,
      "outputs": [
        {
          "output_type": "stream",
          "name": "stdout",
          "text": [
            "Reading package lists... Done\n",
            "Building dependency tree... Done\n",
            "Reading state information... Done\n",
            "The following additional packages will be installed:\n",
            "  fonts-dejavu-core fonts-dejavu-extra libatk-wrapper-java libatk-wrapper-java-jni libfontenc1\n",
            "  libgail-common libgail18 libgtk2.0-0 libgtk2.0-bin libgtk2.0-common libice-dev librsvg2-common\n",
            "  libsm-dev libxkbfile1 libxt-dev libxtst6 libxxf86dga1 openjdk-8-jdk-headless openjdk-8-jre\n",
            "  openjdk-8-jre-headless x11-utils\n",
            "Suggested packages:\n",
            "  gvfs libice-doc libsm-doc libxt-doc openjdk-8-demo openjdk-8-source visualvm libnss-mdns\n",
            "  fonts-nanum fonts-ipafont-gothic fonts-ipafont-mincho fonts-wqy-microhei fonts-wqy-zenhei\n",
            "  fonts-indic mesa-utils\n",
            "The following NEW packages will be installed:\n",
            "  fonts-dejavu-core fonts-dejavu-extra libatk-wrapper-java libatk-wrapper-java-jni libfontenc1\n",
            "  libgail-common libgail18 libgtk2.0-0 libgtk2.0-bin libgtk2.0-common libice-dev librsvg2-common\n",
            "  libsm-dev libxkbfile1 libxt-dev libxtst6 libxxf86dga1 openjdk-8-jdk openjdk-8-jdk-headless\n",
            "  openjdk-8-jre openjdk-8-jre-headless x11-utils\n",
            "0 upgraded, 22 newly installed, 0 to remove and 29 not upgraded.\n",
            "Need to get 50.1 MB of archives.\n",
            "After this operation, 169 MB of additional disk space will be used.\n",
            "Get:1 http://archive.ubuntu.com/ubuntu jammy/main amd64 fonts-dejavu-core all 2.37-2build1 [1,041 kB]\n",
            "Get:2 http://archive.ubuntu.com/ubuntu jammy/main amd64 fonts-dejavu-extra all 2.37-2build1 [2,041 kB]\n",
            "Get:3 http://archive.ubuntu.com/ubuntu jammy/main amd64 libfontenc1 amd64 1:1.1.4-1build3 [14.7 kB]\n",
            "Get:4 http://archive.ubuntu.com/ubuntu jammy/main amd64 libxkbfile1 amd64 1:1.1.0-1build3 [71.8 kB]\n",
            "Get:5 http://archive.ubuntu.com/ubuntu jammy/main amd64 libxtst6 amd64 2:1.2.3-1build4 [13.4 kB]\n",
            "Get:6 http://archive.ubuntu.com/ubuntu jammy/main amd64 libxxf86dga1 amd64 2:1.1.5-0ubuntu3 [12.6 kB]\n",
            "Get:7 http://archive.ubuntu.com/ubuntu jammy/main amd64 x11-utils amd64 7.7+5build2 [206 kB]\n",
            "Get:8 http://archive.ubuntu.com/ubuntu jammy/main amd64 libatk-wrapper-java all 0.38.0-5build1 [53.1 kB]\n",
            "Get:9 http://archive.ubuntu.com/ubuntu jammy/main amd64 libatk-wrapper-java-jni amd64 0.38.0-5build1 [49.0 kB]\n",
            "Get:10 http://archive.ubuntu.com/ubuntu jammy-updates/main amd64 libgtk2.0-common all 2.24.33-2ubuntu2.1 [125 kB]\n",
            "Get:11 http://archive.ubuntu.com/ubuntu jammy-updates/main amd64 libgtk2.0-0 amd64 2.24.33-2ubuntu2.1 [2,038 kB]\n",
            "Get:12 http://archive.ubuntu.com/ubuntu jammy-updates/main amd64 libgail18 amd64 2.24.33-2ubuntu2.1 [15.9 kB]\n",
            "Get:13 http://archive.ubuntu.com/ubuntu jammy-updates/main amd64 libgail-common amd64 2.24.33-2ubuntu2.1 [132 kB]\n",
            "Get:14 http://archive.ubuntu.com/ubuntu jammy-updates/main amd64 libgtk2.0-bin amd64 2.24.33-2ubuntu2.1 [7,936 B]\n",
            "Get:15 http://archive.ubuntu.com/ubuntu jammy/main amd64 libice-dev amd64 2:1.0.10-1build2 [51.4 kB]\n",
            "Get:16 http://archive.ubuntu.com/ubuntu jammy-updates/main amd64 librsvg2-common amd64 2.52.5+dfsg-3ubuntu0.2 [17.7 kB]\n",
            "Get:17 http://archive.ubuntu.com/ubuntu jammy/main amd64 libsm-dev amd64 2:1.2.3-1build2 [18.1 kB]\n",
            "Get:18 http://archive.ubuntu.com/ubuntu jammy/main amd64 libxt-dev amd64 1:1.2.1-1 [396 kB]\n",
            "Get:19 http://archive.ubuntu.com/ubuntu jammy-updates/universe amd64 openjdk-8-jre-headless amd64 8u442-b06~us1-0ubuntu1~22.04 [30.8 MB]\n",
            "Get:20 http://archive.ubuntu.com/ubuntu jammy-updates/universe amd64 openjdk-8-jre amd64 8u442-b06~us1-0ubuntu1~22.04 [75.3 kB]\n",
            "Get:21 http://archive.ubuntu.com/ubuntu jammy-updates/universe amd64 openjdk-8-jdk-headless amd64 8u442-b06~us1-0ubuntu1~22.04 [8,864 kB]\n",
            "Get:22 http://archive.ubuntu.com/ubuntu jammy-updates/universe amd64 openjdk-8-jdk amd64 8u442-b06~us1-0ubuntu1~22.04 [4,077 kB]\n",
            "Fetched 50.1 MB in 2s (21.6 MB/s)\n",
            "Selecting previously unselected package fonts-dejavu-core.\n",
            "(Reading database ... 125044 files and directories currently installed.)\n",
            "Preparing to unpack .../00-fonts-dejavu-core_2.37-2build1_all.deb ...\n",
            "Unpacking fonts-dejavu-core (2.37-2build1) ...\n",
            "Selecting previously unselected package fonts-dejavu-extra.\n",
            "Preparing to unpack .../01-fonts-dejavu-extra_2.37-2build1_all.deb ...\n",
            "Unpacking fonts-dejavu-extra (2.37-2build1) ...\n",
            "Selecting previously unselected package libfontenc1:amd64.\n",
            "Preparing to unpack .../02-libfontenc1_1%3a1.1.4-1build3_amd64.deb ...\n",
            "Unpacking libfontenc1:amd64 (1:1.1.4-1build3) ...\n",
            "Selecting previously unselected package libxkbfile1:amd64.\n",
            "Preparing to unpack .../03-libxkbfile1_1%3a1.1.0-1build3_amd64.deb ...\n",
            "Unpacking libxkbfile1:amd64 (1:1.1.0-1build3) ...\n",
            "Selecting previously unselected package libxtst6:amd64.\n",
            "Preparing to unpack .../04-libxtst6_2%3a1.2.3-1build4_amd64.deb ...\n",
            "Unpacking libxtst6:amd64 (2:1.2.3-1build4) ...\n",
            "Selecting previously unselected package libxxf86dga1:amd64.\n",
            "Preparing to unpack .../05-libxxf86dga1_2%3a1.1.5-0ubuntu3_amd64.deb ...\n",
            "Unpacking libxxf86dga1:amd64 (2:1.1.5-0ubuntu3) ...\n",
            "Selecting previously unselected package x11-utils.\n",
            "Preparing to unpack .../06-x11-utils_7.7+5build2_amd64.deb ...\n",
            "Unpacking x11-utils (7.7+5build2) ...\n",
            "Selecting previously unselected package libatk-wrapper-java.\n",
            "Preparing to unpack .../07-libatk-wrapper-java_0.38.0-5build1_all.deb ...\n",
            "Unpacking libatk-wrapper-java (0.38.0-5build1) ...\n",
            "Selecting previously unselected package libatk-wrapper-java-jni:amd64.\n",
            "Preparing to unpack .../08-libatk-wrapper-java-jni_0.38.0-5build1_amd64.deb ...\n",
            "Unpacking libatk-wrapper-java-jni:amd64 (0.38.0-5build1) ...\n",
            "Selecting previously unselected package libgtk2.0-common.\n",
            "Preparing to unpack .../09-libgtk2.0-common_2.24.33-2ubuntu2.1_all.deb ...\n",
            "Unpacking libgtk2.0-common (2.24.33-2ubuntu2.1) ...\n",
            "Selecting previously unselected package libgtk2.0-0:amd64.\n",
            "Preparing to unpack .../10-libgtk2.0-0_2.24.33-2ubuntu2.1_amd64.deb ...\n",
            "Unpacking libgtk2.0-0:amd64 (2.24.33-2ubuntu2.1) ...\n",
            "Selecting previously unselected package libgail18:amd64.\n",
            "Preparing to unpack .../11-libgail18_2.24.33-2ubuntu2.1_amd64.deb ...\n",
            "Unpacking libgail18:amd64 (2.24.33-2ubuntu2.1) ...\n",
            "Selecting previously unselected package libgail-common:amd64.\n",
            "Preparing to unpack .../12-libgail-common_2.24.33-2ubuntu2.1_amd64.deb ...\n",
            "Unpacking libgail-common:amd64 (2.24.33-2ubuntu2.1) ...\n",
            "Selecting previously unselected package libgtk2.0-bin.\n",
            "Preparing to unpack .../13-libgtk2.0-bin_2.24.33-2ubuntu2.1_amd64.deb ...\n",
            "Unpacking libgtk2.0-bin (2.24.33-2ubuntu2.1) ...\n",
            "Selecting previously unselected package libice-dev:amd64.\n",
            "Preparing to unpack .../14-libice-dev_2%3a1.0.10-1build2_amd64.deb ...\n",
            "Unpacking libice-dev:amd64 (2:1.0.10-1build2) ...\n",
            "Selecting previously unselected package librsvg2-common:amd64.\n",
            "Preparing to unpack .../15-librsvg2-common_2.52.5+dfsg-3ubuntu0.2_amd64.deb ...\n",
            "Unpacking librsvg2-common:amd64 (2.52.5+dfsg-3ubuntu0.2) ...\n",
            "Selecting previously unselected package libsm-dev:amd64.\n",
            "Preparing to unpack .../16-libsm-dev_2%3a1.2.3-1build2_amd64.deb ...\n",
            "Unpacking libsm-dev:amd64 (2:1.2.3-1build2) ...\n",
            "Selecting previously unselected package libxt-dev:amd64.\n",
            "Preparing to unpack .../17-libxt-dev_1%3a1.2.1-1_amd64.deb ...\n",
            "Unpacking libxt-dev:amd64 (1:1.2.1-1) ...\n",
            "Selecting previously unselected package openjdk-8-jre-headless:amd64.\n",
            "Preparing to unpack .../18-openjdk-8-jre-headless_8u442-b06~us1-0ubuntu1~22.04_amd64.deb ...\n",
            "Unpacking openjdk-8-jre-headless:amd64 (8u442-b06~us1-0ubuntu1~22.04) ...\n",
            "Selecting previously unselected package openjdk-8-jre:amd64.\n",
            "Preparing to unpack .../19-openjdk-8-jre_8u442-b06~us1-0ubuntu1~22.04_amd64.deb ...\n",
            "Unpacking openjdk-8-jre:amd64 (8u442-b06~us1-0ubuntu1~22.04) ...\n",
            "Selecting previously unselected package openjdk-8-jdk-headless:amd64.\n",
            "Preparing to unpack .../20-openjdk-8-jdk-headless_8u442-b06~us1-0ubuntu1~22.04_amd64.deb ...\n",
            "Unpacking openjdk-8-jdk-headless:amd64 (8u442-b06~us1-0ubuntu1~22.04) ...\n",
            "Selecting previously unselected package openjdk-8-jdk:amd64.\n",
            "Preparing to unpack .../21-openjdk-8-jdk_8u442-b06~us1-0ubuntu1~22.04_amd64.deb ...\n",
            "Unpacking openjdk-8-jdk:amd64 (8u442-b06~us1-0ubuntu1~22.04) ...\n",
            "Setting up libice-dev:amd64 (2:1.0.10-1build2) ...\n",
            "Setting up libsm-dev:amd64 (2:1.2.3-1build2) ...\n",
            "Setting up libxtst6:amd64 (2:1.2.3-1build4) ...\n",
            "Setting up libxxf86dga1:amd64 (2:1.1.5-0ubuntu3) ...\n",
            "Setting up libfontenc1:amd64 (1:1.1.4-1build3) ...\n",
            "Setting up libxt-dev:amd64 (1:1.2.1-1) ...\n",
            "Setting up openjdk-8-jre-headless:amd64 (8u442-b06~us1-0ubuntu1~22.04) ...\n",
            "update-alternatives: using /usr/lib/jvm/java-8-openjdk-amd64/jre/bin/orbd to provide /usr/bin/orbd (orbd) in auto mode\n",
            "update-alternatives: using /usr/lib/jvm/java-8-openjdk-amd64/jre/bin/servertool to provide /usr/bin/servertool (servertool) in auto mode\n",
            "update-alternatives: using /usr/lib/jvm/java-8-openjdk-amd64/jre/bin/tnameserv to provide /usr/bin/tnameserv (tnameserv) in auto mode\n",
            "Setting up fonts-dejavu-core (2.37-2build1) ...\n",
            "Setting up librsvg2-common:amd64 (2.52.5+dfsg-3ubuntu0.2) ...\n",
            "Setting up fonts-dejavu-extra (2.37-2build1) ...\n",
            "Setting up libgtk2.0-common (2.24.33-2ubuntu2.1) ...\n",
            "Setting up libxkbfile1:amd64 (1:1.1.0-1build3) ...\n",
            "Setting up libgtk2.0-0:amd64 (2.24.33-2ubuntu2.1) ...\n",
            "Setting up openjdk-8-jdk-headless:amd64 (8u442-b06~us1-0ubuntu1~22.04) ...\n",
            "update-alternatives: using /usr/lib/jvm/java-8-openjdk-amd64/bin/clhsdb to provide /usr/bin/clhsdb (clhsdb) in auto mode\n",
            "update-alternatives: using /usr/lib/jvm/java-8-openjdk-amd64/bin/extcheck to provide /usr/bin/extcheck (extcheck) in auto mode\n",
            "update-alternatives: using /usr/lib/jvm/java-8-openjdk-amd64/bin/hsdb to provide /usr/bin/hsdb (hsdb) in auto mode\n",
            "update-alternatives: using /usr/lib/jvm/java-8-openjdk-amd64/bin/idlj to provide /usr/bin/idlj (idlj) in auto mode\n",
            "update-alternatives: using /usr/lib/jvm/java-8-openjdk-amd64/bin/javah to provide /usr/bin/javah (javah) in auto mode\n",
            "update-alternatives: using /usr/lib/jvm/java-8-openjdk-amd64/bin/jhat to provide /usr/bin/jhat (jhat) in auto mode\n",
            "update-alternatives: using /usr/lib/jvm/java-8-openjdk-amd64/bin/jsadebugd to provide /usr/bin/jsadebugd (jsadebugd) in auto mode\n",
            "update-alternatives: using /usr/lib/jvm/java-8-openjdk-amd64/bin/native2ascii to provide /usr/bin/native2ascii (native2ascii) in auto mode\n",
            "update-alternatives: using /usr/lib/jvm/java-8-openjdk-amd64/bin/schemagen to provide /usr/bin/schemagen (schemagen) in auto mode\n",
            "update-alternatives: using /usr/lib/jvm/java-8-openjdk-amd64/bin/wsgen to provide /usr/bin/wsgen (wsgen) in auto mode\n",
            "update-alternatives: using /usr/lib/jvm/java-8-openjdk-amd64/bin/wsimport to provide /usr/bin/wsimport (wsimport) in auto mode\n",
            "update-alternatives: using /usr/lib/jvm/java-8-openjdk-amd64/bin/xjc to provide /usr/bin/xjc (xjc) in auto mode\n",
            "Setting up libgail18:amd64 (2.24.33-2ubuntu2.1) ...\n",
            "Setting up libgtk2.0-bin (2.24.33-2ubuntu2.1) ...\n",
            "Setting up x11-utils (7.7+5build2) ...\n",
            "Setting up libatk-wrapper-java (0.38.0-5build1) ...\n",
            "Setting up libgail-common:amd64 (2.24.33-2ubuntu2.1) ...\n",
            "Setting up libatk-wrapper-java-jni:amd64 (0.38.0-5build1) ...\n",
            "Setting up openjdk-8-jre:amd64 (8u442-b06~us1-0ubuntu1~22.04) ...\n",
            "update-alternatives: using /usr/lib/jvm/java-8-openjdk-amd64/jre/bin/policytool to provide /usr/bin/policytool (policytool) in auto mode\n",
            "Setting up openjdk-8-jdk:amd64 (8u442-b06~us1-0ubuntu1~22.04) ...\n",
            "update-alternatives: using /usr/lib/jvm/java-8-openjdk-amd64/bin/appletviewer to provide /usr/bin/appletviewer (appletviewer) in auto mode\n",
            "update-alternatives: using /usr/lib/jvm/java-8-openjdk-amd64/bin/jconsole to provide /usr/bin/jconsole (jconsole) in auto mode\n",
            "Processing triggers for fontconfig (2.13.1-4.2ubuntu5) ...\n",
            "Processing triggers for hicolor-icon-theme (0.17-2) ...\n",
            "Processing triggers for libc-bin (2.35-0ubuntu3.8) ...\n",
            "/sbin/ldconfig.real: /usr/local/lib/libtcm_debug.so.1 is not a symbolic link\n",
            "\n",
            "/sbin/ldconfig.real: /usr/local/lib/libtbbbind.so.3 is not a symbolic link\n",
            "\n",
            "/sbin/ldconfig.real: /usr/local/lib/libtbbmalloc_proxy.so.2 is not a symbolic link\n",
            "\n",
            "/sbin/ldconfig.real: /usr/local/lib/libtbb.so.12 is not a symbolic link\n",
            "\n",
            "/sbin/ldconfig.real: /usr/local/lib/libtbbmalloc.so.2 is not a symbolic link\n",
            "\n",
            "/sbin/ldconfig.real: /usr/local/lib/libhwloc.so.15 is not a symbolic link\n",
            "\n",
            "/sbin/ldconfig.real: /usr/local/lib/libtcm.so.1 is not a symbolic link\n",
            "\n",
            "/sbin/ldconfig.real: /usr/local/lib/libur_adapter_opencl.so.0 is not a symbolic link\n",
            "\n",
            "/sbin/ldconfig.real: /usr/local/lib/libur_loader.so.0 is not a symbolic link\n",
            "\n",
            "/sbin/ldconfig.real: /usr/local/lib/libtbbbind_2_0.so.3 is not a symbolic link\n",
            "\n",
            "/sbin/ldconfig.real: /usr/local/lib/libtbbbind_2_5.so.3 is not a symbolic link\n",
            "\n",
            "/sbin/ldconfig.real: /usr/local/lib/libumf.so.0 is not a symbolic link\n",
            "\n",
            "/sbin/ldconfig.real: /usr/local/lib/libur_adapter_level_zero.so.0 is not a symbolic link\n",
            "\n",
            "Processing triggers for man-db (2.10.2-1) ...\n",
            "Processing triggers for libgdk-pixbuf-2.0-0:amd64 (2.42.8+dfsg-1ubuntu0.3) ...\n",
            "Processing triggers for mailcap (3.70+nmu1ubuntu1) ...\n",
            "\u001b[2K     \u001b[90m━━━━━━━━━━━━━━━━━━━━━━━━━━━━━━━━━━━━━━━━\u001b[0m \u001b[32m316.9/316.9 MB\u001b[0m \u001b[31m5.0 MB/s\u001b[0m eta \u001b[36m0:00:00\u001b[0m\n",
            "\u001b[?25h  Preparing metadata (setup.py) ... \u001b[?25l\u001b[?25hdone\n",
            "  Building wheel for pyspark (setup.py) ... \u001b[?25l\u001b[?25hdone\n"
          ]
        }
      ]
    },
    {
      "cell_type": "code",
      "source": [
        "# Verificar se o arquivo foi baixado\n",
        "!ls -lh\n"
      ],
      "metadata": {
        "colab": {
          "base_uri": "https://localhost:8080/"
        },
        "id": "y6I03-onnFfZ",
        "outputId": "f2861af2-5dce-4766-8b0d-b6ff666898ce"
      },
      "execution_count": null,
      "outputs": [
        {
          "output_type": "stream",
          "name": "stdout",
          "text": [
            "total 382M\n",
            "drwxr-xr-x  1 root root 4.0K Mar  6 14:29 sample_data\n",
            "drwxr-xr-x 13 1000 1000 4.0K Sep  9  2023 spark-3.5.0-bin-hadoop3\n",
            "-rw-r--r--  1 root root 382M Sep  9  2023 spark-3.5.0-bin-hadoop3.tgz\n"
          ]
        }
      ]
    },
    {
      "cell_type": "markdown",
      "source": [
        "Criar a Sessão Spark"
      ],
      "metadata": {
        "id": "DwyHmqlJ7y7o"
      }
    },
    {
      "cell_type": "code",
      "source": [
        "# Importar as bibliotecas\n",
        "import findspark # Permite localizar e configurar o Spark no ambiente, garantindo que o PySpark possa ser usado\n",
        "findspark.init(\"/content/spark-3.5.0-bin-hadoop3\")\n",
        "\n",
        "from pyspark.sql import SparkSession  # Importa a classe SparkSession para criar uma sessão do Spark e interagir com DataFrames\n",
        "\n",
        "# Criar a sessão Spark\n",
        "spark = SparkSession.builder \\\n",
        "    .appName(\"PySparkExample\") \\\n",
        "    .config(\"spark.driver.memory\", \"4g\") \\\n",
        "    .getOrCreate()\n",
        "\n",
        "# Verificar se a sessão foi criada corretamente\n",
        "print(\"Versão do Spark:\", spark.version)\n"
      ],
      "metadata": {
        "id": "6wKpgQX9-uVY",
        "colab": {
          "base_uri": "https://localhost:8080/"
        },
        "outputId": "9b4e8278-f0d3-42a8-dc1d-bb0a680783d8"
      },
      "execution_count": null,
      "outputs": [
        {
          "output_type": "stream",
          "name": "stdout",
          "text": [
            "Versão do Spark: 3.5.0\n"
          ]
        }
      ]
    },
    {
      "cell_type": "code",
      "source": [
        "# Importe das Bibliotecas\n",
        "from pyspark.sql import SparkSession\n",
        "import zipfile # Módulo para trabalhar com arquivos ZIP, permitindo compactação e extração de arquivos\n",
        "import os"
      ],
      "metadata": {
        "id": "xmt3_Tn6OnG7"
      },
      "execution_count": null,
      "outputs": []
    },
    {
      "cell_type": "code",
      "source": [
        "# Montando o Google Drive no Colab\n",
        "from google.colab import drive\n",
        "drive.mount('/content/drive')"
      ],
      "metadata": {
        "colab": {
          "base_uri": "https://localhost:8080/"
        },
        "id": "9trpJPzwPO-4",
        "outputId": "ef21e956-f6ad-4f6a-eb1d-26cf2eb334d1"
      },
      "execution_count": null,
      "outputs": [
        {
          "output_type": "stream",
          "name": "stdout",
          "text": [
            "Mounted at /content/drive\n"
          ]
        }
      ]
    },
    {
      "cell_type": "markdown",
      "source": [
        "**Mapeando lista dos arquivos descompactados**"
      ],
      "metadata": {
        "id": "3bhsNxh-uye_"
      }
    },
    {
      "cell_type": "code",
      "source": [
        "# Caminho para o diretório\n",
        "directory = '/content/drive/MyDrive/Projeto_ETL_Trust_Works/Dados_abertos/descompactados/'\n",
        "\n",
        "# Lista todos os arquivos no diretório\n",
        "files = [f for f in os.listdir(directory) if os.path.isfile(os.path.join(directory, f))]\n",
        "\n",
        "# Imprime o nome de cada arquivo\n",
        "for file in files:\n",
        "    print(file)\n",
        "\n",
        "files.sort()\n",
        "\n",
        "# Imprime o total de arquivos\n",
        "print(f\"Total de arquivos: {len(files)}\")"
      ],
      "metadata": {
        "id": "LD3385poP9G9",
        "colab": {
          "base_uri": "https://localhost:8080/"
        },
        "outputId": "6736feb5-8124-402c-f58c-16fe38d1eb05"
      },
      "execution_count": null,
      "outputs": [
        {
          "output_type": "stream",
          "name": "stdout",
          "text": [
            "F.K03200$Z.D50111.CNAECSV\n",
            "K3241.K03200Y0.D50111.EMPRECSV\n",
            "K3241.K03200Y1.D50111.EMPRECSV\n",
            "K3241.K03200Y2.D50111.EMPRECSV\n",
            "K3241.K03200Y3.D50111.EMPRECSV\n",
            "K3241.K03200Y4.D50111.EMPRECSV\n",
            "K3241.K03200Y5.D50111.EMPRECSV\n",
            "K3241.K03200Y6.D50111.EMPRECSV\n",
            "K3241.K03200Y7.D50111.EMPRECSV\n",
            "K3241.K03200Y8.D50111.EMPRECSV\n",
            "K3241.K03200Y9.D50111.EMPRECSV\n",
            "K3241.K03200Y0.D50111.ESTABELE\n",
            "K3241.K03200Y1.D50111.ESTABELE\n",
            "K3241.K03200Y2.D50111.ESTABELE\n",
            "K3241.K03200Y3.D50111.ESTABELE\n",
            "K3241.K03200Y4.D50111.ESTABELE\n",
            "K3241.K03200Y5.D50111.ESTABELE\n",
            "K3241.K03200Y6.D50111.ESTABELE\n",
            "K3241.K03200Y7.D50111.ESTABELE\n",
            "K3241.K03200Y8.D50111.ESTABELE\n",
            "K3241.K03200Y9.D50111.ESTABELE\n",
            "F.K03200$Z.D50111.MOTICSV\n",
            "F.K03200$Z.D50111.MUNICCSV\n",
            "F.K03200$Z.D50111.NATJUCSV\n",
            "F.K03200$Z.D50111.PAISCSV\n",
            "F.K03200$Z.D50111.QUALSCSV\n",
            "F.K03200$W.SIMPLES.CSV.D50111\n",
            "K3241.K03200Y0.D50111.SOCIOCSV\n",
            "K3241.K03200Y1.D50111.SOCIOCSV\n",
            "K3241.K03200Y2.D50111.SOCIOCSV\n",
            "K3241.K03200Y3.D50111.SOCIOCSV\n",
            "K3241.K03200Y4.D50111.SOCIOCSV\n",
            "K3241.K03200Y5.D50111.SOCIOCSV\n",
            "K3241.K03200Y6.D50111.SOCIOCSV\n",
            "K3241.K03200Y7.D50111.SOCIOCSV\n",
            "K3241.K03200Y8.D50111.SOCIOCSV\n",
            "K3241.K03200Y9.D50111.SOCIOCSV\n",
            "Total de arquivos: 37\n"
          ]
        }
      ]
    },
    {
      "cell_type": "markdown",
      "source": [
        "**Leitura e tratamento do arquivo Cnae**"
      ],
      "metadata": {
        "id": "xneavzEHn-zG"
      }
    },
    {
      "cell_type": "code",
      "source": [
        "from pyspark.sql.types import StructType, StructField, StringType\n",
        "import os\n",
        "\n",
        "# Caminho para o diretório\n",
        "directory = '/content/drive/MyDrive/Projeto_ETL_Trust_Works/Dados_abertos/descompactados/'\n",
        "\n",
        "# Constrói o caminho completo para o arquivo\n",
        "file_path = os.path.join(directory, 'F.K03200$Z.D50111.CNAECSV')\n",
        "\n",
        "# Lê o arquivo CSV sem definir nomes de colunas, mas garantindo que todas as colunas sejam StringType\n",
        "df_cnae = (spark.read\n",
        "    .option(\"charset\", \"latin1\")  # Define o encoding correto\n",
        "    .option(\"quote\", \"\\\"\")  # Mantém texto entre aspas duplas\n",
        "    .option(\"delimiter\", \";\")  # Define o separador correto\n",
        "    .option(\"inferSchema\", \"false\")  # Não inferir automaticamente os tipos de dados\n",
        "    .csv(file_path)  # Ler o arquivo, colocando um nome de coluna genérico\n",
        ")\n",
        "\n",
        "# Exibe as primeiras linhas para conferência\n",
        "df_cnae.show()\n",
        "\n",
        "# Exibe o schema inferido (todas as colunas devem ser StringType)\n",
        "df_cnae.printSchema()\n"
      ],
      "metadata": {
        "colab": {
          "base_uri": "https://localhost:8080/"
        },
        "id": "V9BdDq8J844g",
        "outputId": "2a9634d4-efce-4642-8f78-bfcfe9a67e7e"
      },
      "execution_count": null,
      "outputs": [
        {
          "output_type": "stream",
          "name": "stdout",
          "text": [
            "+-------+--------------------+\n",
            "|    _c0|                 _c1|\n",
            "+-------+--------------------+\n",
            "|0111301|    Cultivo de arroz|\n",
            "|0111302|    Cultivo de milho|\n",
            "|0111303|    Cultivo de trigo|\n",
            "|0111399|Cultivo de outros...|\n",
            "|0112101|Cultivo de algodã...|\n",
            "|0112102|     Cultivo de juta|\n",
            "|0112199|Cultivo de outras...|\n",
            "|0113000|Cultivo de cana-d...|\n",
            "|0114800|     Cultivo de fumo|\n",
            "|0115600|     Cultivo de soja|\n",
            "|0116401| Cultivo de amendoim|\n",
            "|0116402| Cultivo de girassol|\n",
            "|0116403|   Cultivo de mamona|\n",
            "|0116499|Cultivo de outras...|\n",
            "|0119901|  Cultivo de abacaxi|\n",
            "|0119902|     Cultivo de alho|\n",
            "|0119903|Cultivo de batata...|\n",
            "|0119904|   Cultivo de cebola|\n",
            "|0119905|   Cultivo de feijão|\n",
            "|0119906| Cultivo de mandioca|\n",
            "+-------+--------------------+\n",
            "only showing top 20 rows\n",
            "\n",
            "root\n",
            " |-- _c0: string (nullable = true)\n",
            " |-- _c1: string (nullable = true)\n",
            "\n"
          ]
        }
      ]
    },
    {
      "cell_type": "markdown",
      "source": [
        "**Lendo e tratando o arquivo Cnae**"
      ],
      "metadata": {
        "id": "4NzxHe-7iKO1"
      }
    },
    {
      "cell_type": "code",
      "source": [
        "# Obtém o número de linhas\n",
        "num_linhas = df_cnae.count()\n",
        "\n",
        "# Obtém o número de colunas\n",
        "num_colunas = len(df_cnae.columns)\n",
        "\n",
        "print(f\"Número de linhas: {num_linhas}\")\n",
        "print(f\"Número de colunas: {num_colunas}\")"
      ],
      "metadata": {
        "colab": {
          "base_uri": "https://localhost:8080/"
        },
        "id": "NU4CS6E_iOuk",
        "outputId": "ee9dc1ca-96c1-467e-aa31-18baaf46937a"
      },
      "execution_count": null,
      "outputs": [
        {
          "output_type": "stream",
          "name": "stdout",
          "text": [
            "Número de linhas: 1359\n",
            "Número de colunas: 2\n"
          ]
        }
      ]
    },
    {
      "cell_type": "code",
      "source": [
        "# Verificação de valores nulos\n",
        "\n",
        "from pyspark.sql.functions import col, count, when\n",
        "\n",
        "for column_name in df_cnae.columns:\n",
        "    null_count = df_cnae.filter(col(column_name).isNull()).count()\n",
        "    print(f\"Coluna: {column_name}, Valores Nulos: {null_count}\")"
      ],
      "metadata": {
        "colab": {
          "base_uri": "https://localhost:8080/"
        },
        "id": "ZEElbCs_iOxL",
        "outputId": "a1f2eeb3-99bf-4954-b335-75d20000839a"
      },
      "execution_count": null,
      "outputs": [
        {
          "output_type": "stream",
          "name": "stdout",
          "text": [
            "Coluna: _c0, Valores Nulos: 0\n",
            "Coluna: _c1, Valores Nulos: 0\n"
          ]
        }
      ]
    },
    {
      "cell_type": "code",
      "source": [
        "# Verificação de valores duplicados\n",
        "\n",
        "df_cnae.groupBy(df_cnae.columns).count().filter(count(\"*\") > 1).count()"
      ],
      "metadata": {
        "colab": {
          "base_uri": "https://localhost:8080/"
        },
        "id": "4jZ3aj0Pu6xR",
        "outputId": "81a90361-2f25-4f5d-ec55-73eed153eb78"
      },
      "execution_count": null,
      "outputs": [
        {
          "output_type": "execute_result",
          "data": {
            "text/plain": [
              "0"
            ]
          },
          "metadata": {},
          "execution_count": 11
        }
      ]
    },
    {
      "cell_type": "code",
      "source": [
        "# Incluindo o cabeçalho\n",
        "\n",
        "df_cnae = df_cnae.withColumnRenamed(\"_c0\", \"cod_cnae\").withColumnRenamed(\"_c1\", \"descricao\")\n",
        "\n",
        "# Exibe as primeiras linhas para conferir\n",
        "df_cnae.show()\n",
        "\n",
        "# Verifica o schema atualizado\n",
        "df_cnae.printSchema()\n",
        "\n"
      ],
      "metadata": {
        "colab": {
          "base_uri": "https://localhost:8080/"
        },
        "id": "SqzGkNDxu67p",
        "outputId": "260224bb-5bca-42e0-fdcd-14359a18921b"
      },
      "execution_count": null,
      "outputs": [
        {
          "output_type": "stream",
          "name": "stdout",
          "text": [
            "+--------+--------------------+\n",
            "|cod_cnae|           descricao|\n",
            "+--------+--------------------+\n",
            "| 0111301|    Cultivo de arroz|\n",
            "| 0111302|    Cultivo de milho|\n",
            "| 0111303|    Cultivo de trigo|\n",
            "| 0111399|Cultivo de outros...|\n",
            "| 0112101|Cultivo de algodã...|\n",
            "| 0112102|     Cultivo de juta|\n",
            "| 0112199|Cultivo de outras...|\n",
            "| 0113000|Cultivo de cana-d...|\n",
            "| 0114800|     Cultivo de fumo|\n",
            "| 0115600|     Cultivo de soja|\n",
            "| 0116401| Cultivo de amendoim|\n",
            "| 0116402| Cultivo de girassol|\n",
            "| 0116403|   Cultivo de mamona|\n",
            "| 0116499|Cultivo de outras...|\n",
            "| 0119901|  Cultivo de abacaxi|\n",
            "| 0119902|     Cultivo de alho|\n",
            "| 0119903|Cultivo de batata...|\n",
            "| 0119904|   Cultivo de cebola|\n",
            "| 0119905|   Cultivo de feijão|\n",
            "| 0119906| Cultivo de mandioca|\n",
            "+--------+--------------------+\n",
            "only showing top 20 rows\n",
            "\n",
            "root\n",
            " |-- cod_cnae: string (nullable = true)\n",
            " |-- descricao: string (nullable = true)\n",
            "\n"
          ]
        }
      ]
    },
    {
      "cell_type": "markdown",
      "source": [
        "# **Lendo e tratando os arquivos de Empresas**"
      ],
      "metadata": {
        "id": "sK1vFaHI_v_a"
      }
    },
    {
      "cell_type": "code",
      "source": [
        "# Lendo todos os equivos de empresas\n",
        "from pyspark.sql.types import StringType\n",
        "import os\n",
        "\n",
        "# Caminho para o diretório\n",
        "directory = '/content/drive/MyDrive/Projeto_ETL_Trust_Works/Dados_abertos/descompactados/'\n",
        "\n",
        "# Lista com os nomes dos arquivos de empresas\n",
        "empresas_files = [\n",
        "    \"K3241.K03200Y2.D50111.EMPRECSV\",\n",
        "    \"K3241.K03200Y3.D50111.EMPRECSV\",\n",
        "    \"K3241.K03200Y4.D50111.EMPRECSV\",\n",
        "    \"K3241.K03200Y5.D50111.EMPRECSV\",\n",
        "    \"K3241.K03200Y6.D50111.EMPRECSV\",\n",
        "    \"K3241.K03200Y7.D50111.EMPRECSV\",\n",
        "    \"K3241.K03200Y8.D50111.EMPRECSV\",\n",
        "    \"K3241.K03200Y9.D50111.EMPRECSV\",\n",
        "    \"K3241.K03200Y0.D50111.EMPRECSV\",\n",
        "    \"K3241.K03200Y1.D50111.EMPRECSV\"\n",
        "]\n",
        "\n",
        "# Criando a lista de caminhos completos para cada arquivo\n",
        "file_paths = [os.path.join(directory, f) for f in empresas_files]\n",
        "\n",
        "# Lendo todos os arquivos de empresas ao mesmo tempo\n",
        "df_empresas = (spark.read\n",
        "    .option(\"charset\", \"latin1\")  # Define o encoding correto\n",
        "    .option(\"quote\", \"\\\"\")  # Mantém texto entre aspas duplas\n",
        "    .option(\"delimiter\", \";\")  # Define o separador correto\n",
        "    .option(\"inferSchema\", \"false\")  # Não inferir automaticamente os tipos de dados\n",
        "    .csv(file_paths)  # Lê todos os arquivos de uma vez\n",
        ")\n",
        "\n",
        "# Exibe as primeiras linhas para conferência\n",
        "df_empresas.show()\n",
        "\n",
        "# Exibe o schema inferido (todas as colunas devem ser StringType)\n",
        "df_empresas.printSchema()\n",
        "\n"
      ],
      "metadata": {
        "colab": {
          "base_uri": "https://localhost:8080/"
        },
        "id": "eIMA_abwiOzv",
        "outputId": "6ff1fa4f-17bc-43d9-fbda-66c7b992b39d"
      },
      "execution_count": null,
      "outputs": [
        {
          "output_type": "stream",
          "name": "stdout",
          "text": [
            "+--------+--------------------+----+---+---------+---+----+\n",
            "|     _c0|                 _c1| _c2|_c3|      _c4|_c5| _c6|\n",
            "+--------+--------------------+----+---+---------+---+----+\n",
            "|04631961|ITACAMP INDUSTRIA...|2062| 49|     0,00| 01|NULL|\n",
            "|04631962|CLINICA OFTALMOLO...|2062| 49|     0,00| 05|NULL|\n",
            "|04631963| EXPRESSO COSTA LTDA|2062| 49|     0,00| 01|NULL|\n",
            "|04631964|PAULO BRAGA PROJE...|2232| 49| 20000,00| 01|NULL|\n",
            "|04631965|COTERMAQ CONSERTO...|2062| 49|     0,00| 03|NULL|\n",
            "|04631967|ACACIA MEDICINA D...|2240| 49|500000,00| 03|NULL|\n",
            "|04631968|CONDOMINIO DO EDI...|3085| 19|     0,00| 05|NULL|\n",
            "|04631969|      J LEILOES LTDA|2062| 49|     0,00| 05|NULL|\n",
            "|04631970|J. NOGUEIRA DE QU...|2135| 50|     0,00| 01|NULL|\n",
            "|04631971|  2001 HANDLING LTDA|2240| 49|     0,00| 01|NULL|\n",
            "|04631972|GONCALVES E VIANA...|2062| 49|     0,00| 01|NULL|\n",
            "|04631973|ARCA DO LOUVOR MU...|2062| 49|     0,00| 01|NULL|\n",
            "|04631975| NELSON DURVAL RISSE|2135| 50|     0,00| 05|NULL|\n",
            "|04631976|FUNILARIA NOETZOL...|2062| 49|     0,00| 01|NULL|\n",
            "|04631977|CEP PREVENCAO ODO...|2240| 49| 90000,00| 01|NULL|\n",
            "|04631978|ESPACO SERVICOS C...|2240| 49|100000,00| 03|NULL|\n",
            "|04631979|DIVINO ETERNO FER...|2135| 50|     0,00| 01|NULL|\n",
            "|04631980|MARIA DAS DORES S...|2135| 50|     0,00| 05|NULL|\n",
            "|04631981|E & M COMERCIO E ...|2062| 49|     0,00| 01|NULL|\n",
            "|04631983|FERNANDO RODRIGUE...|2135| 50|     0,00| 05|NULL|\n",
            "+--------+--------------------+----+---+---------+---+----+\n",
            "only showing top 20 rows\n",
            "\n",
            "root\n",
            " |-- _c0: string (nullable = true)\n",
            " |-- _c1: string (nullable = true)\n",
            " |-- _c2: string (nullable = true)\n",
            " |-- _c3: string (nullable = true)\n",
            " |-- _c4: string (nullable = true)\n",
            " |-- _c5: string (nullable = true)\n",
            " |-- _c6: string (nullable = true)\n",
            "\n"
          ]
        }
      ]
    },
    {
      "cell_type": "code",
      "source": [
        "# Contagem das linhas\n",
        "\n",
        "df_empresas.take(1)  # Força a execução antes do count\n",
        "num_linhas = df_empresas.count()\n",
        "print(\"Linhas :\", {num_linhas})\n"
      ],
      "metadata": {
        "colab": {
          "base_uri": "https://localhost:8080/"
        },
        "id": "zb7vVLjRC4dH",
        "outputId": "8247858b-f2ab-439f-b68a-26b14ee6d281"
      },
      "execution_count": null,
      "outputs": [
        {
          "output_type": "stream",
          "name": "stdout",
          "text": [
            "Linhas : {60959932}\n"
          ]
        }
      ]
    },
    {
      "cell_type": "code",
      "source": [
        "# Lê a quantidade de linhas por arquivo\n",
        "from pyspark.sql.functions import input_file_name\n",
        "\n",
        "df_empresas.withColumn(\"arquivo\", input_file_name()).groupBy(\"arquivo\").count().show(truncate=False)\n"
      ],
      "metadata": {
        "colab": {
          "base_uri": "https://localhost:8080/"
        },
        "id": "i4IcKVrHC4fz",
        "outputId": "b1ce1ff8-63c3-405d-f8c5-4ca994e7cab0"
      },
      "execution_count": null,
      "outputs": [
        {
          "output_type": "stream",
          "name": "stdout",
          "text": [
            "+-----------------------------------------------------------------------------------------------------------------+--------+\n",
            "|arquivo                                                                                                          |count   |\n",
            "+-----------------------------------------------------------------------------------------------------------------+--------+\n",
            "|file:///content/drive/MyDrive/Projeto_ETL_Trust_Works/Dados_abertos/descompactados/K3241.K03200Y2.D50111.EMPRECSV|4494860 |\n",
            "|file:///content/drive/MyDrive/Projeto_ETL_Trust_Works/Dados_abertos/descompactados/K3241.K03200Y3.D50111.EMPRECSV|4494860 |\n",
            "|file:///content/drive/MyDrive/Projeto_ETL_Trust_Works/Dados_abertos/descompactados/K3241.K03200Y4.D50111.EMPRECSV|4494860 |\n",
            "|file:///content/drive/MyDrive/Projeto_ETL_Trust_Works/Dados_abertos/descompactados/K3241.K03200Y5.D50111.EMPRECSV|4494860 |\n",
            "|file:///content/drive/MyDrive/Projeto_ETL_Trust_Works/Dados_abertos/descompactados/K3241.K03200Y6.D50111.EMPRECSV|4494860 |\n",
            "|file:///content/drive/MyDrive/Projeto_ETL_Trust_Works/Dados_abertos/descompactados/K3241.K03200Y7.D50111.EMPRECSV|4494860 |\n",
            "|file:///content/drive/MyDrive/Projeto_ETL_Trust_Works/Dados_abertos/descompactados/K3241.K03200Y8.D50111.EMPRECSV|4494860 |\n",
            "|file:///content/drive/MyDrive/Projeto_ETL_Trust_Works/Dados_abertos/descompactados/K3241.K03200Y9.D50111.EMPRECSV|4494860 |\n",
            "|file:///content/drive/MyDrive/Projeto_ETL_Trust_Works/Dados_abertos/descompactados/K3241.K03200Y0.D50111.EMPRECSV|20506192|\n",
            "|file:///content/drive/MyDrive/Projeto_ETL_Trust_Works/Dados_abertos/descompactados/K3241.K03200Y1.D50111.EMPRECSV|4494860 |\n",
            "+-----------------------------------------------------------------------------------------------------------------+--------+\n",
            "\n"
          ]
        }
      ]
    },
    {
      "cell_type": "code",
      "source": [
        "# Incluindo os nomes das colunas\n",
        "\n",
        "df_empresas = (\n",
        "    df_empresas.withColumnRenamed(\"_c0\", \"cnpj_basico\")\n",
        "    .withColumnRenamed(\"_c1\", \"razao_social\")\n",
        "    .withColumnRenamed(\"_c2\", \"cod_nat_juridica\")\n",
        "    .withColumnRenamed(\"_c3\", \"cod_qualificacao_responsavel\")\n",
        "    .withColumnRenamed(\"_c4\", \"capital_social\")\n",
        "    .withColumnRenamed(\"_c5\", \"cod_porte_empresa\")\n",
        "    .withColumnRenamed(\"_c6\", \"ente_federativo_resp\")\n",
        ")\n",
        "\n",
        "# Exibe as primeiras linhas para conferir\n",
        "df_empresas.show(n=5, truncate=False)"
      ],
      "metadata": {
        "id": "SiLOGlJIC4ic",
        "colab": {
          "base_uri": "https://localhost:8080/"
        },
        "outputId": "c3dc7751-7938-40af-83b6-78b5a7c3dcff"
      },
      "execution_count": null,
      "outputs": [
        {
          "output_type": "stream",
          "name": "stdout",
          "text": [
            "+-----------+--------------------------------------------------------+----------------+----------------------------+--------------+-----------------+--------------------+\n",
            "|cnpj_basico|razao_social                                            |cod_nat_juridica|cod_qualificacao_responsavel|capital_social|cod_porte_empresa|ente_federativo_resp|\n",
            "+-----------+--------------------------------------------------------+----------------+----------------------------+--------------+-----------------+--------------------+\n",
            "|04631961   |ITACAMP INDUSTRIAL LTDA                                 |2062            |49                          |0,00          |01               |NULL                |\n",
            "|04631962   |CLINICA OFTALMOLOGICA DR VANIA XIMENES LTDA             |2062            |49                          |0,00          |05               |NULL                |\n",
            "|04631963   |EXPRESSO COSTA LTDA                                     |2062            |49                          |0,00          |01               |NULL                |\n",
            "|04631964   |PAULO BRAGA PROJETOS ESTRUTURAIS E CONSULTORIA S/S LTDA.|2232            |49                          |20000,00      |01               |NULL                |\n",
            "|04631965   |COTERMAQ CONSERTOS E TERCEIRIZACAO DE MAQUINAS LTDA     |2062            |49                          |0,00          |03               |NULL                |\n",
            "+-----------+--------------------------------------------------------+----------------+----------------------------+--------------+-----------------+--------------------+\n",
            "only showing top 5 rows\n",
            "\n"
          ]
        }
      ]
    },
    {
      "cell_type": "code",
      "source": [
        "# Verificado o esquema após incluir os nomes das colunas\n",
        "\n",
        "df_empresas.printSchema()"
      ],
      "metadata": {
        "id": "dpMjUXF3C4ll",
        "colab": {
          "base_uri": "https://localhost:8080/"
        },
        "outputId": "f262e3a1-d32a-4a9f-99ea-57192544894f"
      },
      "execution_count": null,
      "outputs": [
        {
          "output_type": "stream",
          "name": "stdout",
          "text": [
            "root\n",
            " |-- cnpj_basico: string (nullable = true)\n",
            " |-- razao_social: string (nullable = true)\n",
            " |-- cod_nat_juridica: string (nullable = true)\n",
            " |-- cod_qualificacao_responsavel: string (nullable = true)\n",
            " |-- capital_social: string (nullable = true)\n",
            " |-- cod_porte_empresa: string (nullable = true)\n",
            " |-- ente_federativo_resp: string (nullable = true)\n",
            "\n"
          ]
        }
      ]
    },
    {
      "cell_type": "code",
      "source": [
        "# Verificando as colunas criadas\n",
        "\n",
        "df_empresas.columns"
      ],
      "metadata": {
        "colab": {
          "base_uri": "https://localhost:8080/"
        },
        "id": "OBgBnohust7k",
        "outputId": "6e0d4df6-7cb1-4754-90b8-825471572392"
      },
      "execution_count": null,
      "outputs": [
        {
          "output_type": "execute_result",
          "data": {
            "text/plain": [
              "['cnpj_basico',\n",
              " 'razao_social',\n",
              " 'cod_nat_juridica',\n",
              " 'cod_qualificacao_responsavel',\n",
              " 'capital_social',\n",
              " 'cod_porte_empresa',\n",
              " 'ente_federativo_resp']"
            ]
          },
          "metadata": {},
          "execution_count": 17
        }
      ]
    },
    {
      "cell_type": "code",
      "source": [
        "# Verificar valores ausentes por coluna\n",
        "\n",
        "from pyspark.sql.functions import col, sum\n",
        "\n",
        "df_empresas.select([\n",
        "    sum(col(c).isNull().cast(\"int\")).alias(c) for c in df_empresas.columns\n",
        "]).show(truncate=False)\n"
      ],
      "metadata": {
        "colab": {
          "base_uri": "https://localhost:8080/"
        },
        "id": "QVIfslfvtVQS",
        "outputId": "0af7fa39-97e9-4a55-8888-eb40f7453bce"
      },
      "execution_count": null,
      "outputs": [
        {
          "output_type": "stream",
          "name": "stdout",
          "text": [
            "+-----------+------------+----------------+----------------------------+--------------+-----------------+--------------------+\n",
            "|cnpj_basico|razao_social|cod_nat_juridica|cod_qualificacao_responsavel|capital_social|cod_porte_empresa|ente_federativo_resp|\n",
            "+-----------+------------+----------------+----------------------------+--------------+-----------------+--------------------+\n",
            "|0          |0           |0               |0                           |0             |71605            |60892838            |\n",
            "+-----------+------------+----------------+----------------------------+--------------+-----------------+--------------------+\n",
            "\n"
          ]
        }
      ]
    },
    {
      "cell_type": "code",
      "source": [],
      "metadata": {
        "id": "fLSiTVgmJO4n"
      },
      "execution_count": null,
      "outputs": []
    },
    {
      "cell_type": "code",
      "source": [
        "# Verificando duplicatas\n",
        "col_empresas_check = [\"cnpj_basico\", \"razao_social\"]\n",
        "\n",
        "for coluna in col_empresas_check:\n",
        "    df_empresas.groupBy(coluna).count().filter(\"count > 1\").show(truncate=False)"
      ],
      "metadata": {
        "colab": {
          "base_uri": "https://localhost:8080/"
        },
        "outputId": "b807f46e-c7f9-494f-bdfa-3398c9966c38",
        "id": "ng0_IGjAJPZn"
      },
      "execution_count": null,
      "outputs": [
        {
          "output_type": "stream",
          "name": "stdout",
          "text": [
            "+-----------+-----+\n",
            "|cnpj_basico|count|\n",
            "+-----------+-----+\n",
            "|33679810   |2    |\n",
            "+-----------+-----+\n",
            "\n",
            "+---------------------------------------------+-----+\n",
            "|razao_social                                 |count|\n",
            "+---------------------------------------------+-----+\n",
            "|SIMONE DE OLIVEIRA & CIA LTDA                |3    |\n",
            "|VALDECI PEREIRA PINTO                        |3    |\n",
            "|M A SOUZA                                    |9    |\n",
            "|ALEX SANDRO GOMES DOS SANTOS                 |2    |\n",
            "|G & D INFORMATICA LTDA                       |2    |\n",
            "|A ALVES DA SILVA                             |30   |\n",
            "|BOUTIQUE DA LINGERIE LTDA                    |2    |\n",
            "|MERCEARIA BRISA LTDA                         |2    |\n",
            "|DELTA EMPREENDIMENTOS IMOBILIARIOS LTDA      |16   |\n",
            "|CONSELHO ESCOLAR                             |147  |\n",
            "|GUSTAVO INDUSTRIA E COMERCIO DE MADEIRAS LTDA|2    |\n",
            "|ANTONIO N DA SILVA                           |12   |\n",
            "|F RODRIGUES DE SOUSA                         |5    |\n",
            "|ALIANCA COMERCIO LTDA                        |5    |\n",
            "|360 COMUNICACAO LTDA                         |3    |\n",
            "|GONCALVES E CORREA LTDA                      |4    |\n",
            "|B O FERREIRA                                 |2    |\n",
            "|FRANCISCO FIRMINO DA SILVA                   |6    |\n",
            "|SANTANA & ARAUJO LIMITADA                    |2    |\n",
            "|CONSTRUTORA NATAL LTDA                       |8    |\n",
            "+---------------------------------------------+-----+\n",
            "only showing top 20 rows\n",
            "\n"
          ]
        }
      ]
    },
    {
      "cell_type": "markdown",
      "source": [
        "# **Lendo e tratatando arquivos de Estabelecimentos**"
      ],
      "metadata": {
        "id": "qPdoeQ6Fo_WU"
      }
    },
    {
      "cell_type": "code",
      "source": [
        "# Lendo todos os equivos de estabelecimentos\n",
        "\n",
        "\n",
        "# Lista com os nomes dos arquivos de estabelecimentos\n",
        "estabelecimentos_files = [\n",
        "  \"K3241.K03200Y0.D50111.ESTABELE\",\n",
        "  \"K3241.K03200Y1.D50111.ESTABELE\",\n",
        "  \"K3241.K03200Y2.D50111.ESTABELE\",\n",
        "  \"K3241.K03200Y3.D50111.ESTABELE\",\n",
        "  \"K3241.K03200Y4.D50111.ESTABELE\",\n",
        "  \"K3241.K03200Y5.D50111.ESTABELE\",\n",
        "  \"K3241.K03200Y6.D50111.ESTABELE\",\n",
        "  \"K3241.K03200Y7.D50111.ESTABELE\",\n",
        "  \"K3241.K03200Y8.D50111.ESTABELE\",\n",
        "  \"K3241.K03200Y9.D50111.ESTABELE\"\n",
        "]\n",
        "\n",
        "# Criando a lista de caminhos completos para cada arquivo\n",
        "file_paths = [os.path.join(directory, f) for f in estabelecimentos_files]\n",
        "\n",
        "# Lendo todos os arquivos de empresas ao mesmo tempo\n",
        "df_estab = (spark.read\n",
        "    .option(\"charset\", \"latin1\")  # Define o encoding correto\n",
        "    .option(\"quote\", \"\\\"\")  # Mantém texto entre aspas duplas\n",
        "    .option(\"delimiter\", \";\")  # Define o separador correto\n",
        "    .option(\"inferSchema\", \"false\")  # Não inferir automaticamente os tipos de dados\n",
        "    .csv(file_paths)  # Lê todos os arquivos de uma vez\n",
        ")\n",
        "\n",
        "# Exibe as primeiras linhas para conferência\n",
        "df_estab.show()\n",
        "\n",
        "# Exibe o schema inferido (todas as colunas devem ser StringType)\n",
        "df_estab.printSchema()\n",
        "\n"
      ],
      "metadata": {
        "colab": {
          "base_uri": "https://localhost:8080/"
        },
        "outputId": "8a919f86-1f1c-4383-99a4-71aa8eae2e37",
        "id": "s8AJzj-xsraR"
      },
      "execution_count": null,
      "outputs": [
        {
          "output_type": "stream",
          "name": "stdout",
          "text": [
            "+--------+----+---+---+--------------------+---+--------+---+----+----+--------+-------+--------------------+----------+--------------------+------+----------+-------------------+--------+----+----+----+--------+----+----+----+--------+--------------------+----+----+\n",
            "|     _c0| _c1|_c2|_c3|                 _c4|_c5|     _c6|_c7| _c8| _c9|    _c10|   _c11|                _c12|      _c13|                _c14|  _c15|      _c16|               _c17|    _c18|_c19|_c20|_c21|    _c22|_c23|_c24|_c25|    _c26|                _c27|_c28|_c29|\n",
            "+--------+----+---+---+--------------------+---+--------+---+----+----+--------+-------+--------------------+----------+--------------------+------+----------+-------------------+--------+----+----+----+--------+----+----+----+--------+--------------------+----+----+\n",
            "|37220018|0001| 09|  1|ANTONIO HERCULANO...| 08|20230530| 01|NULL|NULL|20200525|8712300|                NULL|       RUA|           ARCO-IRIS|    97|      NULL|    PARQUE BOTUJURU|09821090|  SP|7075|  11|41014141|NULL|NULL|NULL|    NULL|HERCULANOANTONIO2...|NULL|NULL|\n",
            "|36068186|0001| 68|  1|                NULL| 02|20200120| 00|NULL|NULL|20200120|4330499|                NULL|       RUA|JOSE PEREIRA MARQUES|   390|      NULL|JARDIM COUNTRY CLUB|37704313|  MG|5035|  35|99939878|NULL|NULL|NULL|    NULL|ALEVIDROSGL@OUTLO...|NULL|NULL|\n",
            "|37318263|0001| 53|  1|                NULL| 02|20200604| 00|NULL|NULL|20200604|1629301|             3101200|       RUA|JOAO DE ALMEIDA (...|   568|      NULL|             CENTRO|09920140|  SP|6377|  11|80594733|NULL|NULL|NULL|    NULL|VALERIA.POLIANA93...|NULL|NULL|\n",
            "|37364869|0001| 25|  1|                NULL| 08|20220831| 01|NULL|NULL|20200609|5229099|                NULL|       RUA|ANA JULIA LUIZ (P...|   441|   CASA 03|          MONTANHAO|09782120|  SP|7075|  11|43350869|NULL|NULL|NULL|    NULL|PESSOAL1@3ECONTAB...|NULL|NULL|\n",
            "|37406207|0001| 70|  1|                NULL| 02|20200615| 00|NULL|NULL|20200615|8599699|4781400,8599604,4...|       RUA|PRINCESA FRANCISC...|201/19|   SALA 03|    NOVA PETROPOLIS|09770340|  SP|7075|  11|84027546|NULL|NULL|NULL|    NULL|PAULAPIOLA07@GMAI...|NULL|NULL|\n",
            "|37443430|0001| 98|  1|                NULL| 04|20221201| 63|NULL|NULL|20200617|8219999|                NULL|  TRAVESSA| JUBIABA (NH ILHEUS)|    36|      NULL|             INAMAR|09981122|  SP|6377|  11|93229815|NULL|NULL|NULL|    NULL|                NULL|NULL|NULL|\n",
            "|07988123|0017| 99|  2|                NULL| 08|20210326| 01|NULL|NULL|20200413|5211701|3811400,4686902,4...|   AVENIDA|       MANSUR FRAYHA|  1225|      NULL|   JARDIM ELIZABETE|37704355|  MG|5035|  35|36970950|NULL|NULL|NULL|    NULL|ADMINISTRATIVO@GM...|NULL|NULL|\n",
            "|37111471|0001| 87|  1|                NULL| 04|20221121| 63|NULL|NULL|20200511|4399103|     4742300,4321500|       RUA|JOAQUIM JOSE DE A...|    16|      NULL|             CENTRO|37790000|  MG|4597|  35|99966034|NULL|NULL|NULL|    NULL|BERGAMINCONTABILI...|NULL|NULL|\n",
            "|37265886|0001| 05|  1|                NULL| 02|20200529| 00|NULL|NULL|20200529|4399103|     3101200,4330405|       RUA|MARIA APARECIDA F...|    35|      NULL|         SAN MARINO|37588000|  MG|4629|  35|92337940|NULL|NULL|NULL|    NULL|                NULL|NULL|NULL|\n",
            "|37607302|0001| 32|  1|                NULL| 04|20221125| 63|NULL|NULL|20200703|8599604|                NULL|       RUA|ANTONIO PIRES DA ...|    45|      NULL|        MARIA LUIZA|56180000|  PE|2359|  11|87399429|NULL|NULL|NULL|    NULL|JESSICAMFASSIS@HO...|NULL|NULL|\n",
            "|37480874|0001| 01|  1|                NULL| 02|20200622| 00|NULL|NULL|20200622|5611201|             5611203|     PRACA|        DOM PEDRO II|   185|    TERREO|             CENTRO|37701035|  MG|5035|  35|96730760|NULL|NULL|NULL|    NULL|VIVIANDLG@YAHOO.C...|NULL|NULL|\n",
            "|37696901|0001| 70|  1|                NULL| 08|20210530| 01|NULL|NULL|20200713|3101200|     3103900,3329501|  PASSAGEM|WALTER AVANCINI (...|    66|      NULL|        PIRAPORINHA|09950720|  SP|6377|  11|40710352|NULL|NULL|NULL|    NULL|ARNALDOSALESDEOLI...|NULL|NULL|\n",
            "|37733812|0001| 56|  1|                NULL| 04|20221201| 63|NULL|NULL|20200715|7319002|                NULL|   AVENIDA|  SOLDANO (PQ NEIDE)|   187|      NULL|         ALVES DIAS|09850405|  SP|7075|  11|95558765|NULL|NULL|NULL|    NULL|                NULL|NULL|NULL|\n",
            "|37817511|0001| 00|  1|HEITOR SALVIANO F...| 08|20230223| 01|NULL|NULL|20200722|7319002|                NULL|       RUA|     LUZERN (SUISSO)|   114|      NULL|             TABOAO|09663060|  SP|7075|  11|41782881|NULL|NULL|NULL|    NULL|HEITOR.SF2@HOTMAI...|NULL|NULL|\n",
            "|25795133|0001| 22|  1|                NULL| 08|20161231| 01|NULL|NULL|20160815|9492800|                NULL|LOTEAMENTO|       P A PROGRESSO|    SN|      NULL|          ZONA RUAL|77730000|  TO|9705|   0|       0|NULL|NULL|  63|34271113|wendelcarlos@gami...|NULL|NULL|\n",
            "|25809579|0001| 69|  1|                NULL| 08|20161231| 01|NULL|NULL|20160815|9492800|                NULL|   AVENIDA|       COSTA E SILVA|   723|      CASA|             CENTRO|77725000|  TO|9529|   0|       0|NULL|NULL|  63|34571330|marianilza@hotmai...|NULL|NULL|\n",
            "|25948182|0001| 58|  1|                NULL| 08|20161231| 01|NULL|NULL|20160816|9492800|                NULL|       RUA|   TRAVESSA DOS IPES|   128|      CASA|             CENTRO|77708000|  TO|0345|   0|       0|NULL|NULL|  63|34401165|ferreiracoutinho2...|NULL|NULL|\n",
            "|27612861|0001| 87|  1|                NULL| 02|20170427| 00|NULL|NULL|20170427|7911200|4924800,7719599,4...|       RUA|          ALAMEDA 02|    SN|      NULL|         BELA VISTA|77685000|  TO|9345|  63|84141344|NULL|NULL|NULL|    NULL|TRANSCARVALHO2009...|NULL|NULL|\n",
            "|28456541|0001| 48|  1|                NULL| 04|20210219| 63|NULL|NULL|20170818|1095300|             4789099|       RUA|    BERNARDINO ABREU|   418|CASA ;CASA|     SANTA FILOMENA|77650000|  TO|9461|  63|84903475|NULL|NULL|NULL|    NULL|                NULL|NULL|NULL|\n",
            "|28932659|0001| 03|  1|             AGROTEC| 08|20200205| 01|NULL|NULL|20171025|4611700|4618499,7119701,7...|       RUA|               CEARA|   281|      NULL|             CENTRO|77730000|  TO|9705|  63|84792826|NULL|NULL|NULL|    NULL|RODRIGOPEREIRAMIR...|NULL|NULL|\n",
            "+--------+----+---+---+--------------------+---+--------+---+----+----+--------+-------+--------------------+----------+--------------------+------+----------+-------------------+--------+----+----+----+--------+----+----+----+--------+--------------------+----+----+\n",
            "only showing top 20 rows\n",
            "\n",
            "root\n",
            " |-- _c0: string (nullable = true)\n",
            " |-- _c1: string (nullable = true)\n",
            " |-- _c2: string (nullable = true)\n",
            " |-- _c3: string (nullable = true)\n",
            " |-- _c4: string (nullable = true)\n",
            " |-- _c5: string (nullable = true)\n",
            " |-- _c6: string (nullable = true)\n",
            " |-- _c7: string (nullable = true)\n",
            " |-- _c8: string (nullable = true)\n",
            " |-- _c9: string (nullable = true)\n",
            " |-- _c10: string (nullable = true)\n",
            " |-- _c11: string (nullable = true)\n",
            " |-- _c12: string (nullable = true)\n",
            " |-- _c13: string (nullable = true)\n",
            " |-- _c14: string (nullable = true)\n",
            " |-- _c15: string (nullable = true)\n",
            " |-- _c16: string (nullable = true)\n",
            " |-- _c17: string (nullable = true)\n",
            " |-- _c18: string (nullable = true)\n",
            " |-- _c19: string (nullable = true)\n",
            " |-- _c20: string (nullable = true)\n",
            " |-- _c21: string (nullable = true)\n",
            " |-- _c22: string (nullable = true)\n",
            " |-- _c23: string (nullable = true)\n",
            " |-- _c24: string (nullable = true)\n",
            " |-- _c25: string (nullable = true)\n",
            " |-- _c26: string (nullable = true)\n",
            " |-- _c27: string (nullable = true)\n",
            " |-- _c28: string (nullable = true)\n",
            " |-- _c29: string (nullable = true)\n",
            "\n"
          ]
        }
      ]
    },
    {
      "cell_type": "code",
      "source": [
        "# Contagem das linhas\n",
        "\n",
        "df_estab.take(1)  # Força a execução antes do count\n",
        "num_linhas = df_estab.count()\n",
        "print(\"Linhas :\", {num_linhas})"
      ],
      "metadata": {
        "id": "5a_UPvePtVZc",
        "colab": {
          "base_uri": "https://localhost:8080/"
        },
        "outputId": "0f0472c8-b5d3-4478-915c-89914701e759"
      },
      "execution_count": null,
      "outputs": [
        {
          "output_type": "stream",
          "name": "stdout",
          "text": [
            "Linhas : {64017368}\n"
          ]
        }
      ]
    },
    {
      "cell_type": "code",
      "source": [
        "# Lê a quantidade de linhas por arquivo\n",
        "from pyspark.sql.functions import input_file_name\n",
        "\n",
        "df_estab.withColumn(\"arquivo\", input_file_name()).groupBy(\"arquivo\").count().show(truncate=False)\n"
      ],
      "metadata": {
        "colab": {
          "base_uri": "https://localhost:8080/"
        },
        "id": "4jBy03L1wDMw",
        "outputId": "68295959-fd4c-4eb6-cc29-d2618ca73ac0"
      },
      "execution_count": null,
      "outputs": [
        {
          "output_type": "stream",
          "name": "stdout",
          "text": [
            "+-----------------------------------------------------------------------------------------------------------------+--------+\n",
            "|arquivo                                                                                                          |count   |\n",
            "+-----------------------------------------------------------------------------------------------------------------+--------+\n",
            "|file:///content/drive/MyDrive/Projeto_ETL_Trust_Works/Dados_abertos/descompactados/K3241.K03200Y0.D50111.ESTABELE|21236453|\n",
            "|file:///content/drive/MyDrive/Projeto_ETL_Trust_Works/Dados_abertos/descompactados/K3241.K03200Y1.D50111.ESTABELE|4753435 |\n",
            "|file:///content/drive/MyDrive/Projeto_ETL_Trust_Works/Dados_abertos/descompactados/K3241.K03200Y2.D50111.ESTABELE|4753435 |\n",
            "|file:///content/drive/MyDrive/Projeto_ETL_Trust_Works/Dados_abertos/descompactados/K3241.K03200Y3.D50111.ESTABELE|4753435 |\n",
            "|file:///content/drive/MyDrive/Projeto_ETL_Trust_Works/Dados_abertos/descompactados/K3241.K03200Y4.D50111.ESTABELE|4753435 |\n",
            "|file:///content/drive/MyDrive/Projeto_ETL_Trust_Works/Dados_abertos/descompactados/K3241.K03200Y5.D50111.ESTABELE|4753435 |\n",
            "|file:///content/drive/MyDrive/Projeto_ETL_Trust_Works/Dados_abertos/descompactados/K3241.K03200Y6.D50111.ESTABELE|4753435 |\n",
            "|file:///content/drive/MyDrive/Projeto_ETL_Trust_Works/Dados_abertos/descompactados/K3241.K03200Y7.D50111.ESTABELE|4753435 |\n",
            "|file:///content/drive/MyDrive/Projeto_ETL_Trust_Works/Dados_abertos/descompactados/K3241.K03200Y8.D50111.ESTABELE|4753435 |\n",
            "|file:///content/drive/MyDrive/Projeto_ETL_Trust_Works/Dados_abertos/descompactados/K3241.K03200Y9.D50111.ESTABELE|4753435 |\n",
            "+-----------------------------------------------------------------------------------------------------------------+--------+\n",
            "\n"
          ]
        }
      ]
    },
    {
      "cell_type": "code",
      "source": [
        "# Incluindo os  nomes das colunas\n",
        "\n",
        "df_estab = (\n",
        "    df_estab.withColumnRenamed(\"_c0\", \"cnpj_basico\")\n",
        "    .withColumnRenamed(\"_c1\", \"cnpj_ordem\")\n",
        "    .withColumnRenamed(\"_c2\", \"cnpj_dv\")\n",
        "    .withColumnRenamed(\"_c3\", \"id_matriz_filial\")\n",
        "    .withColumnRenamed(\"_c4\", \"nome_fantasia\")\n",
        "    .withColumnRenamed(\"_c5\", \"cod_sit_cadastral\")\n",
        "    .withColumnRenamed(\"_c6\", \"data_sit_cadastral\")\n",
        "    .withColumnRenamed(\"_c7\", \"cod_mot_sit_cadastral\")\n",
        "    .withColumnRenamed(\"_c8\", \"nome_cidade_ext\")\n",
        "    .withColumnRenamed(\"_c9\", \"cod_pais\")\n",
        "    .withColumnRenamed(\"_c10\", \"data_inicio_atividade\")\n",
        "    .withColumnRenamed(\"_c11\", \"cnae_fiscal_principal\")\n",
        "    .withColumnRenamed(\"_c12\", \"cnae_fiscal_secundaria\")\n",
        "    .withColumnRenamed(\"_c13\", \"tipo_de_lograd\")\n",
        "    .withColumnRenamed(\"_c14\", \"logradouro\")\n",
        "    .withColumnRenamed(\"_c15\", \"numero\")\n",
        "    .withColumnRenamed(\"_c16\", \"complemento\")\n",
        "    .withColumnRenamed(\"_c17\", \"bairro\")\n",
        "    .withColumnRenamed(\"_c18\", \"cep\")\n",
        "    .withColumnRenamed(\"_c19\", \"uf\")\n",
        "    .withColumnRenamed(\"_c20\", \"municipio\")\n",
        "    .withColumnRenamed(\"_c21\", \"ddd_1\")\n",
        "    .withColumnRenamed(\"_c22\", \"tel_1\")\n",
        "    .withColumnRenamed(\"_c23\", \"ddd_2\")\n",
        "    .withColumnRenamed(\"_c24\", \"tel_2\")\n",
        "    .withColumnRenamed(\"_c25\", \"ddd_fax\")\n",
        "    .withColumnRenamed(\"_c26\", \"num_fax\")\n",
        "    .withColumnRenamed(\"_c27\", \"correio_eletronico\")\n",
        "    .withColumnRenamed(\"_c28\", \"situacao_especial\")\n",
        "    .withColumnRenamed(\"_c29\", \"data_situacao_especial\")\n",
        ")\n",
        "\n",
        "# Exibe as primeiras linhas para conferir\n",
        "df_estab.show(n=5,truncate=False)"
      ],
      "metadata": {
        "id": "C0GWMNUrwDWE",
        "colab": {
          "base_uri": "https://localhost:8080/"
        },
        "outputId": "13f1d0df-86af-4e77-9b14-c09a9debb105"
      },
      "execution_count": null,
      "outputs": [
        {
          "output_type": "stream",
          "name": "stdout",
          "text": [
            "+-----------+----------+-------+----------------+-------------------------+-----------------+------------------+---------------------+---------------+--------+---------------------+---------------------+-------------------------------+--------------+----------------------------+------+-----------+-------------------+--------+---+---------+-----+--------+-----+-----+-------+-------+-------------------------------+-----------------+----------------------+\n",
            "|cnpj_basico|cnpj_ordem|cnpj_dv|id_matriz_filial|nome_fantasia            |cod_sit_cadastral|data_sit_cadastral|cod_mot_sit_cadastral|nome_cidade_ext|cod_pais|data_inicio_atividade|cnae_fiscal_principal|cnae_fiscal_secundaria         |tipo_de_lograd|logradouro                  |numero|complemento|bairro             |cep     |uf |municipio|ddd_1|tel_1   |ddd_2|tel_2|ddd_fax|num_fax|correio_eletronico             |situacao_especial|data_situacao_especial|\n",
            "+-----------+----------+-------+----------------+-------------------------+-----------------+------------------+---------------------+---------------+--------+---------------------+---------------------+-------------------------------+--------------+----------------------------+------+-----------+-------------------+--------+---+---------+-----+--------+-----+-----+-------+-------+-------------------------------+-----------------+----------------------+\n",
            "|37220018   |0001      |09     |1               |ANTONIO HERCULANO DA MOTA|08               |20230530          |01                   |NULL           |NULL    |20200525             |8712300              |NULL                           |RUA           |ARCO-IRIS                   |97    |NULL       |PARQUE BOTUJURU    |09821090|SP |7075     |11   |41014141|NULL |NULL |NULL   |NULL   |HERCULANOANTONIO23@GMAIL.COM   |NULL             |NULL                  |\n",
            "|36068186   |0001      |68     |1               |NULL                     |02               |20200120          |00                   |NULL           |NULL    |20200120             |4330499              |NULL                           |RUA           |JOSE PEREIRA MARQUES        |390   |NULL       |JARDIM COUNTRY CLUB|37704313|MG |5035     |35   |99939878|NULL |NULL |NULL   |NULL   |ALEVIDROSGL@OUTLOOK.COM        |NULL             |NULL                  |\n",
            "|37318263   |0001      |53     |1               |NULL                     |02               |20200604          |00                   |NULL           |NULL    |20200604             |1629301              |3101200                        |RUA           |JOAO DE ALMEIDA (VL IDA)    |568   |NULL       |CENTRO             |09920140|SP |6377     |11   |80594733|NULL |NULL |NULL   |NULL   |VALERIA.POLIANA93@GMAIL.COM    |NULL             |NULL                  |\n",
            "|37364869   |0001      |25     |1               |NULL                     |08               |20220831          |01                   |NULL           |NULL    |20200609             |5229099              |NULL                           |RUA           |ANA JULIA LUIZ (PQ S RAFAEL)|441   |CASA 03    |MONTANHAO          |09782120|SP |7075     |11   |43350869|NULL |NULL |NULL   |NULL   |PESSOAL1@3ECONTABILIDADE.COM.BR|NULL             |NULL                  |\n",
            "|37406207   |0001      |70     |1               |NULL                     |02               |20200615          |00                   |NULL           |NULL    |20200615             |8599699              |4781400,8599604,4763602,8592999|RUA           |PRINCESA FRANCISCA CAROLINA |201/19|SALA 03    |NOVA PETROPOLIS    |09770340|SP |7075     |11   |84027546|NULL |NULL |NULL   |NULL   |PAULAPIOLA07@GMAIL.COM         |NULL             |NULL                  |\n",
            "+-----------+----------+-------+----------------+-------------------------+-----------------+------------------+---------------------+---------------+--------+---------------------+---------------------+-------------------------------+--------------+----------------------------+------+-----------+-------------------+--------+---+---------+-----+--------+-----+-----+-------+-------+-------------------------------+-----------------+----------------------+\n",
            "only showing top 5 rows\n",
            "\n"
          ]
        }
      ]
    },
    {
      "cell_type": "code",
      "source": [
        "# Verificado o esquema após incluir os nomes das colunas\n",
        "\n",
        "df_estab.printSchema()"
      ],
      "metadata": {
        "colab": {
          "base_uri": "https://localhost:8080/"
        },
        "id": "LUSEgTWc4tBX",
        "outputId": "ae0ec6c1-0ff0-40a3-b37b-ba7827cd9651"
      },
      "execution_count": null,
      "outputs": [
        {
          "output_type": "stream",
          "name": "stdout",
          "text": [
            "root\n",
            " |-- cnpj_basico: string (nullable = true)\n",
            " |-- cnpj_ordem: string (nullable = true)\n",
            " |-- cnpj_dv: string (nullable = true)\n",
            " |-- id_matriz_filial: string (nullable = true)\n",
            " |-- nome_fantasia: string (nullable = true)\n",
            " |-- cod_sit_cadastral: string (nullable = true)\n",
            " |-- data_sit_cadastral: string (nullable = true)\n",
            " |-- cod_mot_sit_cadastral: string (nullable = true)\n",
            " |-- nome_cidade_ext: string (nullable = true)\n",
            " |-- cod_pais: string (nullable = true)\n",
            " |-- data_inicio_atividade: string (nullable = true)\n",
            " |-- cnae_fiscal_principal: string (nullable = true)\n",
            " |-- cnae_fiscal_secundaria: string (nullable = true)\n",
            " |-- tipo_de_lograd: string (nullable = true)\n",
            " |-- logradouro: string (nullable = true)\n",
            " |-- numero: string (nullable = true)\n",
            " |-- complemento: string (nullable = true)\n",
            " |-- bairro: string (nullable = true)\n",
            " |-- cep: string (nullable = true)\n",
            " |-- uf: string (nullable = true)\n",
            " |-- municipio: string (nullable = true)\n",
            " |-- ddd_1: string (nullable = true)\n",
            " |-- tel_1: string (nullable = true)\n",
            " |-- ddd_2: string (nullable = true)\n",
            " |-- tel_2: string (nullable = true)\n",
            " |-- ddd_fax: string (nullable = true)\n",
            " |-- num_fax: string (nullable = true)\n",
            " |-- correio_eletronico: string (nullable = true)\n",
            " |-- situacao_especial: string (nullable = true)\n",
            " |-- data_situacao_especial: string (nullable = true)\n",
            "\n"
          ]
        }
      ]
    },
    {
      "cell_type": "code",
      "source": [
        "# Verificando as colunas criadas\n",
        "\n",
        "df_estab.columns"
      ],
      "metadata": {
        "id": "jmqAjtOJwDZl",
        "colab": {
          "base_uri": "https://localhost:8080/"
        },
        "outputId": "b6637234-7e0d-408a-e937-8d8c2827b443"
      },
      "execution_count": null,
      "outputs": [
        {
          "output_type": "execute_result",
          "data": {
            "text/plain": [
              "['cnpj_basico',\n",
              " 'cnpj_ordem',\n",
              " 'cnpj_dv',\n",
              " 'id_matriz_filial',\n",
              " 'nome_fantasia',\n",
              " 'cod_sit_cadastral',\n",
              " 'data_sit_cadastral',\n",
              " 'cod_mot_sit_cadastral',\n",
              " 'nome_cidade_ext',\n",
              " 'cod_pais',\n",
              " 'data_inicio_atividade',\n",
              " 'cnae_fiscal_principal',\n",
              " 'cnae_fiscal_secundaria',\n",
              " 'tipo_de_lograd',\n",
              " 'logradouro',\n",
              " 'numero',\n",
              " 'complemento',\n",
              " 'bairro',\n",
              " 'cep',\n",
              " 'uf',\n",
              " 'municipio',\n",
              " 'ddd_1',\n",
              " 'tel_1',\n",
              " 'ddd_2',\n",
              " 'tel_2',\n",
              " 'ddd_fax',\n",
              " 'num_fax',\n",
              " 'correio_eletronico',\n",
              " 'situacao_especial',\n",
              " 'data_situacao_especial']"
            ]
          },
          "metadata": {},
          "execution_count": 23
        }
      ]
    },
    {
      "cell_type": "code",
      "source": [
        "# Verificar valores ausentes por coluna\n",
        "\n",
        "from pyspark.sql.functions import col, sum\n",
        "\n",
        "df_estab.select([\n",
        "    sum(col(c).isNull().cast(\"int\")).alias(c) for c in df_estab.columns\n",
        "]).show(truncate=False)"
      ],
      "metadata": {
        "colab": {
          "base_uri": "https://localhost:8080/"
        },
        "id": "zTCBdn4w4xdQ",
        "outputId": "8deb80e2-7ff1-4930-a095-577e2cb59dcf"
      },
      "execution_count": null,
      "outputs": [
        {
          "output_type": "stream",
          "name": "stdout",
          "text": [
            "+-----------+----------+-------+----------------+-------------+-----------------+------------------+---------------------+---------------+--------+---------------------+---------------------+----------------------+--------------+----------+------+-----------+------+------+---+---------+--------+--------+--------+--------+--------+--------+------------------+-----------------+----------------------+\n",
            "|cnpj_basico|cnpj_ordem|cnpj_dv|id_matriz_filial|nome_fantasia|cod_sit_cadastral|data_sit_cadastral|cod_mot_sit_cadastral|nome_cidade_ext|cod_pais|data_inicio_atividade|cnae_fiscal_principal|cnae_fiscal_secundaria|tipo_de_lograd|logradouro|numero|complemento|bairro|cep   |uf |municipio|ddd_1   |tel_1   |ddd_2   |tel_2   |ddd_fax |num_fax |correio_eletronico|situacao_especial|data_situacao_especial|\n",
            "+-----------+----------+-------+----------------+-------------+-----------------+------------------+---------------------+---------------+--------+---------------------+---------------------+----------------------+--------------+----------+------+-----------+------+------+---+---------+--------+--------+--------+--------+--------+--------+------------------+-----------------+----------------------+\n",
            "|0          |0         |0      |0               |39042103     |0                |0                 |6                    |63980767       |62685924|3                    |4                    |34676722              |920764        |2022      |12    |37243591   |379413|161998|0  |37       |12412184|12412148|58728792|58735679|56251428|56246587|22137686          |63984187         |63984202              |\n",
            "+-----------+----------+-------+----------------+-------------+-----------------+------------------+---------------------+---------------+--------+---------------------+---------------------+----------------------+--------------+----------+------+-----------+------+------+---+---------+--------+--------+--------+--------+--------+--------+------------------+-----------------+----------------------+\n",
            "\n"
          ]
        }
      ]
    },
    {
      "cell_type": "code",
      "source": [
        "# Verificando duplicatas\n",
        "col_estab_check = [\"cnpj_basico\", \"nome_fantasia\", \"correio_eletronico\"]\n",
        "\n",
        "for coluna in col_estab_check:\n",
        "    df_estab.groupBy(coluna).count().filter(\"count > 1\").show(truncate=False)"
      ],
      "metadata": {
        "colab": {
          "base_uri": "https://localhost:8080/"
        },
        "outputId": "7f685bba-fef0-46a9-8160-bab8ac75ffd8",
        "collapsed": true,
        "id": "QiKBV-nrMNNb"
      },
      "execution_count": null,
      "outputs": [
        {
          "output_type": "stream",
          "name": "stdout",
          "text": [
            "+-----------+-----+\n",
            "|cnpj_basico|count|\n",
            "+-----------+-----+\n",
            "|23466187   |3    |\n",
            "|33014556   |1915 |\n",
            "|19493565   |68   |\n",
            "|20276483   |9    |\n",
            "|76111335   |47   |\n",
            "|37993455   |2    |\n",
            "|06308323   |2    |\n",
            "|38110472   |2    |\n",
            "|38240953   |2    |\n",
            "|21944779   |4    |\n",
            "|15799143   |3    |\n",
            "|10658139   |2    |\n",
            "|31505023   |2    |\n",
            "|19528951   |2    |\n",
            "|26269339   |6    |\n",
            "|39258123   |2    |\n",
            "|39285877   |3    |\n",
            "|33115267   |3    |\n",
            "|39356843   |2    |\n",
            "|28501261   |2    |\n",
            "+-----------+-----+\n",
            "only showing top 20 rows\n",
            "\n",
            "+-------------------------+-----+\n",
            "|nome_fantasia            |count|\n",
            "+-------------------------+-----+\n",
            "|SILVA SERVICOS           |202  |\n",
            "|EDSON PEREIRA NUNES      |2    |\n",
            "|CONSELHO ESCOLAR         |1220 |\n",
            "|FARMACIAS DRUMONND       |10   |\n",
            "|GASTRONE                 |4    |\n",
            "|AFRODITE                 |195  |\n",
            "|HELO FLOWER              |2    |\n",
            "|DZ7 STORE                |2    |\n",
            "|MULTI COPIAS             |29   |\n",
            "|BIOANALISE               |53   |\n",
            "|ALPHA DIGITAL            |16   |\n",
            "|AGRICOLAR                |3    |\n",
            "|HUNTER                   |49   |\n",
            "|TOP FIBRAS               |7    |\n",
            "|PIJAMAS CIRURGICOS MACEIO|2    |\n",
            "|VS CONSTRUCOES           |69   |\n",
            "|DONA FELICIDADE          |4    |\n",
            "|LINHA DE TERRA           |3    |\n",
            "|JESSICA FARIAS           |10   |\n",
            "|VAREJAO PEREIRA          |8    |\n",
            "+-------------------------+-----+\n",
            "only showing top 20 rows\n",
            "\n",
            "+-------------------------------------+-----+\n",
            "|correio_eletronico                   |count|\n",
            "+-------------------------------------+-----+\n",
            "|GABPREFEITAPS@GMAIL.COM              |2    |\n",
            "|juliano.lins@hotmail.com             |2    |\n",
            "|SERGIOSNEIVA@GMAIL.COM               |3    |\n",
            "|ORGCONTABILALTERNATIVA@GMAIL.COM     |664  |\n",
            "|samueldirceu@hotmail.com             |22   |\n",
            "|SAULOFRANCISCOOLIVEIRA@YAHOO.COM.BR  |169  |\n",
            "|CONTABILIDADE@PONTUALCONTABIL.CNT.BR |271  |\n",
            "|JOAOLUCASSILVEIRA@OUTLOOK.COM        |2    |\n",
            "|MAILTON28@GMAIL.COM                  |2    |\n",
            "|JACKSONSANTOS0808@GMAIL.COM          |2    |\n",
            "|TAC@TAC.NET.BR                       |35   |\n",
            "|BERBAPEDROPAULOBERBADASILVA@GMAIL.COM|9    |\n",
            "|LEANDRINHO89SOPHIA@GMAIL.COM         |3    |\n",
            "|DEBORACRISTINA2854@GMAIL.COM         |2    |\n",
            "|VANESACMS@YAHOO.COM.BR               |2    |\n",
            "|GILMAR.CONT@HOTMAIL.COM              |79   |\n",
            "|CRISDALVI@UOL.COM.BR                 |2    |\n",
            "|SINDPESCADORES@HOTMAIL.COM           |3    |\n",
            "|GIANTUR@GMAIL.COM                    |2    |\n",
            "|ADM@ACASSESSORIACONDOMINIAL.ADM.BR   |14   |\n",
            "+-------------------------------------+-----+\n",
            "only showing top 20 rows\n",
            "\n"
          ]
        }
      ]
    },
    {
      "cell_type": "markdown",
      "source": [
        "# **Leitura e tratamento dos arquivos sócios**"
      ],
      "metadata": {
        "id": "G0JCEyCylY7v"
      }
    },
    {
      "cell_type": "code",
      "source": [
        "# Lendo todos os equivos de sócios\n",
        "\n",
        "\n",
        "# Lista com os nomes dos arquivos de sócios\n",
        "socios_files = [\n",
        "  \"K3241.K03200Y0.D50111.SOCIOCSV\",\n",
        "  \"K3241.K03200Y1.D50111.SOCIOCSV\",\n",
        "  \"K3241.K03200Y2.D50111.SOCIOCSV\",\n",
        "  \"K3241.K03200Y3.D50111.SOCIOCSV\",\n",
        "  \"K3241.K03200Y4.D50111.SOCIOCSV\",\n",
        "  \"K3241.K03200Y5.D50111.SOCIOCSV\",\n",
        "  \"K3241.K03200Y6.D50111.SOCIOCSV\",\n",
        "  \"K3241.K03200Y7.D50111.SOCIOCSV\",\n",
        "  \"K3241.K03200Y8.D50111.SOCIOCSV\",\n",
        "  \"K3241.K03200Y9.D50111.SOCIOCSV\"\n",
        "]\n",
        "\n",
        "# Criando a lista de caminhos completos para cada arquivo\n",
        "file_paths = [os.path.join(directory, f) for f in socios_files]\n",
        "\n",
        "# Lendo todos os arquivos de sócios ao mesmo tempo\n",
        "df_socios = (spark.read\n",
        "    .option(\"charset\", \"latin1\")  # Define o encoding correto\n",
        "    .option(\"quote\", \"\\\"\")  # Mantém texto entre aspas duplas\n",
        "    .option(\"delimiter\", \";\")  # Define o separador correto\n",
        "    .option(\"inferSchema\", \"false\")  # Não inferir automaticamente os tipos de dados\n",
        "    .csv(file_paths)  # Lê todos os arquivos de uma vez\n",
        ")\n",
        "\n",
        "# Exibe as primeiras linhas para conferência\n",
        "df_socios.show()\n",
        "\n",
        "# Exibe o schema inferido (todas as colunas devem ser StringType)\n",
        "df_socios.printSchema()\n",
        "\n"
      ],
      "metadata": {
        "colab": {
          "base_uri": "https://localhost:8080/"
        },
        "outputId": "4981c893-7cad-4981-acc1-2fd90f0e4881",
        "id": "mvrG_LRBmCtU"
      },
      "execution_count": null,
      "outputs": [
        {
          "output_type": "stream",
          "name": "stdout",
          "text": [
            "+--------+---+--------------------+-----------+---+--------+----+-----------+----+---+----+\n",
            "|     _c0|_c1|                 _c2|        _c3|_c4|     _c5| _c6|        _c7| _c8|_c9|_c10|\n",
            "+--------+---+--------------------+-----------+---+--------+----+-----------+----+---+----+\n",
            "|66011180|  2|     CLAUDIO RONDINI|***887038**| 49|20011126|NULL|***000000**|NULL| 00|   8|\n",
            "|66011180|  2|MARIA APARECIDA Q...|***933348**| 22|20050618|NULL|***000000**|NULL| 00|   7|\n",
            "|85061877|  2| RICARDO BAULE ROSSI|***521929**| 49|20060202|NULL|***000000**|NULL| 00|   4|\n",
            "|85061877|  2|EDUARDO GUILHERME...|***550209**| 22|20060202|NULL|***000000**|NULL| 00|   5|\n",
            "|07428785|  2|WENDER ALVES MOREIRA|***544511**| 49|20141021|NULL|***000000**|NULL| 00|   5|\n",
            "|49250368|  2|ELIETE QUEIROZ BA...|***614218**| 22|20031126|NULL|***000000**|NULL| 00|   5|\n",
            "|49250368|  2|VALTER LUIZ DE OL...|***360108**| 49|19771011|NULL|***000000**|NULL| 00|   8|\n",
            "|66011644|  2|PAULO PAES LEME F...|***462388**| 49|19910613|NULL|***000000**|NULL| 00|   7|\n",
            "|66011644|  2|DANIELA LANGONE B...|***519898**| 22|20020425|NULL|***000000**|NULL| 00|   6|\n",
            "|10739225|  2|MARIA AUXILIADORA...|***906864**| 16|20210310|NULL|***000000**|NULL| 00|   8|\n",
            "|10739258|  2|PAULO PEREIRA DA ...|***868964**| 16|20220902|NULL|***000000**|NULL| 00|   7|\n",
            "|28815926|  2|FLAVIA FERREIRA F...|***804557**| 49|20130823|NULL|***000000**|NULL| 00|   5|\n",
            "|28815926|  2|BRUNO FREITAS ROD...|***076567**| 49|20230118|NULL|***000000**|NULL| 00|   5|\n",
            "|85062875|  2|ADALTO RODRIGUES ...|***094289**| 49|20120718|NULL|***000000**|NULL| 00|   6|\n",
            "|85062958|  2|       EDEGAR VILKAS|***515479**| 22|19970508|NULL|***000000**|NULL| 00|   8|\n",
            "|85062958|  2|      MARCELO VILKAS|***715189**| 49|19970508|NULL|***000000**|NULL| 00|   5|\n",
            "|85063113|  2|EMANUEL REINHER C...|***527559**| 49|20051221|NULL|***000000**|NULL| 00|   5|\n",
            "|66012535|  2|ANGELA APARECIDA ...|***501439**| 22|19990930|NULL|***000000**|NULL| 00|   7|\n",
            "|49251366|  2|OSMAR CADILHAS FL...|***092108**| 49|19780619|NULL|***000000**|NULL| 00|   9|\n",
            "|49251366|  2| PAULA CABRAL FLORES|***510358**| 49|19771006|NULL|***000000**|NULL| 00|   9|\n",
            "+--------+---+--------------------+-----------+---+--------+----+-----------+----+---+----+\n",
            "only showing top 20 rows\n",
            "\n",
            "root\n",
            " |-- _c0: string (nullable = true)\n",
            " |-- _c1: string (nullable = true)\n",
            " |-- _c2: string (nullable = true)\n",
            " |-- _c3: string (nullable = true)\n",
            " |-- _c4: string (nullable = true)\n",
            " |-- _c5: string (nullable = true)\n",
            " |-- _c6: string (nullable = true)\n",
            " |-- _c7: string (nullable = true)\n",
            " |-- _c8: string (nullable = true)\n",
            " |-- _c9: string (nullable = true)\n",
            " |-- _c10: string (nullable = true)\n",
            "\n"
          ]
        }
      ]
    },
    {
      "cell_type": "code",
      "source": [
        "# Contagem das linhas\n",
        "\n",
        "df_socios.take(1)  # Força a execução antes do count\n",
        "num_linhas = df_socios.count()\n",
        "print(\"Linhas :\", {num_linhas})\n"
      ],
      "metadata": {
        "colab": {
          "base_uri": "https://localhost:8080/"
        },
        "outputId": "a4610762-f516-47a5-c2a8-cc4bf9f5493b",
        "id": "ITROJqywn9mt"
      },
      "execution_count": null,
      "outputs": [
        {
          "output_type": "stream",
          "name": "stdout",
          "text": [
            "Linhas : {25162928}\n"
          ]
        }
      ]
    },
    {
      "cell_type": "code",
      "source": [
        "# Lê a quantidade de linhas por arquivo\n",
        "from pyspark.sql.functions import input_file_name\n",
        "\n",
        "df_socios.withColumn(\"arquivo\", input_file_name()).groupBy(\"arquivo\").count().show(truncate=False)\n"
      ],
      "metadata": {
        "colab": {
          "base_uri": "https://localhost:8080/"
        },
        "outputId": "c4d52f48-25ff-4b58-9b67-5b2b9604c22e",
        "id": "VaIQREgOoarU"
      },
      "execution_count": null,
      "outputs": [
        {
          "output_type": "stream",
          "name": "stdout",
          "text": [
            "+-----------------------------------------------------------------------------------------------------------------+-------+\n",
            "|arquivo                                                                                                          |count  |\n",
            "+-----------------------------------------------------------------------------------------------------------------+-------+\n",
            "|file:///content/drive/MyDrive/Projeto_ETL_Trust_Works/Dados_abertos/descompactados/K3241.K03200Y0.D50111.SOCIOCSV|6990578|\n",
            "|file:///content/drive/MyDrive/Projeto_ETL_Trust_Works/Dados_abertos/descompactados/K3241.K03200Y1.D50111.SOCIOCSV|2019150|\n",
            "|file:///content/drive/MyDrive/Projeto_ETL_Trust_Works/Dados_abertos/descompactados/K3241.K03200Y2.D50111.SOCIOCSV|2019150|\n",
            "|file:///content/drive/MyDrive/Projeto_ETL_Trust_Works/Dados_abertos/descompactados/K3241.K03200Y3.D50111.SOCIOCSV|2019150|\n",
            "|file:///content/drive/MyDrive/Projeto_ETL_Trust_Works/Dados_abertos/descompactados/K3241.K03200Y4.D50111.SOCIOCSV|2019150|\n",
            "|file:///content/drive/MyDrive/Projeto_ETL_Trust_Works/Dados_abertos/descompactados/K3241.K03200Y5.D50111.SOCIOCSV|2019150|\n",
            "|file:///content/drive/MyDrive/Projeto_ETL_Trust_Works/Dados_abertos/descompactados/K3241.K03200Y6.D50111.SOCIOCSV|2019150|\n",
            "|file:///content/drive/MyDrive/Projeto_ETL_Trust_Works/Dados_abertos/descompactados/K3241.K03200Y7.D50111.SOCIOCSV|2019150|\n",
            "|file:///content/drive/MyDrive/Projeto_ETL_Trust_Works/Dados_abertos/descompactados/K3241.K03200Y8.D50111.SOCIOCSV|2019150|\n",
            "|file:///content/drive/MyDrive/Projeto_ETL_Trust_Works/Dados_abertos/descompactados/K3241.K03200Y9.D50111.SOCIOCSV|2019150|\n",
            "+-----------------------------------------------------------------------------------------------------------------+-------+\n",
            "\n"
          ]
        }
      ]
    },
    {
      "cell_type": "code",
      "source": [
        "# Incluindo os nomes das colunas\n",
        "\n",
        "df_socios = (\n",
        "    df_socios.withColumnRenamed(\"_c0\", \"cnpj_basico\")\n",
        "    .withColumnRenamed(\"_c1\", \"cod_id_socio\")\n",
        "    .withColumnRenamed(\"_c2\", \"nome_socio_pf_pj\")\n",
        "    .withColumnRenamed(\"_c3\", \"cpf_cnpj_socio\")\n",
        "    .withColumnRenamed(\"_c4\", \"cod_quali_socio\")\n",
        "    .withColumnRenamed(\"_c5\", \"data_entrada_sociedade\")\n",
        "    .withColumnRenamed(\"_c6\", \"cod_pais_socio\")\n",
        "    .withColumnRenamed(\"_c7\", \"cpf_representante_legal\")\n",
        "    .withColumnRenamed(\"_c8\", \"nome_representante\")\n",
        "    .withColumnRenamed(\"_c9\", \"cod_quali_representante\")\n",
        "    .withColumnRenamed(\"_c10\", \"cod_faixa_etaria\")\n",
        "\n",
        ")\n",
        "\n",
        "# Exibe as primeiras linhas para conferir\n",
        "df_socios.show(n=5,truncate=False)"
      ],
      "metadata": {
        "colab": {
          "base_uri": "https://localhost:8080/"
        },
        "outputId": "151869f3-9858-4622-f7dc-2a43364c53ed",
        "id": "DJDzFt_rpd1_"
      },
      "execution_count": null,
      "outputs": [
        {
          "output_type": "stream",
          "name": "stdout",
          "text": [
            "+-----------+------------+-------------------------------+--------------+---------------+----------------------+--------------+-----------------------+------------------+-----------------------+----------------+\n",
            "|cnpj_basico|cod_id_socio|nome_socio_pf_pj               |cpf_cnpj_socio|cod_quali_socio|data_entrada_sociedade|cod_pais_socio|cpf_representante_legal|nome_representante|cod_quali_representante|cod_faixa_etaria|\n",
            "+-----------+------------+-------------------------------+--------------+---------------+----------------------+--------------+-----------------------+------------------+-----------------------+----------------+\n",
            "|66011180   |2           |CLAUDIO RONDINI                |***887038**   |49             |20011126              |NULL          |***000000**            |NULL              |00                     |8               |\n",
            "|66011180   |2           |MARIA APARECIDA QUEIROZ RONDINI|***933348**   |22             |20050618              |NULL          |***000000**            |NULL              |00                     |7               |\n",
            "|85061877   |2           |RICARDO BAULE ROSSI            |***521929**   |49             |20060202              |NULL          |***000000**            |NULL              |00                     |4               |\n",
            "|85061877   |2           |EDUARDO GUILHERME BAULE ROSSI  |***550209**   |22             |20060202              |NULL          |***000000**            |NULL              |00                     |5               |\n",
            "|07428785   |2           |WENDER ALVES MOREIRA           |***544511**   |49             |20141021              |NULL          |***000000**            |NULL              |00                     |5               |\n",
            "+-----------+------------+-------------------------------+--------------+---------------+----------------------+--------------+-----------------------+------------------+-----------------------+----------------+\n",
            "only showing top 5 rows\n",
            "\n"
          ]
        }
      ]
    },
    {
      "cell_type": "code",
      "source": [
        "# Verificado o esquema após incluir os nomes das colunas\n",
        "\n",
        "df_socios.printSchema()"
      ],
      "metadata": {
        "colab": {
          "base_uri": "https://localhost:8080/"
        },
        "outputId": "6d4347b8-8a8c-4c99-9baf-357c74fe543c",
        "id": "Fst2GUbZ7VHh"
      },
      "execution_count": null,
      "outputs": [
        {
          "output_type": "stream",
          "name": "stdout",
          "text": [
            "root\n",
            " |-- cnpj_basico: string (nullable = true)\n",
            " |-- cod_id_socio: string (nullable = true)\n",
            " |-- nome_socio_pf_pj: string (nullable = true)\n",
            " |-- cpf_cnpj_socio: string (nullable = true)\n",
            " |-- cod_quali_socio: string (nullable = true)\n",
            " |-- data_entrada_sociedade: string (nullable = true)\n",
            " |-- cod_pais_socio: string (nullable = true)\n",
            " |-- cpf_representante_legal: string (nullable = true)\n",
            " |-- nome_representante: string (nullable = true)\n",
            " |-- cod_quali_representante: string (nullable = true)\n",
            " |-- cod_faixa_etaria: string (nullable = true)\n",
            "\n"
          ]
        }
      ]
    },
    {
      "cell_type": "code",
      "source": [
        "# Verificando as colunas criadas\n",
        "\n",
        "df_socios.columns"
      ],
      "metadata": {
        "colab": {
          "base_uri": "https://localhost:8080/"
        },
        "id": "-bG-DCbtzmA3",
        "outputId": "3bcd6261-9ad4-4158-9eb9-b79108899a5e"
      },
      "execution_count": null,
      "outputs": [
        {
          "output_type": "execute_result",
          "data": {
            "text/plain": [
              "['cnpj_basico',\n",
              " 'cod_id_socio',\n",
              " 'nome_socio_pf_pj',\n",
              " 'cpf_cnpj_socio',\n",
              " 'cod_quali_socio',\n",
              " 'data_entrada_sociedade',\n",
              " 'cod_pais_socio',\n",
              " 'cpf_representante_legal',\n",
              " 'nome_representante',\n",
              " 'cod_quali_representante',\n",
              " 'cod_faixa_etaria']"
            ]
          },
          "metadata": {},
          "execution_count": 28
        }
      ]
    },
    {
      "cell_type": "code",
      "source": [
        "# Verificar valores ausentes por coluna\n",
        "\n",
        "from pyspark.sql.functions import col, sum\n",
        "\n",
        "df_socios.select([\n",
        "    sum(col(c).isNull().cast(\"int\")).alias(c) for c in df_socios.columns\n",
        "]).show(truncate=False)"
      ],
      "metadata": {
        "colab": {
          "base_uri": "https://localhost:8080/"
        },
        "id": "6zINuWkSzmKM",
        "outputId": "11286221-81f2-445b-cdda-e7245677f405"
      },
      "execution_count": null,
      "outputs": [
        {
          "output_type": "stream",
          "name": "stdout",
          "text": [
            "+-----------+------------+----------------+--------------+---------------+----------------------+--------------+-----------------------+------------------+-----------------------+----------------+\n",
            "|cnpj_basico|cod_id_socio|nome_socio_pf_pj|cpf_cnpj_socio|cod_quali_socio|data_entrada_sociedade|cod_pais_socio|cpf_representante_legal|nome_representante|cod_quali_representante|cod_faixa_etaria|\n",
            "+-----------+------------+----------------+--------------+---------------+----------------------+--------------+-----------------------+------------------+-----------------------+----------------+\n",
            "|0          |0           |1901            |12873         |0              |0                     |25075448      |0                      |24521391          |0                      |0               |\n",
            "+-----------+------------+----------------+--------------+---------------+----------------------+--------------+-----------------------+------------------+-----------------------+----------------+\n",
            "\n"
          ]
        }
      ]
    },
    {
      "cell_type": "code",
      "source": [
        "# Verificando duplicatas\n",
        "col_socios_check = [\"cnpj_basico\", \"nome_socio_pf_pj\", \"cpf_cnpj_socio\",\"nome_representante\"]\n",
        "\n",
        "for coluna in col_socios_check:\n",
        "    df_socios.groupBy(coluna).count().filter(\"count > 1\").show(truncate=False)"
      ],
      "metadata": {
        "colab": {
          "base_uri": "https://localhost:8080/"
        },
        "id": "vzF0fdve7tyN",
        "outputId": "0ed727c4-0c78-416d-8e66-004838ec3e90"
      },
      "execution_count": null,
      "outputs": [
        {
          "output_type": "stream",
          "name": "stdout",
          "text": [
            "+-----------+-----+\n",
            "|cnpj_basico|count|\n",
            "+-----------+-----+\n",
            "|28819530   |2    |\n",
            "|49327943   |2    |\n",
            "|28928174   |3    |\n",
            "|85166973   |2    |\n",
            "|10863538   |3    |\n",
            "|10908291   |3    |\n",
            "|66176918   |2    |\n",
            "|10934784   |2    |\n",
            "|11052842   |2    |\n",
            "|85324978   |5    |\n",
            "|29235892   |4    |\n",
            "|85369635   |2    |\n",
            "|85379212   |4    |\n",
            "|66424615   |2    |\n",
            "|66523879   |2    |\n",
            "|11420866   |2    |\n",
            "|11427572   |4    |\n",
            "|07852550   |2    |\n",
            "|66668849   |2    |\n",
            "|66698952   |2    |\n",
            "+-----------+-----+\n",
            "only showing top 20 rows\n",
            "\n",
            "+------------------------------+-----+\n",
            "|nome_socio_pf_pj              |count|\n",
            "+------------------------------+-----+\n",
            "|PAULO PAES LEME FITTIPALDI    |4    |\n",
            "|REJANE MARIA MEIRA DE CARVALHO|7    |\n",
            "|REGINALDO VENTURA ARAUJO      |2    |\n",
            "|NELSON ALVES RIBEIRO DA SILVA |2    |\n",
            "|MARCOS ELIAS PEREIRA          |6    |\n",
            "|SUELI DA SILVA NOGUEIRA       |3    |\n",
            "|SONIA VIANNA VANZOLINI        |2    |\n",
            "|GEOVAR POUBEL DA SILVA        |4    |\n",
            "|JOSE ANTONIO NUNES BARROS NETO|2    |\n",
            "|MARCELO DONADEL               |5    |\n",
            "|MARIA LUCIA DE QUEIROZ        |4    |\n",
            "|BENEDITO MESSIAS CONTARIM     |3    |\n",
            "|JOSE FERREIRA ROSA JUNIOR     |3    |\n",
            "|ISAAC MINERVINO BARBOSA       |2    |\n",
            "|EDUARDO JOSE BRANCO           |2    |\n",
            "|DANNY MARCOS LOYOLLA          |5    |\n",
            "|PAULO NOGUEIRA DE ALMEIDA     |5    |\n",
            "|ANTONIO LAURINDO DE MOURA     |2    |\n",
            "|GETULIO DE FATIMA ARAUJO      |2    |\n",
            "|MARIA LUCIA ZACHARIAS KHALIL  |2    |\n",
            "+------------------------------+-----+\n",
            "only showing top 20 rows\n",
            "\n",
            "+--------------+-----+\n",
            "|cpf_cnpj_socio|count|\n",
            "+--------------+-----+\n",
            "|***130588**   |89   |\n",
            "|***042008**   |74   |\n",
            "|***302708**   |81   |\n",
            "|***480097**   |28   |\n",
            "|***842198**   |58   |\n",
            "|***382879**   |35   |\n",
            "|***334777**   |35   |\n",
            "|***976908**   |198  |\n",
            "|***420207**   |37   |\n",
            "|***321908**   |89   |\n",
            "|***523985**   |16   |\n",
            "|***454169**   |27   |\n",
            "|***298907**   |42   |\n",
            "|***138217**   |25   |\n",
            "|***420367**   |27   |\n",
            "|***478269**   |37   |\n",
            "|***919667**   |13   |\n",
            "|***119728**   |64   |\n",
            "|***171209**   |52   |\n",
            "|***230379**   |22   |\n",
            "+--------------+-----+\n",
            "only showing top 20 rows\n",
            "\n",
            "+-------------------------------------+-----+\n",
            "|nome_representante                   |count|\n",
            "+-------------------------------------+-----+\n",
            "|CARLOS EDUARDO RODRIGUES GOMES       |26   |\n",
            "|NELSON ALVARENGA FILHO               |4    |\n",
            "|ELI HARTH                            |5    |\n",
            "|WLADIMIR RODNEY PALERMO              |6    |\n",
            "|MARCIO JOSE DOS REIS                 |3    |\n",
            "|HANS CHRISTIAN MELCHERS              |53   |\n",
            "|MARTA ADRIANA E SILVA                |2    |\n",
            "|ALADINO SELMI NETO                   |2    |\n",
            "|AICHE AHMAD MALAS AYOUB              |11   |\n",
            "|SILVANA MARIA SPERANDIO              |6    |\n",
            "|SERGIO DOS SANTOS CORREA             |2    |\n",
            "|CRISTINA ASSUMPCAO MEIRELLES FERREIRA|9    |\n",
            "|ANTONIO MARCOS DE OLIVEIRA           |22   |\n",
            "|WILSON NITZ                          |2    |\n",
            "|CARLOS ROBERTO ARAUJO BARRETO        |8    |\n",
            "|SERGIO MILANO BENCLOWICZ             |3    |\n",
            "|RODRIGO FERRARI IAQUINTA             |2    |\n",
            "|PATRICIA LYNCH PUPO                  |2    |\n",
            "|GIVAGO MUNHOZ NUNES                  |3    |\n",
            "|OVIDIO SEGANTIN                      |11   |\n",
            "+-------------------------------------+-----+\n",
            "only showing top 20 rows\n",
            "\n"
          ]
        }
      ]
    },
    {
      "cell_type": "markdown",
      "source": [
        "# **Leitura e tratamento do Arquivo Motivos**"
      ],
      "metadata": {
        "id": "z2KTRUMe65tr"
      }
    },
    {
      "cell_type": "code",
      "source": [
        "# Constrói o caminho completo para o arquivo\n",
        "file_path = os.path.join(directory, 'F.K03200$Z.D50111.MOTICSV')\n",
        "\n",
        "# Lê o arquivo CSV sem definir nomes de colunas, mas garantindo que todas as colunas sejam StringType\n",
        "df_motivos = (spark.read\n",
        "    .option(\"charset\", \"latin1\")  # Define o encoding correto\n",
        "    .option(\"quote\", \"\\\"\")  # Mantém texto entre aspas duplas\n",
        "    .option(\"delimiter\", \";\")  # Define o separador correto\n",
        "    .option(\"inferSchema\", \"false\")  # Não inferir automaticamente os tipos de dados\n",
        "    .csv(file_path)  # Ler o arquivo, colocando um nome de coluna genérico\n",
        ")\n",
        "\n",
        "# Exibe as primeiras linhas para conferência\n",
        "df_motivos.show()\n",
        "\n",
        "# Exibe o schema inferido (todas as colunas devem ser StringType)\n",
        "df_motivos.printSchema()\n"
      ],
      "metadata": {
        "colab": {
          "base_uri": "https://localhost:8080/"
        },
        "outputId": "e69ff786-cd79-49ea-8c0c-9e2c4e29281b",
        "id": "SjfIOtSk7tDd"
      },
      "execution_count": null,
      "outputs": [
        {
          "output_type": "stream",
          "name": "stdout",
          "text": [
            "+---+--------------------+\n",
            "|_c0|                 _c1|\n",
            "+---+--------------------+\n",
            "| 00|          SEM MOTIVO|\n",
            "| 01|EXTINCAO POR ENCE...|\n",
            "| 02|        INCORPORACAO|\n",
            "| 03|               FUSAO|\n",
            "| 04|         CISAO TOTAL|\n",
            "| 05|ENCERRAMENTO DA F...|\n",
            "| 06|ENCERRAMENTO DA L...|\n",
            "| 07|   ELEVACAO A MATRIZ|\n",
            "| 08|          TRANSPASSE|\n",
            "| 09|NAO INICIO DE ATI...|\n",
            "| 10|EXTINCAO PELO ENC...|\n",
            "| 11|ANULACAO POR MULT...|\n",
            "| 12|ANULACAO ONLINE D...|\n",
            "| 13|     OMISSA CONTUMAZ|\n",
            "| 14|OMISSA NAO LOCALI...|\n",
            "| 15|INEXISTENCIA DE FATO|\n",
            "| 16| ANULACAO POR VICIOS|\n",
            "| 17|BAIXA INICIADA EM...|\n",
            "| 18|INTERRUPCAO TEMPO...|\n",
            "| 21|PEDIDO DE BAIXA I...|\n",
            "+---+--------------------+\n",
            "only showing top 20 rows\n",
            "\n",
            "root\n",
            " |-- _c0: string (nullable = true)\n",
            " |-- _c1: string (nullable = true)\n",
            "\n"
          ]
        }
      ]
    },
    {
      "cell_type": "code",
      "source": [
        "# Obtém o número de linhas\n",
        "num_linhas = df_motivos.count()\n",
        "\n",
        "# Obtém o número de colunas\n",
        "num_colunas = len(df_motivos.columns)\n",
        "\n",
        "print(f\"Número de linhas: {num_linhas}\")\n",
        "print(f\"Número de colunas: {num_colunas}\")"
      ],
      "metadata": {
        "colab": {
          "base_uri": "https://localhost:8080/"
        },
        "outputId": "5cc88f8d-363a-4cff-c122-179ead092f7d",
        "id": "BGuqMDk985KS"
      },
      "execution_count": null,
      "outputs": [
        {
          "output_type": "stream",
          "name": "stdout",
          "text": [
            "Número de linhas: 61\n",
            "Número de colunas: 2\n"
          ]
        }
      ]
    },
    {
      "cell_type": "code",
      "source": [
        "# Verificação de valores nulos\n",
        "\n",
        "from pyspark.sql.functions import col, count, when\n",
        "\n",
        "for column_name in df_motivos.columns:\n",
        "    null_count = df_motivos.filter(col(column_name).isNull()).count()\n",
        "    print(f\"Coluna: {column_name}, Valores Nulos: {null_count}\")"
      ],
      "metadata": {
        "colab": {
          "base_uri": "https://localhost:8080/"
        },
        "outputId": "e7bd2cfc-98b6-4b6a-caaf-d8aac0537e4a",
        "id": "YWUs8lSX9Fsb"
      },
      "execution_count": null,
      "outputs": [
        {
          "output_type": "stream",
          "name": "stdout",
          "text": [
            "Coluna: _c0, Valores Nulos: 0\n",
            "Coluna: _c1, Valores Nulos: 0\n"
          ]
        }
      ]
    },
    {
      "cell_type": "code",
      "source": [
        "# Verificação de valores duplicados\n",
        "\n",
        "df_motivos.groupBy(df_motivos.columns).count().filter(count(\"*\") > 1).count()"
      ],
      "metadata": {
        "colab": {
          "base_uri": "https://localhost:8080/"
        },
        "outputId": "19efd9e7-fa4b-40d3-c49f-a5f42a24115f",
        "id": "KdQUfcy295Fp"
      },
      "execution_count": null,
      "outputs": [
        {
          "output_type": "execute_result",
          "data": {
            "text/plain": [
              "0"
            ]
          },
          "metadata": {},
          "execution_count": 32
        }
      ]
    },
    {
      "cell_type": "code",
      "source": [
        "# Incluindo o cabeçalho (nomes de colunas)\n",
        "\n",
        "df_motivos = df_motivos.withColumnRenamed(\"_c0\", \"cod_motivo\").withColumnRenamed(\"_c1\", \"descricao_motivo\")\n",
        "\n",
        "# Exibe as primeiras linhas para conferir\n",
        "\n",
        "df_motivos.show(truncate=False)\n",
        "# Verifica o schema atualizado\n",
        "df_motivos.printSchema()\n",
        "\n"
      ],
      "metadata": {
        "colab": {
          "base_uri": "https://localhost:8080/"
        },
        "outputId": "ca9ca4ed-706a-4b0d-98e0-269e728e36c7",
        "id": "YNIsEx-3-Aea"
      },
      "execution_count": null,
      "outputs": [
        {
          "output_type": "stream",
          "name": "stdout",
          "text": [
            "+----------+-------------------------------------------------+\n",
            "|cod_motivo|descricao_motivo                                 |\n",
            "+----------+-------------------------------------------------+\n",
            "|00        |SEM MOTIVO                                       |\n",
            "|01        |EXTINCAO POR ENCERRAMENTO LIQUIDACAO VOLUNTARIA  |\n",
            "|02        |INCORPORACAO                                     |\n",
            "|03        |FUSAO                                            |\n",
            "|04        |CISAO TOTAL                                      |\n",
            "|05        |ENCERRAMENTO DA FALENCIA                         |\n",
            "|06        |ENCERRAMENTO DA LIQUIDACAO                       |\n",
            "|07        |ELEVACAO A MATRIZ                                |\n",
            "|08        |TRANSPASSE                                       |\n",
            "|09        |NAO INICIO DE ATIVIDADE                          |\n",
            "|10        |EXTINCAO PELO ENCERRAMENTO DA LIQUIDACAO JUDICIAL|\n",
            "|11        |ANULACAO POR MULTICIPLIDADE                      |\n",
            "|12        |ANULACAO ONLINE DE OFICIO                        |\n",
            "|13        |OMISSA CONTUMAZ                                  |\n",
            "|14        |OMISSA NAO LOCALIZADA                            |\n",
            "|15        |INEXISTENCIA DE FATO                             |\n",
            "|16        |ANULACAO POR VICIOS                              |\n",
            "|17        |BAIXA INICIADA EM ANALISE                        |\n",
            "|18        |INTERRUPCAO TEMPORARIA DAS ATIVIDADES            |\n",
            "|21        |PEDIDO DE BAIXA INDEFERIDA                       |\n",
            "+----------+-------------------------------------------------+\n",
            "only showing top 20 rows\n",
            "\n",
            "root\n",
            " |-- cod_motivo: string (nullable = true)\n",
            " |-- descricao_motivo: string (nullable = true)\n",
            "\n"
          ]
        }
      ]
    },
    {
      "cell_type": "code",
      "source": [
        "# Verificando as colunas criadas\n",
        "\n",
        "df_motivos.columns"
      ],
      "metadata": {
        "colab": {
          "base_uri": "https://localhost:8080/"
        },
        "id": "3MyBNyheJ0b_",
        "outputId": "bd1ef289-9541-40a8-9ba6-0fc23727cf2f"
      },
      "execution_count": null,
      "outputs": [
        {
          "output_type": "execute_result",
          "data": {
            "text/plain": [
              "['cod_motivo', 'descricao_motivo']"
            ]
          },
          "metadata": {},
          "execution_count": 34
        }
      ]
    },
    {
      "cell_type": "markdown",
      "source": [
        "# **Leitura e Tratando o Arquivo Municipios**"
      ],
      "metadata": {
        "id": "8kYTkXzDkPJQ"
      }
    },
    {
      "cell_type": "code",
      "source": [
        "# Constrói o caminho completo para o arquivo\n",
        "file_path = os.path.join(directory, 'F.K03200$Z.D50111.MUNICCSV')\n",
        "\n",
        "# Lê o arquivo CSV sem definir nomes de colunas, mas garantindo que todas as colunas sejam StringType\n",
        "df_municipios = (spark.read\n",
        "    .option(\"charset\", \"latin1\")  # Define o encoding correto\n",
        "    .option(\"quote\", \"\\\"\")  # Mantém texto entre aspas duplas\n",
        "    .option(\"delimiter\", \";\")  # Define o separador correto\n",
        "    .option(\"inferSchema\", \"false\")  # Não inferir automaticamente os tipos de dados\n",
        "    .csv(file_path)  # Ler o arquivo, colocando um nome de coluna genérico\n",
        ")\n",
        "\n",
        "# Exibe as primeiras linhas para conferência\n",
        "df_municipios.show()\n",
        "\n",
        "# Exibe o schema inferido (todas as colunas devem ser StringType)\n",
        "df_municipios.printSchema()\n"
      ],
      "metadata": {
        "colab": {
          "base_uri": "https://localhost:8080/"
        },
        "outputId": "c89d00e3-8207-4ec1-972a-88984070bac5",
        "id": "vnOrAr9Jkm1X"
      },
      "execution_count": null,
      "outputs": [
        {
          "output_type": "stream",
          "name": "stdout",
          "text": [
            "+----+--------------------+\n",
            "| _c0|                 _c1|\n",
            "+----+--------------------+\n",
            "|0001|       GUAJARA-MIRIM|\n",
            "|0002|ALTO ALEGRE DOS P...|\n",
            "|0003|         PORTO VELHO|\n",
            "|0004|             BURITIS|\n",
            "|0005|           JI-PARANA|\n",
            "|0006|         CHUPINGUAIA|\n",
            "|0007|           ARIQUEMES|\n",
            "|0008|             CUJUBIM|\n",
            "|0009|              CACOAL|\n",
            "|0010|          NOVA UNIAO|\n",
            "|0011|       PIMENTA BUENO|\n",
            "|0012|             PARECIS|\n",
            "|0013|             VILHENA|\n",
            "|0014|PIMENTEIRAS DO OESTE|\n",
            "|0015|                JARU|\n",
            "|0016|PRIMAVERA DE ROND...|\n",
            "|0017| OURO PRETO DO OESTE|\n",
            "|0018|  SAO FELIPE D'OESTE|\n",
            "|0019|   PRESIDENTE MEDICI|\n",
            "|0020|SAO FRANCISCO DO ...|\n",
            "+----+--------------------+\n",
            "only showing top 20 rows\n",
            "\n",
            "root\n",
            " |-- _c0: string (nullable = true)\n",
            " |-- _c1: string (nullable = true)\n",
            "\n"
          ]
        }
      ]
    },
    {
      "cell_type": "code",
      "source": [
        "# Obtém o número de linhas\n",
        "num_linhas = df_municipios.count()\n",
        "\n",
        "# Obtém o número de colunas\n",
        "num_colunas = len(df_municipios.columns)\n",
        "\n",
        "print(f\"Número de linhas: {num_linhas}\")\n",
        "print(f\"Número de colunas: {num_colunas}\")"
      ],
      "metadata": {
        "colab": {
          "base_uri": "https://localhost:8080/"
        },
        "outputId": "d88739e8-b963-48bd-a67b-d8cd93ec57b7",
        "id": "Y6L3gA3klPCJ"
      },
      "execution_count": null,
      "outputs": [
        {
          "output_type": "stream",
          "name": "stdout",
          "text": [
            "Número de linhas: 5571\n",
            "Número de colunas: 2\n"
          ]
        }
      ]
    },
    {
      "cell_type": "code",
      "source": [
        "# Verificação de valores nulos\n",
        "\n",
        "from pyspark.sql.functions import col, count, when\n",
        "\n",
        "for column_name in df_municipios.columns:\n",
        "    null_count = df_municipios.filter(col(column_name).isNull()).count()\n",
        "    print(f\"Coluna: {column_name}, Valores Nulos: {null_count}\")"
      ],
      "metadata": {
        "colab": {
          "base_uri": "https://localhost:8080/"
        },
        "outputId": "a0ac029b-e828-4254-b9a3-30f261285e73",
        "id": "t7DP6z5_lqc7"
      },
      "execution_count": null,
      "outputs": [
        {
          "output_type": "stream",
          "name": "stdout",
          "text": [
            "Coluna: _c0, Valores Nulos: 0\n",
            "Coluna: _c1, Valores Nulos: 0\n"
          ]
        }
      ]
    },
    {
      "cell_type": "code",
      "source": [
        "# Verificação de valores duplicados\n",
        "\n",
        "df_municipios.groupBy(df_municipios.columns).count().filter(count(\"*\") > 1).count()"
      ],
      "metadata": {
        "colab": {
          "base_uri": "https://localhost:8080/"
        },
        "outputId": "2d2f3aa9-f9fa-450b-87b7-8a9b53074de0",
        "id": "7sVRrGWWmF2m"
      },
      "execution_count": null,
      "outputs": [
        {
          "output_type": "execute_result",
          "data": {
            "text/plain": [
              "0"
            ]
          },
          "metadata": {},
          "execution_count": 38
        }
      ]
    },
    {
      "cell_type": "code",
      "source": [
        "# Incluindo o cabeçalho (nomes de colunas)\n",
        "\n",
        "df_municipios = df_municipios.withColumnRenamed(\"_c0\", \"cod_municipio\").withColumnRenamed(\"_c1\", \"nome_municipio\")\n",
        "\n",
        "# Exibe as primeiras linhas para conferir\n",
        "\n",
        "df_municipios.show(truncate=False)\n",
        "# Verifica o schema atualizado\n",
        "df_municipios.printSchema()\n",
        "\n"
      ],
      "metadata": {
        "colab": {
          "base_uri": "https://localhost:8080/"
        },
        "outputId": "f69a45ba-8f8e-4031-85f0-b67df2d802ff",
        "id": "FXLXaWDGmh_f"
      },
      "execution_count": null,
      "outputs": [
        {
          "output_type": "stream",
          "name": "stdout",
          "text": [
            "+-------------+------------------------+\n",
            "|cod_municipio|nome_municipio          |\n",
            "+-------------+------------------------+\n",
            "|0001         |GUAJARA-MIRIM           |\n",
            "|0002         |ALTO ALEGRE DOS PARECIS |\n",
            "|0003         |PORTO VELHO             |\n",
            "|0004         |BURITIS                 |\n",
            "|0005         |JI-PARANA               |\n",
            "|0006         |CHUPINGUAIA             |\n",
            "|0007         |ARIQUEMES               |\n",
            "|0008         |CUJUBIM                 |\n",
            "|0009         |CACOAL                  |\n",
            "|0010         |NOVA UNIAO              |\n",
            "|0011         |PIMENTA BUENO           |\n",
            "|0012         |PARECIS                 |\n",
            "|0013         |VILHENA                 |\n",
            "|0014         |PIMENTEIRAS DO OESTE    |\n",
            "|0015         |JARU                    |\n",
            "|0016         |PRIMAVERA DE RONDONIA   |\n",
            "|0017         |OURO PRETO DO OESTE     |\n",
            "|0018         |SAO FELIPE D'OESTE      |\n",
            "|0019         |PRESIDENTE MEDICI       |\n",
            "|0020         |SAO FRANCISCO DO GUAPORE|\n",
            "+-------------+------------------------+\n",
            "only showing top 20 rows\n",
            "\n",
            "root\n",
            " |-- cod_municipio: string (nullable = true)\n",
            " |-- nome_municipio: string (nullable = true)\n",
            "\n"
          ]
        }
      ]
    },
    {
      "cell_type": "code",
      "source": [
        "# Verificando as colunas criadas\n",
        "\n",
        "df_municipios.columns"
      ],
      "metadata": {
        "colab": {
          "base_uri": "https://localhost:8080/"
        },
        "id": "xRgfieQiKFdv",
        "outputId": "b765977e-4bb4-4853-884e-04f22cb2086a"
      },
      "execution_count": null,
      "outputs": [
        {
          "output_type": "execute_result",
          "data": {
            "text/plain": [
              "['cod_municipio', 'nome_municipio']"
            ]
          },
          "metadata": {},
          "execution_count": 40
        }
      ]
    },
    {
      "cell_type": "markdown",
      "source": [
        "# **Leitura e Tratamento do arquivo Natureza Juridica**"
      ],
      "metadata": {
        "id": "nHuXzrCZnO4t"
      }
    },
    {
      "cell_type": "code",
      "source": [
        "# Constrói o caminho completo para o arquivo\n",
        "file_path = os.path.join(directory, 'F.K03200$Z.D50111.NATJUCSV')\n",
        "\n",
        "# Lê o arquivo CSV sem definir nomes de colunas, mas garantindo que todas as colunas sejam StringType\n",
        "df_natureza = (spark.read\n",
        "    .option(\"charset\", \"latin1\")  # Define o encoding correto\n",
        "    .option(\"quote\", \"\\\"\")  # Mantém texto entre aspas duplas\n",
        "    .option(\"delimiter\", \";\")  # Define o separador correto\n",
        "    .option(\"inferSchema\", \"false\")  # Não inferir automaticamente os tipos de dados\n",
        "    .csv(file_path)  # Ler o arquivo, colocando um nome de coluna genérico\n",
        ")\n",
        "\n",
        "# Exibe as primeiras linhas para conferência\n",
        "df_natureza.show()\n",
        "\n",
        "# Exibe o schema inferido (todas as colunas devem ser StringType)\n",
        "df_natureza.printSchema()\n"
      ],
      "metadata": {
        "colab": {
          "base_uri": "https://localhost:8080/"
        },
        "outputId": "d3839d9f-ad67-41ed-fe32-5e9ac691550e",
        "id": "4waExG7UnfcM"
      },
      "execution_count": null,
      "outputs": [
        {
          "output_type": "stream",
          "name": "stdout",
          "text": [
            "+----+--------------------+\n",
            "| _c0|                 _c1|\n",
            "+----+--------------------+\n",
            "|0000|Natureza Jurídica...|\n",
            "|3271|Órgão de Direção ...|\n",
            "|3280|Comitê Financeiro...|\n",
            "|3298|Frente Plebiscitá...|\n",
            "|3301|Organização Socia...|\n",
            "|3999|  Associação Privada|\n",
            "|4014|Empresa Individua...|\n",
            "|4090|Candidato a Cargo...|\n",
            "|4120|Produtor Rural (P...|\n",
            "|5010|Organização Inter...|\n",
            "|5029|Representação Dip...|\n",
            "|1015|Órgão Público do ...|\n",
            "|1023|Órgão Público do ...|\n",
            "|1031|Órgão Público do ...|\n",
            "|1040|Órgão Público do ...|\n",
            "|1058|Órgão Público do ...|\n",
            "|1066|Órgão Público do ...|\n",
            "|1074|Órgão Público do ...|\n",
            "|1082|Órgão Público do ...|\n",
            "|1104|   Autarquia Federal|\n",
            "+----+--------------------+\n",
            "only showing top 20 rows\n",
            "\n",
            "root\n",
            " |-- _c0: string (nullable = true)\n",
            " |-- _c1: string (nullable = true)\n",
            "\n"
          ]
        }
      ]
    },
    {
      "cell_type": "code",
      "source": [
        "# Obtém o número de linhas\n",
        "num_linhas = df_natureza.count()\n",
        "\n",
        "# Obtém o número de colunas\n",
        "num_colunas = len(df_natureza.columns)\n",
        "\n",
        "print(f\"Número de linhas: {num_linhas}\")\n",
        "print(f\"Número de colunas: {num_colunas}\")"
      ],
      "metadata": {
        "colab": {
          "base_uri": "https://localhost:8080/"
        },
        "outputId": "51e9b99e-b5fb-4f35-8fa2-5fec1fcb5e32",
        "id": "mNpaJ3mcoCqE"
      },
      "execution_count": null,
      "outputs": [
        {
          "output_type": "stream",
          "name": "stdout",
          "text": [
            "Número de linhas: 90\n",
            "Número de colunas: 2\n"
          ]
        }
      ]
    },
    {
      "cell_type": "code",
      "source": [],
      "metadata": {
        "id": "2Q2sL6QZmOk3"
      },
      "execution_count": null,
      "outputs": []
    },
    {
      "cell_type": "code",
      "source": [
        "# Verificação de valores nulos\n",
        "\n",
        "from pyspark.sql.functions import col, count, when\n",
        "\n",
        "for column_name in df_natureza.columns:\n",
        "    null_count = df_natureza.filter(col(column_name).isNull()).count()\n",
        "    print(f\"Coluna: {column_name}, Valores Nulos: {null_count}\")"
      ],
      "metadata": {
        "colab": {
          "base_uri": "https://localhost:8080/"
        },
        "outputId": "e7c49527-fc0e-4d8f-fe66-fa2da9871313",
        "id": "dqL7lKMYp92I"
      },
      "execution_count": null,
      "outputs": [
        {
          "output_type": "stream",
          "name": "stdout",
          "text": [
            "Coluna: _c0, Valores Nulos: 0\n",
            "Coluna: _c1, Valores Nulos: 0\n"
          ]
        }
      ]
    },
    {
      "cell_type": "code",
      "source": [
        "# Verificação de valores duplicados\n",
        "\n",
        "df_natureza.groupBy(df_natureza.columns).count().filter(count(\"*\") > 1).count()"
      ],
      "metadata": {
        "colab": {
          "base_uri": "https://localhost:8080/"
        },
        "outputId": "f75ca05f-382e-4370-d8df-4837258be3b2",
        "id": "uaVAdRNgqQrt"
      },
      "execution_count": null,
      "outputs": [
        {
          "output_type": "execute_result",
          "data": {
            "text/plain": [
              "0"
            ]
          },
          "metadata": {},
          "execution_count": 44
        }
      ]
    },
    {
      "cell_type": "code",
      "source": [
        "# Incluindo o cabeçalho (nomes de colunas)\n",
        "\n",
        "df_natureza = df_natureza.withColumnRenamed(\"_c0\", \"cod_nat_juridica\").withColumnRenamed(\"_c1\", \"nome_nat_juridica\")\n",
        "\n",
        "# Exibe as primeiras linhas para conferir\n",
        "\n",
        "df_natureza.show(truncate=False)\n",
        "# Verifica o schema atualizado\n",
        "df_natureza.printSchema()\n",
        "\n"
      ],
      "metadata": {
        "colab": {
          "base_uri": "https://localhost:8080/"
        },
        "outputId": "a08832db-bf3d-4a1e-e1dd-3cc8fe2f61ca",
        "id": "UD5zHGEkqhXM"
      },
      "execution_count": null,
      "outputs": [
        {
          "output_type": "stream",
          "name": "stdout",
          "text": [
            "+----------------+------------------------------------------------------------------+\n",
            "|cod_nat_juridica|nome_nat_juridica                                                 |\n",
            "+----------------+------------------------------------------------------------------+\n",
            "|0000            |Natureza Jurídica não informada                                   |\n",
            "|3271            |Órgão de Direção Local de Partido Político                        |\n",
            "|3280            |Comitê Financeiro de Partido Político                             |\n",
            "|3298            |Frente Plebiscitária ou Referendária                              |\n",
            "|3301            |Organização Social (OS)                                           |\n",
            "|3999            |Associação Privada                                                |\n",
            "|4014            |Empresa Individual Imobiliária                                    |\n",
            "|4090            |Candidato a Cargo Político Eletivo                                |\n",
            "|4120            |Produtor Rural (Pessoa Física)                                    |\n",
            "|5010            |Organização Internacional                                         |\n",
            "|5029            |Representação Diplomática Estrangeira                             |\n",
            "|1015            |Órgão Público do Poder Executivo Federal                          |\n",
            "|1023            |Órgão Público do Poder Executivo Estadual ou do Distrito Federal  |\n",
            "|1031            |Órgão Público do Poder Executivo Municipal                        |\n",
            "|1040            |Órgão Público do Poder Legislativo Federal                        |\n",
            "|1058            |Órgão Público do Poder Legislativo Estadual ou do Distrito Federal|\n",
            "|1066            |Órgão Público do Poder Legislativo Municipal                      |\n",
            "|1074            |Órgão Público do Poder Judiciário Federal                         |\n",
            "|1082            |Órgão Público do Poder Judiciário Estadual                        |\n",
            "|1104            |Autarquia Federal                                                 |\n",
            "+----------------+------------------------------------------------------------------+\n",
            "only showing top 20 rows\n",
            "\n",
            "root\n",
            " |-- cod_nat_juridica: string (nullable = true)\n",
            " |-- nome_nat_juridica: string (nullable = true)\n",
            "\n"
          ]
        }
      ]
    },
    {
      "cell_type": "code",
      "source": [
        "# Verificando as colunas criadas\n",
        "\n",
        "df_natureza.columns"
      ],
      "metadata": {
        "colab": {
          "base_uri": "https://localhost:8080/"
        },
        "id": "jHQS61btKUv2",
        "outputId": "37c003a8-d8d3-424b-eced-6cbe0473890b"
      },
      "execution_count": null,
      "outputs": [
        {
          "output_type": "execute_result",
          "data": {
            "text/plain": [
              "['cod_nat_juridica', 'nome_nat_juridica']"
            ]
          },
          "metadata": {},
          "execution_count": 46
        }
      ]
    },
    {
      "cell_type": "markdown",
      "source": [
        "# **Leitura e Tratamento do Arquivo Pais**"
      ],
      "metadata": {
        "id": "5A2cXQyhrL0g"
      }
    },
    {
      "cell_type": "code",
      "source": [
        "# Constrói o caminho completo para o arquivo\n",
        "file_path = os.path.join(directory, 'F.K03200$Z.D50111.PAISCSV')\n",
        "\n",
        "# Lê o arquivo CSV sem definir nomes de colunas, mas garantindo que todas as colunas sejam StringType\n",
        "df_paises = (spark.read\n",
        "    .option(\"charset\", \"latin1\")  # Define o encoding correto\n",
        "    .option(\"quote\", \"\\\"\")  # Mantém texto entre aspas duplas\n",
        "    .option(\"delimiter\", \";\")  # Define o separador correto\n",
        "    .option(\"inferSchema\", \"false\")  # Não inferir automaticamente os tipos de dados\n",
        "    .csv(file_path)  # Ler o arquivo, colocando um nome de coluna genérico\n",
        ")\n",
        "\n",
        "# Exibe as primeiras linhas para conferência\n",
        "df_paises.show()\n",
        "\n",
        "# Exibe o schema inferido (todas as colunas devem ser StringType)\n",
        "df_paises.printSchema()"
      ],
      "metadata": {
        "colab": {
          "base_uri": "https://localhost:8080/"
        },
        "id": "vgAZyPI9oMd8",
        "outputId": "fd1a8332-5f85-4d51-bd3e-b1b4e9db3e7a"
      },
      "execution_count": null,
      "outputs": [
        {
          "output_type": "stream",
          "name": "stdout",
          "text": [
            "+---+--------------------+\n",
            "|_c0|                 _c1|\n",
            "+---+--------------------+\n",
            "|000|       COLIS POSTAUX|\n",
            "|013|         AFEGANISTAO|\n",
            "|017|             ALBANIA|\n",
            "|020|ALBORAN-PEREJIL,I...|\n",
            "|023|            ALEMANHA|\n",
            "|025|ALEMANHA, REP. DE...|\n",
            "|031|        BURKINA FASO|\n",
            "|037|             ANDORRA|\n",
            "|040|              ANGOLA|\n",
            "|041|            ANGUILLA|\n",
            "|043|   ANTIGUA E BARBUDA|\n",
            "|047| ANTILHAS HOLANDESAS|\n",
            "|053|      ARABIA SAUDITA|\n",
            "|059|             ARGELIA|\n",
            "|063|           ARGENTINA|\n",
            "|064|ARMENIA, REPUBLIC...|\n",
            "|065|               ARUBA|\n",
            "|069|           AUSTRALIA|\n",
            "|072|             AUSTRIA|\n",
            "|073|AZERBAIJAO, REPUB...|\n",
            "+---+--------------------+\n",
            "only showing top 20 rows\n",
            "\n",
            "root\n",
            " |-- _c0: string (nullable = true)\n",
            " |-- _c1: string (nullable = true)\n",
            "\n"
          ]
        }
      ]
    },
    {
      "cell_type": "code",
      "source": [
        "# Obtém o número de linhas\n",
        "num_linhas = df_paises.count()\n",
        "\n",
        "# Obtém o número de colunas\n",
        "num_colunas = len(df_paises.columns)\n",
        "\n",
        "print(f\"Número de linhas: {num_linhas}\")\n",
        "print(f\"Número de colunas: {num_colunas}\")"
      ],
      "metadata": {
        "colab": {
          "base_uri": "https://localhost:8080/"
        },
        "outputId": "ce39ec36-e051-42f2-a512-d06b407089be",
        "id": "8HtflxgBr2HX"
      },
      "execution_count": null,
      "outputs": [
        {
          "output_type": "stream",
          "name": "stdout",
          "text": [
            "Número de linhas: 255\n",
            "Número de colunas: 2\n"
          ]
        }
      ]
    },
    {
      "cell_type": "code",
      "source": [
        "# Verificação de valores nulos\n",
        "\n",
        "from pyspark.sql.functions import col, count, when\n",
        "\n",
        "for column_name in df_paises.columns:\n",
        "    null_count = df_paises.filter(col(column_name).isNull()).count()\n",
        "    print(f\"Coluna: {column_name}, Valores Nulos: {null_count}\")"
      ],
      "metadata": {
        "colab": {
          "base_uri": "https://localhost:8080/"
        },
        "outputId": "1696777c-bedf-4768-a67c-e22ac81c4c51",
        "id": "aR2qtiH6sEGR"
      },
      "execution_count": null,
      "outputs": [
        {
          "output_type": "stream",
          "name": "stdout",
          "text": [
            "Coluna: _c0, Valores Nulos: 0\n",
            "Coluna: _c1, Valores Nulos: 0\n"
          ]
        }
      ]
    },
    {
      "cell_type": "code",
      "source": [
        "# Verificação de valores duplicados\n",
        "\n",
        "df_paises.groupBy(df_paises.columns).count().filter(count(\"*\") > 1).count()"
      ],
      "metadata": {
        "colab": {
          "base_uri": "https://localhost:8080/"
        },
        "outputId": "6f531411-22dc-4107-fbe6-addb2216cf8a",
        "id": "USE9hdLXsOd1"
      },
      "execution_count": null,
      "outputs": [
        {
          "output_type": "execute_result",
          "data": {
            "text/plain": [
              "0"
            ]
          },
          "metadata": {},
          "execution_count": 50
        }
      ]
    },
    {
      "cell_type": "code",
      "source": [
        "# Incluindo o cabeçalho (nomes de colunas)\n",
        "\n",
        "df_paises = df_paises.withColumnRenamed(\"_c0\", \"cod_pais\").withColumnRenamed(\"_c1\", \"nome_pais\")\n",
        "\n",
        "# Exibe as primeiras linhas para conferir\n",
        "df_paises.show(truncate=False)\n",
        "\n",
        "# Verifica o schema atualizado\n",
        "df_paises.printSchema()\n",
        "\n"
      ],
      "metadata": {
        "colab": {
          "base_uri": "https://localhost:8080/"
        },
        "outputId": "ead3445a-bba5-4fa8-f45f-2a787111a8c1",
        "id": "AZkadRSHsaKM"
      },
      "execution_count": null,
      "outputs": [
        {
          "output_type": "stream",
          "name": "stdout",
          "text": [
            "+--------+-----------------------------+\n",
            "|cod_pais|nome_pais                    |\n",
            "+--------+-----------------------------+\n",
            "|000     |COLIS POSTAUX                |\n",
            "|013     |AFEGANISTAO                  |\n",
            "|017     |ALBANIA                      |\n",
            "|020     |ALBORAN-PEREJIL,ILHAS        |\n",
            "|023     |ALEMANHA                     |\n",
            "|025     |ALEMANHA, REP. DEMOCRATICA DA|\n",
            "|031     |BURKINA FASO                 |\n",
            "|037     |ANDORRA                      |\n",
            "|040     |ANGOLA                       |\n",
            "|041     |ANGUILLA                     |\n",
            "|043     |ANTIGUA E BARBUDA            |\n",
            "|047     |ANTILHAS HOLANDESAS          |\n",
            "|053     |ARABIA SAUDITA               |\n",
            "|059     |ARGELIA                      |\n",
            "|063     |ARGENTINA                    |\n",
            "|064     |ARMENIA, REPUBLICA DA        |\n",
            "|065     |ARUBA                        |\n",
            "|069     |AUSTRALIA                    |\n",
            "|072     |AUSTRIA                      |\n",
            "|073     |AZERBAIJAO, REPUBLICA DO     |\n",
            "+--------+-----------------------------+\n",
            "only showing top 20 rows\n",
            "\n",
            "root\n",
            " |-- cod_pais: string (nullable = true)\n",
            " |-- nome_pais: string (nullable = true)\n",
            "\n"
          ]
        }
      ]
    },
    {
      "cell_type": "code",
      "source": [
        "# Verificando as colunas criadas\n",
        "\n",
        "df_paises.columns"
      ],
      "metadata": {
        "colab": {
          "base_uri": "https://localhost:8080/"
        },
        "id": "vG8jZ_glK4HA",
        "outputId": "b331ad64-ce0b-4140-ea33-c26e8d749a9b"
      },
      "execution_count": null,
      "outputs": [
        {
          "output_type": "execute_result",
          "data": {
            "text/plain": [
              "['cod_pais', 'nome_pais']"
            ]
          },
          "metadata": {},
          "execution_count": 52
        }
      ]
    },
    {
      "cell_type": "markdown",
      "source": [
        "# **Leitura e Tratamento do Arquivo Qualificação**"
      ],
      "metadata": {
        "id": "yINL0bbOs4nj"
      }
    },
    {
      "cell_type": "code",
      "source": [
        "# Constrói o caminho completo para o arquivo\n",
        "file_path = os.path.join(directory, 'F.K03200$Z.D50111.QUALSCSV')\n",
        "\n",
        "# Lê o arquivo CSV sem definir nomes de colunas, mas garantindo que todas as colunas sejam StringType\n",
        "df_qualificacao = (spark.read\n",
        "    .option(\"charset\", \"latin1\")  # Define o encoding correto\n",
        "    .option(\"quote\", \"\\\"\")  # Mantém texto entre aspas duplas\n",
        "    .option(\"delimiter\", \";\")  # Define o separador correto\n",
        "    .option(\"inferSchema\", \"false\")  # Não inferir automaticamente os tipos de dados\n",
        "    .csv(file_path)  # Ler o arquivo, colocando um nome de coluna genérico\n",
        ")\n",
        "\n",
        "# Exibe as primeiras linhas para conferência\n",
        "df_qualificacao.show()\n",
        "\n",
        "# Exibe o schema inferido (todas as colunas devem ser StringType)\n",
        "df_qualificacao.printSchema()"
      ],
      "metadata": {
        "colab": {
          "base_uri": "https://localhost:8080/"
        },
        "outputId": "a3c5978e-9093-4881-d1a3-cee96553384b",
        "id": "PQ9nI9fVtH2e"
      },
      "execution_count": null,
      "outputs": [
        {
          "output_type": "stream",
          "name": "stdout",
          "text": [
            "+---+--------------------+\n",
            "|_c0|                 _c1|\n",
            "+---+--------------------+\n",
            "| 00|       Não informada|\n",
            "| 05|       Administrador|\n",
            "| 08|Conselheiro de Ad...|\n",
            "| 09|             Curador|\n",
            "| 10|             Diretor|\n",
            "| 11|         Interventor|\n",
            "| 12|       Inventariante|\n",
            "| 13|          Liquidante|\n",
            "| 14|                 Mãe|\n",
            "| 15|                 Pai|\n",
            "| 16|          Presidente|\n",
            "| 17|          Procurador|\n",
            "| 18|          Secretário|\n",
            "| 19|Síndico (Condomínio)|\n",
            "| 20|Sociedade Consorc...|\n",
            "| 21|   Sociedade Filiada|\n",
            "| 22|               Sócio|\n",
            "| 23|   Sócio Capitalista|\n",
            "| 24|   Sócio Comanditado|\n",
            "| 25|  Sócio Comanditário|\n",
            "+---+--------------------+\n",
            "only showing top 20 rows\n",
            "\n",
            "root\n",
            " |-- _c0: string (nullable = true)\n",
            " |-- _c1: string (nullable = true)\n",
            "\n"
          ]
        }
      ]
    },
    {
      "cell_type": "code",
      "source": [
        "# Obtém o número de linhas\n",
        "num_linhas = df_qualificacao.count()\n",
        "\n",
        "# Obtém o número de colunas\n",
        "num_colunas = len(df_qualificacao.columns)\n",
        "\n",
        "print(f\"Número de linhas: {num_linhas}\")\n",
        "print(f\"Número de colunas: {num_colunas}\")"
      ],
      "metadata": {
        "colab": {
          "base_uri": "https://localhost:8080/"
        },
        "outputId": "360cfa63-3b29-4f73-a935-c93c5401c0c4",
        "id": "HZOM80PHtlaX"
      },
      "execution_count": null,
      "outputs": [
        {
          "output_type": "stream",
          "name": "stdout",
          "text": [
            "Número de linhas: 68\n",
            "Número de colunas: 2\n"
          ]
        }
      ]
    },
    {
      "cell_type": "code",
      "source": [
        "# Verificação de valores nulos\n",
        "\n",
        "from pyspark.sql.functions import col, count, when\n",
        "\n",
        "for column_name in df_qualificacao.columns:\n",
        "    null_count = df_qualificacao.filter(col(column_name).isNull()).count()\n",
        "    print(f\"Coluna: {column_name}, Valores Nulos: {null_count}\")"
      ],
      "metadata": {
        "colab": {
          "base_uri": "https://localhost:8080/"
        },
        "outputId": "fd0485d5-4f6f-49fd-d395-0112157225aa",
        "id": "xOCdzl0KtuQL"
      },
      "execution_count": null,
      "outputs": [
        {
          "output_type": "stream",
          "name": "stdout",
          "text": [
            "Coluna: _c0, Valores Nulos: 0\n",
            "Coluna: _c1, Valores Nulos: 0\n"
          ]
        }
      ]
    },
    {
      "cell_type": "code",
      "source": [],
      "metadata": {
        "id": "_q4WEnx2tJPp"
      },
      "execution_count": null,
      "outputs": []
    },
    {
      "cell_type": "code",
      "source": [
        "# Verificação de valores duplicados\n",
        "\n",
        "df_qualificacao.groupBy(df_qualificacao.columns).count().filter(count(\"*\") > 1).count()"
      ],
      "metadata": {
        "colab": {
          "base_uri": "https://localhost:8080/"
        },
        "outputId": "e35baff3-fb87-4e36-aa1d-01786e484cfa",
        "id": "TB74bAtst1BZ"
      },
      "execution_count": null,
      "outputs": [
        {
          "output_type": "execute_result",
          "data": {
            "text/plain": [
              "0"
            ]
          },
          "metadata": {},
          "execution_count": 56
        }
      ]
    },
    {
      "cell_type": "code",
      "source": [
        "# Incluindo o cabeçalho (nomes de colunas)\n",
        "\n",
        "df_qualificacao = df_qualificacao.withColumnRenamed(\"_c0\", \"cod_quali_socio\").withColumnRenamed(\"_c1\", \"nome_quali_socio\")\n",
        "\n",
        "# Exibe as primeiras linhas para conferir\n",
        "df_qualificacao.show(truncate=False)\n",
        "\n",
        "# Verifica o schema atualizado\n",
        "df_qualificacao.printSchema()\n",
        "\n"
      ],
      "metadata": {
        "colab": {
          "base_uri": "https://localhost:8080/"
        },
        "outputId": "8369b34c-c047-4588-bb0f-af4496ce16eb",
        "id": "ykd8QFKAt6mP"
      },
      "execution_count": null,
      "outputs": [
        {
          "output_type": "stream",
          "name": "stdout",
          "text": [
            "+---------------+----------------------------+\n",
            "|cod_quali_socio|nome_quali_socio            |\n",
            "+---------------+----------------------------+\n",
            "|00             |Não informada               |\n",
            "|05             |Administrador               |\n",
            "|08             |Conselheiro de Administração|\n",
            "|09             |Curador                     |\n",
            "|10             |Diretor                     |\n",
            "|11             |Interventor                 |\n",
            "|12             |Inventariante               |\n",
            "|13             |Liquidante                  |\n",
            "|14             |Mãe                         |\n",
            "|15             |Pai                         |\n",
            "|16             |Presidente                  |\n",
            "|17             |Procurador                  |\n",
            "|18             |Secretário                  |\n",
            "|19             |Síndico (Condomínio)        |\n",
            "|20             |Sociedade Consorciada       |\n",
            "|21             |Sociedade Filiada           |\n",
            "|22             |Sócio                       |\n",
            "|23             |Sócio Capitalista           |\n",
            "|24             |Sócio Comanditado           |\n",
            "|25             |Sócio Comanditário          |\n",
            "+---------------+----------------------------+\n",
            "only showing top 20 rows\n",
            "\n",
            "root\n",
            " |-- cod_quali_socio: string (nullable = true)\n",
            " |-- nome_quali_socio: string (nullable = true)\n",
            "\n"
          ]
        }
      ]
    },
    {
      "cell_type": "code",
      "source": [
        "# Verificando as colunas criadas\n",
        "\n",
        "df_qualificacao.columns"
      ],
      "metadata": {
        "colab": {
          "base_uri": "https://localhost:8080/"
        },
        "id": "DPZEbFvCLWNO",
        "outputId": "4db09e6e-c745-4dfd-e60e-804da305d108"
      },
      "execution_count": null,
      "outputs": [
        {
          "output_type": "execute_result",
          "data": {
            "text/plain": [
              "['cod_quali_socio', 'nome_quali_socio']"
            ]
          },
          "metadata": {},
          "execution_count": 58
        }
      ]
    },
    {
      "cell_type": "markdown",
      "source": [
        "# ***Leitura e Tratamento do Arquivo Simples ***"
      ],
      "metadata": {
        "id": "XjKnvDE0u1CA"
      }
    },
    {
      "cell_type": "code",
      "source": [],
      "metadata": {
        "id": "UB_2LkhzrxlM"
      },
      "execution_count": null,
      "outputs": []
    },
    {
      "cell_type": "code",
      "source": [
        "# Constrói o caminho completo para o arquivo\n",
        "file_path = os.path.join(directory, 'F.K03200$W.SIMPLES.CSV.D50111')\n",
        "\n",
        "# Lê o arquivo CSV sem definir nomes de colunas, mas garantindo que todas as colunas sejam StringType\n",
        "df_simples = (spark.read\n",
        "    .option(\"charset\", \"latin1\")  # Define o encoding correto\n",
        "    .option(\"quote\", \"\\\"\")  # Mantém texto entre aspas duplas\n",
        "    .option(\"delimiter\", \";\")  # Define o separador correto\n",
        "    .option(\"inferSchema\", \"false\")  # Não inferir automaticamente os tipos de dados\n",
        "    .csv(file_path)  # Ler o arquivo, colocando um nome de coluna genérico\n",
        ")\n",
        "\n",
        "# Exibe as primeiras linhas para conferência\n",
        "df_simples.show()\n",
        "\n",
        "# Exibe o schema inferido (todas as colunas devem ser StringType)\n",
        "df_simples.printSchema()"
      ],
      "metadata": {
        "colab": {
          "base_uri": "https://localhost:8080/"
        },
        "outputId": "c5481009-a4c7-4a89-b520-0fb7bcbf5c37",
        "id": "gsHiy7zrvSKy"
      },
      "execution_count": null,
      "outputs": [
        {
          "output_type": "stream",
          "name": "stdout",
          "text": [
            "+--------+---+--------+--------+---+--------+--------+\n",
            "|     _c0|_c1|     _c2|     _c3|_c4|     _c5|     _c6|\n",
            "+--------+---+--------+--------+---+--------+--------+\n",
            "|00000000|  N|20070701|20070701|  N|20090701|20090701|\n",
            "|00000006|  N|20180101|20191231|  N|00000000|00000000|\n",
            "|00000008|  N|20140101|20211231|  N|00000000|00000000|\n",
            "|00000011|  S|20070701|00000000|  N|00000000|00000000|\n",
            "|00000013|  N|20090101|20231231|  N|00000000|00000000|\n",
            "|00000015|  N|20070701|20081231|  N|00000000|00000000|\n",
            "|00000030|  N|20150101|20151231|  N|00000000|00000000|\n",
            "|00000040|  S|20070701|00000000|  N|00000000|00000000|\n",
            "|00000041|  N|20070701|20151103|  N|00000000|00000000|\n",
            "|00000056|  N|20120101|20141203|  N|00000000|00000000|\n",
            "|00000065|  N|20070701|20191231|  N|00000000|00000000|\n",
            "|00000068|  N|20150101|20151231|  N|00000000|00000000|\n",
            "|00000091|  N|20070701|20071231|  N|00000000|00000000|\n",
            "|00000092|  N|20070701|20080523|  N|00000000|00000000|\n",
            "|00000103|  S|20070701|00000000|  N|00000000|00000000|\n",
            "|00000108|  S|20150101|00000000|  N|00000000|00000000|\n",
            "|00000124|  N|20070701|20070701|  N|00000000|00000000|\n",
            "|00000127|  N|20070701|20231231|  N|00000000|00000000|\n",
            "|00000142|  N|20110101|20130701|  N|00000000|00000000|\n",
            "|00000156|  S|20150101|00000000|  N|00000000|00000000|\n",
            "+--------+---+--------+--------+---+--------+--------+\n",
            "only showing top 20 rows\n",
            "\n",
            "root\n",
            " |-- _c0: string (nullable = true)\n",
            " |-- _c1: string (nullable = true)\n",
            " |-- _c2: string (nullable = true)\n",
            " |-- _c3: string (nullable = true)\n",
            " |-- _c4: string (nullable = true)\n",
            " |-- _c5: string (nullable = true)\n",
            " |-- _c6: string (nullable = true)\n",
            "\n"
          ]
        }
      ]
    },
    {
      "cell_type": "code",
      "source": [
        "# Obtém o número de linhas\n",
        "num_linhas = df_simples.count()\n",
        "\n",
        "# Obtém o número de colunas\n",
        "num_colunas = len(df_simples.columns)\n",
        "\n",
        "print(f\"Número de linhas: {num_linhas}\")\n",
        "print(f\"Número de colunas: {num_colunas}\")"
      ],
      "metadata": {
        "colab": {
          "base_uri": "https://localhost:8080/"
        },
        "outputId": "b75790e5-054b-4e81-bf47-706392fb19f5",
        "id": "SYCs9UyJvpsK"
      },
      "execution_count": null,
      "outputs": [
        {
          "output_type": "stream",
          "name": "stdout",
          "text": [
            "Número de linhas: 41720964\n",
            "Número de colunas: 7\n"
          ]
        }
      ]
    },
    {
      "cell_type": "code",
      "source": [],
      "metadata": {
        "id": "LBQM8pv-u-_W"
      },
      "execution_count": null,
      "outputs": []
    },
    {
      "cell_type": "code",
      "source": [
        "# Verificação de valores nulos\n",
        "\n",
        "from pyspark.sql.functions import col, count, when\n",
        "\n",
        "for column_name in df_simples.columns:\n",
        "    null_count = df_simples.filter(col(column_name).isNull()).count()\n",
        "    print(f\"Coluna: {column_name}, Valores Nulos: {null_count}\")"
      ],
      "metadata": {
        "colab": {
          "base_uri": "https://localhost:8080/"
        },
        "outputId": "90b4104b-e85b-4cf4-f296-146064a02cb5",
        "id": "Wos5MOqgwk_v"
      },
      "execution_count": null,
      "outputs": [
        {
          "output_type": "stream",
          "name": "stdout",
          "text": [
            "Coluna: _c0, Valores Nulos: 0\n",
            "Coluna: _c1, Valores Nulos: 0\n",
            "Coluna: _c2, Valores Nulos: 0\n",
            "Coluna: _c3, Valores Nulos: 0\n",
            "Coluna: _c4, Valores Nulos: 0\n",
            "Coluna: _c5, Valores Nulos: 0\n",
            "Coluna: _c6, Valores Nulos: 0\n"
          ]
        }
      ]
    },
    {
      "cell_type": "code",
      "source": [
        "# Verificar valores ausentes por coluna\n",
        "\n",
        "from pyspark.sql.functions import col, sum\n",
        "\n",
        "df_simples.select([\n",
        "    sum(col(c).isNull().cast(\"int\")).alias(c) for c in df_simples.columns\n",
        "]).show(truncate=False)"
      ],
      "metadata": {
        "colab": {
          "base_uri": "https://localhost:8080/"
        },
        "id": "Yws0N5qWu_JD",
        "outputId": "b356785b-04e9-4e01-f9c1-af29f2fc7b73"
      },
      "execution_count": null,
      "outputs": [
        {
          "output_type": "stream",
          "name": "stdout",
          "text": [
            "+---+---+---+---+---+---+---+\n",
            "|_c0|_c1|_c2|_c3|_c4|_c5|_c6|\n",
            "+---+---+---+---+---+---+---+\n",
            "|0  |0  |0  |0  |0  |0  |0  |\n",
            "+---+---+---+---+---+---+---+\n",
            "\n"
          ]
        }
      ]
    },
    {
      "cell_type": "code",
      "source": [
        "# Incluindo os  nomes das colunas\n",
        "\n",
        "df_simples = (\n",
        "    df_simples.withColumnRenamed(\"_c0\", \"cnpj_basico\")\n",
        "    .withColumnRenamed(\"_c1\", \"opcao_simples\")\n",
        "    .withColumnRenamed(\"_c2\", \"data_opcao_simples\")\n",
        "    .withColumnRenamed(\"_c3\", \"data_excl_simples\")\n",
        "    .withColumnRenamed(\"_c4\", \"opcao_mei\")\n",
        "    .withColumnRenamed(\"_c5\", \"data_opcao_mei\")\n",
        "    .withColumnRenamed(\"_c6\", \"data_excl_mei\")\n",
        ")\n",
        "\n",
        "# Exibe as primeiras linhas para conferir\n",
        "df_simples.show(truncate=False)"
      ],
      "metadata": {
        "colab": {
          "base_uri": "https://localhost:8080/"
        },
        "id": "d90CT3bCu_Q2",
        "outputId": "149cddc2-b55f-4a41-fa2e-baf5c2d210fa"
      },
      "execution_count": null,
      "outputs": [
        {
          "output_type": "stream",
          "name": "stdout",
          "text": [
            "+-----------+-------------+------------------+-----------------+---------+--------------+-------------+\n",
            "|cnpj_basico|opcao_simples|data_opcao_simples|data_excl_simples|opcao_mei|data_opcao_mei|data_excl_mei|\n",
            "+-----------+-------------+------------------+-----------------+---------+--------------+-------------+\n",
            "|00000000   |N            |20070701          |20070701         |N        |20090701      |20090701     |\n",
            "|00000006   |N            |20180101          |20191231         |N        |00000000      |00000000     |\n",
            "|00000008   |N            |20140101          |20211231         |N        |00000000      |00000000     |\n",
            "|00000011   |S            |20070701          |00000000         |N        |00000000      |00000000     |\n",
            "|00000013   |N            |20090101          |20231231         |N        |00000000      |00000000     |\n",
            "|00000015   |N            |20070701          |20081231         |N        |00000000      |00000000     |\n",
            "|00000030   |N            |20150101          |20151231         |N        |00000000      |00000000     |\n",
            "|00000040   |S            |20070701          |00000000         |N        |00000000      |00000000     |\n",
            "|00000041   |N            |20070701          |20151103         |N        |00000000      |00000000     |\n",
            "|00000056   |N            |20120101          |20141203         |N        |00000000      |00000000     |\n",
            "|00000065   |N            |20070701          |20191231         |N        |00000000      |00000000     |\n",
            "|00000068   |N            |20150101          |20151231         |N        |00000000      |00000000     |\n",
            "|00000091   |N            |20070701          |20071231         |N        |00000000      |00000000     |\n",
            "|00000092   |N            |20070701          |20080523         |N        |00000000      |00000000     |\n",
            "|00000103   |S            |20070701          |00000000         |N        |00000000      |00000000     |\n",
            "|00000108   |S            |20150101          |00000000         |N        |00000000      |00000000     |\n",
            "|00000124   |N            |20070701          |20070701         |N        |00000000      |00000000     |\n",
            "|00000127   |N            |20070701          |20231231         |N        |00000000      |00000000     |\n",
            "|00000142   |N            |20110101          |20130701         |N        |00000000      |00000000     |\n",
            "|00000156   |S            |20150101          |00000000         |N        |00000000      |00000000     |\n",
            "+-----------+-------------+------------------+-----------------+---------+--------------+-------------+\n",
            "only showing top 20 rows\n",
            "\n"
          ]
        }
      ]
    },
    {
      "cell_type": "code",
      "source": [],
      "metadata": {
        "id": "l5VNPPxCu_UI"
      },
      "execution_count": null,
      "outputs": []
    },
    {
      "cell_type": "code",
      "source": [
        "# Verificando duplicatas\n",
        "col_simples_check = [\"cnpj_basico\"]\n",
        "\n",
        "for coluna in col_simples_check:\n",
        "    df_simples.groupBy(coluna).count().filter(\"count > 1\").show(truncate=False)"
      ],
      "metadata": {
        "colab": {
          "base_uri": "https://localhost:8080/"
        },
        "outputId": "e2cc50c9-4d46-4d7a-8206-b0e7859b51be",
        "collapsed": true,
        "id": "BBc9EaLY1xME"
      },
      "execution_count": null,
      "outputs": [
        {
          "output_type": "stream",
          "name": "stdout",
          "text": [
            "+-----------+-----+\n",
            "|cnpj_basico|count|\n",
            "+-----------+-----+\n",
            "+-----------+-----+\n",
            "\n"
          ]
        }
      ]
    },
    {
      "cell_type": "code",
      "source": [
        "# Verificando as colunas criadas\n",
        "\n",
        "df_simples.columns"
      ],
      "metadata": {
        "colab": {
          "base_uri": "https://localhost:8080/"
        },
        "id": "-_WoeXLNLvEo",
        "outputId": "b5bfaaa8-0a8d-4532-f0ee-526171369bae"
      },
      "execution_count": null,
      "outputs": [
        {
          "output_type": "execute_result",
          "data": {
            "text/plain": [
              "['cnpj_basico',\n",
              " 'opcao_simples',\n",
              " 'data_opcao_simples',\n",
              " 'data_excl_simples',\n",
              " 'opcao_mei',\n",
              " 'data_opcao_mei',\n",
              " 'data_excl_mei']"
            ]
          },
          "metadata": {},
          "execution_count": 62
        }
      ]
    },
    {
      "cell_type": "markdown",
      "source": [
        "# **Junção dos dataframes**\n",
        "\n",
        "1-Atribuição do nome do DataFrame final que será utilizado: df_empresas_brasil\n",
        "\n",
        "2-Definição do DataFrame Base: df_estab\n",
        "\n",
        "3-Identificação da chave de junção verificação: cnpj_base, cod_cnae, cod_nat_juridica, cod_sit_cadastral, cod_pais, cnae_fiscal_principal, cnae_fiscal_secundaria, cod_id_socio, cod_quali_socio, cod_pais_socio, cod_quali_representante, cod_motivo, cod_municipio, cod_nat_jurifica,\n",
        "\n",
        "4-Sequência das junções: Ordenada por criticidade\n",
        "\n",
        "3.1 - df_empresas_brasil = df_estab + df_socios\n",
        "\n",
        "3.2 - df_empresas_brasil + df_empresas\n",
        "\n",
        "3.3 - df_empresas_brasil + df_simples\n",
        "\n",
        "3.4 - df_empresas_brasil + df_qualificacao\n",
        "\n",
        "3.5 - df_empresas_brasil + df_natureza\n",
        "\n",
        "3.6 - df_empresas_brasil + df_municipio\n",
        "\n",
        "3.7 - df_empresas_brasil + df_motivos\n",
        "\n",
        "3.8 - df_empresas_brasil + df_pais\n",
        "\n",
        "3.9 - df_empresas_brasil + df_cnae\n",
        "\n",
        "5-Tipo de Junção: Left Join\n",
        "\n",
        "6-Tratamento de granularidade e colunas duplicadas criando os arrays\n",
        "\n",
        "7- Validação: Após cada junção\n",
        "\n"
      ],
      "metadata": {
        "id": "Hn5bn_OV2oiz"
      }
    },
    {
      "cell_type": "code",
      "source": [
        "# Validação das chaves de junção\n",
        "\n",
        "from pyspark.sql.functions import col\n",
        "\n",
        "def verificar_duplicatas(df, chave):\n",
        "    total_linhas = df.count()\n",
        "    valores_unicos = df.select(chave).distinct().count()\n",
        "\n",
        "    print(f\"🔍 Verificando {chave} em dataframe com {total_linhas} linhas...\")\n",
        "    print(f\"  → Valores únicos: {valores_unicos}\")\n",
        "\n",
        "    if valores_unicos < total_linhas:\n",
        "        print(f\"  ⚠️ Há {total_linhas - valores_unicos} duplicatas na chave '{chave}'!\\n\")\n",
        "    else:\n",
        "        print(f\"  ✅ Nenhuma duplicata encontrada na chave '{chave}'!\\n\")\n",
        "\n",
        "# Rodar para cada dataframe e chave\n",
        "verificar_duplicatas(df_empresas, \"cnpj_basico\")\n",
        "verificar_duplicatas(df_estab, \"cnpj_basico\")\n",
        "verificar_duplicatas(df_simples, \"cnpj_basico\")\n",
        "\n",
        "# Para df_socios, precisamos verificar múltiplas chaves\n",
        "for chave in [\"cnpj_basico\", \"nome_socio_pf_pj\", \"cpf_cnpj_socio\", \"cpf_representante_legal\", \"nome_representante\"]:\n",
        "    verificar_duplicatas(df_socios, chave)\n",
        "\n",
        "\n",
        "\n"
      ],
      "metadata": {
        "colab": {
          "base_uri": "https://localhost:8080/"
        },
        "id": "JnwAvRfb2x_y",
        "outputId": "ae2249fd-3075-4b41-c462-7ad5fe44bc6a"
      },
      "execution_count": null,
      "outputs": [
        {
          "output_type": "stream",
          "name": "stdout",
          "text": [
            "🔍 Verificando cnpj_basico em dataframe com 60959932 linhas...\n",
            "  → Valores únicos: 60959931\n",
            "  ⚠️ Há 1 duplicatas na chave 'cnpj_basico'!\n",
            "\n",
            "🔍 Verificando cnpj_basico em dataframe com 64017368 linhas...\n",
            "  → Valores únicos: 60959931\n",
            "  ⚠️ Há 3057437 duplicatas na chave 'cnpj_basico'!\n",
            "\n",
            "🔍 Verificando cnpj_basico em dataframe com 41720964 linhas...\n",
            "  → Valores únicos: 41720964\n",
            "  ✅ Nenhuma duplicata encontrada na chave 'cnpj_basico'!\n",
            "\n",
            "🔍 Verificando cnpj_basico em dataframe com 25162928 linhas...\n",
            "  → Valores únicos: 14443458\n",
            "  ⚠️ Há 10719470 duplicatas na chave 'cnpj_basico'!\n",
            "\n",
            "🔍 Verificando nome_socio_pf_pj em dataframe com 25162928 linhas...\n",
            "  → Valores únicos: 14686767\n",
            "  ⚠️ Há 10476161 duplicatas na chave 'nome_socio_pf_pj'!\n",
            "\n",
            "🔍 Verificando cpf_cnpj_socio em dataframe com 25162928 linhas...\n",
            "  → Valores únicos: 1260828\n",
            "  ⚠️ Há 23902100 duplicatas na chave 'cpf_cnpj_socio'!\n",
            "\n",
            "🔍 Verificando cpf_representante_legal em dataframe com 25162928 linhas...\n",
            "  → Valores únicos: 237041\n",
            "  ⚠️ Há 24925887 duplicatas na chave 'cpf_representante_legal'!\n",
            "\n",
            "🔍 Verificando nome_representante em dataframe com 25162928 linhas...\n",
            "  → Valores únicos: 296723\n",
            "  ⚠️ Há 24866205 duplicatas na chave 'nome_representante'!\n",
            "\n"
          ]
        }
      ]
    },
    {
      "cell_type": "markdown",
      "source": [
        "### **Tratamento do arquivo df_socios**\n",
        "Antes da junção, realizar agrupamento pelo cnpj_basico e criando o array de eventuais valores distintos para o mesmo cnpj_basico - casos de muitos para mim, como por exemplo muitos sócios para um único cnpj_basico."
      ],
      "metadata": {
        "id": "GDQ75CMCTSgv"
      }
    },
    {
      "cell_type": "code",
      "source": [
        "# Incluindo a coluna nome_quali_socio\n",
        "\n",
        "df_socios = df_socios.join(df_qualificacao, on=\"cod_quali_socio\", how=\"left\")\n",
        "\n",
        "# Exibe as primeiras linhas para conferir\n",
        "df_socios.show(truncate=False)"
      ],
      "metadata": {
        "colab": {
          "base_uri": "https://localhost:8080/"
        },
        "id": "hFU727myXo-b",
        "outputId": "3e6413ab-f6ca-4edf-ead6-79aa2cd180ff"
      },
      "execution_count": null,
      "outputs": [
        {
          "output_type": "stream",
          "name": "stdout",
          "text": [
            "+---------------+-----------+------------+---------------------------------+--------------+----------------------+--------------+-----------------------+------------------+-----------------------+----------------+-------------------+\n",
            "|cod_quali_socio|cnpj_basico|cod_id_socio|nome_socio_pf_pj                 |cpf_cnpj_socio|data_entrada_sociedade|cod_pais_socio|cpf_representante_legal|nome_representante|cod_quali_representante|cod_faixa_etaria|nome_quali_socio   |\n",
            "+---------------+-----------+------------+---------------------------------+--------------+----------------------+--------------+-----------------------+------------------+-----------------------+----------------+-------------------+\n",
            "|49             |66011180   |2           |CLAUDIO RONDINI                  |***887038**   |20011126              |NULL          |***000000**            |NULL              |00                     |8               |Sócio-Administrador|\n",
            "|22             |66011180   |2           |MARIA APARECIDA QUEIROZ RONDINI  |***933348**   |20050618              |NULL          |***000000**            |NULL              |00                     |7               |Sócio              |\n",
            "|49             |85061877   |2           |RICARDO BAULE ROSSI              |***521929**   |20060202              |NULL          |***000000**            |NULL              |00                     |4               |Sócio-Administrador|\n",
            "|22             |85061877   |2           |EDUARDO GUILHERME BAULE ROSSI    |***550209**   |20060202              |NULL          |***000000**            |NULL              |00                     |5               |Sócio              |\n",
            "|49             |07428785   |2           |WENDER ALVES MOREIRA             |***544511**   |20141021              |NULL          |***000000**            |NULL              |00                     |5               |Sócio-Administrador|\n",
            "|22             |49250368   |2           |ELIETE QUEIROZ BARRETO           |***614218**   |20031126              |NULL          |***000000**            |NULL              |00                     |5               |Sócio              |\n",
            "|49             |49250368   |2           |VALTER LUIZ DE OLIVEIRA          |***360108**   |19771011              |NULL          |***000000**            |NULL              |00                     |8               |Sócio-Administrador|\n",
            "|49             |66011644   |2           |PAULO PAES LEME FITTIPALDI       |***462388**   |19910613              |NULL          |***000000**            |NULL              |00                     |7               |Sócio-Administrador|\n",
            "|22             |66011644   |2           |DANIELA LANGONE BARBO FITTIPALDI |***519898**   |20020425              |NULL          |***000000**            |NULL              |00                     |6               |Sócio              |\n",
            "|16             |10739225   |2           |MARIA AUXILIADORA DE MENEZES     |***906864**   |20210310              |NULL          |***000000**            |NULL              |00                     |8               |Presidente         |\n",
            "|16             |10739258   |2           |PAULO PEREIRA DA SILVA FILHO     |***868964**   |20220902              |NULL          |***000000**            |NULL              |00                     |7               |Presidente         |\n",
            "|49             |28815926   |2           |FLAVIA FERREIRA FERRETTI         |***804557**   |20130823              |NULL          |***000000**            |NULL              |00                     |5               |Sócio-Administrador|\n",
            "|49             |28815926   |2           |BRUNO FREITAS RODRIGUES          |***076567**   |20230118              |NULL          |***000000**            |NULL              |00                     |5               |Sócio-Administrador|\n",
            "|49             |85062875   |2           |ADALTO RODRIGUES PEREIRA         |***094289**   |20120718              |NULL          |***000000**            |NULL              |00                     |6               |Sócio-Administrador|\n",
            "|22             |85062958   |2           |EDEGAR VILKAS                    |***515479**   |19970508              |NULL          |***000000**            |NULL              |00                     |8               |Sócio              |\n",
            "|49             |85062958   |2           |MARCELO VILKAS                   |***715189**   |19970508              |NULL          |***000000**            |NULL              |00                     |5               |Sócio-Administrador|\n",
            "|49             |85063113   |2           |EMANUEL REINHER COSTI            |***527559**   |20051221              |NULL          |***000000**            |NULL              |00                     |5               |Sócio-Administrador|\n",
            "|22             |66012535   |2           |ANGELA APARECIDA GARCIA RODRIGUES|***501439**   |19990930              |NULL          |***000000**            |NULL              |00                     |7               |Sócio              |\n",
            "|49             |49251366   |2           |OSMAR CADILHAS FLORES            |***092108**   |19780619              |NULL          |***000000**            |NULL              |00                     |9               |Sócio-Administrador|\n",
            "|49             |49251366   |2           |PAULA CABRAL FLORES              |***510358**   |19771006              |NULL          |***000000**            |NULL              |00                     |9               |Sócio-Administrador|\n",
            "+---------------+-----------+------------+---------------------------------+--------------+----------------------+--------------+-----------------------+------------------+-----------------------+----------------+-------------------+\n",
            "only showing top 20 rows\n",
            "\n"
          ]
        }
      ]
    },
    {
      "cell_type": "code",
      "source": [
        "from pyspark.sql.functions import collect_list\n",
        "\n",
        "# Agrupar por cnpj_basico e transformar cada coluna em um array\n",
        "df_socios_agrupado = df_socios.groupBy(\"cnpj_basico\").agg(\n",
        "    collect_list(\"cod_id_socio\").alias(\"array_cod_id_socio\"),\n",
        "    collect_list(\"nome_socio_pf_pj\").alias(\"array_nome_socio_pf_pj\"),\n",
        "    collect_list(\"cpf_cnpj_socio\").alias(\"array_cpf_cnpj_socio\"),\n",
        "    collect_list(\"cod_quali_socio\").alias(\"array_cod_quali_socio\"),\n",
        "    collect_list(\"data_entrada_sociedade\").alias(\"array_data_entrada_sociedade\"),\n",
        "    collect_list(\"cod_pais_socio\").alias(\"array_cod_pais_socio\"),\n",
        "    collect_list(\"cpf_representante_legal\").alias(\"array_cpf_representante_legal\"),\n",
        "    collect_list(\"nome_representante\").alias(\"array_nome_representante\"),\n",
        "    collect_list(\"cod_quali_representante\").alias(\"array_cod_quali_representante\"),\n",
        "    collect_list(\"cod_faixa_etaria\").alias(\"array_cod_faixa_etaria\"),\n",
        "    collect_list(\"nome_quali_socio\").alias(\"array_nome_quali_socio\")\n",
        ")\n",
        "\n",
        "# Exibir resultado\n",
        "df_socios_agrupado.show(truncate=False)\n"
      ],
      "metadata": {
        "colab": {
          "base_uri": "https://localhost:8080/"
        },
        "id": "hP_dIeF42yLs",
        "outputId": "60d0d328-1948-4db1-d195-b9f1e0771d4f"
      },
      "execution_count": null,
      "outputs": [
        {
          "output_type": "stream",
          "name": "stdout",
          "text": [
            "+-----------+------------------+--------------------------------------------------------------------------+---------------------------------------------+---------------------+------------------------------+--------------------+---------------------------------------+------------------------------------------------+-----------------------------+----------------------+-------------------------------------------------+\n",
            "|cnpj_basico|array_cod_id_socio|array_nome_socio_pf_pj                                                    |array_cpf_cnpj_socio                         |array_cod_quali_socio|array_data_entrada_sociedade  |array_cod_pais_socio|array_cpf_representante_legal          |array_nome_representante                        |array_cod_quali_representante|array_cod_faixa_etaria|array_nome_quali_socio                           |\n",
            "+-----------+------------------+--------------------------------------------------------------------------+---------------------------------------------+---------------------+------------------------------+--------------------+---------------------------------------+------------------------------------------------+-----------------------------+----------------------+-------------------------------------------------+\n",
            "|00000075   |[2]               |[ALICE MARIA DE CAMARGO]                                                  |[***537291**]                                |[16]                 |[20050912]                    |[]                  |[***000000**]                          |[]                                              |[00]                         |[8]                   |[Presidente]                                     |\n",
            "|00000170   |[2, 2]            |[IRMA MINKE MARON, RITA DE CASSIA MARESTI CAVALLARI]                      |[***365568**, ***694168**]                   |[49, 49]             |[19940616, 19940616]          |[]                  |[***000000**, ***000000**]             |[]                                              |[00, 00]                     |[7, 7]                |[Sócio-Administrador, Sócio-Administrador]       |\n",
            "|00000373   |[2]               |[JOSE EDUARDO FIGUEIREDO LEITE]                                           |[***371338**]                                |[16]                 |[20050912]                    |[]                  |[***000000**]                          |[]                                              |[00]                         |[7]                   |[Presidente]                                     |\n",
            "|00000431   |[2, 2]            |[JOSE HOMENS DOS SANTOS, MARIA VERA LUCIA MOREIRA DOS SANTOS]             |[***660598**, ***165508**]                   |[28, 22]             |[19940920, 19980120]          |[]                  |[***000000**, ***000000**]             |[]                                              |[00, 00]                     |[7, 7]                |[Sócio-Gerente, Sócio]                           |\n",
            "|00000528   |[2, 2]            |[JOSE CARLOS DO REGO, ROSANGELA MARIA DO REGO]                            |[***109264**, ***485634**]                   |[49, 49]             |[19980210, 20040517]          |[]                  |[***000000**, ***000000**]             |[]                                              |[00, 00]                     |[6, 5]                |[Sócio-Administrador, Sócio-Administrador]       |\n",
            "|00000611   |[2]               |[PAULO CESAR FERREIRA ELIAS]                                              |[***930728**]                                |[49]                 |[19941124]                    |[]                  |[***000000**]                          |[]                                              |[00]                         |[6]                   |[Sócio-Administrador]                            |\n",
            "|00000643   |[2]               |[TAISA TEODORO]                                                           |[***512838**]                                |[16]                 |[20050912]                    |[]                  |[***000000**]                          |[]                                              |[00]                         |[6]                   |[Presidente]                                     |\n",
            "|00000649   |[2, 2]            |[LUIZ ANTONIO DE OLIVEIRA, DOUGLAS SUOZZO BARROSO]                        |[***358508**, ***145658**]                   |[49, 49]             |[19941130, 20000926]          |[]                  |[***000000**, ***000000**]             |[]                                              |[00, 00]                     |[7, 6]                |[Sócio-Administrador, Sócio-Administrador]       |\n",
            "|00000683   |[2, 1, 1]         |[JORGE YOKOSAWA, CBRAZIL, INC., LATIN WIRELESS INVESTMENTS LIMITED]       |[***315138**, 05722172000192, 05433269000185]|[05, 22, 22]         |[19990506, 19941216, 20091022]|[]                  |[***000000**, ***811678**, ***811678**]|[PETER HENRI VON MUTIUS, PETER HENRI VON MUTIUS]|[00, 05, 05]                 |[8, 0, 0]             |[Administrador, Sócio, Sócio]                    |\n",
            "|00000793   |[2, 2]            |[JULIO KUROSAKI, ISILDINHA ALVES DA SILVA KUROSAKI]                       |[***628568**, ***822058**]                   |[49, 49]             |[19940429, 19940429]          |[]                  |[***000000**, ***000000**]             |[]                                              |[00, 00]                     |[7, 8]                |[Sócio-Administrador, Sócio-Administrador]       |\n",
            "|00000911   |[2, 2, 2]         |[EMERSON CESAR RODRIGUES, RUY UBYRAJARA PUCCINELLI JUNIOR, CELSO APOLONIO]|[***266438**, ***261098**, ***163268**]      |[49, 49, 22]         |[19940502, 20031121, 20031121]|[]                  |[***000000**, ***000000**, ***000000**]|[]                                              |[00, 00, 00]                 |[7, 7, 7]             |[Sócio-Administrador, Sócio-Administrador, Sócio]|\n",
            "|00000919   |[2]               |[TEREZINHA ISABEL SOUTO ROCHA]                                            |[***377560**]                                |[16]                 |[20050912]                    |[]                  |[***000000**]                          |[]                                              |[00]                         |[9]                   |[Presidente]                                     |\n",
            "|00001178   |[2, 2]            |[MARCIA BALADI OFFA, SIRLENE VALENTE BALADI OFFA]                         |[***530508**, ***055068**]                   |[49, 22]             |[19940505, 19940505]          |[]                  |[***000000**, ***000000**]             |[]                                              |[00, 00]                     |[6, 9]                |[Sócio-Administrador, Sócio]                     |\n",
            "|00001202   |[2, 2]            |[KYUNG HEE OH JI, JONG IN OH]                                             |[***877798**, ***419088**]                   |[49, 22]             |[19960326, 19971006]          |[]                  |[***000000**, ***000000**]             |[]                                              |[00, 00]                     |[6, 6]                |[Sócio-Administrador, Sócio]                     |\n",
            "|00001898   |[2, 2]            |[MARIA JUDITE SARAIVA, MARIA HELENA SARAIVA PIVA]                         |[***403038**, ***429268**]                   |[49, 49]             |[19970213, 19970213]          |[]                  |[***000000**, ***000000**]             |[]                                              |[00, 00]                     |[9, 7]                |[Sócio-Administrador, Sócio-Administrador]       |\n",
            "|00002088   |[2, 2]            |[EDUARDO DUARTE MOREIRA, ERICA GONCALVES DE SOUZA]                        |[***164558**, ***821548**]                   |[49, 49]             |[19940513, 20011023]          |[]                  |[***000000**, ***000000**]             |[]                                              |[00, 00]                     |[7, 6]                |[Sócio-Administrador, Sócio-Administrador]       |\n",
            "|00002114   |[2, 2]            |[JORGE LUIZ PAULO, MARIA CRISTINA DUZZI PAULO]                            |[***434006**, ***609308**]                   |[49, 22]             |[19980101, 19980101]          |[]                  |[***000000**, ***000000**]             |[]                                              |[00, 00]                     |[7, 6]                |[Sócio-Administrador, Sócio]                     |\n",
            "|00002338   |[2, 2]            |[VALTER DE OLIVEIRA FERNANDES, EMANUEL MALO SANCHES]                      |[***730868**, ***250958**]                   |[49, 22]             |[19940506, 19940506]          |[]                  |[***000000**, ***000000**]             |[]                                              |[00, 00]                     |[7, 6]                |[Sócio-Administrador, Sócio]                     |\n",
            "|00002503   |[2, 2]            |[SEBASTIANA DE FATIMA MORAES BOLOGNIN, JOSE JOAO BOLOGNIN]                |[***286818**, ***899648**]                   |[22, 49]             |[19940510, 19940510]          |[]                  |[***000000**, ***000000**]             |[]                                              |[00, 00]                     |[7, 8]                |[Sócio, Sócio-Administrador]                     |\n",
            "|00002789   |[2]               |[RENATO NUNES DA SILVA]                                                   |[***448638**]                                |[49]                 |[19940509]                    |[]                  |[***000000**]                          |[]                                              |[00]                         |[7]                   |[Sócio-Administrador]                            |\n",
            "+-----------+------------------+--------------------------------------------------------------------------+---------------------------------------------+---------------------+------------------------------+--------------------+---------------------------------------+------------------------------------------------+-----------------------------+----------------------+-------------------------------------------------+\n",
            "only showing top 20 rows\n",
            "\n"
          ]
        }
      ]
    },
    {
      "cell_type": "markdown",
      "source": [
        "# **Teste de Junção das Tabelas**"
      ],
      "metadata": {
        "id": "Ek5o4JICVr0i"
      }
    },
    {
      "cell_type": "code",
      "source": [
        "# Definindo do df teste e fazendo a primeira junção com arquivo socios\n",
        "\n",
        "df_teste = df_estab.limit(1000)\n",
        "\n",
        "df_teste = df_teste.join(df_socios_agrupado, on=\"cnpj_basico\", how=\"left\")\n",
        "\n",
        "df_teste.show(truncate=False)\n",
        "\n"
      ],
      "metadata": {
        "id": "-b6uqui92yWR",
        "colab": {
          "base_uri": "https://localhost:8080/"
        },
        "outputId": "582e63c5-3bf3-43cb-9e38-929f542a4cd8"
      },
      "execution_count": null,
      "outputs": [
        {
          "output_type": "stream",
          "name": "stdout",
          "text": [
            "+-----------+----------+-------+----------------+---------------------------+-----------------+------------------+---------------------+---------------+--------+---------------------+---------------------+---------------------------------------------------------------------------------------+--------------+---------------------------------+------+-----------+------------------------------------------+--------+---+---------+-----+--------+-----+--------+-------+--------+------------------------------------+-----------------+----------------------+------------------+----------------------------------------------------------------+--------------------------+---------------------+----------------------------+--------------------+-----------------------------+------------------------+-----------------------------+----------------------+----------------------------+\n",
            "|cnpj_basico|cnpj_ordem|cnpj_dv|id_matriz_filial|nome_fantasia              |cod_sit_cadastral|data_sit_cadastral|cod_mot_sit_cadastral|nome_cidade_ext|cod_pais|data_inicio_atividade|cnae_fiscal_principal|cnae_fiscal_secundaria                                                                 |tipo_de_lograd|logradouro                       |numero|complemento|bairro                                    |cep     |uf |municipio|ddd_1|tel_1   |ddd_2|tel_2   |ddd_fax|num_fax |correio_eletronico                  |situacao_especial|data_situacao_especial|array_cod_id_socio|array_nome_socio_pf_pj                                          |array_cpf_cnpj_socio      |array_cod_quali_socio|array_data_entrada_sociedade|array_cod_pais_socio|array_cpf_representante_legal|array_nome_representante|array_cod_quali_representante|array_cod_faixa_etaria|array_nome_quali_socio      |\n",
            "+-----------+----------+-------+----------------+---------------------------+-----------------+------------------+---------------------+---------------+--------+---------------------+---------------------+---------------------------------------------------------------------------------------+--------------+---------------------------------+------+-----------+------------------------------------------+--------+---+---------+-----+--------+-----+--------+-------+--------+------------------------------------+-----------------+----------------------+------------------+----------------------------------------------------------------+--------------------------+---------------------+----------------------------+--------------------+-----------------------------+------------------------+-----------------------------+----------------------+----------------------------+\n",
            "|04687996   |0001      |06     |1               |MILSOFT                    |08               |20211215          |01                   |NULL           |NULL    |20010905             |4761003              |9511800,4321500,8111700                                                                |RUA           |LUIS FERREIRA SATURNINO          |85    |      ALTOS|SAMARITA                                  |11345405|SP |7121     |13   |78075881|NULL |NULL    |NULL   |NULL    |milsoft.tec@hotmail.com             |NULL             |NULL                  |[2, 2]            |[AMILSON MARTINS DA SILVA, MARIA DAS GRACAS BERNARDO DA SILVA]  |[***065378**, ***974568**]|[49, 22]             |[20010905, 20010905]        |[]                  |[***000000**, ***000000**]   |[]                      |[00, 00]                     |[5, 8]                |[Sócio-Administrador, Sócio]|\n",
            "|04793765   |0001      |87     |1               |MARK                       |04               |20180904          |63                   |NULL           |NULL    |20011001             |8299799              |6399200,7410299,7490105,7490199,8219999,8299703,8299707                                |RUA           |CASTRO MAIA                      |52    |APTO 202   |SANTA LUCIA                               |30360220|MG |4123     |31   |33443971|NULL |NULL    |NULL   |NULL    |NULL                                |NULL             |NULL                  |NULL              |NULL                                                            |NULL                      |NULL                 |NULL                        |NULL                |NULL                         |NULL                    |NULL                         |NULL                  |NULL                        |\n",
            "|06290044   |0001      |80     |1               |COMERCIAL FERNANDES        |02               |20230913          |00                   |NULL           |NULL    |20040305             |4744099              |1622602                                                                                |AVENIDA       |CARAVELAS                        |S/N   |NULL       |FRANCES                                   |57160000|AL |2793     |82   |32212132|NULL |NULL    |NULL   |NULL    |NULL                                |NULL             |NULL                  |NULL              |NULL                                                            |NULL                      |NULL                 |NULL                        |NULL                |NULL                         |NULL                    |NULL                         |NULL                  |NULL                        |\n",
            "|06646502   |0001      |70     |1               |NULL                       |08               |20041231          |01                   |NULL           |NULL    |20040720             |9492800              |NULL                                                                                   |RUA           |JOAO CRISTINO DE FREITAS,        |32    |CASA       |CJ. ANT.FORASTIEIRI                       |87175000|PR |7615     |NULL |NULL    |NULL |NULL    |NULL   |NULL    |NULL                                |NULL             |NULL                  |NULL              |NULL                                                            |NULL                      |NULL                 |NULL                        |NULL                |NULL                         |NULL                    |NULL                         |NULL                  |NULL                        |\n",
            "|10799947   |0001      |68     |1               |J. L. ALIMENTOS            |08               |20151002          |01                   |NULL           |NULL    |20090427             |4729699              |NULL                                                                                   |RUA           |AILTON ORLANDO                   |156   |      A    |CENTRO                                    |19200000|SP |6885     |18   |32695290|NULL |NULL    |NULL   |NULL    |escmodelo@icenet.com.brt            |NULL             |NULL                  |NULL              |NULL                                                            |NULL                      |NULL                 |NULL                        |NULL                |NULL                         |NULL                    |NULL                         |NULL                  |NULL                        |\n",
            "|10890096   |0001      |64     |1               |TINSTEC                    |04               |20181025          |63                   |NULL           |NULL    |20090610             |4321500              |4322302,9511800,8121400,4120400,9521500,4742300,4744099,4520003                        |RUA           |CINCO                            |06    |      B    |RIO DOCE                                  |53150345|PE |2491     |81   |86942682|81   |34314302|NULL   |NULL    |NULL                                |NULL             |NULL                  |[2, 2]            |[ALUISIO FERREIRA DA SILVA, MARIA DE FATIMA NASCIMENTO DA SILVA]|[***062124**, ***540604**]|[49, 22]             |[20090610, 20090610]        |[]                  |[***000000**, ***000000**]   |[]                      |[00, 00]                     |[8, 7]                |[Sócio-Administrador, Sócio]|\n",
            "|13133795   |0001      |58     |1               |NULL                       |04               |20181026          |63                   |NULL           |NULL    |20110120             |5011401              |5012201,5120000,4911600                                                                |RUA           |ASSUNCAO                         |12    |NULL       |PLANALTO                                  |69045230|AM |0255     |92   |91477225|NULL |NULL    |NULL   |NULL    |NULL                                |NULL             |NULL                  |NULL              |NULL                                                            |NULL                      |NULL                 |NULL                        |NULL                |NULL                         |NULL                    |NULL                         |NULL                  |NULL                        |\n",
            "|13587990   |0001      |58     |1               |NULL                       |02               |20110503          |00                   |NULL           |NULL    |20110503             |4772500              |4781400,9602501                                                                        |AVENIDA       |DOUTOR JOSE THOMAS D'AVILA NABUCO|57    |NULL       |FAROLANDIA                                |49030270|SE |3105     |79   |98320369|NULL |NULL    |NULL   |NULL    |FALECONOSCO.JOSYCOSMETICOS@GMAIL.COM|NULL             |NULL                  |NULL              |NULL                                                            |NULL                      |NULL                 |NULL                        |NULL                |NULL                         |NULL                    |NULL                         |NULL                  |NULL                        |\n",
            "|13588126   |0001      |70     |1               |FIGALLI DE ANGELO          |02               |20110401          |00                   |NULL           |NULL    |20110401             |4120400              |4110700,6810203                                                                        |AVENIDA       |MARILIA                          |365   |NULL       |RESIDENCIAL TAMBORE                       |06458040|SP |6213     |11   |87960027|NULL |NULL    |11     |34593973|CONTATO@FIGALLIDEANGELO.COM.BR      |NULL             |NULL                  |[2]               |[ITAIS DE ANGELO]                                               |[***039688**]             |[49]                 |[20110401]                  |[]                  |[***000000**]                |[]                      |[00]                         |[9]                   |[Sócio-Administrador]       |\n",
            "|15694005   |0001      |39     |1               |POSTO CUPIRENSE II         |02               |20120529          |00                   |NULL           |NULL    |20120529             |4731800              |4732600,4729602                                                                        |RUA           |15 DE NOVEMBRO                   |07    |NULL       |CENTRO                                    |55460000|PE |2399     |81   |96115111|NULL |NULL    |NULL   |NULL    |NULL                                |NULL             |NULL                  |[2, 2]            |[ALBERTO LUIS PEREIRA CANDIDO, CAMILA GABRIELA SERODIO CANDIDO] |[***831814**, ***891014**]|[49, 22]             |[20130703, 20130703]        |[]                  |[***000000**, ***000000**]   |[]                      |[00, 00]                     |[7, 4]                |[Sócio-Administrador, Sócio]|\n",
            "|18115190   |0001      |58     |1               |NULL                       |04               |20231027          |63                   |NULL           |NULL    |20130515             |5611203              |NULL                                                                                   |RUA           |VIOLETA SILVESTRE                |199   |NULL       |CONJUNTO HABITACIONAL RECANTO DOS HUMILDES|05209030|SP |7107     |11   |39177577|NULL |NULL    |NULL   |NULL    |NULL                                |NULL             |NULL                  |NULL              |NULL                                                            |NULL                      |NULL                 |NULL                        |NULL                |NULL                         |NULL                    |NULL                         |NULL                  |NULL                        |\n",
            "|18878836   |0001      |59     |1               |JP COMUNICACAO VISUAL      |08               |20180201          |67                   |NULL           |NULL    |20130915             |1813001              |NULL                                                                                   |RUA           |Riachuelo                        |431   |NULL       |Curiango                                  |35790000|MG |4417     |38   |99168447|NULL |NULL    |NULL   |NULL    |joelpjr@yahoo.com.br                |NULL             |NULL                  |NULL              |NULL                                                            |NULL                      |NULL                 |NULL                        |NULL                |NULL                         |NULL                    |NULL                         |NULL                  |NULL                        |\n",
            "|19426437   |0001      |10     |1               |PV INFORCELL               |08               |20150722          |01                   |NULL           |NULL    |20131218             |9511800              |NULL                                                                                   |RUA           |BREJO SANTO                      |212a  |NULL       |MARECHAL RONDON (JUREMA)                  |61652580|CE |1373     |85   |85038418|NULL |NULL    |NULL   |NULL    |franciscoroberlandio@hotmail.com    |NULL             |NULL                  |NULL              |NULL                                                            |NULL                      |NULL                 |NULL                        |NULL                |NULL                         |NULL                    |NULL                         |NULL                  |NULL                        |\n",
            "|24633452   |0001      |79     |1               |DECORSTEEL                 |08               |20170309          |01                   |NULL           |NULL    |20160420             |4754703              |NULL                                                                                   |RUA           |CLAUDIO LOPES                    |40    |NULL       |JARDIM IRIRIU                             |89224087|SC |8179     |47   |84104833|NULL |NULL    |NULL   |NULL    |NULL                                |NULL             |NULL                  |NULL              |NULL                                                            |NULL                      |NULL                 |NULL                        |NULL                |NULL                         |NULL                    |NULL                         |NULL                  |NULL                        |\n",
            "|31347541   |0001      |14     |1               |FINALIZE COMUNICACAO VISUAL|08               |20190207          |01                   |NULL           |NULL    |20180827             |3299003              |1732000,4759899,3299004                                                                |10A RUA       |DOMICIANO PEIXOTO                |09    |NULL       |CENTRO                                    |76360000|GO |9413     |62   |84006178|NULL |NULL    |NULL   |NULL    |wilamefernando@hotmail.com          |NULL             |NULL                  |NULL              |NULL                                                            |NULL                      |NULL                 |NULL                        |NULL                |NULL                         |NULL                    |NULL                         |NULL                  |NULL                        |\n",
            "|33566855   |0001      |33     |1               |Maiquinho mototaxi         |08               |20211021          |01                   |NULL           |NULL    |20190508             |4923001              |5320202                                                                                |RUA           |VISCONDE DO RIO GRANDE           |351   |NULL       |FRAGATA                                   |96025380|RS |8791     |53   |33075020|NULL |NULL    |NULL   |NULL    |maiquelssoares@gmail.com            |NULL             |NULL                  |NULL              |NULL                                                            |NULL                      |NULL                 |NULL                        |NULL                |NULL                         |NULL                    |NULL                         |NULL                  |NULL                        |\n",
            "|33566952   |0001      |26     |1               |NULL                       |02               |20190508          |00                   |NULL           |NULL    |20190508             |8130300              |NULL                                                                                   |QUADRA        |QUADRA 199                       |31    |NULL       |PARQUE ESTRELA DALVA XVI                  |72902418|GO |9677     |61   |91322602|NULL |NULL    |NULL   |NULL    |marcossoares23@bol.com.br           |NULL             |NULL                  |NULL              |NULL                                                            |NULL                      |NULL                 |NULL                        |NULL                |NULL                         |NULL                    |NULL                         |NULL                  |NULL                        |\n",
            "|33779070   |0001      |49     |1               |ANDREZA PEREIRA DIAS       |08               |20190612          |01                   |NULL           |NULL    |20190530             |4755503              |NULL                                                                                   |QUADRA        |QUADRA 45 CONJUNTO D             |08    |NULL       |VILA SAO JOSE (BRAZLANDIA)                |72745004|DF |9701     |61   |99692243|NULL |NULL    |NULL   |NULL    |NULL                                |NULL             |NULL                  |NULL              |NULL                                                            |NULL                      |NULL                 |NULL                        |NULL                |NULL                         |NULL                    |NULL                         |NULL                  |NULL                        |\n",
            "|37689572   |0001      |30     |1               |BLACK FOOD                 |08               |20200720          |01                   |NULL           |NULL    |20200711             |5611203              |5620101,5612100,5611201                                                                |10A RUA       |QNP 27 CONJUNTO F                |06    |NULL       |CEILANDIA NORTE (CEILANDIA)               |72242161|DF |9701     |61   |98302368|NULL |NULL    |NULL   |NULL    |LEOXCORREIA@GMAIL.COM               |NULL             |NULL                  |NULL              |NULL                                                            |NULL                      |NULL                 |NULL                        |NULL                |NULL                         |NULL                    |NULL                         |NULL                  |NULL                        |\n",
            "|43021457   |0001      |95     |1               |ELDE SERVICOS AERONAUTICOS |02               |20210806          |00                   |NULL           |NULL    |20210806             |2539001              |2539002,3314701,3314702,3314704,3314707,3314713,3314799,3316301,3316302,4520008,8299799|AVENIDA       |FRANCISCO DE OLIVEIRA            |SN    |NULL       |OURO VERDE                                |26263250|RJ |5869     |21   |71277262|NULL |NULL    |NULL   |NULL    |CONTATO@ELDE.COM.BR                 |NULL             |NULL                  |[2]               |[VICTOR HUGO PACKNESS GUEDES]                                   |[***709677**]             |[49]                 |[20210806]                  |[]                  |[***000000**]                |[]                      |[00]                         |[3]                   |[Sócio-Administrador]       |\n",
            "+-----------+----------+-------+----------------+---------------------------+-----------------+------------------+---------------------+---------------+--------+---------------------+---------------------+---------------------------------------------------------------------------------------+--------------+---------------------------------+------+-----------+------------------------------------------+--------+---+---------+-----+--------+-----+--------+-------+--------+------------------------------------+-----------------+----------------------+------------------+----------------------------------------------------------------+--------------------------+---------------------+----------------------------+--------------------+-----------------------------+------------------------+-----------------------------+----------------------+----------------------------+\n",
            "only showing top 20 rows\n",
            "\n"
          ]
        }
      ]
    },
    {
      "cell_type": "code",
      "source": [
        "# Obtém o número de linhas\n",
        "num_linhas = df_teste.count()\n",
        "\n",
        "# Obtém o número de colunas\n",
        "num_colunas = len(df_teste.columns)\n",
        "\n",
        "print(f\"Número de linhas: {num_linhas}\")\n",
        "print(f\"Número de colunas: {num_colunas}\")"
      ],
      "metadata": {
        "colab": {
          "base_uri": "https://localhost:8080/"
        },
        "id": "Be_3L77fiRi4",
        "outputId": "3a50e885-2e9f-4428-f4d0-ddb8e7ca38b8"
      },
      "execution_count": null,
      "outputs": [
        {
          "output_type": "stream",
          "name": "stdout",
          "text": [
            "Número de linhas: 1000\n",
            "Número de colunas: 40\n"
          ]
        }
      ]
    },
    {
      "cell_type": "code",
      "source": [
        "# Junção com arquivo empresas\n",
        "\n",
        "\n",
        "df_teste = df_teste.join(df_empresas, on=\"cnpj_basico\", how=\"left\")\n",
        "\n",
        "df_teste.show(truncate=False)\n",
        "\n"
      ],
      "metadata": {
        "colab": {
          "base_uri": "https://localhost:8080/"
        },
        "id": "YUzEHO1boLBh",
        "outputId": "cc617189-296f-49a6-aab2-a11add08357e"
      },
      "execution_count": null,
      "outputs": [
        {
          "output_type": "stream",
          "name": "stdout",
          "text": [
            "+-----------+----------+-------+----------------+--------------------------+-----------------+------------------+---------------------+---------------+--------+---------------------+---------------------+---------------------------------------------------------------------------------------+--------------+---------------------------------+------+-----------------------------------------------------------------+------------------------------------------+--------+---+---------+-----+--------+-----+--------+-------+-------+------------------------------------+-----------------+----------------------+------------------+-------------------------------------------------------------------------+--------------------------+---------------------+----------------------------+--------------------+-----------------------------+------------------------+-----------------------------+----------------------+----------------------------+--------------------------------------------------------+----------------+----------------------------+--------------+-----------------+--------------------+\n",
            "|cnpj_basico|cnpj_ordem|cnpj_dv|id_matriz_filial|nome_fantasia             |cod_sit_cadastral|data_sit_cadastral|cod_mot_sit_cadastral|nome_cidade_ext|cod_pais|data_inicio_atividade|cnae_fiscal_principal|cnae_fiscal_secundaria                                                                 |tipo_de_lograd|logradouro                       |numero|complemento                                                      |bairro                                    |cep     |uf |municipio|ddd_1|tel_1   |ddd_2|tel_2   |ddd_fax|num_fax|correio_eletronico                  |situacao_especial|data_situacao_especial|array_cod_id_socio|array_nome_socio_pf_pj                                                   |array_cpf_cnpj_socio      |array_cod_quali_socio|array_data_entrada_sociedade|array_cod_pais_socio|array_cpf_representante_legal|array_nome_representante|array_cod_quali_representante|array_cod_faixa_etaria|array_nome_quali_socio      |razao_social                                            |cod_nat_juridica|cod_qualificacao_responsavel|capital_social|cod_porte_empresa|ente_federativo_resp|\n",
            "+-----------+----------+-------+----------------+--------------------------+-----------------+------------------+---------------------+---------------+--------+---------------------+---------------------+---------------------------------------------------------------------------------------+--------------+---------------------------------+------+-----------------------------------------------------------------+------------------------------------------+--------+---+---------+-----+--------+-----+--------+-------+-------+------------------------------------+-----------------+----------------------+------------------+-------------------------------------------------------------------------+--------------------------+---------------------+----------------------------+--------------------+-----------------------------+------------------------+-----------------------------+----------------------+----------------------------+--------------------------------------------------------+----------------+----------------------------+--------------+-----------------+--------------------+\n",
            "|10799947   |0001      |68     |1               |J. L. ALIMENTOS           |08               |20151002          |01                   |NULL           |NULL    |20090427             |4729699              |NULL                                                                                   |RUA           |AILTON ORLANDO                   |156   |      A                                                          |CENTRO                                    |19200000|SP |6885     |18   |32695290|NULL |NULL    |NULL   |NULL   |escmodelo@icenet.com.brt            |NULL             |NULL                  |NULL              |NULL                                                                     |NULL                      |NULL                 |NULL                        |NULL                |NULL                         |NULL                    |NULL                         |NULL                  |NULL                        |LIDIANE ROMAN DE MORAIS                                 |2135            |50                          |5000,00       |01               |NULL                |\n",
            "|18115190   |0001      |58     |1               |NULL                      |04               |20231027          |63                   |NULL           |NULL    |20130515             |5611203              |NULL                                                                                   |RUA           |VIOLETA SILVESTRE                |199   |NULL                                                             |CONJUNTO HABITACIONAL RECANTO DOS HUMILDES|05209030|SP |7107     |11   |39177577|NULL |NULL    |NULL   |NULL   |NULL                                |NULL             |NULL                  |NULL              |NULL                                                                     |NULL                      |NULL                 |NULL                        |NULL                |NULL                         |NULL                    |NULL                         |NULL                  |NULL                        |FABIANO DA SILVA CAVALCANTI 34818361801                 |2135            |50                          |10000,00      |01               |NULL                |\n",
            "|18878836   |0001      |59     |1               |JP COMUNICACAO VISUAL     |08               |20180201          |67                   |NULL           |NULL    |20130915             |1813001              |NULL                                                                                   |RUA           |Riachuelo                        |431   |NULL                                                             |Curiango                                  |35790000|MG |4417     |38   |99168447|NULL |NULL    |NULL   |NULL   |joelpjr@yahoo.com.br                |NULL             |NULL                  |NULL              |NULL                                                                     |NULL                      |NULL                 |NULL                        |NULL                |NULL                         |NULL                    |NULL                         |NULL                  |NULL                        |JOEL PEREIRA JUNIOR 10257714600                         |2135            |50                          |1700,00       |01               |NULL                |\n",
            "|33566952   |0001      |26     |1               |NULL                      |02               |20190508          |00                   |NULL           |NULL    |20190508             |8130300              |NULL                                                                                   |QUADRA        |QUADRA 199                       |31    |NULL                                                             |PARQUE ESTRELA DALVA XVI                  |72902418|GO |9677     |61   |91322602|NULL |NULL    |NULL   |NULL   |marcossoares23@bol.com.br           |NULL             |NULL                  |NULL              |NULL                                                                     |NULL                      |NULL                 |NULL                        |NULL                |NULL                         |NULL                    |NULL                         |NULL                  |NULL                        |ANTONIO MARCOS DE JESUS SOARES 09561936925              |2135            |50                          |3000,00       |01               |NULL                |\n",
            "|37689572   |0001      |30     |1               |BLACK FOOD                |08               |20200720          |01                   |NULL           |NULL    |20200711             |5611203              |5620101,5612100,5611201                                                                |10A RUA       |QNP 27 CONJUNTO F                |06    |NULL                                                             |CEILANDIA NORTE (CEILANDIA)               |72242161|DF |9701     |61   |98302368|NULL |NULL    |NULL   |NULL   |LEOXCORREIA@GMAIL.COM               |NULL             |NULL                  |NULL              |NULL                                                                     |NULL                      |NULL                 |NULL                        |NULL                |NULL                         |NULL                    |NULL                         |NULL                  |NULL                        |LEONARDO XAVIER CORREIA 71626220115                     |2135            |50                          |1000,00       |01               |NULL                |\n",
            "|47946092   |0001      |60     |1               |CANTINHO DOS MUCHOS       |08               |20230914          |01                   |NULL           |NULL    |20220914             |5611205              |NULL                                                                                   |RUA           |SANTA EFIGENHIA                  |SN    |NULL                                                             |ITINGA                                    |42740140|BA |3685     |71   |82068520|NULL |NULL    |NULL   |NULL   |ELAINESANTANAY@HOTMAIL.COM          |NULL             |NULL                  |NULL              |NULL                                                                     |NULL                      |NULL                 |NULL                        |NULL                |NULL                         |NULL                    |NULL                         |NULL                  |NULL                        |ELAINE SANTOS SANTANA 04124694563                       |2135            |50                          |5000,00       |01               |NULL                |\n",
            "|50988780   |0001      |06     |1               |NULL                      |08               |20240328          |01                   |NULL           |NULL    |20230608             |4744099              |4742300,4744003,7732201,4759899,4741500,4744002,4743100                                |ALAMEDA       |SALVADOR                         |1057  |NULL                                                             |CAMINHO DAS ARVORES                       |41820790|BA |3849     |71   |33584778|NULL |NULL    |NULL   |NULL   |DRA.MARCELAOSANTOS@GMAIL.COM        |NULL             |NULL                  |NULL              |NULL                                                                     |NULL                      |NULL                 |NULL                        |NULL                |NULL                         |NULL                    |NULL                         |NULL                  |NULL                        |50.988.780 MARCELA OLIVEIRA RICCIO RESEDA               |2135            |50                          |30000,00      |01               |NULL                |\n",
            "|54140564   |0001      |59     |1               |NULL                      |08               |20240425          |01                   |NULL           |NULL    |20240301             |4930202              |4930204,4930201                                                                        |AVENIDA       |ARAXA                            |236   |NULL                                                             |JARDIM VERDE VIDA                         |76888000|RO |0685     |69   |93242103|NULL |NULL    |NULL   |NULL   |SILVAPEREIRAALINE2@GMAIL.COM        |NULL             |NULL                  |NULL              |NULL                                                                     |NULL                      |NULL                 |NULL                        |NULL                |NULL                         |NULL                    |NULL                         |NULL                  |NULL                        |54.140.564 ALINE SILVA PEREIRA                          |2135            |50                          |10000,00      |01               |NULL                |\n",
            "|04687996   |0001      |06     |1               |MILSOFT                   |08               |20211215          |01                   |NULL           |NULL    |20010905             |4761003              |9511800,4321500,8111700                                                                |RUA           |LUIS FERREIRA SATURNINO          |85    |      ALTOS                                                      |SAMARITA                                  |11345405|SP |7121     |13   |78075881|NULL |NULL    |NULL   |NULL   |milsoft.tec@hotmail.com             |NULL             |NULL                  |[2, 2]            |[AMILSON MARTINS DA SILVA, MARIA DAS GRACAS BERNARDO DA SILVA]           |[***065378**, ***974568**]|[49, 22]             |[20010905, 20010905]        |[]                  |[***000000**, ***000000**]   |[]                      |[00, 00]                     |[5, 8]                |[Sócio-Administrador, Sócio]|MILSOFT TECNOLOGIA COMERCIO E SERVICOS LTDA             |2062            |49                          |3000,00       |01               |NULL                |\n",
            "|13133795   |0001      |58     |1               |NULL                      |04               |20181026          |63                   |NULL           |NULL    |20110120             |5011401              |5012201,5120000,4911600                                                                |RUA           |ASSUNCAO                         |12    |NULL                                                             |PLANALTO                                  |69045230|AM |0255     |92   |91477225|NULL |NULL    |NULL   |NULL   |NULL                                |NULL             |NULL                  |NULL              |NULL                                                                     |NULL                      |NULL                 |NULL                        |NULL                |NULL                         |NULL                    |NULL                         |NULL                  |NULL                        |ROBSON APARECIDO DE MENDONCA                            |2135            |50                          |50000,00      |05               |NULL                |\n",
            "|13587990   |0001      |58     |1               |NULL                      |02               |20110503          |00                   |NULL           |NULL    |20110503             |4772500              |4781400,9602501                                                                        |AVENIDA       |DOUTOR JOSE THOMAS D'AVILA NABUCO|57    |NULL                                                             |FAROLANDIA                                |49030270|SE |3105     |79   |98320369|NULL |NULL    |NULL   |NULL   |FALECONOSCO.JOSYCOSMETICOS@GMAIL.COM|NULL             |NULL                  |NULL              |NULL                                                                     |NULL                      |NULL                 |NULL                        |NULL                |NULL                         |NULL                    |NULL                         |NULL                  |NULL                        |13.587.990 JOSENILDA CRUZ DOS SANTOS                    |2135            |50                          |30000,00      |01               |NULL                |\n",
            "|15694005   |0001      |39     |1               |POSTO CUPIRENSE II        |02               |20120529          |00                   |NULL           |NULL    |20120529             |4731800              |4732600,4729602                                                                        |RUA           |15 DE NOVEMBRO                   |07    |NULL                                                             |CENTRO                                    |55460000|PE |2399     |81   |96115111|NULL |NULL    |NULL   |NULL   |NULL                                |NULL             |NULL                  |[2, 2]            |[ALBERTO LUIS PEREIRA CANDIDO, CAMILA GABRIELA SERODIO CANDIDO]          |[***831814**, ***891014**]|[49, 22]             |[20130703, 20130703]        |[]                  |[***000000**, ***000000**]   |[]                      |[00, 00]                     |[7, 4]                |[Sócio-Administrador, Sócio]|COMERCIO DE COMBUSTIVEIS EM CUPIRA LTDA                 |2062            |49                          |300000,00     |03               |NULL                |\n",
            "|19426437   |0001      |10     |1               |PV INFORCELL              |08               |20150722          |01                   |NULL           |NULL    |20131218             |9511800              |NULL                                                                                   |RUA           |BREJO SANTO                      |212a  |NULL                                                             |MARECHAL RONDON (JUREMA)                  |61652580|CE |1373     |85   |85038418|NULL |NULL    |NULL   |NULL   |franciscoroberlandio@hotmail.com    |NULL             |NULL                  |NULL              |NULL                                                                     |NULL                      |NULL                 |NULL                        |NULL                |NULL                         |NULL                    |NULL                         |NULL                  |NULL                        |FRANCISCO ROBERLANDIO FERREIRA DO NASCIMENTO 79566740344|2135            |50                          |1,00          |01               |NULL                |\n",
            "|33566855   |0001      |33     |1               |Maiquinho mototaxi        |08               |20211021          |01                   |NULL           |NULL    |20190508             |4923001              |5320202                                                                                |RUA           |VISCONDE DO RIO GRANDE           |351   |NULL                                                             |FRAGATA                                   |96025380|RS |8791     |53   |33075020|NULL |NULL    |NULL   |NULL   |maiquelssoares@gmail.com            |NULL             |NULL                  |NULL              |NULL                                                                     |NULL                      |NULL                 |NULL                        |NULL                |NULL                         |NULL                    |NULL                         |NULL                  |NULL                        |MAIQUEL SIQUEIRA SOARES 00270965050                     |2135            |50                          |3000,00       |01               |NULL                |\n",
            "|43021457   |0001      |95     |1               |ELDE SERVICOS AERONAUTICOS|02               |20210806          |00                   |NULL           |NULL    |20210806             |2539001              |2539002,3314701,3314702,3314704,3314707,3314713,3314799,3316301,3316302,4520008,8299799|AVENIDA       |FRANCISCO DE OLIVEIRA            |SN    |NULL                                                             |OURO VERDE                                |26263250|RJ |5869     |21   |71277262|NULL |NULL    |NULL   |NULL   |CONTATO@ELDE.COM.BR                 |NULL             |NULL                  |[2]               |[VICTOR HUGO PACKNESS GUEDES]                                            |[***709677**]             |[49]                 |[20210806]                  |[]                  |[***000000**]                |[]                      |[00]                         |[3]                   |[Sócio-Administrador]       |ELDE-VHP GUEDES LTDA                                    |2062            |49                          |20000,00      |01               |NULL                |\n",
            "|43021491   |0001      |60     |1               |ATACADAO TEXTIL           |02               |20210806          |00                   |NULL           |NULL    |20210806             |4781400              |1411801,1411802,1412601,1413402,4616800,4713004,4755501,4755503,4763602,4930202,8230001|AVENIDA       |JERONIMO DE ALBUQUERQUE MARANHAO |01    |NULL                                                             |VINHAIS                                   |65074199|MA |0921     |98   |83430906|NULL |NULL    |NULL   |NULL   |ATACADAOTEXTIL@HOTMAIL.COM          |NULL             |NULL                  |[2, 2]            |[ISABELA DA SILVA PEREIRA RODRIGUES, ALAN KLEBER GOMES RODRIGUES PEREIRA]|[***628273**, ***114514**]|[49, 22]             |[20210806, 20210806]        |[]                  |[***000000**, ***000000**]   |[]                      |[00, 00]                     |[3, 4]                |[Sócio-Administrador, Sócio]|ISABELA COMERCIO E DISTRIBUICAO LTDA                    |2062            |49                          |50000,00      |01               |NULL                |\n",
            "|48605206   |0001      |71     |1               |NOVA BOMBONIERE           |02               |20221114          |00                   |NULL           |105     |20221114             |4721104              |4712100                                                                                |RUA           |CORONEL CAHET                    |617   |QUADRA199                 LOTE  450                 BOX   01 E 02|LEVADA                                    |57017090|AL |2785     |82   |91258201|0000 |00000000|NULL   |NULL   |JAMORIMCONTABILIDADE@HOTMAIL.COM    |NULL             |NULL                  |NULL              |NULL                                                                     |NULL                      |NULL                 |NULL                        |NULL                |NULL                         |NULL                    |NULL                         |NULL                  |NULL                        |E F DA SILVA COMERCIO                                   |2135            |50                          |50000,00      |03               |NULL                |\n",
            "|58692228   |0001      |70     |1               |NULL                      |02               |20250108          |00                   |NULL           |NULL    |20250108             |5229099              |5320202                                                                                |RUA           |BELA                             |59    |CASA                                                             |BONSUCESSO                                |21043130|RJ |6001     |21   |67852483|NULL |NULL    |NULL   |NULL   |CARLOSDEIVISON92@GMAIL.COM          |NULL             |NULL                  |NULL              |NULL                                                                     |NULL                      |NULL                 |NULL                        |NULL                |NULL                         |NULL                    |NULL                         |NULL                  |NULL                        |58.692.228 DEIVISON CARLOS DOS SANTOS                   |2135            |50                          |6000,00       |01               |NULL                |\n",
            "|04793765   |0001      |87     |1               |MARK                      |04               |20180904          |63                   |NULL           |NULL    |20011001             |8299799              |6399200,7410299,7490105,7490199,8219999,8299703,8299707                                |RUA           |CASTRO MAIA                      |52    |APTO 202                                                         |SANTA LUCIA                               |30360220|MG |4123     |31   |33443971|NULL |NULL    |NULL   |NULL   |NULL                                |NULL             |NULL                  |NULL              |NULL                                                                     |NULL                      |NULL                 |NULL                        |NULL                |NULL                         |NULL                    |NULL                         |NULL                  |NULL                        |THEREZA TAMBERI DOS SANTOS                              |2135            |50                          |0,00          |01               |NULL                |\n",
            "|06290044   |0001      |80     |1               |COMERCIAL FERNANDES       |02               |20230913          |00                   |NULL           |NULL    |20040305             |4744099              |1622602                                                                                |AVENIDA       |CARAVELAS                        |S/N   |NULL                                                             |FRANCES                                   |57160000|AL |2793     |82   |32212132|NULL |NULL    |NULL   |NULL   |NULL                                |NULL             |NULL                  |NULL              |NULL                                                                     |NULL                      |NULL                 |NULL                        |NULL                |NULL                         |NULL                    |NULL                         |NULL                  |NULL                        |MARIA CICERA DA SILVA SANTOS CONSTRUCAO                 |2135            |50                          |40000,00      |01               |NULL                |\n",
            "+-----------+----------+-------+----------------+--------------------------+-----------------+------------------+---------------------+---------------+--------+---------------------+---------------------+---------------------------------------------------------------------------------------+--------------+---------------------------------+------+-----------------------------------------------------------------+------------------------------------------+--------+---+---------+-----+--------+-----+--------+-------+-------+------------------------------------+-----------------+----------------------+------------------+-------------------------------------------------------------------------+--------------------------+---------------------+----------------------------+--------------------+-----------------------------+------------------------+-----------------------------+----------------------+----------------------------+--------------------------------------------------------+----------------+----------------------------+--------------+-----------------+--------------------+\n",
            "only showing top 20 rows\n",
            "\n"
          ]
        }
      ]
    },
    {
      "cell_type": "code",
      "source": [
        "# Obtém o número de linhas\n",
        "num_linhas = df_teste.count()\n",
        "\n",
        "# Obtém o número de colunas\n",
        "num_colunas = len(df_teste.columns)\n",
        "\n",
        "print(f\"Número de linhas: {num_linhas}\")\n",
        "print(f\"Número de colunas: {num_colunas}\")"
      ],
      "metadata": {
        "colab": {
          "base_uri": "https://localhost:8080/"
        },
        "id": "qCD0PUnpr9f2",
        "outputId": "460b6eae-2177-42dc-a543-d3461e299c3c"
      },
      "execution_count": null,
      "outputs": [
        {
          "output_type": "stream",
          "name": "stdout",
          "text": [
            "Número de linhas: 1000\n",
            "Número de colunas: 46\n"
          ]
        }
      ]
    },
    {
      "cell_type": "code",
      "source": [
        "# Junção com arquivo simples\n",
        "\n",
        "df_teste = df_teste.join(df_simples, on=\"cnpj_basico\", how=\"left\")\n",
        "\n",
        "df_teste.show(truncate=False)\n",
        "\n",
        "\n",
        "# Obtém o número de linhas\n",
        "num_linhas = df_teste.count()\n",
        "\n",
        "# Obtém o número de colunas\n",
        "num_colunas = len(df_teste.columns)\n",
        "\n",
        "print(f\"Número de linhas: {num_linhas}\")\n",
        "print(f\"Número de colunas: {num_colunas}\")"
      ],
      "metadata": {
        "colab": {
          "base_uri": "https://localhost:8080/"
        },
        "id": "fLA5Ef-nr9s4",
        "outputId": "73920813-1dbb-4b6b-fd9f-2dc7fdfa10c8"
      },
      "execution_count": null,
      "outputs": [
        {
          "output_type": "stream",
          "name": "stdout",
          "text": [
            "+-----------+----------+-------+----------------+--------------------------+-----------------+------------------+---------------------+---------------+--------+---------------------+---------------------+---------------------------------------------------------------------------------------+--------------+---------------------------------+------+-----------------------------------------------------------------+------------------------------------------+--------+---+---------+-----+--------+-----+--------+-------+-------+------------------------------------+-----------------+----------------------+------------------+-------------------------------------------------------------------------+--------------------------+---------------------+----------------------------+--------------------+-----------------------------+------------------------+-----------------------------+----------------------+----------------------------+--------------------------------------------------------+----------------+----------------------------+--------------+-----------------+--------------------+-------------+------------------+-----------------+---------+--------------+-------------+\n",
            "|cnpj_basico|cnpj_ordem|cnpj_dv|id_matriz_filial|nome_fantasia             |cod_sit_cadastral|data_sit_cadastral|cod_mot_sit_cadastral|nome_cidade_ext|cod_pais|data_inicio_atividade|cnae_fiscal_principal|cnae_fiscal_secundaria                                                                 |tipo_de_lograd|logradouro                       |numero|complemento                                                      |bairro                                    |cep     |uf |municipio|ddd_1|tel_1   |ddd_2|tel_2   |ddd_fax|num_fax|correio_eletronico                  |situacao_especial|data_situacao_especial|array_cod_id_socio|array_nome_socio_pf_pj                                                   |array_cpf_cnpj_socio      |array_cod_quali_socio|array_data_entrada_sociedade|array_cod_pais_socio|array_cpf_representante_legal|array_nome_representante|array_cod_quali_representante|array_cod_faixa_etaria|array_nome_quali_socio      |razao_social                                            |cod_nat_juridica|cod_qualificacao_responsavel|capital_social|cod_porte_empresa|ente_federativo_resp|opcao_simples|data_opcao_simples|data_excl_simples|opcao_mei|data_opcao_mei|data_excl_mei|\n",
            "+-----------+----------+-------+----------------+--------------------------+-----------------+------------------+---------------------+---------------+--------+---------------------+---------------------+---------------------------------------------------------------------------------------+--------------+---------------------------------+------+-----------------------------------------------------------------+------------------------------------------+--------+---+---------+-----+--------+-----+--------+-------+-------+------------------------------------+-----------------+----------------------+------------------+-------------------------------------------------------------------------+--------------------------+---------------------+----------------------------+--------------------+-----------------------------+------------------------+-----------------------------+----------------------+----------------------------+--------------------------------------------------------+----------------+----------------------------+--------------+-----------------+--------------------+-------------+------------------+-----------------+---------+--------------+-------------+\n",
            "|10799947   |0001      |68     |1               |J. L. ALIMENTOS           |08               |20151002          |01                   |NULL           |NULL    |20090427             |4729699              |NULL                                                                                   |RUA           |AILTON ORLANDO                   |156   |      A                                                          |CENTRO                                    |19200000|SP |6885     |18   |32695290|NULL |NULL    |NULL   |NULL   |escmodelo@icenet.com.brt            |NULL             |NULL                  |NULL              |NULL                                                                     |NULL                      |NULL                 |NULL                        |NULL                |NULL                         |NULL                    |NULL                         |NULL                  |NULL                        |LIDIANE ROMAN DE MORAIS                                 |2135            |50                          |5000,00       |01               |NULL                |N            |20140101          |20151002         |N        |00000000      |00000000     |\n",
            "|18115190   |0001      |58     |1               |NULL                      |04               |20231027          |63                   |NULL           |NULL    |20130515             |5611203              |NULL                                                                                   |RUA           |VIOLETA SILVESTRE                |199   |NULL                                                             |CONJUNTO HABITACIONAL RECANTO DOS HUMILDES|05209030|SP |7107     |11   |39177577|NULL |NULL    |NULL   |NULL   |NULL                                |NULL             |NULL                  |NULL              |NULL                                                                     |NULL                      |NULL                 |NULL                        |NULL                |NULL                         |NULL                    |NULL                         |NULL                  |NULL                        |FABIANO DA SILVA CAVALCANTI 34818361801                 |2135            |50                          |10000,00      |01               |NULL                |S            |20130515          |00000000         |S        |20130515      |00000000     |\n",
            "|18878836   |0001      |59     |1               |JP COMUNICACAO VISUAL     |08               |20180201          |67                   |NULL           |NULL    |20130915             |1813001              |NULL                                                                                   |RUA           |Riachuelo                        |431   |NULL                                                             |Curiango                                  |35790000|MG |4417     |38   |99168447|NULL |NULL    |NULL   |NULL   |joelpjr@yahoo.com.br                |NULL             |NULL                  |NULL              |NULL                                                                     |NULL                      |NULL                 |NULL                        |NULL                |NULL                         |NULL                    |NULL                         |NULL                  |NULL                        |JOEL PEREIRA JUNIOR 10257714600                         |2135            |50                          |1700,00       |01               |NULL                |N            |20130915          |20180201         |N        |20130915      |20180201     |\n",
            "|33566952   |0001      |26     |1               |NULL                      |02               |20190508          |00                   |NULL           |NULL    |20190508             |8130300              |NULL                                                                                   |QUADRA        |QUADRA 199                       |31    |NULL                                                             |PARQUE ESTRELA DALVA XVI                  |72902418|GO |9677     |61   |91322602|NULL |NULL    |NULL   |NULL   |marcossoares23@bol.com.br           |NULL             |NULL                  |NULL              |NULL                                                                     |NULL                      |NULL                 |NULL                        |NULL                |NULL                         |NULL                    |NULL                         |NULL                  |NULL                        |ANTONIO MARCOS DE JESUS SOARES 09561936925              |2135            |50                          |3000,00       |01               |NULL                |N            |20190508          |20241231         |N        |20190508      |20241231     |\n",
            "|37689572   |0001      |30     |1               |BLACK FOOD                |08               |20200720          |01                   |NULL           |NULL    |20200711             |5611203              |5620101,5612100,5611201                                                                |10A RUA       |QNP 27 CONJUNTO F                |06    |NULL                                                             |CEILANDIA NORTE (CEILANDIA)               |72242161|DF |9701     |61   |98302368|NULL |NULL    |NULL   |NULL   |LEOXCORREIA@GMAIL.COM               |NULL             |NULL                  |NULL              |NULL                                                                     |NULL                      |NULL                 |NULL                        |NULL                |NULL                         |NULL                    |NULL                         |NULL                  |NULL                        |LEONARDO XAVIER CORREIA 71626220115                     |2135            |50                          |1000,00       |01               |NULL                |N            |20200711          |20200720         |N        |20200711      |20200720     |\n",
            "|47946092   |0001      |60     |1               |CANTINHO DOS MUCHOS       |08               |20230914          |01                   |NULL           |NULL    |20220914             |5611205              |NULL                                                                                   |RUA           |SANTA EFIGENHIA                  |SN    |NULL                                                             |ITINGA                                    |42740140|BA |3685     |71   |82068520|NULL |NULL    |NULL   |NULL   |ELAINESANTANAY@HOTMAIL.COM          |NULL             |NULL                  |NULL              |NULL                                                                     |NULL                      |NULL                 |NULL                        |NULL                |NULL                         |NULL                    |NULL                         |NULL                  |NULL                        |ELAINE SANTOS SANTANA 04124694563                       |2135            |50                          |5000,00       |01               |NULL                |N            |20220914          |20230914         |N        |20220914      |20230914     |\n",
            "|50988780   |0001      |06     |1               |NULL                      |08               |20240328          |01                   |NULL           |NULL    |20230608             |4744099              |4742300,4744003,7732201,4759899,4741500,4744002,4743100                                |ALAMEDA       |SALVADOR                         |1057  |NULL                                                             |CAMINHO DAS ARVORES                       |41820790|BA |3849     |71   |33584778|NULL |NULL    |NULL   |NULL   |DRA.MARCELAOSANTOS@GMAIL.COM        |NULL             |NULL                  |NULL              |NULL                                                                     |NULL                      |NULL                 |NULL                        |NULL                |NULL                         |NULL                    |NULL                         |NULL                  |NULL                        |50.988.780 MARCELA OLIVEIRA RICCIO RESEDA               |2135            |50                          |30000,00      |01               |NULL                |N            |20230608          |20240328         |N        |20230608      |20240328     |\n",
            "|54140564   |0001      |59     |1               |NULL                      |08               |20240425          |01                   |NULL           |NULL    |20240301             |4930202              |4930204,4930201                                                                        |AVENIDA       |ARAXA                            |236   |NULL                                                             |JARDIM VERDE VIDA                         |76888000|RO |0685     |69   |93242103|NULL |NULL    |NULL   |NULL   |SILVAPEREIRAALINE2@GMAIL.COM        |NULL             |NULL                  |NULL              |NULL                                                                     |NULL                      |NULL                 |NULL                        |NULL                |NULL                         |NULL                    |NULL                         |NULL                  |NULL                        |54.140.564 ALINE SILVA PEREIRA                          |2135            |50                          |10000,00      |01               |NULL                |N            |20240301          |20240425         |N        |20240301      |20240425     |\n",
            "|04687996   |0001      |06     |1               |MILSOFT                   |08               |20211215          |01                   |NULL           |NULL    |20010905             |4761003              |9511800,4321500,8111700                                                                |RUA           |LUIS FERREIRA SATURNINO          |85    |      ALTOS                                                      |SAMARITA                                  |11345405|SP |7121     |13   |78075881|NULL |NULL    |NULL   |NULL   |milsoft.tec@hotmail.com             |NULL             |NULL                  |[2, 2]            |[AMILSON MARTINS DA SILVA, MARIA DAS GRACAS BERNARDO DA SILVA]           |[***065378**, ***974568**]|[49, 22]             |[20010905, 20010905]        |[]                  |[***000000**, ***000000**]   |[]                      |[00, 00]                     |[5, 8]                |[Sócio-Administrador, Sócio]|MILSOFT TECNOLOGIA COMERCIO E SERVICOS LTDA             |2062            |49                          |3000,00       |01               |NULL                |N            |20090101          |20211215         |N        |00000000      |00000000     |\n",
            "|13133795   |0001      |58     |1               |NULL                      |04               |20181026          |63                   |NULL           |NULL    |20110120             |5011401              |5012201,5120000,4911600                                                                |RUA           |ASSUNCAO                         |12    |NULL                                                             |PLANALTO                                  |69045230|AM |0255     |92   |91477225|NULL |NULL    |NULL   |NULL   |NULL                                |NULL             |NULL                  |NULL              |NULL                                                                     |NULL                      |NULL                 |NULL                        |NULL                |NULL                         |NULL                    |NULL                         |NULL                  |NULL                        |ROBSON APARECIDO DE MENDONCA                            |2135            |50                          |50000,00      |05               |NULL                |NULL         |NULL              |NULL             |NULL     |NULL          |NULL         |\n",
            "|13587990   |0001      |58     |1               |NULL                      |02               |20110503          |00                   |NULL           |NULL    |20110503             |4772500              |4781400,9602501                                                                        |AVENIDA       |DOUTOR JOSE THOMAS D'AVILA NABUCO|57    |NULL                                                             |FAROLANDIA                                |49030270|SE |3105     |79   |98320369|NULL |NULL    |NULL   |NULL   |FALECONOSCO.JOSYCOSMETICOS@GMAIL.COM|NULL             |NULL                  |NULL              |NULL                                                                     |NULL                      |NULL                 |NULL                        |NULL                |NULL                         |NULL                    |NULL                         |NULL                  |NULL                        |13.587.990 JOSENILDA CRUZ DOS SANTOS                    |2135            |50                          |30000,00      |01               |NULL                |N            |20110503          |20241231         |N        |20110503      |20241231     |\n",
            "|15694005   |0001      |39     |1               |POSTO CUPIRENSE II        |02               |20120529          |00                   |NULL           |NULL    |20120529             |4731800              |4732600,4729602                                                                        |RUA           |15 DE NOVEMBRO                   |07    |NULL                                                             |CENTRO                                    |55460000|PE |2399     |81   |96115111|NULL |NULL    |NULL   |NULL   |NULL                                |NULL             |NULL                  |[2, 2]            |[ALBERTO LUIS PEREIRA CANDIDO, CAMILA GABRIELA SERODIO CANDIDO]          |[***831814**, ***891014**]|[49, 22]             |[20130703, 20130703]        |[]                  |[***000000**, ***000000**]   |[]                      |[00, 00]                     |[7, 4]                |[Sócio-Administrador, Sócio]|COMERCIO DE COMBUSTIVEIS EM CUPIRA LTDA                 |2062            |49                          |300000,00     |03               |NULL                |NULL         |NULL              |NULL             |NULL     |NULL          |NULL         |\n",
            "|19426437   |0001      |10     |1               |PV INFORCELL              |08               |20150722          |01                   |NULL           |NULL    |20131218             |9511800              |NULL                                                                                   |RUA           |BREJO SANTO                      |212a  |NULL                                                             |MARECHAL RONDON (JUREMA)                  |61652580|CE |1373     |85   |85038418|NULL |NULL    |NULL   |NULL   |franciscoroberlandio@hotmail.com    |NULL             |NULL                  |NULL              |NULL                                                                     |NULL                      |NULL                 |NULL                        |NULL                |NULL                         |NULL                    |NULL                         |NULL                  |NULL                        |FRANCISCO ROBERLANDIO FERREIRA DO NASCIMENTO 79566740344|2135            |50                          |1,00          |01               |NULL                |N            |20131218          |20150722         |N        |20131218      |20150722     |\n",
            "|33566855   |0001      |33     |1               |Maiquinho mototaxi        |08               |20211021          |01                   |NULL           |NULL    |20190508             |4923001              |5320202                                                                                |RUA           |VISCONDE DO RIO GRANDE           |351   |NULL                                                             |FRAGATA                                   |96025380|RS |8791     |53   |33075020|NULL |NULL    |NULL   |NULL   |maiquelssoares@gmail.com            |NULL             |NULL                  |NULL              |NULL                                                                     |NULL                      |NULL                 |NULL                        |NULL                |NULL                         |NULL                    |NULL                         |NULL                  |NULL                        |MAIQUEL SIQUEIRA SOARES 00270965050                     |2135            |50                          |3000,00       |01               |NULL                |N            |20190508          |20211021         |N        |20190508      |20211021     |\n",
            "|43021457   |0001      |95     |1               |ELDE SERVICOS AERONAUTICOS|02               |20210806          |00                   |NULL           |NULL    |20210806             |2539001              |2539002,3314701,3314702,3314704,3314707,3314713,3314799,3316301,3316302,4520008,8299799|AVENIDA       |FRANCISCO DE OLIVEIRA            |SN    |NULL                                                             |OURO VERDE                                |26263250|RJ |5869     |21   |71277262|NULL |NULL    |NULL   |NULL   |CONTATO@ELDE.COM.BR                 |NULL             |NULL                  |[2]               |[VICTOR HUGO PACKNESS GUEDES]                                            |[***709677**]             |[49]                 |[20210806]                  |[]                  |[***000000**]                |[]                      |[00]                         |[3]                   |[Sócio-Administrador]       |ELDE-VHP GUEDES LTDA                                    |2062            |49                          |20000,00      |01               |NULL                |S            |20210806          |00000000         |N        |00000000      |00000000     |\n",
            "|43021491   |0001      |60     |1               |ATACADAO TEXTIL           |02               |20210806          |00                   |NULL           |NULL    |20210806             |4781400              |1411801,1411802,1412601,1413402,4616800,4713004,4755501,4755503,4763602,4930202,8230001|AVENIDA       |JERONIMO DE ALBUQUERQUE MARANHAO |01    |NULL                                                             |VINHAIS                                   |65074199|MA |0921     |98   |83430906|NULL |NULL    |NULL   |NULL   |ATACADAOTEXTIL@HOTMAIL.COM          |NULL             |NULL                  |[2, 2]            |[ISABELA DA SILVA PEREIRA RODRIGUES, ALAN KLEBER GOMES RODRIGUES PEREIRA]|[***628273**, ***114514**]|[49, 22]             |[20210806, 20210806]        |[]                  |[***000000**, ***000000**]   |[]                      |[00, 00]                     |[3, 4]                |[Sócio-Administrador, Sócio]|ISABELA COMERCIO E DISTRIBUICAO LTDA                    |2062            |49                          |50000,00      |01               |NULL                |N            |20230101          |20231231         |N        |00000000      |00000000     |\n",
            "|48605206   |0001      |71     |1               |NOVA BOMBONIERE           |02               |20221114          |00                   |NULL           |105     |20221114             |4721104              |4712100                                                                                |RUA           |CORONEL CAHET                    |617   |QUADRA199                 LOTE  450                 BOX   01 E 02|LEVADA                                    |57017090|AL |2785     |82   |91258201|0000 |00000000|NULL   |NULL   |JAMORIMCONTABILIDADE@HOTMAIL.COM    |NULL             |NULL                  |NULL              |NULL                                                                     |NULL                      |NULL                 |NULL                        |NULL                |NULL                         |NULL                    |NULL                         |NULL                  |NULL                        |E F DA SILVA COMERCIO                                   |2135            |50                          |50000,00      |03               |NULL                |S            |20240101          |00000000         |N        |00000000      |00000000     |\n",
            "|58692228   |0001      |70     |1               |NULL                      |02               |20250108          |00                   |NULL           |NULL    |20250108             |5229099              |5320202                                                                                |RUA           |BELA                             |59    |CASA                                                             |BONSUCESSO                                |21043130|RJ |6001     |21   |67852483|NULL |NULL    |NULL   |NULL   |CARLOSDEIVISON92@GMAIL.COM          |NULL             |NULL                  |NULL              |NULL                                                                     |NULL                      |NULL                 |NULL                        |NULL                |NULL                         |NULL                    |NULL                         |NULL                  |NULL                        |58.692.228 DEIVISON CARLOS DOS SANTOS                   |2135            |50                          |6000,00       |01               |NULL                |S            |20250108          |00000000         |S        |20250108      |00000000     |\n",
            "|04793765   |0001      |87     |1               |MARK                      |04               |20180904          |63                   |NULL           |NULL    |20011001             |8299799              |6399200,7410299,7490105,7490199,8219999,8299703,8299707                                |RUA           |CASTRO MAIA                      |52    |APTO 202                                                         |SANTA LUCIA                               |30360220|MG |4123     |31   |33443971|NULL |NULL    |NULL   |NULL   |NULL                                |NULL             |NULL                  |NULL              |NULL                                                                     |NULL                      |NULL                 |NULL                        |NULL                |NULL                         |NULL                    |NULL                         |NULL                  |NULL                        |THEREZA TAMBERI DOS SANTOS                              |2135            |50                          |0,00          |01               |NULL                |N            |20070701          |20071231         |N        |00000000      |00000000     |\n",
            "|06290044   |0001      |80     |1               |COMERCIAL FERNANDES       |02               |20230913          |00                   |NULL           |NULL    |20040305             |4744099              |1622602                                                                                |AVENIDA       |CARAVELAS                        |S/N   |NULL                                                             |FRANCES                                   |57160000|AL |2793     |82   |32212132|NULL |NULL    |NULL   |NULL   |NULL                                |NULL             |NULL                  |NULL              |NULL                                                                     |NULL                      |NULL                 |NULL                        |NULL                |NULL                         |NULL                    |NULL                         |NULL                  |NULL                        |MARIA CICERA DA SILVA SANTOS CONSTRUCAO                 |2135            |50                          |40000,00      |01               |NULL                |N            |20070701          |20161231         |N        |00000000      |00000000     |\n",
            "+-----------+----------+-------+----------------+--------------------------+-----------------+------------------+---------------------+---------------+--------+---------------------+---------------------+---------------------------------------------------------------------------------------+--------------+---------------------------------+------+-----------------------------------------------------------------+------------------------------------------+--------+---+---------+-----+--------+-----+--------+-------+-------+------------------------------------+-----------------+----------------------+------------------+-------------------------------------------------------------------------+--------------------------+---------------------+----------------------------+--------------------+-----------------------------+------------------------+-----------------------------+----------------------+----------------------------+--------------------------------------------------------+----------------+----------------------------+--------------+-----------------+--------------------+-------------+------------------+-----------------+---------+--------------+-------------+\n",
            "only showing top 20 rows\n",
            "\n",
            "Número de linhas: 1000\n",
            "Número de colunas: 53\n"
          ]
        }
      ]
    },
    {
      "cell_type": "code",
      "source": [],
      "metadata": {
        "id": "-28bKJ-VSMD7"
      },
      "execution_count": null,
      "outputs": []
    },
    {
      "cell_type": "code",
      "source": [],
      "metadata": {
        "id": "hmCSYiL-SMQD"
      },
      "execution_count": null,
      "outputs": []
    },
    {
      "cell_type": "code",
      "source": [],
      "metadata": {
        "id": "ioRIhCjbSMXN"
      },
      "execution_count": null,
      "outputs": []
    },
    {
      "cell_type": "code",
      "source": [],
      "metadata": {
        "id": "5YruifJnSMcB"
      },
      "execution_count": null,
      "outputs": []
    }
  ]
}