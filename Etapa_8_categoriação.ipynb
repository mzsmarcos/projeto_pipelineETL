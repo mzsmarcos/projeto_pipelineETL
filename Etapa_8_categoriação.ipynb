{
  "cells": [
    {
      "cell_type": "markdown",
      "metadata": {
        "id": "view-in-github",
        "colab_type": "text"
      },
      "source": [
        "<a href=\"https://colab.research.google.com/github/mzsmarcos/projeto_pipelineETL/blob/main/Etapa_8_categoria%C3%A7%C3%A3o.ipynb\" target=\"_parent\"><img src=\"https://colab.research.google.com/assets/colab-badge.svg\" alt=\"Open In Colab\"/></a>"
      ]
    },
    {
      "cell_type": "markdown",
      "source": [
        "# Categorização"
      ],
      "metadata": {
        "id": "Z3MjO1fyh4-m"
      }
    },
    {
      "cell_type": "markdown",
      "metadata": {
        "id": "nigaxeaJkMCh"
      },
      "source": [
        "Configuração do PySpark -  instalar o PySpark no Colab"
      ]
    },
    {
      "cell_type": "code",
      "execution_count": null,
      "metadata": {
        "colab": {
          "base_uri": "https://localhost:8080/"
        },
        "id": "WB8LpMTWkLSp",
        "outputId": "8a97d698-b15f-4e32-b196-c41d5ac28dc3"
      },
      "outputs": [
        {
          "output_type": "stream",
          "name": "stdout",
          "text": [
            "Requirement already satisfied: pyspark in /usr/local/lib/python3.11/dist-packages (3.5.5)\n",
            "Requirement already satisfied: py4j==0.10.9.7 in /usr/local/lib/python3.11/dist-packages (from pyspark) (0.10.9.7)\n"
          ]
        }
      ],
      "source": [
        "# Instalar o PySpark\n",
        "!pip install pyspark\n"
      ]
    },
    {
      "cell_type": "markdown",
      "metadata": {
        "id": "3h6QW5hCk3Oe"
      },
      "source": [
        "Executar a instalação do PySpark e configurar o ambiente Spark.\n",
        "\n",
        "Isso é feito definindo algumas variáveis de ambiente para garantir que o Spark funcione corretamente no Colab."
      ]
    },
    {
      "cell_type": "code",
      "execution_count": null,
      "metadata": {
        "colab": {
          "base_uri": "https://localhost:8080/"
        },
        "collapsed": true,
        "id": "p9L1Vi5qkrn1",
        "outputId": "48cf1173-89e6-41e5-a9df-20567619b03a"
      },
      "outputs": [
        {
          "output_type": "stream",
          "name": "stdout",
          "text": [
            "Reading package lists... Done\n",
            "Building dependency tree... Done\n",
            "Reading state information... Done\n",
            "The following additional packages will be installed:\n",
            "  fonts-dejavu-core fonts-dejavu-extra libatk-wrapper-java libatk-wrapper-java-jni libfontenc1\n",
            "  libgail-common libgail18 libgtk2.0-0 libgtk2.0-bin libgtk2.0-common libice-dev librsvg2-common\n",
            "  libsm-dev libxkbfile1 libxt-dev libxtst6 libxxf86dga1 openjdk-8-jdk-headless openjdk-8-jre\n",
            "  openjdk-8-jre-headless x11-utils\n",
            "Suggested packages:\n",
            "  gvfs libice-doc libsm-doc libxt-doc openjdk-8-demo openjdk-8-source visualvm libnss-mdns\n",
            "  fonts-nanum fonts-ipafont-gothic fonts-ipafont-mincho fonts-wqy-microhei fonts-wqy-zenhei\n",
            "  fonts-indic mesa-utils\n",
            "The following NEW packages will be installed:\n",
            "  fonts-dejavu-core fonts-dejavu-extra libatk-wrapper-java libatk-wrapper-java-jni libfontenc1\n",
            "  libgail-common libgail18 libgtk2.0-0 libgtk2.0-bin libgtk2.0-common libice-dev librsvg2-common\n",
            "  libsm-dev libxkbfile1 libxt-dev libxtst6 libxxf86dga1 openjdk-8-jdk openjdk-8-jdk-headless\n",
            "  openjdk-8-jre openjdk-8-jre-headless x11-utils\n",
            "0 upgraded, 22 newly installed, 0 to remove and 29 not upgraded.\n",
            "Need to get 50.1 MB of archives.\n",
            "After this operation, 169 MB of additional disk space will be used.\n",
            "Get:1 http://archive.ubuntu.com/ubuntu jammy/main amd64 fonts-dejavu-core all 2.37-2build1 [1,041 kB]\n",
            "Get:2 http://archive.ubuntu.com/ubuntu jammy/main amd64 fonts-dejavu-extra all 2.37-2build1 [2,041 kB]\n",
            "Get:3 http://archive.ubuntu.com/ubuntu jammy/main amd64 libfontenc1 amd64 1:1.1.4-1build3 [14.7 kB]\n",
            "Get:4 http://archive.ubuntu.com/ubuntu jammy/main amd64 libxkbfile1 amd64 1:1.1.0-1build3 [71.8 kB]\n",
            "Get:5 http://archive.ubuntu.com/ubuntu jammy/main amd64 libxtst6 amd64 2:1.2.3-1build4 [13.4 kB]\n",
            "Get:6 http://archive.ubuntu.com/ubuntu jammy/main amd64 libxxf86dga1 amd64 2:1.1.5-0ubuntu3 [12.6 kB]\n",
            "Get:7 http://archive.ubuntu.com/ubuntu jammy/main amd64 x11-utils amd64 7.7+5build2 [206 kB]\n",
            "Get:8 http://archive.ubuntu.com/ubuntu jammy/main amd64 libatk-wrapper-java all 0.38.0-5build1 [53.1 kB]\n",
            "Get:9 http://archive.ubuntu.com/ubuntu jammy/main amd64 libatk-wrapper-java-jni amd64 0.38.0-5build1 [49.0 kB]\n",
            "Get:10 http://archive.ubuntu.com/ubuntu jammy-updates/main amd64 libgtk2.0-common all 2.24.33-2ubuntu2.1 [125 kB]\n",
            "Get:11 http://archive.ubuntu.com/ubuntu jammy-updates/main amd64 libgtk2.0-0 amd64 2.24.33-2ubuntu2.1 [2,038 kB]\n",
            "Get:12 http://archive.ubuntu.com/ubuntu jammy-updates/main amd64 libgail18 amd64 2.24.33-2ubuntu2.1 [15.9 kB]\n",
            "Get:13 http://archive.ubuntu.com/ubuntu jammy-updates/main amd64 libgail-common amd64 2.24.33-2ubuntu2.1 [132 kB]\n",
            "Get:14 http://archive.ubuntu.com/ubuntu jammy-updates/main amd64 libgtk2.0-bin amd64 2.24.33-2ubuntu2.1 [7,936 B]\n",
            "Get:15 http://archive.ubuntu.com/ubuntu jammy/main amd64 libice-dev amd64 2:1.0.10-1build2 [51.4 kB]\n",
            "Get:16 http://archive.ubuntu.com/ubuntu jammy-updates/main amd64 librsvg2-common amd64 2.52.5+dfsg-3ubuntu0.2 [17.7 kB]\n",
            "Get:17 http://archive.ubuntu.com/ubuntu jammy/main amd64 libsm-dev amd64 2:1.2.3-1build2 [18.1 kB]\n",
            "Get:18 http://archive.ubuntu.com/ubuntu jammy/main amd64 libxt-dev amd64 1:1.2.1-1 [396 kB]\n",
            "Get:19 http://archive.ubuntu.com/ubuntu jammy-updates/universe amd64 openjdk-8-jre-headless amd64 8u442-b06~us1-0ubuntu1~22.04 [30.8 MB]\n",
            "Get:20 http://archive.ubuntu.com/ubuntu jammy-updates/universe amd64 openjdk-8-jre amd64 8u442-b06~us1-0ubuntu1~22.04 [75.3 kB]\n",
            "Get:21 http://archive.ubuntu.com/ubuntu jammy-updates/universe amd64 openjdk-8-jdk-headless amd64 8u442-b06~us1-0ubuntu1~22.04 [8,864 kB]\n",
            "Get:22 http://archive.ubuntu.com/ubuntu jammy-updates/universe amd64 openjdk-8-jdk amd64 8u442-b06~us1-0ubuntu1~22.04 [4,077 kB]\n",
            "Fetched 50.1 MB in 3s (17.9 MB/s)\n",
            "Selecting previously unselected package fonts-dejavu-core.\n",
            "(Reading database ... 125044 files and directories currently installed.)\n",
            "Preparing to unpack .../00-fonts-dejavu-core_2.37-2build1_all.deb ...\n",
            "Unpacking fonts-dejavu-core (2.37-2build1) ...\n",
            "Selecting previously unselected package fonts-dejavu-extra.\n",
            "Preparing to unpack .../01-fonts-dejavu-extra_2.37-2build1_all.deb ...\n",
            "Unpacking fonts-dejavu-extra (2.37-2build1) ...\n",
            "Selecting previously unselected package libfontenc1:amd64.\n",
            "Preparing to unpack .../02-libfontenc1_1%3a1.1.4-1build3_amd64.deb ...\n",
            "Unpacking libfontenc1:amd64 (1:1.1.4-1build3) ...\n",
            "Selecting previously unselected package libxkbfile1:amd64.\n",
            "Preparing to unpack .../03-libxkbfile1_1%3a1.1.0-1build3_amd64.deb ...\n",
            "Unpacking libxkbfile1:amd64 (1:1.1.0-1build3) ...\n",
            "Selecting previously unselected package libxtst6:amd64.\n",
            "Preparing to unpack .../04-libxtst6_2%3a1.2.3-1build4_amd64.deb ...\n",
            "Unpacking libxtst6:amd64 (2:1.2.3-1build4) ...\n",
            "Selecting previously unselected package libxxf86dga1:amd64.\n",
            "Preparing to unpack .../05-libxxf86dga1_2%3a1.1.5-0ubuntu3_amd64.deb ...\n",
            "Unpacking libxxf86dga1:amd64 (2:1.1.5-0ubuntu3) ...\n",
            "Selecting previously unselected package x11-utils.\n",
            "Preparing to unpack .../06-x11-utils_7.7+5build2_amd64.deb ...\n",
            "Unpacking x11-utils (7.7+5build2) ...\n",
            "Selecting previously unselected package libatk-wrapper-java.\n",
            "Preparing to unpack .../07-libatk-wrapper-java_0.38.0-5build1_all.deb ...\n",
            "Unpacking libatk-wrapper-java (0.38.0-5build1) ...\n",
            "Selecting previously unselected package libatk-wrapper-java-jni:amd64.\n",
            "Preparing to unpack .../08-libatk-wrapper-java-jni_0.38.0-5build1_amd64.deb ...\n",
            "Unpacking libatk-wrapper-java-jni:amd64 (0.38.0-5build1) ...\n",
            "Selecting previously unselected package libgtk2.0-common.\n",
            "Preparing to unpack .../09-libgtk2.0-common_2.24.33-2ubuntu2.1_all.deb ...\n",
            "Unpacking libgtk2.0-common (2.24.33-2ubuntu2.1) ...\n",
            "Selecting previously unselected package libgtk2.0-0:amd64.\n",
            "Preparing to unpack .../10-libgtk2.0-0_2.24.33-2ubuntu2.1_amd64.deb ...\n",
            "Unpacking libgtk2.0-0:amd64 (2.24.33-2ubuntu2.1) ...\n",
            "Selecting previously unselected package libgail18:amd64.\n",
            "Preparing to unpack .../11-libgail18_2.24.33-2ubuntu2.1_amd64.deb ...\n",
            "Unpacking libgail18:amd64 (2.24.33-2ubuntu2.1) ...\n",
            "Selecting previously unselected package libgail-common:amd64.\n",
            "Preparing to unpack .../12-libgail-common_2.24.33-2ubuntu2.1_amd64.deb ...\n",
            "Unpacking libgail-common:amd64 (2.24.33-2ubuntu2.1) ...\n",
            "Selecting previously unselected package libgtk2.0-bin.\n",
            "Preparing to unpack .../13-libgtk2.0-bin_2.24.33-2ubuntu2.1_amd64.deb ...\n",
            "Unpacking libgtk2.0-bin (2.24.33-2ubuntu2.1) ...\n",
            "Selecting previously unselected package libice-dev:amd64.\n",
            "Preparing to unpack .../14-libice-dev_2%3a1.0.10-1build2_amd64.deb ...\n",
            "Unpacking libice-dev:amd64 (2:1.0.10-1build2) ...\n",
            "Selecting previously unselected package librsvg2-common:amd64.\n",
            "Preparing to unpack .../15-librsvg2-common_2.52.5+dfsg-3ubuntu0.2_amd64.deb ...\n",
            "Unpacking librsvg2-common:amd64 (2.52.5+dfsg-3ubuntu0.2) ...\n",
            "Selecting previously unselected package libsm-dev:amd64.\n",
            "Preparing to unpack .../16-libsm-dev_2%3a1.2.3-1build2_amd64.deb ...\n",
            "Unpacking libsm-dev:amd64 (2:1.2.3-1build2) ...\n",
            "Selecting previously unselected package libxt-dev:amd64.\n",
            "Preparing to unpack .../17-libxt-dev_1%3a1.2.1-1_amd64.deb ...\n",
            "Unpacking libxt-dev:amd64 (1:1.2.1-1) ...\n",
            "Selecting previously unselected package openjdk-8-jre-headless:amd64.\n",
            "Preparing to unpack .../18-openjdk-8-jre-headless_8u442-b06~us1-0ubuntu1~22.04_amd64.deb ...\n",
            "Unpacking openjdk-8-jre-headless:amd64 (8u442-b06~us1-0ubuntu1~22.04) ...\n",
            "Selecting previously unselected package openjdk-8-jre:amd64.\n",
            "Preparing to unpack .../19-openjdk-8-jre_8u442-b06~us1-0ubuntu1~22.04_amd64.deb ...\n",
            "Unpacking openjdk-8-jre:amd64 (8u442-b06~us1-0ubuntu1~22.04) ...\n",
            "Selecting previously unselected package openjdk-8-jdk-headless:amd64.\n",
            "Preparing to unpack .../20-openjdk-8-jdk-headless_8u442-b06~us1-0ubuntu1~22.04_amd64.deb ...\n",
            "Unpacking openjdk-8-jdk-headless:amd64 (8u442-b06~us1-0ubuntu1~22.04) ...\n",
            "Selecting previously unselected package openjdk-8-jdk:amd64.\n",
            "Preparing to unpack .../21-openjdk-8-jdk_8u442-b06~us1-0ubuntu1~22.04_amd64.deb ...\n",
            "Unpacking openjdk-8-jdk:amd64 (8u442-b06~us1-0ubuntu1~22.04) ...\n",
            "Setting up libice-dev:amd64 (2:1.0.10-1build2) ...\n",
            "Setting up libsm-dev:amd64 (2:1.2.3-1build2) ...\n",
            "Setting up libxtst6:amd64 (2:1.2.3-1build4) ...\n",
            "Setting up libxxf86dga1:amd64 (2:1.1.5-0ubuntu3) ...\n",
            "Setting up libfontenc1:amd64 (1:1.1.4-1build3) ...\n",
            "Setting up libxt-dev:amd64 (1:1.2.1-1) ...\n",
            "Setting up openjdk-8-jre-headless:amd64 (8u442-b06~us1-0ubuntu1~22.04) ...\n",
            "update-alternatives: using /usr/lib/jvm/java-8-openjdk-amd64/jre/bin/orbd to provide /usr/bin/orbd (orbd) in auto mode\n",
            "update-alternatives: using /usr/lib/jvm/java-8-openjdk-amd64/jre/bin/servertool to provide /usr/bin/servertool (servertool) in auto mode\n",
            "update-alternatives: using /usr/lib/jvm/java-8-openjdk-amd64/jre/bin/tnameserv to provide /usr/bin/tnameserv (tnameserv) in auto mode\n",
            "Setting up fonts-dejavu-core (2.37-2build1) ...\n",
            "Setting up librsvg2-common:amd64 (2.52.5+dfsg-3ubuntu0.2) ...\n",
            "Setting up fonts-dejavu-extra (2.37-2build1) ...\n",
            "Setting up libgtk2.0-common (2.24.33-2ubuntu2.1) ...\n",
            "Setting up libxkbfile1:amd64 (1:1.1.0-1build3) ...\n",
            "Setting up libgtk2.0-0:amd64 (2.24.33-2ubuntu2.1) ...\n",
            "Setting up openjdk-8-jdk-headless:amd64 (8u442-b06~us1-0ubuntu1~22.04) ...\n",
            "update-alternatives: using /usr/lib/jvm/java-8-openjdk-amd64/bin/clhsdb to provide /usr/bin/clhsdb (clhsdb) in auto mode\n",
            "update-alternatives: using /usr/lib/jvm/java-8-openjdk-amd64/bin/extcheck to provide /usr/bin/extcheck (extcheck) in auto mode\n",
            "update-alternatives: using /usr/lib/jvm/java-8-openjdk-amd64/bin/hsdb to provide /usr/bin/hsdb (hsdb) in auto mode\n",
            "update-alternatives: using /usr/lib/jvm/java-8-openjdk-amd64/bin/idlj to provide /usr/bin/idlj (idlj) in auto mode\n",
            "update-alternatives: using /usr/lib/jvm/java-8-openjdk-amd64/bin/javah to provide /usr/bin/javah (javah) in auto mode\n",
            "update-alternatives: using /usr/lib/jvm/java-8-openjdk-amd64/bin/jhat to provide /usr/bin/jhat (jhat) in auto mode\n",
            "update-alternatives: using /usr/lib/jvm/java-8-openjdk-amd64/bin/jsadebugd to provide /usr/bin/jsadebugd (jsadebugd) in auto mode\n",
            "update-alternatives: using /usr/lib/jvm/java-8-openjdk-amd64/bin/native2ascii to provide /usr/bin/native2ascii (native2ascii) in auto mode\n",
            "update-alternatives: using /usr/lib/jvm/java-8-openjdk-amd64/bin/schemagen to provide /usr/bin/schemagen (schemagen) in auto mode\n",
            "update-alternatives: using /usr/lib/jvm/java-8-openjdk-amd64/bin/wsgen to provide /usr/bin/wsgen (wsgen) in auto mode\n",
            "update-alternatives: using /usr/lib/jvm/java-8-openjdk-amd64/bin/wsimport to provide /usr/bin/wsimport (wsimport) in auto mode\n",
            "update-alternatives: using /usr/lib/jvm/java-8-openjdk-amd64/bin/xjc to provide /usr/bin/xjc (xjc) in auto mode\n",
            "Setting up libgail18:amd64 (2.24.33-2ubuntu2.1) ...\n",
            "Setting up libgtk2.0-bin (2.24.33-2ubuntu2.1) ...\n",
            "Setting up x11-utils (7.7+5build2) ...\n",
            "Setting up libatk-wrapper-java (0.38.0-5build1) ...\n",
            "Setting up libgail-common:amd64 (2.24.33-2ubuntu2.1) ...\n",
            "Setting up libatk-wrapper-java-jni:amd64 (0.38.0-5build1) ...\n",
            "Setting up openjdk-8-jre:amd64 (8u442-b06~us1-0ubuntu1~22.04) ...\n",
            "update-alternatives: using /usr/lib/jvm/java-8-openjdk-amd64/jre/bin/policytool to provide /usr/bin/policytool (policytool) in auto mode\n",
            "Setting up openjdk-8-jdk:amd64 (8u442-b06~us1-0ubuntu1~22.04) ...\n",
            "update-alternatives: using /usr/lib/jvm/java-8-openjdk-amd64/bin/appletviewer to provide /usr/bin/appletviewer (appletviewer) in auto mode\n",
            "update-alternatives: using /usr/lib/jvm/java-8-openjdk-amd64/bin/jconsole to provide /usr/bin/jconsole (jconsole) in auto mode\n",
            "Processing triggers for fontconfig (2.13.1-4.2ubuntu5) ...\n",
            "Processing triggers for hicolor-icon-theme (0.17-2) ...\n",
            "Processing triggers for libc-bin (2.35-0ubuntu3.8) ...\n",
            "/sbin/ldconfig.real: /usr/local/lib/libtbb.so.12 is not a symbolic link\n",
            "\n",
            "/sbin/ldconfig.real: /usr/local/lib/libtbbbind_2_5.so.3 is not a symbolic link\n",
            "\n",
            "/sbin/ldconfig.real: /usr/local/lib/libtbbbind.so.3 is not a symbolic link\n",
            "\n",
            "/sbin/ldconfig.real: /usr/local/lib/libur_adapter_opencl.so.0 is not a symbolic link\n",
            "\n",
            "/sbin/ldconfig.real: /usr/local/lib/libtbbbind_2_0.so.3 is not a symbolic link\n",
            "\n",
            "/sbin/ldconfig.real: /usr/local/lib/libtbbmalloc.so.2 is not a symbolic link\n",
            "\n",
            "/sbin/ldconfig.real: /usr/local/lib/libumf.so.0 is not a symbolic link\n",
            "\n",
            "/sbin/ldconfig.real: /usr/local/lib/libur_loader.so.0 is not a symbolic link\n",
            "\n",
            "/sbin/ldconfig.real: /usr/local/lib/libtcm.so.1 is not a symbolic link\n",
            "\n",
            "/sbin/ldconfig.real: /usr/local/lib/libhwloc.so.15 is not a symbolic link\n",
            "\n",
            "/sbin/ldconfig.real: /usr/local/lib/libtcm_debug.so.1 is not a symbolic link\n",
            "\n",
            "/sbin/ldconfig.real: /usr/local/lib/libtbbmalloc_proxy.so.2 is not a symbolic link\n",
            "\n",
            "/sbin/ldconfig.real: /usr/local/lib/libur_adapter_level_zero.so.0 is not a symbolic link\n",
            "\n",
            "Processing triggers for man-db (2.10.2-1) ...\n",
            "Processing triggers for libgdk-pixbuf-2.0-0:amd64 (2.42.8+dfsg-1ubuntu0.3) ...\n",
            "Processing triggers for mailcap (3.70+nmu1ubuntu1) ...\n",
            "\u001b[2K     \u001b[90m━━━━━━━━━━━━━━━━━━━━━━━━━━━━━━━━━━━━━━━━\u001b[0m \u001b[32m316.9/316.9 MB\u001b[0m \u001b[31m4.7 MB/s\u001b[0m eta \u001b[36m0:00:00\u001b[0m\n",
            "\u001b[?25h  Preparing metadata (setup.py) ... \u001b[?25l\u001b[?25hdone\n",
            "  Building wheel for pyspark (setup.py) ... \u001b[?25l\u001b[?25hdone\n"
          ]
        }
      ],
      "source": [
        "# Instalar Java 8\n",
        "!apt-get install openjdk-8-jdk -y\n",
        "\n",
        "# Baixar o Apache Spark\n",
        "!wget -q https://archive.apache.org/dist/spark/spark-3.5.0/spark-3.5.0-bin-hadoop3.tgz\n",
        "\n",
        "# Extrair o Apache Spark\n",
        "!tar xf spark-3.5.0-bin-hadoop3.tgz\n",
        "\n",
        "# Definir variáveis de ambiente\n",
        "import os # Módulo para interagir com o sistema operacional, como manipulação de arquivos e diretórios\n",
        "os.environ[\"JAVA_HOME\"] = \"/usr/lib/jvm/java-8-openjdk-amd64\"\n",
        "os.environ[\"SPARK_HOME\"] = \"/content/spark-3.5.0-bin-hadoop3\"\n",
        "\n",
        "# Instalar as bibliotecas PySpark e Findspark\n",
        "!pip install -q pyspark==3.5.0 findspark\n",
        "\n"
      ]
    },
    {
      "cell_type": "code",
      "execution_count": null,
      "metadata": {
        "colab": {
          "base_uri": "https://localhost:8080/"
        },
        "id": "y6I03-onnFfZ",
        "outputId": "945ff456-cb21-4ad1-9808-120adc10d93e"
      },
      "outputs": [
        {
          "output_type": "stream",
          "name": "stdout",
          "text": [
            "total 382M\n",
            "drwxr-xr-x  1 root root 4.0K Mar 17 13:32 sample_data\n",
            "drwxr-xr-x 13 1000 1000 4.0K Sep  9  2023 spark-3.5.0-bin-hadoop3\n",
            "-rw-r--r--  1 root root 382M Sep  9  2023 spark-3.5.0-bin-hadoop3.tgz\n"
          ]
        }
      ],
      "source": [
        "# Verificar se o arquivo foi baixado\n",
        "!ls -lh\n"
      ]
    },
    {
      "cell_type": "markdown",
      "metadata": {
        "id": "DwyHmqlJ7y7o"
      },
      "source": [
        "Criar a Sessão Spark"
      ]
    },
    {
      "cell_type": "code",
      "execution_count": null,
      "metadata": {
        "colab": {
          "base_uri": "https://localhost:8080/"
        },
        "id": "6wKpgQX9-uVY",
        "outputId": "ac272cfe-8ec1-4ce1-e967-68b3eef1ce1d"
      },
      "outputs": [
        {
          "output_type": "stream",
          "name": "stdout",
          "text": [
            "Versão do Spark: 3.5.0\n"
          ]
        }
      ],
      "source": [
        "# Importar as bibliotecas\n",
        "import findspark # Permite localizar e configurar o Spark no ambiente, garantindo que o PySpark possa ser usado\n",
        "findspark.init(\"/content/spark-3.5.0-bin-hadoop3\")\n",
        "\n",
        "from pyspark.sql import SparkSession  # Importa a classe SparkSession para criar uma sessão do Spark e interagir com DataFrames\n",
        "\n",
        "# Criar a sessão Spark\n",
        "spark = SparkSession.builder \\\n",
        "    .appName(\"PySparkExample\") \\\n",
        "    .config(\"spark.driver.memory\", \"4g\") \\\n",
        "    .getOrCreate()\n",
        "\n",
        "# Verificar se a sessão foi criada corretamente\n",
        "print(\"Versão do Spark:\", spark.version)\n"
      ]
    },
    {
      "cell_type": "code",
      "execution_count": null,
      "metadata": {
        "id": "xmt3_Tn6OnG7"
      },
      "outputs": [],
      "source": [
        "# Os\n",
        "import os"
      ]
    },
    {
      "cell_type": "code",
      "execution_count": null,
      "metadata": {
        "colab": {
          "base_uri": "https://localhost:8080/"
        },
        "id": "9trpJPzwPO-4",
        "outputId": "0d7f7ac9-6706-44e4-b3cc-74caf33bca8f"
      },
      "outputs": [
        {
          "output_type": "stream",
          "name": "stdout",
          "text": [
            "Mounted at /content/drive\n"
          ]
        }
      ],
      "source": [
        "# Montando o Google Drive no Colab\n",
        "from google.colab import drive\n",
        "drive.mount('/content/drive')"
      ]
    },
    {
      "cell_type": "code",
      "source": [
        "# leitura dos arquivos necessários\n",
        "\n",
        "df_empresas_brasil = spark.read.parquet(\"/content/drive/MyDrive/Projeto_ETL_Trust_Works/Dados_abertos/parquet/df_empresas_brasil\")\n",
        "df_cnae = spark.read.parquet(\"/content/drive/MyDrive/Projeto_ETL_Trust_Works/Dados_abertos/parquet/cnae.parquet\")"
      ],
      "metadata": {
        "id": "1Fa0Lr1lPp-F"
      },
      "execution_count": null,
      "outputs": []
    },
    {
      "cell_type": "code",
      "source": [
        "df_empresas_brasil.show(n=20, truncate=False)"
      ],
      "metadata": {
        "colab": {
          "base_uri": "https://localhost:8080/"
        },
        "id": "OoPFCMt8Pp0u",
        "outputId": "208e4c05-ad66-4b00-e9e1-d34de7a26a58"
      },
      "execution_count": null,
      "outputs": [
        {
          "output_type": "stream",
          "name": "stdout",
          "text": [
            "+-----------+----------+-------+----------------+-------------------------+-----------------+------------------+---------------+---------------------+---------------------------------------------------------------+--------------+------------------------------+------+-------------+------------------+--------+---+------------+------------+------------+------------+------------+------------+-----------------------------+-----------------+----------------------+------------------+------------------------------------------------------------+--------------------------+---------------------+----------------------------+--------------------+-----------------------------+------------------------+-----------------------------+----------------------+----------------------------+------------------------------------------+--------------+-----------------+--------------------+-------------+------------------+-----------------+------------+--------------+-------------+--------------+-------------+----------+-----------------------------------------------+------------+--------+-------------------------------------------------------------------------------------------------------------+-------------+-----------------------+-----------------------------+---------------+------------------------+\n",
            "|cnpj_basico|cnpj_ordem|cnpj_dv|id_matriz_filial|nome_fantasia            |cod_sit_cadastral|data_sit_cadastral|nome_cidade_ext|data_inicio_atividade|cnae_fiscal_secundaria                                         |tipo_de_lograd|logradouro                    |numero|complemento  |bairro            |cep     |uf |ddd_1       |tel_1       |ddd_2       |tel_2       |ddd_fax     |num_fax     |correio_eletronico           |situacao_especial|data_situacao_especial|array_cod_id_socio|array_nome_socio_pf_pj                                      |array_cpf_cnpj_socio      |array_cod_quali_socio|array_data_entrada_sociedade|array_cod_pais_socio|array_cpf_representante_legal|array_nome_representante|array_cod_quali_representante|array_cod_faixa_etaria|array_nome_quali_socio      |razao_social                              |capital_social|cod_porte_empresa|ente_federativo_resp|opcao_simples|data_opcao_simples|data_excl_simples|opcao_mei   |data_opcao_mei|data_excl_mei|cnpj          |sit_cadastral|cod_motivo|motivo_sit_cadastral                           |pais        |cod_cnae|cnae_principal                                                                                               |cod_municipio|municipio              |nat_juridica                 |cod_quali_socio|qualificacao_responsavel|\n",
            "+-----------+----------+-------+----------------+-------------------------+-----------------+------------------+---------------+---------------------+---------------------------------------------------------------+--------------+------------------------------+------+-------------+------------------+--------+---+------------+------------+------------+------------+------------+------------+-----------------------------+-----------------+----------------------+------------------+------------------------------------------------------------+--------------------------+---------------------+----------------------------+--------------------+-----------------------------+------------------------+-----------------------------+----------------------+----------------------------+------------------------------------------+--------------+-----------------+--------------------+-------------+------------------+-----------------+------------+--------------+-------------+--------------+-------------+----------+-----------------------------------------------+------------+--------+-------------------------------------------------------------------------------------------------------------+-------------+-----------------------+-----------------------------+---------------+------------------------+\n",
            "|04171888   |0001      |86     |1               |IGREJA BATISTA           |02               |20200302          |Não aplicado   |19990621             |9493600,9499500                                                |Não aplicado  |FOLHA 23, QUADRA 07, LOTE 22  |S/N   |Não aplicado |NOVA MARABA       |68501535|PA |Não aplicado|Não aplicado|Não aplicado|Não aplicado|Não aplicado|Não aplicado|Não aplicado                 |Não aplicado     |Não aplicado          |[2]               |[DJAIME DE LIMA SOARES FILHO]                               |[***508202**]             |[16]                 |[20140702]                  |[]                  |[***000000**]                |[]                      |[00]                         |[7]                   |[Presidente]                |IGREJA BATISTA NOVA JERUSALEM             |0,00          |05               |Não aplicado        |Não aplicado |Não aplicado      |Não aplicado     |Não aplicado|Não aplicado  |Não aplicado |04171888000186|ATIVA        |00        |SEM MOTIVO                                     |NÃO APLICADO|9430800 |Atividades de associações de defesa de direitos sociais                                                      |0483         |MARABA                 |Associação Privada           |16             |Presidente              |\n",
            "|48641002   |0001      |96     |1               |Não aplicado             |04               |20240821          |Não aplicado   |20221117             |5611203                                                        |RUA           |JOAQUIM JOSE DA SILVA XAVIER  |321   |SALA         |CIDADE JARDIM     |84607020|PR |42          |88345617    |Não aplicado|Não aplicado|Não aplicado|Não aplicado|MICHELESALDANHA090@GMAIL.COM |Não aplicado     |Não aplicado          |NULL              |NULL                                                        |NULL                      |NULL                 |NULL                        |NULL                |NULL                         |NULL                    |NULL                         |NULL                  |NULL                        |MICHELE APARECIDA SALDANHA 05337146998    |10000,00      |01               |Não aplicado        |S            |20221117          |00000000         |S           |20221117      |00000000     |48641002000196|INAPTA       |63        |OMISSAO DE DECLARACOES                         |NÃO APLICADO|5611205 |Bares e outros estabelecimentos especializados em servir bebidas, com entretenimento                         |7937         |UNIAO DA VITORIA       |Empresário (Individual)      |50             |Empresário              |\n",
            "|54013604   |0001      |00     |1               |Não aplicado             |02               |20240222          |Não aplicado   |20240222             |4321500                                                        |AVENIDA       |ISRAEL                        |3     |CONJ         |JABAETE           |29126744|ES |27          |97980213    |Não aplicado|Não aplicado|Não aplicado|Não aplicado|GEGE.MATRIX@GMAIL.COM        |Não aplicado     |Não aplicado          |NULL              |NULL                                                        |NULL                      |NULL                 |NULL                        |NULL                |NULL                         |NULL                    |NULL                         |NULL                  |NULL                        |54.013.604 GEOVANE PAIXAO DOS SANTOS MATOS|50000,00      |01               |Não aplicado        |S            |20240222          |00000000         |S           |20240222      |00000000     |54013604000100|ATIVA        |00        |SEM MOTIVO                                     |NÃO APLICADO|9512600 |Reparação e manutenção de equipamentos de comunicação                                                        |5703         |VILA VELHA             |Empresário (Individual)      |50             |Empresário              |\n",
            "|52263068   |0001      |67     |1               |Não aplicado             |02               |20070214          |Não aplicado   |19850503             |Não aplicado                                                   |RUA           |GUIMARAES ROSA                |37    |Não aplicado |VL ALZIRA         |11704160|SP |Não aplicado|Não aplicado|Não aplicado|Não aplicado|Não aplicado|Não aplicado|Não aplicado                 |Não aplicado     |Não aplicado          |NULL              |NULL                                                        |NULL                      |NULL                 |NULL                        |NULL                |NULL                         |NULL                    |NULL                         |NULL                  |NULL                        |CONDOMINIO EDIFICIO ANTONIO ROHN          |0,00          |05               |Não aplicado        |Não aplicado |Não aplicado      |Não aplicado     |Não aplicado|Não aplicado  |Não aplicado |52263068000167|ATIVA        |00        |SEM MOTIVO                                     |NÃO APLICADO|8112500 |Condomínios prediais                                                                                         |6921         |PRAIA GRANDE           |Condomínio Edilício          |19             |Síndico (Condomínio)    |\n",
            "|67740704   |0001      |71     |1               |CENTRO AUTOMOTIVO TAPPARO|08               |20110517          |Não aplicado   |19920331             |Não aplicado                                                   |RUA           |PROFESSOR OSCAR PIRES         |2034  |Não aplicado |VL ESPLANADA      |15030530|SP |Não aplicado|Não aplicado|Não aplicado|Não aplicado|Não aplicado|Não aplicado|Não aplicado                 |Não aplicado     |Não aplicado          |[2]               |[MARIA CRISTINA TAMARINDO TAPPARO]                          |[***440698**]             |[49]                 |[19920331]                  |[]                  |[***000000**]                |[]                      |[00]                         |[6]                   |[Sócio-Administrador]       |C A TAPPARO & CIA LTDA                    |0,00          |01               |Não aplicado        |Não aplicado |Não aplicado      |Não aplicado     |Não aplicado|Não aplicado  |Não aplicado |67740704000171|BAIXADA      |01        |EXTINCAO POR ENCERRAMENTO LIQUIDACAO VOLUNTARIA|NÃO APLICADO|4789099 |Comércio varejista de outros produtos não especificados anteriormente                                        |7097         |SAO JOSE DO RIO PRETO  |Sociedade Empresária Limitada|49             |Sócio-Administrador     |\n",
            "|76364843   |0001      |39     |1               |POSTO TEXACO             |08               |20081231          |Não aplicado   |19660908             |4732600                                                        |AVENIDA       |BRASIL                        |SN    |Não aplicado |Não aplicado      |87580000|PR |Não aplicado|Não aplicado|Não aplicado|Não aplicado|Não aplicado|Não aplicado|Não aplicado                 |Não aplicado     |Não aplicado          |NULL              |NULL                                                        |NULL                      |NULL                 |NULL                        |NULL                |NULL                         |NULL                    |NULL                         |NULL                  |NULL                        |SEBASTIAO GONCALVES RIBEIRO E CIA LTDA    |0,00          |05               |Não aplicado        |Não aplicado |Não aplicado      |Não aplicado     |Não aplicado|Não aplicado  |Não aplicado |76364843000139|BAIXADA      |71        |INAPTIDAO (LEI 11.941/2009 ART.54)             |NÃO APLICADO|4731800 |Comércio varejista de combustíveis para veículos automotores                                                 |7411         |ALTO PIQUIRI           |Sociedade Empresária Limitada|49             |Sócio-Administrador     |\n",
            "|36368967   |0001      |78     |1               |SOL DA TERRA             |08               |20081231          |Não aplicado   |19910712             |Não aplicado                                                   |RUA           |AURORA                        |231   |Não aplicado |GLORIA            |29122280|ES |Não aplicado|Não aplicado|Não aplicado|Não aplicado|Não aplicado|Não aplicado|Não aplicado                 |Não aplicado     |Não aplicado          |NULL              |NULL                                                        |NULL                      |NULL                 |NULL                        |NULL                |NULL                         |NULL                    |NULL                         |NULL                  |NULL                        |SOL DA TERRA MODA JOVEM LTDA              |0,00          |05               |Não aplicado        |Não aplicado |Não aplicado      |Não aplicado     |Não aplicado|Não aplicado  |Não aplicado |36368967000178|BAIXADA      |71        |INAPTIDAO (LEI 11.941/2009 ART.54)             |NÃO APLICADO|4642701 |Comércio atacadista de artigos do vestuário e acessórios, exceto profissionais e de segurança                |5703         |VILA VELHA             |Sociedade Empresária Limitada|49             |Sócio-Administrador     |\n",
            "|36815705   |0001      |04     |1               |Não aplicado             |04               |20221123          |Não aplicado   |20200330             |Não aplicado                                                   |RUA           |ADOLFO LOPES MACIEL           |382   |CASA;CASA    |ARIRIU            |88135190|SC |48          |33440373    |Não aplicado|Não aplicado|Não aplicado|Não aplicado|DIANNABMONTANARI@GMAIL.COM   |Não aplicado     |Não aplicado          |NULL              |NULL                                                        |NULL                      |NULL                 |NULL                        |NULL                |NULL                         |NULL                    |NULL                         |NULL                  |NULL                        |DIANNA MONTANARI BUSSOLO 03685797603      |1000,00       |01               |Não aplicado        |S            |20200330          |00000000         |S           |20200330      |00000000     |36815705000104|INAPTA       |63        |OMISSAO DE DECLARACOES                         |NÃO APLICADO|8599699 |Outras atividades de ensino não especificadas anteriormente                                                  |8233         |PALHOCA                |Empresário (Individual)      |50             |Empresário              |\n",
            "|04163138   |0001      |62     |1               |CANNON AUTO LANCHE       |04               |20181226          |Não aplicado   |20001122             |Não aplicado                                                   |AVENIDA       |SAUDADE                       |56    |SALA 05      |PLANALTO DO SOL   |13171320|SP |019         |38732677    |Não aplicado|Não aplicado|019         |38732677    |FORTESPROC@UOL.COM.BR        |Não aplicado     |Não aplicado          |NULL              |NULL                                                        |NULL                      |NULL                 |NULL                        |NULL                |NULL                         |NULL                    |NULL                         |NULL                  |NULL                        |E.O.S. BARIJAN                            |0,00          |01               |Não aplicado        |N            |20090101          |20121231         |N           |00000000      |00000000     |04163138000162|INAPTA       |63        |OMISSAO DE DECLARACOES                         |NÃO APLICADO|5611201 |Restaurantes e similares                                                                                     |7149         |SUMARE                 |Empresário (Individual)      |50             |Empresário              |\n",
            "|21508286   |0001      |90     |1               |Não aplicado             |04               |20240822          |Não aplicado   |20141202             |Não aplicado                                                   |RUA           |DA FRATERNIDADE               |27    |CASA         |BARRA DE JANGADA  |54460140|PE |81          |84646526    |Não aplicado|Não aplicado|Não aplicado|Não aplicado|ROZANGELAFARIAS@LIVE.COM     |Não aplicado     |Não aplicado          |NULL              |NULL                                                        |NULL                      |NULL                 |NULL                        |NULL                |NULL                         |NULL                    |NULL                         |NULL                  |NULL                        |ROZANGELA DA SILVA FARIAS 07138588429     |1000,00       |01               |Não aplicado        |N            |20141202          |20231231         |N           |20141202      |20231231     |21508286000190|INAPTA       |63        |OMISSAO DE DECLARACOES                         |NÃO APLICADO|4772500 |Comércio varejista de cosméticos, produtos de perfumaria e de higiene pessoal                                |2457         |JABOATAO DOS GUARARAPES|Empresário (Individual)      |50             |Empresário              |\n",
            "|17495918   |0001      |51     |1               |CASA DI FRANGO E CIA     |08               |20180201          |Não aplicado   |20130130             |5620104                                                        |RUA           |JORGE DUARTE DE SA            |247   |QUADRA H     |APOLO II (MANILHA)|24858572|RJ |21          |91336243    |Não aplicado|Não aplicado|Não aplicado|Não aplicado|Não aplicado                 |Não aplicado     |Não aplicado          |NULL              |NULL                                                        |NULL                      |NULL                 |NULL                        |NULL                |NULL                         |NULL                    |NULL                         |NULL                  |NULL                        |VERONICA DA SILVA PAULINO 07717462702     |500,00        |01               |Não aplicado        |N            |20130130          |20180201         |N           |20130130      |20180201     |17495918000151|BAIXADA      |67        |REGISTRO CANCELADO                             |NÃO APLICADO|5611201 |Restaurantes e similares                                                                                     |5837         |ITABORAI               |Empresário (Individual)      |50             |Empresário              |\n",
            "|56285230   |0001      |07     |1               |Não aplicado             |08               |20240806          |Não aplicado   |20240805             |Não aplicado                                                   |RUA           |PANAMA                        |259   |Não aplicado |CAUAME            |69311111|RR |95          |91624250    |Não aplicado|Não aplicado|Não aplicado|Não aplicado|NAYANAHIGINO@GMAIL.COM       |Não aplicado     |Não aplicado          |NULL              |NULL                                                        |NULL                      |NULL                 |NULL                        |NULL                |NULL                         |NULL                    |NULL                         |NULL                  |NULL                        |56.285.230 NAYANA DIAS HIGINO             |200,00        |01               |Não aplicado        |N            |20240805          |20240806         |N           |20240805      |20240806     |56285230000107|BAIXADA      |01        |EXTINCAO POR ENCERRAMENTO LIQUIDACAO VOLUNTARIA|NÃO APLICADO|5620104 |Fornecimento de alimentos preparados preponderantemente para consumo domiciliar                              |0301         |BOA VISTA              |Empresário (Individual)      |50             |Empresário              |\n",
            "|54323811   |0001      |52     |1               |Não aplicado             |02               |20021228          |Não aplicado   |19850328             |Não aplicado                                                   |AVENIDA       |NOVE DE JULHO                 |3510  |Não aplicado |JARDIM PAULISTA   |01406000|SP |Não aplicado|Não aplicado|Não aplicado|Não aplicado|Não aplicado|Não aplicado|Não aplicado                 |Não aplicado     |Não aplicado          |NULL              |NULL                                                        |NULL                      |NULL                 |NULL                        |NULL                |NULL                         |NULL                    |NULL                         |NULL                  |NULL                        |CONDOMINIO EDIFICIO NANCY                 |0,00          |05               |Não aplicado        |Não aplicado |Não aplicado      |Não aplicado     |Não aplicado|Não aplicado  |Não aplicado |54323811000152|ATIVA        |00        |SEM MOTIVO                                     |NÃO APLICADO|8112500 |Condomínios prediais                                                                                         |7107         |SAO PAULO              |Condomínio Edilício          |19             |Síndico (Condomínio)    |\n",
            "|44992377   |0001      |40     |1               |Não aplicado             |04               |20240902          |Não aplicado   |20220124             |Não aplicado                                                   |RUA           |CALIFORNIA                    |97    |CONJ         |PARQUE FLORIDA    |06365320|SP |11          |69388405    |Não aplicado|Não aplicado|Não aplicado|Não aplicado|RITAABAD@HOTMAIL.COM         |Não aplicado     |Não aplicado          |NULL              |NULL                                                        |NULL                      |NULL                 |NULL                        |NULL                |NULL                         |NULL                    |NULL                         |NULL                  |NULL                        |RITA DE CASSIA DE SOUZA ABADE 78831067591 |500,00        |01               |Não aplicado        |S            |20220124          |00000000         |S           |20220124      |00000000     |44992377000140|INAPTA       |63        |OMISSAO DE DECLARACOES                         |NÃO APLICADO|4724500 |Comércio varejista de hortifrutigranjeiros                                                                   |6313         |CARAPICUIBA            |Empresário (Individual)      |50             |Empresário              |\n",
            "|43990024   |0001      |48     |1               |Não aplicado             |04               |20231129          |Não aplicado   |20211023             |Não aplicado                                                   |RUA           |SARACURA-SANA                 |40    |CONJ 1       |VILA NOVA CURUCA  |08032300|SP |11          |85304099    |Não aplicado|Não aplicado|Não aplicado|Não aplicado|LIVIARD9@GMAIL.COM           |Não aplicado     |Não aplicado          |NULL              |NULL                                                        |NULL                      |NULL                 |NULL                        |NULL                |NULL                         |NULL                    |NULL                         |NULL                  |NULL                        |MICHERLLANE CRISTINA DO CARMO 06144477470 |10000,00      |01               |Não aplicado        |S            |20211023          |00000000         |S           |20211023      |00000000     |43990024000148|INAPTA       |63        |OMISSAO DE DECLARACOES                         |NÃO APLICADO|9602501 |Cabeleireiros, manicure e pedicure                                                                           |7107         |SAO PAULO              |Empresário (Individual)      |50             |Empresário              |\n",
            "|50377076   |0001      |09     |1               |Não aplicado             |08               |20081231          |Não aplicado   |19820525             |Não aplicado                                                   |AVENIDA       |D PEDRO I                     |674   |Não aplicado |IPIRANGA          |08210040|SP |Não aplicado|Não aplicado|Não aplicado|Não aplicado|Não aplicado|Não aplicado|Não aplicado                 |Não aplicado     |Não aplicado          |NULL              |NULL                                                        |NULL                      |NULL                 |NULL                        |NULL                |NULL                         |NULL                    |NULL                         |NULL                  |NULL                        |ARTCOLOR REPORTAGENS FOTOGRAFICAS S/C LTDA|0,00          |05               |Não aplicado        |Não aplicado |Não aplicado      |Não aplicado     |Não aplicado|Não aplicado  |Não aplicado |50377076000109|BAIXADA      |71        |INAPTIDAO (LEI 11.941/2009 ART.54)             |NÃO APLICADO|8888888 |Atividade Econônica não informada                                                                            |7107         |SAO PAULO              |Sociedade Simples Limitada   |28             |Sócio-Gerente           |\n",
            "|68956721   |0001      |03     |1               |Não aplicado             |08               |20051101          |Não aplicado   |19921015             |Não aplicado                                                   |Não aplicado  |LOC  TERM.ROD DE JABOTICABAL  |SN    |BOX 03       |NOVA JABOTICABAL  |14875455|SP |Não aplicado|Não aplicado|Não aplicado|Não aplicado|Não aplicado|Não aplicado|Não aplicado                 |Não aplicado     |Não aplicado          |NULL              |NULL                                                        |NULL                      |NULL                 |NULL                        |NULL                |NULL                         |NULL                    |NULL                         |NULL                  |NULL                        |LUCIA HELENA RODRIGUES FORNEZARI          |0,00          |05               |Não aplicado        |Não aplicado |Não aplicado      |Não aplicado     |Não aplicado|Não aplicado  |Não aplicado |68956721000103|BAIXADA      |01        |EXTINCAO POR ENCERRAMENTO LIQUIDACAO VOLUNTARIA|NÃO APLICADO|4755503 |Comercio varejista de artigos de cama, mesa e banho                                                          |6587         |JABOTICABAL            |Empresário (Individual)      |50             |Empresário              |\n",
            "|03113947   |0001      |05     |1               |Não aplicado             |02               |20051103          |Não aplicado   |19990423             |7319001,7319002,7319003,7319004,5911102,5912001,5912002,7319099|RUA           |PRSA ISABEL                   |1302  |ANDAR 01     |BROOKLIN PAULISTA |04601003|SP |11          |50693300    |Não aplicado|Não aplicado|011         |2412184     |REGULARIZACAO@GRUPOHZI.COM.BR|Não aplicado     |Não aplicado          |[2, 2]            |[SILVIO ROBERTO BARBATO BARONE, ANDREA PAULA BARBATO BARONE]|[***130578**, ***130508**]|[22, 49]             |[19990423, 19990423]        |[]                  |[***000000**, ***000000**]   |[]                      |[00, 00]                     |[6, 6]                |[Sócio, Sócio-Administrador]|A. S. BARONE MIDIA E CONTEUDO LTDA        |5000,00       |01               |Não aplicado        |Não aplicado |Não aplicado      |Não aplicado     |Não aplicado|Não aplicado  |Não aplicado |03113947000105|ATIVA        |00        |SEM MOTIVO                                     |NÃO APLICADO|5911199 |Atividades de produção cinematográfica, de vídeos e de programas de televisão não especificadas anteriormente|7107         |SAO PAULO              |Sociedade Simples Limitada   |49             |Sócio-Administrador     |\n",
            "|46868933   |0001      |04     |1               |Não aplicado             |08               |20221114          |Não aplicado   |20220622             |Não aplicado                                                   |AVENIDA       |BENEDITO DOMINGUES DE OLIVEIRA|666   |APT 5;BLOCO 2|CIDADE MORUMBI    |12236702|SP |12          |97013534    |Não aplicado|Não aplicado|Não aplicado|Não aplicado|KAAFERREIRA@BOL.COM.BR       |Não aplicado     |Não aplicado          |NULL              |NULL                                                        |NULL                      |NULL                 |NULL                        |NULL                |NULL                         |NULL                    |NULL                         |NULL                  |NULL                        |KATIA FERREIRA DA SILVA 33621980822       |1000,00       |01               |Não aplicado        |N            |20220622          |20221114         |N           |20220622      |20221114     |46868933000104|BAIXADA      |01        |EXTINCAO POR ENCERRAMENTO LIQUIDACAO VOLUNTARIA|NÃO APLICADO|8219999 |Preparação de documentos e serviços especializados de apoio administrativo não especificados anteriormente   |7099         |SAO JOSE DOS CAMPOS    |Empresário (Individual)      |50             |Empresário              |\n",
            "|83357731   |0001      |16     |1               |Não aplicado             |08               |20081231          |Não aplicado   |19930401             |Não aplicado                                                   |Não aplicado  |TV CASTELO BRANCO             |1308  |A 1312       |S BRAZ            |66630505|PA |Não aplicado|Não aplicado|Não aplicado|Não aplicado|Não aplicado|Não aplicado|Não aplicado                 |Não aplicado     |Não aplicado          |NULL              |NULL                                                        |NULL                      |NULL                 |NULL                        |NULL                |NULL                         |NULL                    |NULL                         |NULL                  |NULL                        |DROGARIA JOMAR LIMITADA                   |0,00          |05               |Não aplicado        |Não aplicado |Não aplicado      |Não aplicado     |Não aplicado|Não aplicado  |Não aplicado |83357731000116|BAIXADA      |71        |INAPTIDAO (LEI 11.941/2009 ART.54)             |NÃO APLICADO|4771701 |Comércio varejista de produtos farmacêuticos, sem manipulação de fórmulas                                    |0427         |BELEM                  |Sociedade Empresária Limitada|49             |Sócio-Administrador     |\n",
            "+-----------+----------+-------+----------------+-------------------------+-----------------+------------------+---------------+---------------------+---------------------------------------------------------------+--------------+------------------------------+------+-------------+------------------+--------+---+------------+------------+------------+------------+------------+------------+-----------------------------+-----------------+----------------------+------------------+------------------------------------------------------------+--------------------------+---------------------+----------------------------+--------------------+-----------------------------+------------------------+-----------------------------+----------------------+----------------------------+------------------------------------------+--------------+-----------------+--------------------+-------------+------------------+-----------------+------------+--------------+-------------+--------------+-------------+----------+-----------------------------------------------+------------+--------+-------------------------------------------------------------------------------------------------------------+-------------+-----------------------+-----------------------------+---------------+------------------------+\n",
            "only showing top 20 rows\n",
            "\n"
          ]
        }
      ]
    },
    {
      "cell_type": "code",
      "source": [
        "# Nulos cod_cnae\n",
        "\n",
        "from pyspark.sql import functions as F\n",
        "\n",
        "df_empresas_brasil.select(F.count(F.when(F.col(\"cod_cnae\").isNull(), True)).alias(\"Nulos_cod_cnae\")).show()"
      ],
      "metadata": {
        "colab": {
          "base_uri": "https://localhost:8080/"
        },
        "id": "5BVpQ27oPpn-",
        "outputId": "a1734d50-b75e-47e7-96bd-ac2e269c85c4"
      },
      "execution_count": null,
      "outputs": [
        {
          "output_type": "stream",
          "name": "stdout",
          "text": [
            "+--------------+\n",
            "|Nulos_cod_cnae|\n",
            "+--------------+\n",
            "|             9|\n",
            "+--------------+\n",
            "\n"
          ]
        }
      ]
    },
    {
      "cell_type": "code",
      "source": [
        "# Formatação dos Cnaes do df_empresas_brasil e df_cnae\n",
        "\n",
        "from pyspark.sql import functions as F\n",
        "from pyspark.sql.types import StringType\n",
        "\n",
        "# Função para formatar o CNAE\n",
        "def formatar_cnae(cnae_str):\n",
        "    if cnae_str:\n",
        "        cnae_str = str(cnae_str) # garante que seja string\n",
        "        tamanho = len(cnae_str)\n",
        "        if tamanho == 7:\n",
        "            return f\"{cnae_str[:4]}-{cnae_str[4:5]}/{cnae_str[5:]}\"\n",
        "        elif tamanho == 8:\n",
        "            return f\"{cnae_str[:4]}-{cnae_str[4:5]}/{cnae_str[5:]}\"\n",
        "        else:\n",
        "            return None # Retorna None para códigos com tamanhos inválidos\n",
        "    return None\n",
        "\n",
        "formatar_cnae_udf = F.udf(formatar_cnae, StringType())\n",
        "\n",
        "# Aplica a função ao df_empresas brasil\n",
        "df_empresas_brasil = df_empresas_brasil.withColumn(\n",
        "    \"cod_cnae_formatado\", formatar_cnae_udf(F.col(\"cod_cnae\"))\n",
        ")\n",
        "\n",
        "# Aplica a função ao df_cnae\n",
        "df_cnae = df_cnae.withColumn(\n",
        "    \"cod_cnae_formatado\", formatar_cnae_udf(F.col(\"cod_cnae\"))\n",
        ")\n",
        "\n",
        "df_empresas_brasil.select(\"cod_cnae\", \"cod_cnae_formatado\").show(10) #Mostra os resultados\n",
        "df_cnae.select(\"cod_cnae\", \"cod_cnae_formatado\").show(10) #Mostra os resultados"
      ],
      "metadata": {
        "colab": {
          "base_uri": "https://localhost:8080/"
        },
        "id": "mwOVrSkRSdTl",
        "outputId": "785002e4-71a5-40bc-dcb2-c25b16b78f39"
      },
      "execution_count": null,
      "outputs": [
        {
          "output_type": "stream",
          "name": "stdout",
          "text": [
            "+--------+------------------+\n",
            "|cod_cnae|cod_cnae_formatado|\n",
            "+--------+------------------+\n",
            "| 9430800|         9430-8/00|\n",
            "| 5611205|         5611-2/05|\n",
            "| 9512600|         9512-6/00|\n",
            "| 8112500|         8112-5/00|\n",
            "| 4789099|         4789-0/99|\n",
            "| 4731800|         4731-8/00|\n",
            "| 4642701|         4642-7/01|\n",
            "| 8599699|         8599-6/99|\n",
            "| 5611201|         5611-2/01|\n",
            "| 4772500|         4772-5/00|\n",
            "+--------+------------------+\n",
            "only showing top 10 rows\n",
            "\n",
            "+--------+------------------+\n",
            "|cod_cnae|cod_cnae_formatado|\n",
            "+--------+------------------+\n",
            "| 0111301|         0111-3/01|\n",
            "| 0111302|         0111-3/02|\n",
            "| 0111303|         0111-3/03|\n",
            "| 0111399|         0111-3/99|\n",
            "| 0112101|         0112-1/01|\n",
            "| 0112102|         0112-1/02|\n",
            "| 0112199|         0112-1/99|\n",
            "| 0113000|         0113-0/00|\n",
            "| 0114800|         0114-8/00|\n",
            "| 0115600|         0115-6/00|\n",
            "+--------+------------------+\n",
            "only showing top 10 rows\n",
            "\n"
          ]
        }
      ]
    },
    {
      "cell_type": "code",
      "source": [
        "# Criação do dicionário de categorias\n",
        "\n",
        "\n",
        "# Código cria um dicionário das categorias com chave e valor.\n",
        "codigos_cnae_unicos = [\n",
        "    row.cod_cnae_formatado\n",
        "    for row in df_cnae.select(\"cod_cnae_formatado\").collect()\n",
        "]\n",
        "\n",
        "categorias_cnae = {}\n",
        "\n",
        "# 62 = Tecnologia e Inovação (TI e Software)\n",
        "\n",
        "tecnologia_e_inovacao = [\n",
        "    \"6201-5/00\",  # Desenvolvimento de programas de computador sob encomenda\n",
        "    \"6202-3/00\",  # Desenvolvimento e licenciamento de programas de computador customizáveis\n",
        "    \"6203-1/00\",  # Desenvolvimento e licenciamento de programas de computador não customizáveis\n",
        "    \"6204-0/00\",  # Consultoria em tecnologia da informação\n",
        "    \"6209-1/00\",  # Suporte técnico, manutenção e outros serviços em tecnologia da informação\n",
        "    \"6311-7/00\",  # Tratamento de dados, provedores de serviços de aplicação e hospedagem na internet\n",
        "    \"6312-5/00\",  # Portais, provedores de conteúdo e outros serviços de informação na internet\n",
        "]\n",
        "\n",
        "# Mapeamento das categorias\n",
        "for cnae in tecnologia_e_inovacao:\n",
        "    categorias_cnae[cnae] = \"Tecnologia e Inovação\"\n",
        "\n",
        "\n",
        "\n",
        "\n",
        "\n",
        "# 73 = Agências de Marketing e Publicidade\n",
        "\n",
        "agencias_de_marketing_e_publicidade = [\n",
        "    \"7311-4/00\",  # Agências de publicidade\n",
        "    \"7312-2/00\",  # Criação publicitária\n",
        "    \"7319-0/01\",  # Consultoria em publicidade\n",
        "    \"7319-0/02\",  # Promoção de vendas\n",
        "    \"7319-0/03\",  # Marketing direto\n",
        "    \"7319-0/04\",  # Publicidade na internet\n",
        "    \"7311-4/00\",  # Agências de publicidade\n",
        "    \"7319-0/02\",  # Promoção de vendas\n",
        "    \"7319-0/03\",  # Marketing direto\n",
        "    \"7319-0/99\"   # Outras atividades de publicidade não especificadas anteriormente\n",
        "]\n",
        "\n",
        "for cnae in agencias_de_marketing_e_publicidade:\n",
        "    categorias_cnae[cnae] = \"Agências de Marketing e Publicidade\"\n",
        "\n",
        "\n",
        "\n",
        "# Plataformas de emprego e recrutamento\n",
        "plataformas_de_emprego_e_recrutamento = [\n",
        "    \"7810-8/00\",  # Seleção e agenciamento de mão-de-obra\n",
        "    \"6319-4/00\"   # Portais, provedores de conteúdo e outros serviços de informação na internet\n",
        "]\n",
        "\n",
        "for cnae in plataformas_de_emprego_e_recrutamento:\n",
        "    categorias_cnae[cnae] = \"Plataformas de Emprego e Recrutamento\"\n",
        "\n",
        "# 92 = Apostas\n",
        "apostas = [\n",
        "    \"9200-3/01\",  # Loterias\n",
        "    \"9200-3/02\",  # Bingos\n",
        "    \"9200-3/03\",  # Casas de apostas\n",
        "    \"9200-3/99\"   # Exploração de jogos de azar e apostas não especificados anteriormente\n",
        "]\n",
        "\n",
        "for cnae in apostas:\n",
        "    categorias_cnae[cnae] = \"Apostas\"\n",
        "\n",
        "# 96 = Beleza e Estética\n",
        "beleza_e_estetica = [\n",
        "    \"9602-5/01\",  # Cabeleireiros\n",
        "    \"9602-5/02\",  # Institutos de beleza\n",
        "    \"9602-5/03\"   # Serviços de estética\n",
        "]\n",
        "\n",
        "for cnae in beleza_e_estetica:\n",
        "    categorias_cnae[cnae] = \"Beleza e Estética\"\n",
        "\n",
        "# Bancos\n",
        "bancos = [\n",
        "    \"6422-3/00\",  # Bancos comerciais\n",
        "    \"6423-1/00\",  # Bancos múltiplos, com carteira comercial\n",
        "    \"6424-0/00\"   # Caixas econômicas\n",
        "]\n",
        "\n",
        "for cnae in bancos:\n",
        "    categorias_cnae[cnae] = \"Bancos\"\n",
        "\n",
        "# Financeiras\n",
        "financeiras = [\n",
        "    \"6431-0/00\",  # Sociedades de crédito, financiamento e investimento - Financeiras\n",
        "    \"6432-8/00\",  # Sociedades de crédito imobiliário\n",
        "    \"6433-6/00\",  # Sociedades de crédito ao microempreendedor\n",
        "    \"6440-9/00\"   # Sociedades de capitalização\n",
        "]\n",
        "\n",
        "for cnae in financeiras:\n",
        "    categorias_cnae[cnae] = \"Financeiras\"\n",
        "\n",
        "# Educação\n",
        "educacao = [\n",
        "    \"8511-2/00\",  # Educação infantil - creche\n",
        "    \"8512-1/00\",  # Educação infantil - pré-escola\n",
        "    \"8520-1/00\",  # Ensino fundamental\n",
        "    \"8531-7/00\",  # Ensino médio\n",
        "    \"8532-5/00\",  # Educação profissional de nível técnico\n",
        "    \"8541-4/00\",  # Educação superior - graduação\n",
        "    \"8542-2/00\",  # Educação superior - graduação e pós-graduação\n",
        "    \"8591-1/00\",  # Ensino de esportes\n",
        "    \"8592-9/99\",  # Ensino de arte e cultura não especificado anteriormente\n",
        "    \"8599-6/99\"   # Outras atividades de ensino não especificadas anteriormente\n",
        "]\n",
        "\n",
        "for cnae in educacao:\n",
        "    categorias_cnae[cnae] = \"Educação\"\n",
        "\n",
        "# Conteúdo sensível (sex shop e acompanhantes)\n",
        "conteudo_sensivel = [\n",
        "    \"4789-0/05\",  # Comércio varejista de artigos eróticos\n",
        "    \"9609-2/99\"   # Outras atividades de serviços pessoais não especificadas anteriormente\n",
        "]\n",
        "\n",
        "for cnae in conteudo_sensivel:\n",
        "    categorias_cnae[cnae] = \"Conteúdo Sensível\"\n",
        "\n",
        "\n",
        "# Seguradoras\n",
        "seguradoras = [\n",
        "    \"6511-1/00\",  # Seguros de vida\n",
        "    \"6512-0/00\",  # Seguros não-vida\n",
        "    \"6520-1/00\",  # Seguros saúde\n",
        "    \"6530-8/00\"   # Previdência complementar fechada\n",
        "]\n",
        "\n",
        "for cnae in seguradoras:\n",
        "    categorias_cnae[cnae] = \"Seguradoras\"\n",
        "\n",
        "# Moda\n",
        "moda = [\n",
        "    \"4771-7/01\",  # Comércio varejista de artigos do vestuário e acessórios\n",
        "    \"1411-8/01\",  # Confecção de roupas íntimas\n",
        "    \"1412-6/01\",  # Confecção de peças do vestuário, exceto roupas íntimas e as confeccionadas sob medida\n",
        "    \"1412-6/02\",  # Confecção, sob medida, de peças do vestuário, exceto roupas íntimas\n",
        "    \"1413-4/00\",  # Facção de roupas\n",
        "    \"7410-2/00\"   # Atividades de design\n",
        "]\n",
        "\n",
        "for cnae in moda:\n",
        "    categorias_cnae[cnae] = \"Moda\"\n",
        "\n",
        "\n",
        "# Comércio e varejo (todas as subclasses iniciadas com '47' correspondem ao comércio varejista)\n",
        "comercio_e_varejo = [\n",
        "    \"4711-3/01\", \"4711-3/02\", \"4712-1/00\", \"4721-1/02\", \"4721-1/03\",\n",
        "\n",
        "]\n",
        "\n",
        "for cnae in comercio_e_varejo:\n",
        "    categorias_cnae[cnae] = \"Comércio e Varejo\"\n",
        "\n",
        "# Pet\n",
        "pet = [\n",
        "    \"4776-6/01\",  # Comércio varejista de animais vivos e de artigos e alimentos para animais de estimação\n",
        "    \"9609-2/05\",  # Serviços de estética para animais domésticos\n",
        "    \"7500-1/00\"   # Atividades veterinárias\n",
        "]\n",
        "\n",
        "for cnae in pet:\n",
        "    categorias_cnae[cnae] = \"Pet\"\n",
        "\n",
        "# Saúde\n",
        "saude = [\n",
        "    \"8610-1/01\",  # Atividades de hospitais gerais\n",
        "    \"8621-6/01\",  # Atividades de atendimento hospitalar, exceto pronto-socorro e unidades para atendimento a urgências\n",
        "    \"8622-4/00\",  # Atividades de atendimento em pronto-socorro e unidades hospitalares para atendimento a urgências\n",
        "    \"8630-5/00\"   # Atividades de atenção ambulatorial executadas por médicos e odontólogos\n",
        "]\n",
        "\n",
        "for cnae in saude:\n",
        "    categorias_cnae[cnae] = \"Saúde\"\n",
        "\n",
        "# Turismo e Lazer\n",
        "turismo_e_lazer = [\n",
        "    \"7911-2/00\",  # Agências de viagens\n",
        "    \"7912-1/00\",  # Operadores turísticos\n",
        "    \"7990-2/00\",  # Serviços de reservas e outros serviços de turismo não especificados anteriormente\n",
        "    \"9321-8/00\",  # Parques de diversão e parques temáticos\n",
        "    \"9329-8/99\"   # Outras atividades de recreação e lazer não especificadas anteriormente\n",
        "]\n",
        "\n",
        "for cnae in turismo_e_lazer:\n",
        "    categorias_cnae[cnae] = \"Turismo e Lazer\"\n",
        "\n",
        "# Transporte\n",
        "transporte = [\n",
        "    \"4911-6/00\", \"4912-4/01\", \"4912-4/02\",  # Transporte ferroviário\n",
        "    \"4921-0/01\", \"4921-0/02\", \"4922-8/00\",  # Transporte rodoviário de carga\n",
        "    \"4930-2/01\", \"4930-2/02\", \"4930-2/03\",  # Transporte rodoviário coletivo de passageiros\n",
        "    \"5011-4/01\", \"5011-4/02\",                # Transporte marítimo de cabotagem\n",
        "    \"5021-1/01\", \"5021-1/02\",                # Transporte por navegação interior\n",
        "    \"5111-1/00\", \"5112-0/00\"                 # Transporte aéreo de passageiros\n",
        "]\n",
        "\n",
        "for cnae in transporte:\n",
        "    categorias_cnae[cnae] = \"Transporte\"\n",
        "\n",
        "# Setor imobiliário\n",
        "setor_imobiliario = [\n",
        "    \"6810-2/01\",  # Compra e venda de imóveis próprios\n",
        "    \"6810-2/02\",  # Aluguel de imóveis próprios\n",
        "    \"6821-8/01\",  # Corretagem na compra e venda e avaliação de imóveis\n",
        "    \"6822-6/00\"   # Gestão e administração da propriedade imobiliária\n",
        "]\n",
        "\n",
        "for cnae in setor_imobiliario:\n",
        "    categorias_cnae[cnae] = \"Setor Imobiliário\"\n",
        "\n",
        "# 51 = Empresas aéreas\n",
        "empresas_aereas = [\n",
        "    \"5111-1/00\",  # Transporte aéreo de passageiros regular\n",
        "    \"5112-0/00\",  # Transporte aéreo de passageiros não regular\n",
        "    \"5120-0/00\"   # Transporte aéreo de carga\n",
        "]\n",
        "\n",
        "for cnae in empresas_aereas:\n",
        "    categorias_cnae[cnae] = \"Empresas Aéreas\"\n",
        "\n",
        "# Veículos\n",
        "veiculos = [\n",
        "    \"2910-7/01\",  # Fabricação de automóveis, camionetas e utilitários\n",
        "    \"2910-7/02\",  # Fabricação de chassis com motor para automóveis, camionetas e utilitários\n",
        "    \"2920-4/01\",  # Fabricação de caminhões e ônibus\n",
        "    \"2920-4/02\",  # Fabricação de chassis com motor para caminhões e ônibus\n",
        "    \"4511-1/01\",  # Comércio a varejo de automóveis, camionetas e utilitários novos\n",
        "    \"4511-1/02\",  # Comércio a varejo de automóveis, camionetas e utilitários usados\n",
        "    \"4511-1/03\",  # Comércio por atacado de automóveis, camionetas e utilitários novos e usados\n",
        "    \"4520-0/01\"   # Serviços de manutenção e reparação mecânica de veículos automotores\n",
        "]\n",
        "\n",
        "for cnae in veiculos:\n",
        "    categorias_cnae[cnae] = \"Veículos\"\n",
        "\n",
        "# 10 e 11 = Alimentos e Bebidas\n",
        "alimentos_e_bebidas = [\n",
        "    # Códigos iniciados por '10' - Fabricação de produtos alimentícios\n",
        "    \"1011-2/01\", \"1011-2/02\", \"1012-1/01\", \"1012-1/02\", \"1012-1/03\",\n",
        "    \"1013-0/00\", \"1019-0/01\", \"1019-0/99\", \"1020-1/00\", \"1031-7/00\",\n",
        "    \"1032-5/00\", \"1033-3/01\", \"1033-3/02\", \"1039-2/00\", \"1041-4/00\",\n",
        "    \"1042-2/00\", \"1051-1/00\", \"1052-0/00\", \"1053-8/00\", \"1054-6/00\",\n",
        "    \"1055-4/00\", \"1059-7/00\", \"1061-3/00\", \"1062-1/00\", \"1063-0/00\",\n",
        "    \"1064-8/00\", \"1065-6/00\", \"1069-9/00\", \"1071-1/00\", \"1072-9/00\",\n",
        "    \"1073-7/00\", \"1074-5/00\", \"1079-6/00\", \"1081-8/00\", \"1082-6/00\",\n",
        "    \"1083-4/00\", \"1084-2/00\", \"1091-5/00\", \"1092-3/00\", \"1093-1/00\",\n",
        "    \"1094-0/00\", \"1095-8/00\", \"1096-6/00\", \"1099-1/01\", \"1099-1/99\",\n",
        "    \"4639-7/01\"\n",
        "    # Códigos iniciados por '11' - Fabricação de bebidas\n",
        "    \"1101-7/01\", \"1101-7/02\", \"1102-5/01\", \"1102-5/02\", \"1102-5/03\",\n",
        "    \"1102-5/04\", \"1103-3/02\", \"1103-3/03\", \"1103-3/04\", \"1104-1/00\",\n",
        "    \"1105-0/00\", \"1106-8/00\", \"1107-6/00\"\n",
        "]\n",
        "\n",
        "for cnae in alimentos_e_bebidas:\n",
        "    categorias_cnae[cnae] = \"Alimentos e Bebidas\"\n",
        "\n",
        "# Construção e Infraestrutura\n",
        "construcao_e_infraestrutura = [\n",
        "    \"4110-7/01\",  # Construção de edifícios residenciais\n",
        "    \"4110-7/02\",  # Construção de edifícios comerciais\n",
        "    \"4211-2/00\",  # Construção de rodovias\n",
        "    \"4299-5/99\"   # Outras obras de construção não especificadas anteriormente\n",
        "]\n",
        "\n",
        "for cnae in construcao_e_infraestrutura:\n",
        "    categorias_cnae[cnae] = \"Construção e Infraestrutura\"\n",
        "\n",
        "# Agronegócio e Pecuária\n",
        "agronegocio_e_pecuaria = [\n",
        "    \"0111-3/01\",  # Cultivo de cereais\n",
        "    \"0112-1/01\",  # Cultivo de soja\n",
        "    \"0141-1/00\",  # Criação de bovinos\n",
        "    \"0142-0/00\",  # Criação de suínos\n",
        "    \"0143-8/00\"   # Criação de aves\n",
        "]\n",
        "\n",
        "for cnae in agronegocio_e_pecuaria:\n",
        "    categorias_cnae[cnae] = \"Agronegócio e Pecuária\"\n",
        "\n",
        "# Logística e Armazenagem\n",
        "logistica_e_armazenagem = [\n",
        "    \"5229-1/00\",  # Armazenamento e depósito de mercadorias\n",
        "    \"5320-2/00\"   # Serviços de entrega e transporte de encomendas\n",
        "]\n",
        "\n",
        "for cnae in logistica_e_armazenagem:\n",
        "    categorias_cnae[cnae] = \"Logística e Armazenagem\"\n",
        "\n",
        "# Serviços Administrativos e de Apoio\n",
        "servicos_administrativos_e_apoio = [\n",
        "    \"8211-1/00\",  # Serviços combinados de escritório e apoio administrativo\n",
        "    \"8219-9/00\"   # Outras atividades de apoio administrativo\n",
        "]\n",
        "\n",
        "for cnae in servicos_administrativos_e_apoio:\n",
        "    categorias_cnae[cnae] = \"Serviços Administrativos e de Apoio\"\n",
        "\n",
        "# Consultoria e Treinamento Profissional\n",
        "consultoria_e_treinamento = [\n",
        "    \"7020-4/00\",  # Consultoria em gestão empresarial\n",
        "    \"8599-6/99\"   # Outras atividades de ensino e treinamentos profissionais não especificadas anteriormente\n",
        "]\n",
        "\n",
        "for cnae in consultoria_e_treinamento:\n",
        "    categorias_cnae[cnae] = \"Consultoria e Treinamento Profissional\"\n",
        "\n",
        "print(categorias_cnae)\n"
      ],
      "metadata": {
        "id": "EoH_6G_xkcFp",
        "colab": {
          "base_uri": "https://localhost:8080/"
        },
        "outputId": "8dbbfd97-2e74-467c-c28c-1092f124f62d"
      },
      "execution_count": null,
      "outputs": [
        {
          "output_type": "stream",
          "name": "stdout",
          "text": [
            "{'6201-5/00': 'Tecnologia e Inovação', '6202-3/00': 'Tecnologia e Inovação', '6203-1/00': 'Tecnologia e Inovação', '6204-0/00': 'Tecnologia e Inovação', '6209-1/00': 'Tecnologia e Inovação', '6311-7/00': 'Tecnologia e Inovação', '6312-5/00': 'Tecnologia e Inovação', '7311-4/00': 'Agências de Marketing e Publicidade', '7312-2/00': 'Agências de Marketing e Publicidade', '7319-0/01': 'Agências de Marketing e Publicidade', '7319-0/02': 'Agências de Marketing e Publicidade', '7319-0/03': 'Agências de Marketing e Publicidade', '7319-0/04': 'Agências de Marketing e Publicidade', '7319-0/99': 'Agências de Marketing e Publicidade', '7810-8/00': 'Plataformas de Emprego e Recrutamento', '6319-4/00': 'Plataformas de Emprego e Recrutamento', '9200-3/01': 'Apostas', '9200-3/02': 'Apostas', '9200-3/03': 'Apostas', '9200-3/99': 'Apostas', '9602-5/01': 'Beleza e Estética', '9602-5/02': 'Beleza e Estética', '9602-5/03': 'Beleza e Estética', '6422-3/00': 'Bancos', '6423-1/00': 'Bancos', '6424-0/00': 'Bancos', '6431-0/00': 'Financeiras', '6432-8/00': 'Financeiras', '6433-6/00': 'Financeiras', '6440-9/00': 'Financeiras', '8511-2/00': 'Educação', '8512-1/00': 'Educação', '8520-1/00': 'Educação', '8531-7/00': 'Educação', '8532-5/00': 'Educação', '8541-4/00': 'Educação', '8542-2/00': 'Educação', '8591-1/00': 'Educação', '8592-9/99': 'Educação', '8599-6/99': 'Consultoria e Treinamento Profissional', '4789-0/05': 'Conteúdo Sensível', '9609-2/99': 'Conteúdo Sensível', '6511-1/00': 'Seguradoras', '6512-0/00': 'Seguradoras', '6520-1/00': 'Seguradoras', '6530-8/00': 'Seguradoras', '4771-7/01': 'Moda', '1411-8/01': 'Moda', '1412-6/01': 'Moda', '1412-6/02': 'Moda', '1413-4/00': 'Moda', '7410-2/00': 'Moda', '4711-3/01': 'Comércio e Varejo', '4711-3/02': 'Comércio e Varejo', '4712-1/00': 'Comércio e Varejo', '4721-1/02': 'Comércio e Varejo', '4721-1/03': 'Comércio e Varejo', '4776-6/01': 'Pet', '9609-2/05': 'Pet', '7500-1/00': 'Pet', '8610-1/01': 'Saúde', '8621-6/01': 'Saúde', '8622-4/00': 'Saúde', '8630-5/00': 'Saúde', '7911-2/00': 'Turismo e Lazer', '7912-1/00': 'Turismo e Lazer', '7990-2/00': 'Turismo e Lazer', '9321-8/00': 'Turismo e Lazer', '9329-8/99': 'Turismo e Lazer', '4911-6/00': 'Transporte', '4912-4/01': 'Transporte', '4912-4/02': 'Transporte', '4921-0/01': 'Transporte', '4921-0/02': 'Transporte', '4922-8/00': 'Transporte', '4930-2/01': 'Transporte', '4930-2/02': 'Transporte', '4930-2/03': 'Transporte', '5011-4/01': 'Transporte', '5011-4/02': 'Transporte', '5021-1/01': 'Transporte', '5021-1/02': 'Transporte', '5111-1/00': 'Empresas Aéreas', '5112-0/00': 'Empresas Aéreas', '6810-2/01': 'Setor Imobiliário', '6810-2/02': 'Setor Imobiliário', '6821-8/01': 'Setor Imobiliário', '6822-6/00': 'Setor Imobiliário', '5120-0/00': 'Empresas Aéreas', '2910-7/01': 'Veículos', '2910-7/02': 'Veículos', '2920-4/01': 'Veículos', '2920-4/02': 'Veículos', '4511-1/01': 'Veículos', '4511-1/02': 'Veículos', '4511-1/03': 'Veículos', '4520-0/01': 'Veículos', '1011-2/01': 'Alimentos e Bebidas', '1011-2/02': 'Alimentos e Bebidas', '1012-1/01': 'Alimentos e Bebidas', '1012-1/02': 'Alimentos e Bebidas', '1012-1/03': 'Alimentos e Bebidas', '1013-0/00': 'Alimentos e Bebidas', '1019-0/01': 'Alimentos e Bebidas', '1019-0/99': 'Alimentos e Bebidas', '1020-1/00': 'Alimentos e Bebidas', '1031-7/00': 'Alimentos e Bebidas', '1032-5/00': 'Alimentos e Bebidas', '1033-3/01': 'Alimentos e Bebidas', '1033-3/02': 'Alimentos e Bebidas', '1039-2/00': 'Alimentos e Bebidas', '1041-4/00': 'Alimentos e Bebidas', '1042-2/00': 'Alimentos e Bebidas', '1051-1/00': 'Alimentos e Bebidas', '1052-0/00': 'Alimentos e Bebidas', '1053-8/00': 'Alimentos e Bebidas', '1054-6/00': 'Alimentos e Bebidas', '1055-4/00': 'Alimentos e Bebidas', '1059-7/00': 'Alimentos e Bebidas', '1061-3/00': 'Alimentos e Bebidas', '1062-1/00': 'Alimentos e Bebidas', '1063-0/00': 'Alimentos e Bebidas', '1064-8/00': 'Alimentos e Bebidas', '1065-6/00': 'Alimentos e Bebidas', '1069-9/00': 'Alimentos e Bebidas', '1071-1/00': 'Alimentos e Bebidas', '1072-9/00': 'Alimentos e Bebidas', '1073-7/00': 'Alimentos e Bebidas', '1074-5/00': 'Alimentos e Bebidas', '1079-6/00': 'Alimentos e Bebidas', '1081-8/00': 'Alimentos e Bebidas', '1082-6/00': 'Alimentos e Bebidas', '1083-4/00': 'Alimentos e Bebidas', '1084-2/00': 'Alimentos e Bebidas', '1091-5/00': 'Alimentos e Bebidas', '1092-3/00': 'Alimentos e Bebidas', '1093-1/00': 'Alimentos e Bebidas', '1094-0/00': 'Alimentos e Bebidas', '1095-8/00': 'Alimentos e Bebidas', '1096-6/00': 'Alimentos e Bebidas', '1099-1/01': 'Alimentos e Bebidas', '1099-1/99': 'Alimentos e Bebidas', '4639-7/011101-7/01': 'Alimentos e Bebidas', '1101-7/02': 'Alimentos e Bebidas', '1102-5/01': 'Alimentos e Bebidas', '1102-5/02': 'Alimentos e Bebidas', '1102-5/03': 'Alimentos e Bebidas', '1102-5/04': 'Alimentos e Bebidas', '1103-3/02': 'Alimentos e Bebidas', '1103-3/03': 'Alimentos e Bebidas', '1103-3/04': 'Alimentos e Bebidas', '1104-1/00': 'Alimentos e Bebidas', '1105-0/00': 'Alimentos e Bebidas', '1106-8/00': 'Alimentos e Bebidas', '1107-6/00': 'Alimentos e Bebidas', '4110-7/01': 'Construção e Infraestrutura', '4110-7/02': 'Construção e Infraestrutura', '4211-2/00': 'Construção e Infraestrutura', '4299-5/99': 'Construção e Infraestrutura', '0111-3/01': 'Agronegócio e Pecuária', '0112-1/01': 'Agronegócio e Pecuária', '0141-1/00': 'Agronegócio e Pecuária', '0142-0/00': 'Agronegócio e Pecuária', '0143-8/00': 'Agronegócio e Pecuária', '5229-1/00': 'Logística e Armazenagem', '5320-2/00': 'Logística e Armazenagem', '8211-1/00': 'Serviços Administrativos e de Apoio', '8219-9/00': 'Serviços Administrativos e de Apoio', '7020-4/00': 'Consultoria e Treinamento Profissional'}\n"
          ]
        }
      ]
    },
    {
      "cell_type": "code",
      "source": [
        "# Código inclui a coluna de categorias no df_empresas_brasil utilizando o dicionário criado\n",
        "\n",
        "\n",
        "def categorizar_empresa(cnae):\n",
        "    return categorias_cnae.get(cnae, \"Outras Categorias\")\n",
        "\n",
        "categorizar_empresa_udf = F.udf(categorizar_empresa, StringType())\n",
        "\n",
        "df_empresas_brasil = df_empresas_brasil.withColumn(\n",
        "    \"categoria_empresa\", categorizar_empresa_udf(F.col(\"cod_cnae_formatado\"))\n",
        ")\n",
        "\n",
        "df_empresas_brasil.select(\"cod_cnae_formatado\", \"categoria_empresa\").show(10)"
      ],
      "metadata": {
        "id": "pcKD-VLxkb44",
        "colab": {
          "base_uri": "https://localhost:8080/"
        },
        "outputId": "fe691ecf-1a34-42d1-89e9-6dfe4d51d4cc"
      },
      "execution_count": null,
      "outputs": [
        {
          "output_type": "stream",
          "name": "stdout",
          "text": [
            "+------------------+--------------------+\n",
            "|cod_cnae_formatado|   categoria_empresa|\n",
            "+------------------+--------------------+\n",
            "|         9430-8/00|   Outras Categorias|\n",
            "|         5611-2/05|   Outras Categorias|\n",
            "|         9512-6/00|   Outras Categorias|\n",
            "|         8112-5/00|   Outras Categorias|\n",
            "|         4789-0/99|   Outras Categorias|\n",
            "|         4731-8/00|   Outras Categorias|\n",
            "|         4642-7/01|   Outras Categorias|\n",
            "|         8599-6/99|Consultoria e Tre...|\n",
            "|         5611-2/01|   Outras Categorias|\n",
            "|         4772-5/00|   Outras Categorias|\n",
            "+------------------+--------------------+\n",
            "only showing top 10 rows\n",
            "\n"
          ]
        }
      ]
    },
    {
      "cell_type": "code",
      "source": [
        "df_empresas_brasil.show(n=20, truncate=False)"
      ],
      "metadata": {
        "colab": {
          "base_uri": "https://localhost:8080/"
        },
        "id": "hDCp0bk2nQSq",
        "outputId": "a8d10a06-095b-4e89-cd0a-94b082b0c020"
      },
      "execution_count": null,
      "outputs": [
        {
          "output_type": "stream",
          "name": "stdout",
          "text": [
            "+-----------+----------+-------+----------------+-------------------------+-----------------+------------------+---------------+---------------------+---------------------------------------------------------------+--------------+------------------------------+------+-------------+------------------+--------+---+------------+------------+------------+------------+------------+------------+-----------------------------+-----------------+----------------------+------------------+------------------------------------------------------------+--------------------------+---------------------+----------------------------+--------------------+-----------------------------+------------------------+-----------------------------+----------------------+----------------------------+------------------------------------------+--------------+-----------------+--------------------+-------------+------------------+-----------------+------------+--------------+-------------+--------------+-------------+----------+-----------------------------------------------+------------+--------+-------------------------------------------------------------------------------------------------------------+-------------+-----------------------+-----------------------------+---------------+------------------------+------------------+--------------------------------------+\n",
            "|cnpj_basico|cnpj_ordem|cnpj_dv|id_matriz_filial|nome_fantasia            |cod_sit_cadastral|data_sit_cadastral|nome_cidade_ext|data_inicio_atividade|cnae_fiscal_secundaria                                         |tipo_de_lograd|logradouro                    |numero|complemento  |bairro            |cep     |uf |ddd_1       |tel_1       |ddd_2       |tel_2       |ddd_fax     |num_fax     |correio_eletronico           |situacao_especial|data_situacao_especial|array_cod_id_socio|array_nome_socio_pf_pj                                      |array_cpf_cnpj_socio      |array_cod_quali_socio|array_data_entrada_sociedade|array_cod_pais_socio|array_cpf_representante_legal|array_nome_representante|array_cod_quali_representante|array_cod_faixa_etaria|array_nome_quali_socio      |razao_social                              |capital_social|cod_porte_empresa|ente_federativo_resp|opcao_simples|data_opcao_simples|data_excl_simples|opcao_mei   |data_opcao_mei|data_excl_mei|cnpj          |sit_cadastral|cod_motivo|motivo_sit_cadastral                           |pais        |cod_cnae|cnae_principal                                                                                               |cod_municipio|municipio              |nat_juridica                 |cod_quali_socio|qualificacao_responsavel|cod_cnae_formatado|categoria_empresa                     |\n",
            "+-----------+----------+-------+----------------+-------------------------+-----------------+------------------+---------------+---------------------+---------------------------------------------------------------+--------------+------------------------------+------+-------------+------------------+--------+---+------------+------------+------------+------------+------------+------------+-----------------------------+-----------------+----------------------+------------------+------------------------------------------------------------+--------------------------+---------------------+----------------------------+--------------------+-----------------------------+------------------------+-----------------------------+----------------------+----------------------------+------------------------------------------+--------------+-----------------+--------------------+-------------+------------------+-----------------+------------+--------------+-------------+--------------+-------------+----------+-----------------------------------------------+------------+--------+-------------------------------------------------------------------------------------------------------------+-------------+-----------------------+-----------------------------+---------------+------------------------+------------------+--------------------------------------+\n",
            "|04171888   |0001      |86     |1               |IGREJA BATISTA           |02               |20200302          |Não aplicado   |19990621             |9493600,9499500                                                |Não aplicado  |FOLHA 23, QUADRA 07, LOTE 22  |S/N   |Não aplicado |NOVA MARABA       |68501535|PA |Não aplicado|Não aplicado|Não aplicado|Não aplicado|Não aplicado|Não aplicado|Não aplicado                 |Não aplicado     |Não aplicado          |[2]               |[DJAIME DE LIMA SOARES FILHO]                               |[***508202**]             |[16]                 |[20140702]                  |[]                  |[***000000**]                |[]                      |[00]                         |[7]                   |[Presidente]                |IGREJA BATISTA NOVA JERUSALEM             |0,00          |05               |Não aplicado        |Não aplicado |Não aplicado      |Não aplicado     |Não aplicado|Não aplicado  |Não aplicado |04171888000186|ATIVA        |00        |SEM MOTIVO                                     |NÃO APLICADO|9430800 |Atividades de associações de defesa de direitos sociais                                                      |0483         |MARABA                 |Associação Privada           |16             |Presidente              |9430-8/00         |Outras Categorias                     |\n",
            "|48641002   |0001      |96     |1               |Não aplicado             |04               |20240821          |Não aplicado   |20221117             |5611203                                                        |RUA           |JOAQUIM JOSE DA SILVA XAVIER  |321   |SALA         |CIDADE JARDIM     |84607020|PR |42          |88345617    |Não aplicado|Não aplicado|Não aplicado|Não aplicado|MICHELESALDANHA090@GMAIL.COM |Não aplicado     |Não aplicado          |NULL              |NULL                                                        |NULL                      |NULL                 |NULL                        |NULL                |NULL                         |NULL                    |NULL                         |NULL                  |NULL                        |MICHELE APARECIDA SALDANHA 05337146998    |10000,00      |01               |Não aplicado        |S            |20221117          |00000000         |S           |20221117      |00000000     |48641002000196|INAPTA       |63        |OMISSAO DE DECLARACOES                         |NÃO APLICADO|5611205 |Bares e outros estabelecimentos especializados em servir bebidas, com entretenimento                         |7937         |UNIAO DA VITORIA       |Empresário (Individual)      |50             |Empresário              |5611-2/05         |Outras Categorias                     |\n",
            "|54013604   |0001      |00     |1               |Não aplicado             |02               |20240222          |Não aplicado   |20240222             |4321500                                                        |AVENIDA       |ISRAEL                        |3     |CONJ         |JABAETE           |29126744|ES |27          |97980213    |Não aplicado|Não aplicado|Não aplicado|Não aplicado|GEGE.MATRIX@GMAIL.COM        |Não aplicado     |Não aplicado          |NULL              |NULL                                                        |NULL                      |NULL                 |NULL                        |NULL                |NULL                         |NULL                    |NULL                         |NULL                  |NULL                        |54.013.604 GEOVANE PAIXAO DOS SANTOS MATOS|50000,00      |01               |Não aplicado        |S            |20240222          |00000000         |S           |20240222      |00000000     |54013604000100|ATIVA        |00        |SEM MOTIVO                                     |NÃO APLICADO|9512600 |Reparação e manutenção de equipamentos de comunicação                                                        |5703         |VILA VELHA             |Empresário (Individual)      |50             |Empresário              |9512-6/00         |Outras Categorias                     |\n",
            "|52263068   |0001      |67     |1               |Não aplicado             |02               |20070214          |Não aplicado   |19850503             |Não aplicado                                                   |RUA           |GUIMARAES ROSA                |37    |Não aplicado |VL ALZIRA         |11704160|SP |Não aplicado|Não aplicado|Não aplicado|Não aplicado|Não aplicado|Não aplicado|Não aplicado                 |Não aplicado     |Não aplicado          |NULL              |NULL                                                        |NULL                      |NULL                 |NULL                        |NULL                |NULL                         |NULL                    |NULL                         |NULL                  |NULL                        |CONDOMINIO EDIFICIO ANTONIO ROHN          |0,00          |05               |Não aplicado        |Não aplicado |Não aplicado      |Não aplicado     |Não aplicado|Não aplicado  |Não aplicado |52263068000167|ATIVA        |00        |SEM MOTIVO                                     |NÃO APLICADO|8112500 |Condomínios prediais                                                                                         |6921         |PRAIA GRANDE           |Condomínio Edilício          |19             |Síndico (Condomínio)    |8112-5/00         |Outras Categorias                     |\n",
            "|67740704   |0001      |71     |1               |CENTRO AUTOMOTIVO TAPPARO|08               |20110517          |Não aplicado   |19920331             |Não aplicado                                                   |RUA           |PROFESSOR OSCAR PIRES         |2034  |Não aplicado |VL ESPLANADA      |15030530|SP |Não aplicado|Não aplicado|Não aplicado|Não aplicado|Não aplicado|Não aplicado|Não aplicado                 |Não aplicado     |Não aplicado          |[2]               |[MARIA CRISTINA TAMARINDO TAPPARO]                          |[***440698**]             |[49]                 |[19920331]                  |[]                  |[***000000**]                |[]                      |[00]                         |[6]                   |[Sócio-Administrador]       |C A TAPPARO & CIA LTDA                    |0,00          |01               |Não aplicado        |Não aplicado |Não aplicado      |Não aplicado     |Não aplicado|Não aplicado  |Não aplicado |67740704000171|BAIXADA      |01        |EXTINCAO POR ENCERRAMENTO LIQUIDACAO VOLUNTARIA|NÃO APLICADO|4789099 |Comércio varejista de outros produtos não especificados anteriormente                                        |7097         |SAO JOSE DO RIO PRETO  |Sociedade Empresária Limitada|49             |Sócio-Administrador     |4789-0/99         |Outras Categorias                     |\n",
            "|76364843   |0001      |39     |1               |POSTO TEXACO             |08               |20081231          |Não aplicado   |19660908             |4732600                                                        |AVENIDA       |BRASIL                        |SN    |Não aplicado |Não aplicado      |87580000|PR |Não aplicado|Não aplicado|Não aplicado|Não aplicado|Não aplicado|Não aplicado|Não aplicado                 |Não aplicado     |Não aplicado          |NULL              |NULL                                                        |NULL                      |NULL                 |NULL                        |NULL                |NULL                         |NULL                    |NULL                         |NULL                  |NULL                        |SEBASTIAO GONCALVES RIBEIRO E CIA LTDA    |0,00          |05               |Não aplicado        |Não aplicado |Não aplicado      |Não aplicado     |Não aplicado|Não aplicado  |Não aplicado |76364843000139|BAIXADA      |71        |INAPTIDAO (LEI 11.941/2009 ART.54)             |NÃO APLICADO|4731800 |Comércio varejista de combustíveis para veículos automotores                                                 |7411         |ALTO PIQUIRI           |Sociedade Empresária Limitada|49             |Sócio-Administrador     |4731-8/00         |Outras Categorias                     |\n",
            "|36368967   |0001      |78     |1               |SOL DA TERRA             |08               |20081231          |Não aplicado   |19910712             |Não aplicado                                                   |RUA           |AURORA                        |231   |Não aplicado |GLORIA            |29122280|ES |Não aplicado|Não aplicado|Não aplicado|Não aplicado|Não aplicado|Não aplicado|Não aplicado                 |Não aplicado     |Não aplicado          |NULL              |NULL                                                        |NULL                      |NULL                 |NULL                        |NULL                |NULL                         |NULL                    |NULL                         |NULL                  |NULL                        |SOL DA TERRA MODA JOVEM LTDA              |0,00          |05               |Não aplicado        |Não aplicado |Não aplicado      |Não aplicado     |Não aplicado|Não aplicado  |Não aplicado |36368967000178|BAIXADA      |71        |INAPTIDAO (LEI 11.941/2009 ART.54)             |NÃO APLICADO|4642701 |Comércio atacadista de artigos do vestuário e acessórios, exceto profissionais e de segurança                |5703         |VILA VELHA             |Sociedade Empresária Limitada|49             |Sócio-Administrador     |4642-7/01         |Outras Categorias                     |\n",
            "|36815705   |0001      |04     |1               |Não aplicado             |04               |20221123          |Não aplicado   |20200330             |Não aplicado                                                   |RUA           |ADOLFO LOPES MACIEL           |382   |CASA;CASA    |ARIRIU            |88135190|SC |48          |33440373    |Não aplicado|Não aplicado|Não aplicado|Não aplicado|DIANNABMONTANARI@GMAIL.COM   |Não aplicado     |Não aplicado          |NULL              |NULL                                                        |NULL                      |NULL                 |NULL                        |NULL                |NULL                         |NULL                    |NULL                         |NULL                  |NULL                        |DIANNA MONTANARI BUSSOLO 03685797603      |1000,00       |01               |Não aplicado        |S            |20200330          |00000000         |S           |20200330      |00000000     |36815705000104|INAPTA       |63        |OMISSAO DE DECLARACOES                         |NÃO APLICADO|8599699 |Outras atividades de ensino não especificadas anteriormente                                                  |8233         |PALHOCA                |Empresário (Individual)      |50             |Empresário              |8599-6/99         |Consultoria e Treinamento Profissional|\n",
            "|04163138   |0001      |62     |1               |CANNON AUTO LANCHE       |04               |20181226          |Não aplicado   |20001122             |Não aplicado                                                   |AVENIDA       |SAUDADE                       |56    |SALA 05      |PLANALTO DO SOL   |13171320|SP |019         |38732677    |Não aplicado|Não aplicado|019         |38732677    |FORTESPROC@UOL.COM.BR        |Não aplicado     |Não aplicado          |NULL              |NULL                                                        |NULL                      |NULL                 |NULL                        |NULL                |NULL                         |NULL                    |NULL                         |NULL                  |NULL                        |E.O.S. BARIJAN                            |0,00          |01               |Não aplicado        |N            |20090101          |20121231         |N           |00000000      |00000000     |04163138000162|INAPTA       |63        |OMISSAO DE DECLARACOES                         |NÃO APLICADO|5611201 |Restaurantes e similares                                                                                     |7149         |SUMARE                 |Empresário (Individual)      |50             |Empresário              |5611-2/01         |Outras Categorias                     |\n",
            "|21508286   |0001      |90     |1               |Não aplicado             |04               |20240822          |Não aplicado   |20141202             |Não aplicado                                                   |RUA           |DA FRATERNIDADE               |27    |CASA         |BARRA DE JANGADA  |54460140|PE |81          |84646526    |Não aplicado|Não aplicado|Não aplicado|Não aplicado|ROZANGELAFARIAS@LIVE.COM     |Não aplicado     |Não aplicado          |NULL              |NULL                                                        |NULL                      |NULL                 |NULL                        |NULL                |NULL                         |NULL                    |NULL                         |NULL                  |NULL                        |ROZANGELA DA SILVA FARIAS 07138588429     |1000,00       |01               |Não aplicado        |N            |20141202          |20231231         |N           |20141202      |20231231     |21508286000190|INAPTA       |63        |OMISSAO DE DECLARACOES                         |NÃO APLICADO|4772500 |Comércio varejista de cosméticos, produtos de perfumaria e de higiene pessoal                                |2457         |JABOATAO DOS GUARARAPES|Empresário (Individual)      |50             |Empresário              |4772-5/00         |Outras Categorias                     |\n",
            "|17495918   |0001      |51     |1               |CASA DI FRANGO E CIA     |08               |20180201          |Não aplicado   |20130130             |5620104                                                        |RUA           |JORGE DUARTE DE SA            |247   |QUADRA H     |APOLO II (MANILHA)|24858572|RJ |21          |91336243    |Não aplicado|Não aplicado|Não aplicado|Não aplicado|Não aplicado                 |Não aplicado     |Não aplicado          |NULL              |NULL                                                        |NULL                      |NULL                 |NULL                        |NULL                |NULL                         |NULL                    |NULL                         |NULL                  |NULL                        |VERONICA DA SILVA PAULINO 07717462702     |500,00        |01               |Não aplicado        |N            |20130130          |20180201         |N           |20130130      |20180201     |17495918000151|BAIXADA      |67        |REGISTRO CANCELADO                             |NÃO APLICADO|5611201 |Restaurantes e similares                                                                                     |5837         |ITABORAI               |Empresário (Individual)      |50             |Empresário              |5611-2/01         |Outras Categorias                     |\n",
            "|56285230   |0001      |07     |1               |Não aplicado             |08               |20240806          |Não aplicado   |20240805             |Não aplicado                                                   |RUA           |PANAMA                        |259   |Não aplicado |CAUAME            |69311111|RR |95          |91624250    |Não aplicado|Não aplicado|Não aplicado|Não aplicado|NAYANAHIGINO@GMAIL.COM       |Não aplicado     |Não aplicado          |NULL              |NULL                                                        |NULL                      |NULL                 |NULL                        |NULL                |NULL                         |NULL                    |NULL                         |NULL                  |NULL                        |56.285.230 NAYANA DIAS HIGINO             |200,00        |01               |Não aplicado        |N            |20240805          |20240806         |N           |20240805      |20240806     |56285230000107|BAIXADA      |01        |EXTINCAO POR ENCERRAMENTO LIQUIDACAO VOLUNTARIA|NÃO APLICADO|5620104 |Fornecimento de alimentos preparados preponderantemente para consumo domiciliar                              |0301         |BOA VISTA              |Empresário (Individual)      |50             |Empresário              |5620-1/04         |Outras Categorias                     |\n",
            "|54323811   |0001      |52     |1               |Não aplicado             |02               |20021228          |Não aplicado   |19850328             |Não aplicado                                                   |AVENIDA       |NOVE DE JULHO                 |3510  |Não aplicado |JARDIM PAULISTA   |01406000|SP |Não aplicado|Não aplicado|Não aplicado|Não aplicado|Não aplicado|Não aplicado|Não aplicado                 |Não aplicado     |Não aplicado          |NULL              |NULL                                                        |NULL                      |NULL                 |NULL                        |NULL                |NULL                         |NULL                    |NULL                         |NULL                  |NULL                        |CONDOMINIO EDIFICIO NANCY                 |0,00          |05               |Não aplicado        |Não aplicado |Não aplicado      |Não aplicado     |Não aplicado|Não aplicado  |Não aplicado |54323811000152|ATIVA        |00        |SEM MOTIVO                                     |NÃO APLICADO|8112500 |Condomínios prediais                                                                                         |7107         |SAO PAULO              |Condomínio Edilício          |19             |Síndico (Condomínio)    |8112-5/00         |Outras Categorias                     |\n",
            "|44992377   |0001      |40     |1               |Não aplicado             |04               |20240902          |Não aplicado   |20220124             |Não aplicado                                                   |RUA           |CALIFORNIA                    |97    |CONJ         |PARQUE FLORIDA    |06365320|SP |11          |69388405    |Não aplicado|Não aplicado|Não aplicado|Não aplicado|RITAABAD@HOTMAIL.COM         |Não aplicado     |Não aplicado          |NULL              |NULL                                                        |NULL                      |NULL                 |NULL                        |NULL                |NULL                         |NULL                    |NULL                         |NULL                  |NULL                        |RITA DE CASSIA DE SOUZA ABADE 78831067591 |500,00        |01               |Não aplicado        |S            |20220124          |00000000         |S           |20220124      |00000000     |44992377000140|INAPTA       |63        |OMISSAO DE DECLARACOES                         |NÃO APLICADO|4724500 |Comércio varejista de hortifrutigranjeiros                                                                   |6313         |CARAPICUIBA            |Empresário (Individual)      |50             |Empresário              |4724-5/00         |Outras Categorias                     |\n",
            "|43990024   |0001      |48     |1               |Não aplicado             |04               |20231129          |Não aplicado   |20211023             |Não aplicado                                                   |RUA           |SARACURA-SANA                 |40    |CONJ 1       |VILA NOVA CURUCA  |08032300|SP |11          |85304099    |Não aplicado|Não aplicado|Não aplicado|Não aplicado|LIVIARD9@GMAIL.COM           |Não aplicado     |Não aplicado          |NULL              |NULL                                                        |NULL                      |NULL                 |NULL                        |NULL                |NULL                         |NULL                    |NULL                         |NULL                  |NULL                        |MICHERLLANE CRISTINA DO CARMO 06144477470 |10000,00      |01               |Não aplicado        |S            |20211023          |00000000         |S           |20211023      |00000000     |43990024000148|INAPTA       |63        |OMISSAO DE DECLARACOES                         |NÃO APLICADO|9602501 |Cabeleireiros, manicure e pedicure                                                                           |7107         |SAO PAULO              |Empresário (Individual)      |50             |Empresário              |9602-5/01         |Beleza e Estética                     |\n",
            "|50377076   |0001      |09     |1               |Não aplicado             |08               |20081231          |Não aplicado   |19820525             |Não aplicado                                                   |AVENIDA       |D PEDRO I                     |674   |Não aplicado |IPIRANGA          |08210040|SP |Não aplicado|Não aplicado|Não aplicado|Não aplicado|Não aplicado|Não aplicado|Não aplicado                 |Não aplicado     |Não aplicado          |NULL              |NULL                                                        |NULL                      |NULL                 |NULL                        |NULL                |NULL                         |NULL                    |NULL                         |NULL                  |NULL                        |ARTCOLOR REPORTAGENS FOTOGRAFICAS S/C LTDA|0,00          |05               |Não aplicado        |Não aplicado |Não aplicado      |Não aplicado     |Não aplicado|Não aplicado  |Não aplicado |50377076000109|BAIXADA      |71        |INAPTIDAO (LEI 11.941/2009 ART.54)             |NÃO APLICADO|8888888 |Atividade Econônica não informada                                                                            |7107         |SAO PAULO              |Sociedade Simples Limitada   |28             |Sócio-Gerente           |8888-8/88         |Outras Categorias                     |\n",
            "|68956721   |0001      |03     |1               |Não aplicado             |08               |20051101          |Não aplicado   |19921015             |Não aplicado                                                   |Não aplicado  |LOC  TERM.ROD DE JABOTICABAL  |SN    |BOX 03       |NOVA JABOTICABAL  |14875455|SP |Não aplicado|Não aplicado|Não aplicado|Não aplicado|Não aplicado|Não aplicado|Não aplicado                 |Não aplicado     |Não aplicado          |NULL              |NULL                                                        |NULL                      |NULL                 |NULL                        |NULL                |NULL                         |NULL                    |NULL                         |NULL                  |NULL                        |LUCIA HELENA RODRIGUES FORNEZARI          |0,00          |05               |Não aplicado        |Não aplicado |Não aplicado      |Não aplicado     |Não aplicado|Não aplicado  |Não aplicado |68956721000103|BAIXADA      |01        |EXTINCAO POR ENCERRAMENTO LIQUIDACAO VOLUNTARIA|NÃO APLICADO|4755503 |Comercio varejista de artigos de cama, mesa e banho                                                          |6587         |JABOTICABAL            |Empresário (Individual)      |50             |Empresário              |4755-5/03         |Outras Categorias                     |\n",
            "|03113947   |0001      |05     |1               |Não aplicado             |02               |20051103          |Não aplicado   |19990423             |7319001,7319002,7319003,7319004,5911102,5912001,5912002,7319099|RUA           |PRSA ISABEL                   |1302  |ANDAR 01     |BROOKLIN PAULISTA |04601003|SP |11          |50693300    |Não aplicado|Não aplicado|011         |2412184     |REGULARIZACAO@GRUPOHZI.COM.BR|Não aplicado     |Não aplicado          |[2, 2]            |[SILVIO ROBERTO BARBATO BARONE, ANDREA PAULA BARBATO BARONE]|[***130578**, ***130508**]|[22, 49]             |[19990423, 19990423]        |[]                  |[***000000**, ***000000**]   |[]                      |[00, 00]                     |[6, 6]                |[Sócio, Sócio-Administrador]|A. S. BARONE MIDIA E CONTEUDO LTDA        |5000,00       |01               |Não aplicado        |Não aplicado |Não aplicado      |Não aplicado     |Não aplicado|Não aplicado  |Não aplicado |03113947000105|ATIVA        |00        |SEM MOTIVO                                     |NÃO APLICADO|5911199 |Atividades de produção cinematográfica, de vídeos e de programas de televisão não especificadas anteriormente|7107         |SAO PAULO              |Sociedade Simples Limitada   |49             |Sócio-Administrador     |5911-1/99         |Outras Categorias                     |\n",
            "|46868933   |0001      |04     |1               |Não aplicado             |08               |20221114          |Não aplicado   |20220622             |Não aplicado                                                   |AVENIDA       |BENEDITO DOMINGUES DE OLIVEIRA|666   |APT 5;BLOCO 2|CIDADE MORUMBI    |12236702|SP |12          |97013534    |Não aplicado|Não aplicado|Não aplicado|Não aplicado|KAAFERREIRA@BOL.COM.BR       |Não aplicado     |Não aplicado          |NULL              |NULL                                                        |NULL                      |NULL                 |NULL                        |NULL                |NULL                         |NULL                    |NULL                         |NULL                  |NULL                        |KATIA FERREIRA DA SILVA 33621980822       |1000,00       |01               |Não aplicado        |N            |20220622          |20221114         |N           |20220622      |20221114     |46868933000104|BAIXADA      |01        |EXTINCAO POR ENCERRAMENTO LIQUIDACAO VOLUNTARIA|NÃO APLICADO|8219999 |Preparação de documentos e serviços especializados de apoio administrativo não especificados anteriormente   |7099         |SAO JOSE DOS CAMPOS    |Empresário (Individual)      |50             |Empresário              |8219-9/99         |Outras Categorias                     |\n",
            "|83357731   |0001      |16     |1               |Não aplicado             |08               |20081231          |Não aplicado   |19930401             |Não aplicado                                                   |Não aplicado  |TV CASTELO BRANCO             |1308  |A 1312       |S BRAZ            |66630505|PA |Não aplicado|Não aplicado|Não aplicado|Não aplicado|Não aplicado|Não aplicado|Não aplicado                 |Não aplicado     |Não aplicado          |NULL              |NULL                                                        |NULL                      |NULL                 |NULL                        |NULL                |NULL                         |NULL                    |NULL                         |NULL                  |NULL                        |DROGARIA JOMAR LIMITADA                   |0,00          |05               |Não aplicado        |Não aplicado |Não aplicado      |Não aplicado     |Não aplicado|Não aplicado  |Não aplicado |83357731000116|BAIXADA      |71        |INAPTIDAO (LEI 11.941/2009 ART.54)             |NÃO APLICADO|4771701 |Comércio varejista de produtos farmacêuticos, sem manipulação de fórmulas                                    |0427         |BELEM                  |Sociedade Empresária Limitada|49             |Sócio-Administrador     |4771-7/01         |Moda                                  |\n",
            "+-----------+----------+-------+----------------+-------------------------+-----------------+------------------+---------------+---------------------+---------------------------------------------------------------+--------------+------------------------------+------+-------------+------------------+--------+---+------------+------------+------------+------------+------------+------------+-----------------------------+-----------------+----------------------+------------------+------------------------------------------------------------+--------------------------+---------------------+----------------------------+--------------------+-----------------------------+------------------------+-----------------------------+----------------------+----------------------------+------------------------------------------+--------------+-----------------+--------------------+-------------+------------------+-----------------+------------+--------------+-------------+--------------+-------------+----------+-----------------------------------------------+------------+--------+-------------------------------------------------------------------------------------------------------------+-------------+-----------------------+-----------------------------+---------------+------------------------+------------------+--------------------------------------+\n",
            "only showing top 20 rows\n",
            "\n"
          ]
        }
      ]
    },
    {
      "cell_type": "code",
      "source": [
        "# Configurações de memória do Spark\n",
        "spark = SparkSession.builder \\\n",
        "    .appName(\"Projeto ETL\") \\\n",
        "    .config(\"spark.sql.shuffle.partitions\", \"200\") \\\n",
        "    .config(\"spark.driver.memory\", \"8g\") \\\n",
        "    .config(\"spark.executor.memory\", \"4g\") \\\n",
        "    .getOrCreate()\n",
        "\n",
        "# Caminho do diretório no Google Drive\n",
        "drive_directory = \"/content/drive/MyDrive/Projeto_ETL_Trust_Works/Dados_abertos/parquet\" # ajustas caminho ao usar código no ambiente\n",
        "\n",
        "\n",
        "# Configurações otimizadas para PySpark caso preciso\n",
        "spark.conf.set(\"spark.sql.parquet.compression.codec\", \"snappy\")\n",
        "spark.conf.set(\"spark.sql.parquet.mergeSchema\", \"false\")\n",
        "spark.conf.set(\"spark.sql.parquet.filterPushdown\", \"true\")\n",
        "spark.conf.set(\"spark.sql.files.maxPartitionBytes\", \"128m\")\n",
        "spark.conf.set(\"spark.sql.shuffle.partitions\", \"200\")\n",
        "\n",
        "\n",
        "# Reparticionamento e salvamento do arquivo\n",
        "    df_empresas_brasil.repartition(200) \\\n",
        "        .write \\\n",
        "        .mode(\"overwrite\") \\\n",
        "        .option(\"compression\", \"snappy\") \\\n",
        "        .parquet(output_path)\n",
        "\n",
        "    print(f\"DataFrame final salvo com sucesso em: {output_path}\")"
      ],
      "metadata": {
        "id": "jCA-xegknQQE"
      },
      "execution_count": null,
      "outputs": []
    },
    {
      "cell_type": "code",
      "source": [],
      "metadata": {
        "id": "9e4DG-jrnQNd"
      },
      "execution_count": null,
      "outputs": []
    },
    {
      "cell_type": "code",
      "source": [],
      "metadata": {
        "id": "PgNbHKR9nQBG"
      },
      "execution_count": null,
      "outputs": []
    }
  ],
  "metadata": {
    "colab": {
      "provenance": [],
      "authorship_tag": "ABX9TyMLAvxQZJNlm5IaG1BfY/R9",
      "include_colab_link": true
    },
    "kernelspec": {
      "display_name": "Python 3",
      "name": "python3"
    },
    "language_info": {
      "name": "python"
    }
  },
  "nbformat": 4,
  "nbformat_minor": 0
}